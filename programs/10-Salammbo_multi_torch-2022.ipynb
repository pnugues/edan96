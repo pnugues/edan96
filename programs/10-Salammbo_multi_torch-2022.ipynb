{
 "cells": [
  {
   "cell_type": "markdown",
   "metadata": {},
   "source": [
    "# Training a Classifier on the *Salammbô* Dataset with PyTorch\n",
    "Author: Pierre Nugues\n",
    "\n",
    "We use three classes: French, English, and German"
   ]
  },
  {
   "cell_type": "markdown",
   "metadata": {},
   "source": [
    "We first need to import some modules"
   ]
  },
  {
   "cell_type": "code",
   "execution_count": 1,
   "metadata": {},
   "outputs": [],
   "source": [
    "import torch\n",
    "import torch.nn as nn\n",
    "import torch.nn.functional as F\n",
    "import random\n",
    "import matplotlib.pyplot as plt"
   ]
  },
  {
   "cell_type": "markdown",
   "metadata": {},
   "source": [
    "### Reading the dataset\n",
    "We can read the data from a file with the svmlight format or directly create numpy arrays"
   ]
  },
  {
   "cell_type": "code",
   "execution_count": 2,
   "metadata": {},
   "outputs": [],
   "source": [
    "X = torch.Tensor(\n",
    "    [[35680, 2217], [42514, 2761], [15162, 990], [35298, 2274],\n",
    "     [29800, 1865], [40255, 2606], [74532, 4805], [37464, 2396],\n",
    "     [31030, 1993], [24843, 1627], [36172, 2375], [39552, 2560],\n",
    "     [72545, 4597], [75352, 4871], [18031, 1119], [36961, 2503],\n",
    "     [43621, 2992], [15694, 1042], [36231, 2487], [29945, 2014],\n",
    "     [40588, 2805], [75255, 5062], [37709, 2643], [30899, 2126],\n",
    "     [25486, 1784], [37497, 2641], [40398, 2766], [74105, 5047],\n",
    "     [76725, 5312], [18317, 1215]\n",
    "     ])"
   ]
  },
  {
   "cell_type": "markdown",
   "metadata": {},
   "source": [
    "We add German data and we adjust `y`"
   ]
  },
  {
   "cell_type": "code",
   "execution_count": 3,
   "metadata": {},
   "outputs": [],
   "source": [
    "X_de = torch.Tensor(\n",
    "    [[37599, 1771], [44565, 2116], [16156, 715], [37697, 1804],\n",
    "     [29800, 1865], [42606, 2146], [78242, 3813], [40341, 1955],\n",
    "     [31030, 1993], [26676, 1346], [39250, 1902], [41780, 2106],\n",
    "     [72545, 4597], [79195, 3988], [19020, 928]\n",
    "     ])\n",
    "\n",
    "X = torch.vstack((X, X_de))\n",
    "\n",
    "y = torch.tensor(\n",
    "    [0, 0, 0, 0, 0, 0, 0, 0, 0, 0, 0, 0, 0, 0, 0,\n",
    "     1, 1, 1, 1, 1, 1, 1, 1, 1, 1, 1, 1, 1, 1, 1,\n",
    "     2, 2, 2, 2, 2, 2, 2, 2, 2, 2, 2, 2, 2, 2, 2])"
   ]
  },
  {
   "cell_type": "code",
   "execution_count": 4,
   "metadata": {},
   "outputs": [
    {
     "data": {
      "text/plain": [
       "<torch._C.Generator at 0x7fe9e8e49030>"
      ]
     },
     "execution_count": 4,
     "metadata": {},
     "output_type": "execute_result"
    }
   ],
   "source": [
    "random.seed(4321)\n",
    "torch.manual_seed(4321)"
   ]
  },
  {
   "cell_type": "markdown",
   "metadata": {},
   "source": [
    "## Scaling the Data\n",
    "Scaling and normalizing are usually very significant with neural networks. We use sklean transformers. They consist of two main methods: `fit()` and `transform()`."
   ]
  },
  {
   "cell_type": "markdown",
   "metadata": {},
   "source": [
    "### Normalizing"
   ]
  },
  {
   "cell_type": "code",
   "execution_count": 5,
   "metadata": {},
   "outputs": [
    {
     "data": {
      "text/plain": [
       "array([[0.9980751 , 0.06201605],\n",
       "       [0.99789774, 0.06480679],\n",
       "       [0.9978751 , 0.06515607],\n",
       "       [0.9979313 , 0.06428964]], dtype=float32)"
      ]
     },
     "execution_count": 5,
     "metadata": {},
     "output_type": "execute_result"
    }
   ],
   "source": [
    "from sklearn.preprocessing import Normalizer\n",
    "normalizer = Normalizer()\n",
    "X_norm = normalizer.fit_transform(X)\n",
    "X_norm[:4]"
   ]
  },
  {
   "cell_type": "markdown",
   "metadata": {},
   "source": [
    "### Standardizing"
   ]
  },
  {
   "cell_type": "code",
   "execution_count": 6,
   "metadata": {},
   "outputs": [
    {
     "data": {
      "text/plain": [
       "array([[-0.03115363,  0.09445252],\n",
       "       [-0.41286394,  0.44232047],\n",
       "       [-0.46160385,  0.48585886],\n",
       "       [-0.34065196,  0.37785798]], dtype=float32)"
      ]
     },
     "execution_count": 6,
     "metadata": {},
     "output_type": "execute_result"
    }
   ],
   "source": [
    "from sklearn.preprocessing import StandardScaler\n",
    "scaler = StandardScaler(with_mean=True, with_std=True)\n",
    "X_scaled = scaler.fit_transform(X_norm)\n",
    "X_scaled[:4]"
   ]
  },
  {
   "cell_type": "code",
   "execution_count": 7,
   "metadata": {},
   "outputs": [
    {
     "data": {
      "text/plain": [
       "tensor([[-0.0312,  0.0945],\n",
       "        [-0.4129,  0.4423],\n",
       "        [-0.4616,  0.4859],\n",
       "        [-0.3407,  0.3779]])"
      ]
     },
     "execution_count": 7,
     "metadata": {},
     "output_type": "execute_result"
    }
   ],
   "source": [
    "X_scaled = torch.Tensor(X_scaled)\n",
    "X_scaled[:4]"
   ]
  },
  {
   "cell_type": "markdown",
   "metadata": {},
   "source": [
    "## Creating a Model"
   ]
  },
  {
   "cell_type": "markdown",
   "metadata": {},
   "source": [
    "We create a classifier equivalent to a logistic regression. PyTorch crossentropy loss includes the softmax of the outputs. We do not add an activation in the last layer. \n",
    "\n",
    "The outputs are then called, rather improperly, logits. For a clarification on this terrible terminology, see here: https://stackoverflow.com/questions/41455101/what-is-the-meaning-of-the-word-logits-in-tensorflow/52111173#52111173 "
   ]
  },
  {
   "cell_type": "code",
   "execution_count": 8,
   "metadata": {},
   "outputs": [],
   "source": [
    "input_dim = X_scaled.shape[1]"
   ]
  },
  {
   "cell_type": "code",
   "execution_count": 9,
   "metadata": {},
   "outputs": [
    {
     "data": {
      "text/plain": [
       "Sequential(\n",
       "  (0): Linear(in_features=2, out_features=32, bias=True)\n",
       "  (1): ReLU()\n",
       "  (2): Linear(in_features=32, out_features=3, bias=True)\n",
       ")"
      ]
     },
     "execution_count": 9,
     "metadata": {},
     "output_type": "execute_result"
    }
   ],
   "source": [
    "model = nn.Sequential(\n",
    "    nn.Linear(input_dim, 32),\n",
    "    nn.ReLU(),\n",
    "    nn.Linear(32, 3)\n",
    "    )\n",
    "model"
   ]
  },
  {
   "cell_type": "code",
   "execution_count": 10,
   "metadata": {},
   "outputs": [
    {
     "data": {
      "text/plain": [
       "(Parameter containing:\n",
       " tensor([[-0.5296,  0.0533],\n",
       "         [ 0.2212, -0.6555],\n",
       "         [ 0.1183,  0.2854],\n",
       "         [-0.2733,  0.6364],\n",
       "         [-0.0960, -0.2905],\n",
       "         [ 0.1436, -0.4580],\n",
       "         [ 0.6994, -0.2579],\n",
       "         [ 0.6909, -0.1540],\n",
       "         [ 0.4566, -0.5498],\n",
       "         [-0.2402, -0.0725],\n",
       "         [-0.0771, -0.5962],\n",
       "         [ 0.3353,  0.6325],\n",
       "         [ 0.5476,  0.3660],\n",
       "         [ 0.5108, -0.1426],\n",
       "         [ 0.3433, -0.3616],\n",
       "         [-0.3090, -0.3429],\n",
       "         [-0.7031, -0.4677],\n",
       "         [ 0.2574,  0.2446],\n",
       "         [-0.5324,  0.4698],\n",
       "         [-0.0108, -0.2965],\n",
       "         [-0.2558, -0.6738],\n",
       "         [-0.6237,  0.6230],\n",
       "         [ 0.4017, -0.1406],\n",
       "         [-0.5312, -0.4374],\n",
       "         [ 0.1807,  0.2098],\n",
       "         [-0.4484, -0.5259],\n",
       "         [ 0.4724, -0.1183],\n",
       "         [-0.0659, -0.5414],\n",
       "         [-0.5667,  0.1321],\n",
       "         [ 0.6398, -0.3365],\n",
       "         [-0.3567,  0.1645],\n",
       "         [ 0.1353,  0.5405]], requires_grad=True),\n",
       " Parameter containing:\n",
       " tensor([ 0.0160,  0.1790,  0.5532,  0.0684, -0.2113,  0.0887,  0.3136, -0.3780,\n",
       "         -0.0257,  0.5036,  0.6807,  0.0701, -0.1973, -0.2860,  0.4959, -0.4405,\n",
       "         -0.1756, -0.2610, -0.1301, -0.5840, -0.6175, -0.4197, -0.1383,  0.6503,\n",
       "         -0.4364,  0.5512,  0.1111, -0.4506,  0.4476,  0.1194, -0.0985,  0.3611],\n",
       "        requires_grad=True))"
      ]
     },
     "execution_count": 10,
     "metadata": {},
     "output_type": "execute_result"
    }
   ],
   "source": [
    "model[0].weight, model[0].bias"
   ]
  },
  {
   "cell_type": "markdown",
   "metadata": {},
   "source": [
    "Or with one hidden layer"
   ]
  },
  {
   "cell_type": "markdown",
   "metadata": {},
   "source": [
    "To try the network with one hidden layer, set `complex` to true"
   ]
  },
  {
   "cell_type": "code",
   "execution_count": 11,
   "metadata": {},
   "outputs": [],
   "source": [
    "loss_fn = nn.CrossEntropyLoss()    # cross entropy loss\n",
    "optimizer = torch.optim.SGD(model.parameters(), lr=0.01)"
   ]
  },
  {
   "cell_type": "markdown",
   "metadata": {},
   "source": [
    "## Fitting the Model"
   ]
  },
  {
   "cell_type": "code",
   "execution_count": 12,
   "metadata": {},
   "outputs": [],
   "source": [
    "BATCH_SIZE = 4"
   ]
  },
  {
   "cell_type": "code",
   "execution_count": 13,
   "metadata": {},
   "outputs": [],
   "source": [
    "from torch.utils.data import TensorDataset, DataLoader\n",
    "\n",
    "dataset = TensorDataset(X_scaled, y)\n",
    "dataloader = DataLoader(dataset, batch_size=BATCH_SIZE, shuffle=True)"
   ]
  },
  {
   "cell_type": "markdown",
   "metadata": {},
   "source": [
    "We fit the model"
   ]
  },
  {
   "cell_type": "code",
   "execution_count": 14,
   "metadata": {},
   "outputs": [],
   "source": [
    "loss_history = []\n",
    "model.train()\n",
    "for epoch in range(200):\n",
    "    loss_train = 0\n",
    "    for X_scaled_batch, y_batch in dataloader:\n",
    "        y_batch_pred = model(X_scaled_batch)\n",
    "        loss = loss_fn(y_batch_pred, y_batch)\n",
    "        optimizer.zero_grad()\n",
    "        loss.backward()\n",
    "        optimizer.step()\n",
    "        loss_train += loss.item()\n",
    "    loss_history += [BATCH_SIZE * loss_train/len(y)]"
   ]
  },
  {
   "cell_type": "code",
   "execution_count": 15,
   "metadata": {},
   "outputs": [
    {
     "data": {
      "image/png": "[encoded data removed]",
      "text/plain": [
       "<Figure size 640x480 with 1 Axes>"
      ]
     },
     "metadata": {},
     "output_type": "display_data"
    }
   ],
   "source": [
    "epochs = range(1, len(loss_history) + 1)\n",
    "plt.plot(epochs, loss_history, 'bo', label='Training loss')\n",
    "plt.title('Training loss')\n",
    "plt.legend()\n",
    "plt.show()"
   ]
  },
  {
   "cell_type": "markdown",
   "metadata": {},
   "source": [
    "### The weights"
   ]
  },
  {
   "cell_type": "code",
   "execution_count": 16,
   "metadata": {},
   "outputs": [
    {
     "data": {
      "text/plain": [
       "OrderedDict([('0.weight',\n",
       "              tensor([[-0.8978,  0.3549],\n",
       "                      [ 0.2841, -0.7139],\n",
       "                      [ 0.1509,  0.2762],\n",
       "                      [-0.5159,  0.8283],\n",
       "                      [-0.0880, -0.2984],\n",
       "                      [ 0.1507, -0.4681],\n",
       "                      [ 0.7272, -0.2517],\n",
       "                      [ 0.7545, -0.2176],\n",
       "                      [ 0.4876, -0.5807],\n",
       "                      [-0.3215,  0.0126],\n",
       "                      [ 0.1061, -0.7482],\n",
       "                      [ 0.2071,  0.7371],\n",
       "                      [ 0.5766,  0.3369],\n",
       "                      [ 0.5542, -0.1861],\n",
       "                      [ 0.4495, -0.4343],\n",
       "                      [-0.3090, -0.3429],\n",
       "                      [-0.6587, -0.5095],\n",
       "                      [ 0.2574,  0.2446],\n",
       "                      [-0.8389,  0.7236],\n",
       "                      [-0.0116, -0.2957],\n",
       "                      [-0.1979, -0.7320],\n",
       "                      [-1.0989,  1.0256],\n",
       "                      [ 0.3691, -0.1078],\n",
       "                      [-0.6427, -0.3196],\n",
       "                      [ 0.1807,  0.2098],\n",
       "                      [-0.3349, -0.6229],\n",
       "                      [ 0.5138, -0.1551],\n",
       "                      [-0.0272, -0.5800],\n",
       "                      [-0.6599,  0.2164],\n",
       "                      [ 0.7718, -0.4664],\n",
       "                      [-0.4418,  0.2341],\n",
       "                      [ 0.0422,  0.6228]])),\n",
       "             ('0.bias',\n",
       "              tensor([-0.2335,  0.3355,  0.6754, -0.1802, -0.2057,  0.0429,  0.8939, -0.3356,\n",
       "                      -0.0046,  0.5410,  0.8502, -0.0267, -0.1782, -0.2571,  0.8336, -0.4405,\n",
       "                      -0.2170, -0.2610, -0.3047, -0.5844, -0.5798, -0.5637, -0.1596,  0.7056,\n",
       "                      -0.4364,  0.6252,  0.2534, -0.4249,  0.4712,  0.2658, -0.1585,  0.3647])),\n",
       "             ('2.weight',\n",
       "              tensor([[-0.4138, -0.3483,  0.2085, -0.3615, -0.1119, -0.1529,  0.1883, -0.2825,\n",
       "                       -0.2120,  0.1599,  0.2427, -0.2199,  0.0559, -0.1664,  0.2013, -0.0521,\n",
       "                        0.1274, -0.1720, -0.3819, -0.0711, -0.1518, -0.5764,  0.0970,  0.2471,\n",
       "                        0.1400,  0.1906, -0.2180, -0.1294,  0.0563, -0.2568, -0.0506,  0.2043],\n",
       "                      [ 0.6884, -0.2616, -0.3345,  0.6084,  0.1707,  0.0822, -0.6487,  0.0043,\n",
       "                        0.0514, -0.0767, -0.5739,  0.1086,  0.0055, -0.0432, -0.6717, -0.1737,\n",
       "                       -0.1096, -0.0787,  0.7131, -0.0627, -0.0554,  1.0476,  0.1243, -0.0767,\n",
       "                       -0.0823, -0.2488, -0.1468,  0.0694,  0.1373, -0.2941,  0.3841,  0.2276],\n",
       "                      [-0.3194,  0.2313, -0.2276, -0.1713,  0.0283,  0.0936,  0.5607,  0.1876,\n",
       "                        0.2178, -0.2575,  0.3209, -0.2427,  0.1577,  0.1425,  0.3332, -0.0587,\n",
       "                       -0.1508,  0.0843, -0.3855, -0.1178,  0.1286, -0.4577,  0.0865, -0.2712,\n",
       "                       -0.0999,  0.1659,  0.2118,  0.1231, -0.4284,  0.4926, -0.0254, -0.1468]])),\n",
       "             ('2.bias', tensor([ 0.5672, -0.5595,  0.0406]))])"
      ]
     },
     "execution_count": 16,
     "metadata": {},
     "output_type": "execute_result"
    }
   ],
   "source": [
    "model.state_dict()"
   ]
  },
  {
   "cell_type": "markdown",
   "metadata": {},
   "source": [
    "## Prediction\n",
    "### Probabilities"
   ]
  },
  {
   "cell_type": "markdown",
   "metadata": {},
   "source": [
    "We compute the probabilities to belong to the classes for all the training set"
   ]
  },
  {
   "cell_type": "code",
   "execution_count": 17,
   "metadata": {},
   "outputs": [
    {
     "data": {
      "text/plain": [
       "Sequential(\n",
       "  (0): Linear(in_features=2, out_features=32, bias=True)\n",
       "  (1): ReLU()\n",
       "  (2): Linear(in_features=32, out_features=3, bias=True)\n",
       ")"
      ]
     },
     "execution_count": 17,
     "metadata": {},
     "output_type": "execute_result"
    }
   ],
   "source": [
    "model.eval()"
   ]
  },
  {
   "cell_type": "markdown",
   "metadata": {},
   "source": [
    "The output with no activation. This is called the logits"
   ]
  },
  {
   "cell_type": "code",
   "execution_count": 18,
   "metadata": {},
   "outputs": [
    {
     "data": {
      "text/plain": [
       "tensor([[ 1.5048, -2.5382,  0.5449],\n",
       "        [ 0.9439, -0.5420, -0.8359],\n",
       "        [ 0.7938, -0.2058, -1.0293],\n",
       "        [ 1.1620, -1.0429, -0.5453]], grad_fn=<SliceBackward0>)"
      ]
     },
     "execution_count": 18,
     "metadata": {},
     "output_type": "execute_result"
    }
   ],
   "source": [
    "Y_pred_logits = model(X_scaled)\n",
    "Y_pred_logits[:4]"
   ]
  },
  {
   "cell_type": "markdown",
   "metadata": {},
   "source": [
    "The probabilities"
   ]
  },
  {
   "cell_type": "code",
   "execution_count": 19,
   "metadata": {},
   "outputs": [
    {
     "data": {
      "text/plain": [
       "tensor([[0.7140, 0.0125, 0.2734],\n",
       "        [0.7169, 0.1622, 0.1209],\n",
       "        [0.6538, 0.2406, 0.1056],\n",
       "        [0.7742, 0.0854, 0.1404]], grad_fn=<SliceBackward0>)"
      ]
     },
     "execution_count": 19,
     "metadata": {},
     "output_type": "execute_result"
    }
   ],
   "source": [
    "Y_pred_proba = F.softmax(model(X_scaled), dim=-1)\n",
    "Y_pred_proba[:4]"
   ]
  },
  {
   "cell_type": "markdown",
   "metadata": {},
   "source": [
    "We recompute it with matrices"
   ]
  },
  {
   "cell_type": "code",
   "execution_count": 20,
   "metadata": {},
   "outputs": [],
   "source": [
    "m_params = list(model.parameters())"
   ]
  },
  {
   "cell_type": "code",
   "execution_count": 21,
   "metadata": {},
   "outputs": [
    {
     "data": {
      "text/plain": [
       "tensor([[0.7140, 0.0125, 0.2734],\n",
       "        [0.7169, 0.1622, 0.1209],\n",
       "        [0.6538, 0.2406, 0.1056],\n",
       "        [0.7742, 0.0854, 0.1404]], grad_fn=<SliceBackward0>)"
      ]
     },
     "execution_count": 21,
     "metadata": {},
     "output_type": "execute_result"
    }
   ],
   "source": [
    "torch.softmax(torch.relu(X_scaled @ m_params[0].T + m_params[1])@m_params[2].T + m_params[3], dim=-1)[:4]"
   ]
  },
  {
   "cell_type": "markdown",
   "metadata": {},
   "source": [
    "### Classes"
   ]
  },
  {
   "cell_type": "code",
   "execution_count": 22,
   "metadata": {},
   "outputs": [
    {
     "data": {
      "text/plain": [
       "tensor([0, 0, 0, 0, 0, 0, 0, 0, 0, 0, 0, 0, 0, 0, 0, 1, 1, 1, 1, 1, 1, 1, 1, 1,\n",
       "        1, 1, 1, 1, 1, 1, 2, 2, 2, 2, 0, 2, 2, 2, 0, 2, 2, 2, 0, 2, 2])"
      ]
     },
     "execution_count": 22,
     "metadata": {},
     "output_type": "execute_result"
    }
   ],
   "source": [
    "y_pred = torch.argmax(Y_pred_proba, dim=-1)\n",
    "y_pred"
   ]
  },
  {
   "cell_type": "markdown",
   "metadata": {},
   "source": [
    "## Loss\n",
    "We recompute the loss"
   ]
  },
  {
   "cell_type": "markdown",
   "metadata": {},
   "source": [
    "For one observation"
   ]
  },
  {
   "cell_type": "code",
   "execution_count": 23,
   "metadata": {},
   "outputs": [
    {
     "data": {
      "text/plain": [
       "tensor(0.3368, grad_fn=<NllLossBackward0>)"
      ]
     },
     "execution_count": 23,
     "metadata": {},
     "output_type": "execute_result"
    }
   ],
   "source": [
    "loss_fn(Y_pred_logits[0], y[0])"
   ]
  },
  {
   "cell_type": "code",
   "execution_count": 24,
   "metadata": {},
   "outputs": [
    {
     "data": {
      "text/plain": [
       "tensor(0.3368, grad_fn=<NegBackward0>)"
      ]
     },
     "execution_count": 24,
     "metadata": {},
     "output_type": "execute_result"
    }
   ],
   "source": [
    "-torch.log(Y_pred_proba[0])[y[0]]"
   ]
  },
  {
   "cell_type": "markdown",
   "metadata": {},
   "source": [
    "For the dataset"
   ]
  },
  {
   "cell_type": "code",
   "execution_count": 25,
   "metadata": {},
   "outputs": [
    {
     "data": {
      "text/plain": [
       "tensor(0.2602, grad_fn=<NllLossBackward0>)"
      ]
     },
     "execution_count": 25,
     "metadata": {},
     "output_type": "execute_result"
    }
   ],
   "source": [
    "loss_fn(Y_pred_logits, y)"
   ]
  },
  {
   "cell_type": "code",
   "execution_count": 26,
   "metadata": {},
   "outputs": [
    {
     "data": {
      "text/plain": [
       "tensor(0.2602, grad_fn=<NegBackward0>)"
      ]
     },
     "execution_count": 26,
     "metadata": {},
     "output_type": "execute_result"
    }
   ],
   "source": [
    "-torch.mean(torch.log(Y_pred_proba[range(0, len(y)), y]))"
   ]
  },
  {
   "cell_type": "markdown",
   "metadata": {},
   "source": [
    "## Evaluation"
   ]
  },
  {
   "cell_type": "markdown",
   "metadata": {},
   "source": [
    "With sklearn"
   ]
  },
  {
   "cell_type": "code",
   "execution_count": 27,
   "metadata": {},
   "outputs": [
    {
     "name": "stdout",
     "output_type": "stream",
     "text": [
      "              precision    recall  f1-score   support\n",
      "\n",
      "           0       0.83      1.00      0.91        15\n",
      "           1       1.00      1.00      1.00        15\n",
      "           2       1.00      0.80      0.89        15\n",
      "\n",
      "    accuracy                           0.93        45\n",
      "   macro avg       0.94      0.93      0.93        45\n",
      "weighted avg       0.94      0.93      0.93        45\n",
      "\n"
     ]
    }
   ],
   "source": [
    "from sklearn.metrics import classification_report\n",
    "\n",
    "print(classification_report(y, y_pred))"
   ]
  },
  {
   "cell_type": "markdown",
   "metadata": {},
   "source": [
    "We computed the accuracy from the training set. This is not a good practice. We should use a dedicated test set instead."
   ]
  }
 ],
 "metadata": {
  "kernelspec": {
   "display_name": "Python 3.9.12 ('base')",
   "language": "python",
   "name": "python3"
  },
  "language_info": {
   "codemirror_mode": {
    "name": "ipython",
    "version": 3
   },
   "file_extension": ".py",
   "mimetype": "text/x-python",
   "name": "python",
   "nbconvert_exporter": "python",
   "pygments_lexer": "ipython3",
   "version": "3.9.15"
  },
  "vscode": {
   "interpreter": {
    "hash": "b97b11a820675205aae8f1d7f2a3f22bbd3a2c30189f44042310baf5b4cd1987"
   }
  }
 },
 "nbformat": 4,
 "nbformat_minor": 4
}
