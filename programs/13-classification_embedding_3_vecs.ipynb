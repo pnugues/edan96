{
 "cells": [
  {
   "cell_type": "markdown",
   "metadata": {},
   "source": [
    "# Classification: Language Detection\n",
    "\n",
    "Authors: Pierre Nugues and Marcus Klang"
   ]
  },
  {
   "cell_type": "markdown",
   "metadata": {},
   "source": [
    "Reimplementation of Google's _Compact language detector_ (CLD3) from a high-level description. Read the description here: https://github.com/google/cld3\n",
    "\n",
    "The model has three different embeddings as first layer"
   ]
  },
  {
   "cell_type": "markdown",
   "metadata": {},
   "source": [
    "## Overview"
   ]
  },
  {
   "cell_type": "markdown",
   "metadata": {},
   "source": [
    "Your classifier will read a short text, typically a few words or a sentence, and output the probability for all languages observed during training. The text will have a variable length and will be encoded as a Unicode string.\n",
    "\n",
    "As dataset to train your models, you will use [Tatoeba](https://tatoeba.org/sv/), a collaborative, open, and free collection of sentences and translations. "
   ]
  },
  {
   "cell_type": "markdown",
   "metadata": {},
   "source": [
    "You will break down the task into four steps:\n",
    "    \n",
    "  1. Data processing, converting the data into a machine-learnable representation\n",
    "  2. Try and evaluate a simple model, logistic regression. This will be your baseline.\n",
    "  3. Try and evaluate a deeper model inspired by Google's compact language detector, CLD3.\n",
    "  4. CLD3 includes an embedding vectorization. This last part is left as an optional exercise."
   ]
  },
  {
   "cell_type": "markdown",
   "metadata": {},
   "source": [
    "### The Model: CLD3"
   ]
  },
  {
   "cell_type": "markdown",
   "metadata": {},
   "source": [
    "CLD3 has three major characteristics:\n",
    "\n",
    "   * It uses **$n$-grams** and splits an input text like _banana_ into three feature vectors that include:\n",
    "       + Each unique character, unigrams ($n=1$)\n",
    "       + Each unique pair of characters obtained from a sliding window of size 2, bigrams ($n=2$)\n",
    "       + Each unique triple of characters obtained from a sliding window of size 3, trigrams ($n=3$)\n",
    "       + These feature sets map to a set of indices (integer value).\n",
    "   \n",
    "   * It **hashes each symbol** i.e. it encrypts the $n$-gram into a fixed range integer.\n",
    "       + This way of mapping features to indices is called feature hashing or the *hashing trick*\n",
    "       + It reduces the number of symbols.\n",
    "       + Constant memory requirements, depends on the hash function -- commonly only a few constants.\n",
    "       + It is an approximate method as collisions can and will occur. Adjusting the size of the feature space i.e. the number of features to hash to, the collision probability can be reduced.\n",
    "   \n",
    "   * For each value of $n$, 1, 2, and 3, CLD3 computes the relative frequencies of the $n$-grams and **use them as weights**. See the figure below.\n",
    "       + The model can map the input indices to embedding vectors (this part is optional)\n",
    "       + It then computes the **weighted average** of the embeddings (this part is optional)\n",
    "       + The model learns the embeddings during training (also optional)\n",
    "       \n",
    "The figure below shows the final architecture."
   ]
  },
  {
   "cell_type": "markdown",
   "metadata": {},
   "source": [
    "![Model overview](https://raw.githubusercontent.com/google/cld3/master/model.png)\n",
    "Image source: https://github.com/google/cld3"
   ]
  },
  {
   "cell_type": "markdown",
   "metadata": {},
   "source": [
    "## Dataset: Tatoeba"
   ]
  },
  {
   "cell_type": "markdown",
   "metadata": {},
   "source": [
    "Your instructors have downsampled Tatoeba to reduce training times and guarantee that all the students have the same datasets.\n",
    "* Link to datasets: https://github.com/pnugues/edan96/tree/main/classification%20lab\n",
    "* Link to preprocessing notebook: https://github.com/pnugues/edan96/blob/main/programs/5-tatoeba_eda_select.ipynb\n",
    "\n",
    "You are only required to process the small dataset. The larger one may take take and be difficult to process on small computers."
   ]
  },
  {
   "cell_type": "markdown",
   "metadata": {},
   "source": [
    "## Preliminaries"
   ]
  },
  {
   "cell_type": "code",
   "execution_count": 1,
   "metadata": {},
   "outputs": [],
   "source": [
    "import random\n",
    "import hashlib\n",
    "from collections import Counter\n",
    "from tqdm import tqdm\n",
    "\n",
    "import torch\n",
    "from torch import nn\n",
    "from torch.utils.data import TensorDataset, DataLoader\n",
    "\n",
    "from sklearn.metrics import classification_report, confusion_matrix\n",
    "\n",
    "from typing import List, Dict, Tuple"
   ]
  },
  {
   "cell_type": "code",
   "execution_count": 2,
   "metadata": {},
   "outputs": [
    {
     "data": {
      "text/plain": [
       "<torch._C.Generator at 0x7ff14857c5f0>"
      ]
     },
     "execution_count": 2,
     "metadata": {},
     "output_type": "execute_result"
    }
   ],
   "source": [
    "random.seed(4321)\n",
    "torch.manual_seed(4321)"
   ]
  },
  {
   "cell_type": "markdown",
   "metadata": {},
   "source": [
    "## Reading the Dataset"
   ]
  },
  {
   "cell_type": "code",
   "execution_count": 3,
   "metadata": {},
   "outputs": [],
   "source": [
    "FILENAME_TRAIN = 'train.tsv'\n",
    "FILENAME_VAL = 'val.tsv'\n",
    "FILENAME_TEST = 'test.tsv'"
   ]
  },
  {
   "cell_type": "code",
   "execution_count": 4,
   "metadata": {},
   "outputs": [],
   "source": [
    "SMALL_DATASET_PATH = 'small_dataset'\n",
    "LARGE_DATASET_PATH = 'large_dataset'"
   ]
  },
  {
   "cell_type": "markdown",
   "metadata": {},
   "source": [
    "## Settings\n",
    "You have here the most significant settings"
   ]
  },
  {
   "cell_type": "code",
   "execution_count": 5,
   "metadata": {},
   "outputs": [],
   "source": [
    "LARGE_DATASET = True # Use the small or large dataset\n",
    "REL_FREQ = True # How we represent the n-grams in the input vector: with their relative frequency or with a 1 (NOT USED)"
   ]
  },
  {
   "cell_type": "code",
   "execution_count": 6,
   "metadata": {},
   "outputs": [],
   "source": [
    "HIDDEN_LAYER = False  # Neural network with one hidden layer or logistic regression\n",
    "EPOCHS = 10 # Number of epochs\n",
    "BATCH_SIZE = 128 # How many examples we will use for an update in the gradient descent\n",
    "EMBEDDING_DIM = 64\n",
    "EMBEDDING_DIM_UNI = 32\n",
    "EMBEDDING_DIM_BI = 64\n",
    "EMBEDDING_DIM_TRI = 128"
   ]
  },
  {
   "cell_type": "code",
   "execution_count": 7,
   "metadata": {},
   "outputs": [],
   "source": [
    "if LARGE_DATASET:\n",
    "    dataset_path = LARGE_DATASET_PATH\n",
    "else:\n",
    "    dataset_path = SMALL_DATASET_PATH\n",
    "    \n",
    "FILE_TRAIN = dataset_path + '/' + FILENAME_TRAIN\n",
    "FILE_VAL = dataset_path + '/' + FILENAME_VAL\n",
    "FILE_TEST = dataset_path + '/' + FILENAME_TEST"
   ]
  },
  {
   "cell_type": "markdown",
   "metadata": {},
   "source": [
    "We create a generator to read the datasets"
   ]
  },
  {
   "cell_type": "code",
   "execution_count": 8,
   "metadata": {},
   "outputs": [],
   "source": [
    "def file_reader(file: str):\n",
    "    with open(file, encoding='utf8', errors='ignore') as f:\n",
    "        for line in f:\n",
    "            row = line.strip()\n",
    "            yield tuple(row.split('\\t'))"
   ]
  },
  {
   "cell_type": "code",
   "execution_count": 9,
   "metadata": {},
   "outputs": [],
   "source": [
    "line_generator = file_reader(FILE_TRAIN)"
   ]
  },
  {
   "cell_type": "markdown",
   "metadata": {},
   "source": [
    "And we count the sentences per language"
   ]
  },
  {
   "cell_type": "code",
   "execution_count": 10,
   "metadata": {},
   "outputs": [],
   "source": [
    "lang_freqs = Counter(map(lambda x: x[1], line_generator))"
   ]
  },
  {
   "cell_type": "code",
   "execution_count": 11,
   "metadata": {},
   "outputs": [
    {
     "data": {
      "text/plain": [
       "[('rus', 12314),\n",
       " ('mkd', 12149),\n",
       " ('lfn', 12132),\n",
       " ('srp', 12127),\n",
       " ('lit', 12126),\n",
       " ('lat', 12115),\n",
       " ('bul', 12111),\n",
       " ('ukr', 12093),\n",
       " ('ell', 12084),\n",
       " ('vie', 12079),\n",
       " ('nld', 12074),\n",
       " ('hau', 12073),\n",
       " ('kab', 12066),\n",
       " ('ron', 12065),\n",
       " ('deu', 12064)]"
      ]
     },
     "execution_count": 11,
     "metadata": {},
     "output_type": "execute_result"
    }
   ],
   "source": [
    "lang_freqs.most_common(15)"
   ]
  },
  {
   "cell_type": "code",
   "execution_count": 12,
   "metadata": {},
   "outputs": [
    {
     "data": {
      "text/plain": [
       "['ara', 'ber', 'bul', 'ces', 'cmn', 'dan', 'deu', 'ell', 'eng', 'epo']"
      ]
     },
     "execution_count": 12,
     "metadata": {},
     "output_type": "execute_result"
    }
   ],
   "source": [
    "langs = sorted(list(set(lang_freqs.keys())))\n",
    "langs[:10]"
   ]
  },
  {
   "cell_type": "markdown",
   "metadata": {},
   "source": [
    "You will create an index of the languages of your dataset: Assign a number to each language. You will call it `idx2lang` and its type will be a dictionary."
   ]
  },
  {
   "cell_type": "code",
   "execution_count": 13,
   "metadata": {},
   "outputs": [],
   "source": [
    "idx2lang = {idx:lang for idx, lang in enumerate(langs)}"
   ]
  },
  {
   "cell_type": "code",
   "execution_count": 14,
   "metadata": {},
   "outputs": [
    {
     "data": {
      "text/plain": [
       "{0: 'ara',\n",
       " 1: 'ber',\n",
       " 2: 'bul',\n",
       " 3: 'ces',\n",
       " 4: 'cmn',\n",
       " 5: 'dan',\n",
       " 6: 'deu',\n",
       " 7: 'ell',\n",
       " 8: 'eng',\n",
       " 9: 'epo',\n",
       " 10: 'fin',\n",
       " 11: 'fra',\n",
       " 12: 'hau',\n",
       " 13: 'heb',\n",
       " 14: 'hun',\n",
       " 15: 'ina',\n",
       " 16: 'ita',\n",
       " 17: 'jpn',\n",
       " 18: 'kab',\n",
       " 19: 'lat',\n",
       " 20: 'lfn',\n",
       " 21: 'lit',\n",
       " 22: 'mar',\n",
       " 23: 'mkd',\n",
       " 24: 'nld',\n",
       " 25: 'pes',\n",
       " 26: 'pol',\n",
       " 27: 'por',\n",
       " 28: 'ron',\n",
       " 29: 'rus',\n",
       " 30: 'spa',\n",
       " 31: 'srp',\n",
       " 32: 'swc',\n",
       " 33: 'swe',\n",
       " 34: 'tlh',\n",
       " 35: 'tok',\n",
       " 36: 'tur',\n",
       " 37: 'ukr',\n",
       " 38: 'vie'}"
      ]
     },
     "execution_count": 14,
     "metadata": {},
     "output_type": "execute_result"
    }
   ],
   "source": [
    "idx2lang"
   ]
  },
  {
   "cell_type": "markdown",
   "metadata": {},
   "source": [
    "Write the reverted `lang2idx` index to convert languages to indices. It is also a dictionary"
   ]
  },
  {
   "cell_type": "code",
   "execution_count": 15,
   "metadata": {},
   "outputs": [],
   "source": [
    "lang2idx = {lang:idx for idx, lang in idx2lang.items()}"
   ]
  },
  {
   "cell_type": "code",
   "execution_count": 16,
   "metadata": {},
   "outputs": [
    {
     "data": {
      "text/plain": [
       "{'ara': 0,\n",
       " 'ber': 1,\n",
       " 'bul': 2,\n",
       " 'ces': 3,\n",
       " 'cmn': 4,\n",
       " 'dan': 5,\n",
       " 'deu': 6,\n",
       " 'ell': 7,\n",
       " 'eng': 8,\n",
       " 'epo': 9,\n",
       " 'fin': 10,\n",
       " 'fra': 11,\n",
       " 'hau': 12,\n",
       " 'heb': 13,\n",
       " 'hun': 14,\n",
       " 'ina': 15,\n",
       " 'ita': 16,\n",
       " 'jpn': 17,\n",
       " 'kab': 18,\n",
       " 'lat': 19,\n",
       " 'lfn': 20,\n",
       " 'lit': 21,\n",
       " 'mar': 22,\n",
       " 'mkd': 23,\n",
       " 'nld': 24,\n",
       " 'pes': 25,\n",
       " 'pol': 26,\n",
       " 'por': 27,\n",
       " 'ron': 28,\n",
       " 'rus': 29,\n",
       " 'spa': 30,\n",
       " 'srp': 31,\n",
       " 'swc': 32,\n",
       " 'swe': 33,\n",
       " 'tlh': 34,\n",
       " 'tok': 35,\n",
       " 'tur': 36,\n",
       " 'ukr': 37,\n",
       " 'vie': 38}"
      ]
     },
     "execution_count": 16,
     "metadata": {},
     "output_type": "execute_result"
    }
   ],
   "source": [
    "lang2idx"
   ]
  },
  {
   "cell_type": "markdown",
   "metadata": {},
   "source": [
    "## Data processing — convert the sentences into feature vectors"
   ]
  },
  {
   "cell_type": "markdown",
   "metadata": {},
   "source": [
    "For the context of this program, a feature is a string of 1 to 3 characters. \n",
    "In natural language processing, they are called $n$-grams as they can have a varying size and are created from a sliding window.\n",
    "\n",
    "Common sizes of $n$ have names unigrams ($n$=1), bigrams ($n$=2), and trigrams ($n$=3))\n",
    "\n",
    "To serve as input, we have to convert these $n$-grams to numbers. There are two common ways to encode features into indices:\n",
    " * Mapping each symbol to an index\n",
    "    + Exact and precise\n",
    "    + Can have high memory requirements with vast feature spaces as each known feature must be stored and be assigned a unique index.\n",
    "    + Slow, you need to precompute your feature space, convert the incoming data to an index and retain the mapping in memory at all times.\n",
    " * Hashing trick: hash the feature into a index\n",
    "    + Supports an arbitrary number of features with the caveat of collisions.\n",
    "    + Constant memory requirements\n",
    "    + Fast, any feature even an unknown one can be converted into a feature index\n",
    "    + However, if the feature space is too small, features will have many collisions. You have then to choose a good hash function and a feature space that is big enough\n",
    "    \n",
    "We will use the [hashing trick](https://en.wikipedia.org/wiki/Feature_hashing). In Python, `hash` is a function that converts any supported object into a number (hash code) but it is not reproducible across the sessions - it changes each time the interpreter is started.\n",
    "We have therefore provided a new function `reproducible_hash` that hashes a string but in a reproducible way.\n",
    "\n",
    "The number returned by `reproducible_hash` is big and needs to be converted into a limited space. This can be done with the use of the remainder of an integer division, the [modulo](https://en.wikipedia.org/wiki/Modulo_operation)."
   ]
  },
  {
   "cell_type": "markdown",
   "metadata": {},
   "source": [
    "### Extracting $n$-grams"
   ]
  },
  {
   "cell_type": "markdown",
   "metadata": {},
   "source": [
    "Create an $n$-gram function that returns the $n$-grams of a string. The $n$ value will be passed as an argument. You will optionally set the string in lower case (`lc` argument)."
   ]
  },
  {
   "cell_type": "code",
   "execution_count": 17,
   "metadata": {},
   "outputs": [],
   "source": [
    "def ngrams(sentence: str, n: int =1, lc: bool =True) -> List[int]:\n",
    "    ngram_l = []\n",
    "    if lc:\n",
    "        sentence = sentence.lower()\n",
    "    for i in range(len(sentence) - n + 1):\n",
    "        ngram_l += [sentence[i:i+n]]\n",
    "    return ngram_l"
   ]
  },
  {
   "cell_type": "code",
   "execution_count": 18,
   "metadata": {},
   "outputs": [],
   "source": [
    "def all_ngrams(sentence: str, max_ngram: int =3, lc: bool =True) -> List[List[str]]:\n",
    "    all_ngram_list = []\n",
    "    for i in range(1, max_ngram + 1):\n",
    "        all_ngram_list += [ngrams(sentence, n=i, lc=lc)]\n",
    "    return all_ngram_list"
   ]
  },
  {
   "cell_type": "code",
   "execution_count": 19,
   "metadata": {},
   "outputs": [
    {
     "data": {
      "text/plain": [
       "[['b', 'a', 'n', 'a', 'n', 'a'],\n",
       " ['ba', 'an', 'na', 'an', 'na'],\n",
       " ['ban', 'ana', 'nan', 'ana']]"
      ]
     },
     "execution_count": 19,
     "metadata": {},
     "output_type": "execute_result"
    }
   ],
   "source": [
    "all_ngrams('banana')"
   ]
  },
  {
   "cell_type": "markdown",
   "metadata": {},
   "source": [
    "### Limiting the $n$-grams numbers"
   ]
  },
  {
   "cell_type": "markdown",
   "metadata": {},
   "source": [
    "We set the modulos"
   ]
  },
  {
   "cell_type": "code",
   "execution_count": 20,
   "metadata": {},
   "outputs": [],
   "source": [
    "if LARGE_DATASET:\n",
    "    MAX_CHARS = 2053\n",
    "    MAX_BIGRAMS = 4099\n",
    "    MAX_TRIGRAMS = 4099  #8192\n",
    "else:\n",
    "    MAX_CHARS = 521\n",
    "    MAX_BIGRAMS = 1031\n",
    "    MAX_TRIGRAMS = 1031 "
   ]
  },
  {
   "cell_type": "code",
   "execution_count": 21,
   "metadata": {},
   "outputs": [
    {
     "data": {
      "text/plain": [
       "10251"
      ]
     },
     "execution_count": 21,
     "metadata": {},
     "output_type": "execute_result"
    }
   ],
   "source": [
    "NUM_FEATURES = MAX_CHARS + MAX_BIGRAMS + MAX_TRIGRAMS\n",
    "NUM_FEATURES"
   ]
  },
  {
   "cell_type": "markdown",
   "metadata": {},
   "source": [
    "### Hash Codes"
   ]
  },
  {
   "cell_type": "code",
   "execution_count": 22,
   "metadata": {},
   "outputs": [],
   "source": [
    "def reproducible_hash(string: str) -> int:\n",
    "    \"\"\"\n",
    "    reproducible hash on any string\n",
    "    \n",
    "    Arguments:\n",
    "       string: python string object\n",
    "    \n",
    "    Returns:\n",
    "       signed int64\n",
    "    \"\"\"\n",
    "    \n",
    "    # We are using MD5 for speed not security.\n",
    "    h = hashlib.md5(string.encode(\"utf-8\"), usedforsecurity=False)\n",
    "    return int.from_bytes(h.digest()[0:8], 'big', signed=True)"
   ]
  },
  {
   "cell_type": "code",
   "execution_count": 23,
   "metadata": {},
   "outputs": [
    {
     "data": {
      "text/plain": [
       "[95, 3321, 824, 3321]"
      ]
     },
     "execution_count": 23,
     "metadata": {},
     "output_type": "execute_result"
    }
   ],
   "source": [
    "[reproducible_hash(x) % MAX_TRIGRAMS for x in all_ngrams('banana')[2]]"
   ]
  },
  {
   "cell_type": "code",
   "execution_count": 24,
   "metadata": {},
   "outputs": [],
   "source": [
    "MAXES = [MAX_CHARS, MAX_BIGRAMS, MAX_TRIGRAMS]"
   ]
  },
  {
   "cell_type": "markdown",
   "metadata": {},
   "source": [
    "Create a `ngrams2hashvals` function that creates a list of hash codes from a list of $n$-grams. As arguments, you will have the list of $n$-grams as well as the list of dividers (`MAXES`). See the example below"
   ]
  },
  {
   "cell_type": "code",
   "execution_count": 25,
   "metadata": {},
   "outputs": [],
   "source": [
    "def ngrams2hashvals(ngrams: List[List[int]], modulos: List[int]) -> List[List[int]]:\n",
    "    hash_values = []\n",
    "    for ngram_l, modulo in zip(ngrams, modulos):\n",
    "        hash_values += [[reproducible_hash(x) % modulo for x in ngram_l]]\n",
    "    return hash_values"
   ]
  },
  {
   "cell_type": "code",
   "execution_count": 26,
   "metadata": {},
   "outputs": [
    {
     "data": {
      "text/plain": [
       "[[98, 1917, 1195, 1917, 1195, 1917],\n",
       " [426, 3906, 2726, 3906, 2726],\n",
       " [95, 3321, 824, 3321]]"
      ]
     },
     "execution_count": 26,
     "metadata": {},
     "output_type": "execute_result"
    }
   ],
   "source": [
    "hashvals_banana = ngrams2hashvals(all_ngrams('banana'), MAXES)\n",
    "hashvals_banana"
   ]
  },
  {
   "cell_type": "markdown",
   "metadata": {},
   "source": [
    "### Hash codes relative frequencies\n",
    "CLD3 associates the $n$-gram hash codes with their relative frequencies in the text. See the example in Google CLD3 page.\n",
    "\n",
    "Create a `rel_freqs` function that computes the frequencies from lists of hash codes. The input will be a list of three lists of hash codes, for the unigrams, bigrams, and trigrams. The output will be a list of a three dictionaries, where the keys will be the $n$-gram hash codes and the values, the relative frequency. See example. "
   ]
  },
  {
   "cell_type": "code",
   "execution_count": 27,
   "metadata": {},
   "outputs": [],
   "source": [
    "def rel_freqs(lst: list) -> Dict[int, float]:\n",
    "    return {ngram: lst.count(ngram)/len(lst) \n",
    "           for ngram in set(lst)}"
   ]
  },
  {
   "cell_type": "code",
   "execution_count": 28,
   "metadata": {},
   "outputs": [
    {
     "data": {
      "text/plain": [
       "[{98: 0.16666666666666666, 1195: 0.3333333333333333, 1917: 0.5},\n",
       " {426: 0.2, 3906: 0.4, 2726: 0.4},\n",
       " {824: 0.25, 3321: 0.5, 95: 0.25}]"
      ]
     },
     "execution_count": 28,
     "metadata": {},
     "output_type": "execute_result"
    }
   ],
   "source": [
    "hash2freqs_banana = [rel_freqs(x) for x in hashvals_banana]\n",
    "hash2freqs_banana"
   ]
  },
  {
   "cell_type": "markdown",
   "metadata": {},
   "source": [
    "## Creating $X$ and $\\mathbf{y}$ tensors"
   ]
  },
  {
   "cell_type": "markdown",
   "metadata": {},
   "source": [
    "We create a function to read the files and return the language and the sentence. We create the $X$ and $\\mathbf{y}$ tensors from them."
   ]
  },
  {
   "cell_type": "code",
   "execution_count": 29,
   "metadata": {},
   "outputs": [],
   "source": [
    "def read_sent_lang(file: str):\n",
    "    with open(file, encoding='utf8', errors='ignore') as f:\n",
    "        for line in f:\n",
    "            row = line.strip()\n",
    "            lang_tuple = tuple(row.split('\\t'))\n",
    "            yield lang_tuple[2], lang_tuple[1]   "
   ]
  },
  {
   "cell_type": "markdown",
   "metadata": {},
   "source": [
    "The code below creates a $X$ and $\\mathbf{y}$ tensors. Note that $X$ is a matrix and $\\mathbf{y}$, a vector."
   ]
  },
  {
   "cell_type": "markdown",
   "metadata": {},
   "source": [
    "## Formatting the Input"
   ]
  },
  {
   "cell_type": "code",
   "execution_count": 30,
   "metadata": {},
   "outputs": [],
   "source": [
    "def ngrams_bags(hash2freqs: List[Dict[int, float]]) -> Tuple[List[List[int]], List[List[float]]]:\n",
    "    indices = []\n",
    "    freqs = []\n",
    "    for i, hash2freq in enumerate(hash2freqs):\n",
    "        indices += [list(hash2freq.keys())]\n",
    "        freqs += [list(hash2freq.values())]\n",
    "    return indices, freqs"
   ]
  },
  {
   "cell_type": "code",
   "execution_count": 31,
   "metadata": {},
   "outputs": [
    {
     "data": {
      "text/plain": [
       "[{98: 0.16666666666666666, 1195: 0.3333333333333333, 1917: 0.5},\n",
       " {426: 0.2, 3906: 0.4, 2726: 0.4},\n",
       " {824: 0.25, 3321: 0.5, 95: 0.25}]"
      ]
     },
     "execution_count": 31,
     "metadata": {},
     "output_type": "execute_result"
    }
   ],
   "source": [
    "hash2freqs_banana"
   ]
  },
  {
   "cell_type": "code",
   "execution_count": 32,
   "metadata": {},
   "outputs": [
    {
     "data": {
      "text/plain": [
       "([[98, 1195, 1917], [426, 3906, 2726], [824, 3321, 95]],\n",
       " [[0.16666666666666666, 0.3333333333333333, 0.5],\n",
       "  [0.2, 0.4, 0.4],\n",
       "  [0.25, 0.5, 0.25]])"
      ]
     },
     "execution_count": 32,
     "metadata": {},
     "output_type": "execute_result"
    }
   ],
   "source": [
    "hash_idx_banana, values  = ngrams_bags(hash2freqs_banana)\n",
    "hash_idx_banana, values"
   ]
  },
  {
   "cell_type": "code",
   "execution_count": 33,
   "metadata": {},
   "outputs": [
    {
     "data": {
      "text/plain": [
       "tensor([[  98, 1195, 1917],\n",
       "        [ 426, 3906, 2726],\n",
       "        [ 824, 3321,   95]])"
      ]
     },
     "execution_count": 33,
     "metadata": {},
     "output_type": "execute_result"
    }
   ],
   "source": [
    "hash_idx_banana_t = torch.LongTensor(hash_idx_banana)\n",
    "hash_idx_banana_t"
   ]
  },
  {
   "cell_type": "code",
   "execution_count": 34,
   "metadata": {},
   "outputs": [],
   "source": [
    "def create_Xy_symb(file: str, lang2idx: Dict[int, int], MAXES: List[int]) -> Tuple[List, List, torch.LongTensor]:\n",
    "    y_symb = []\n",
    "    line_cnt = 0\n",
    "    for sentence, lang in read_sent_lang(file):\n",
    "        line_cnt += 1\n",
    "    X_idx_l = []\n",
    "    X_freqs_l = []\n",
    "    for i, (sentence, lang) in tqdm(enumerate(read_sent_lang(file))):\n",
    "        hashvals = ngrams2hashvals(all_ngrams(sentence), MAXES)\n",
    "        hash2freqs_l = list(map(rel_freqs, hashvals))\n",
    "        bags = ngrams_bags(hash2freqs_l)\n",
    "        X_idx_l += [bags[0]]\n",
    "        X_freqs_l += [bags[1]]\n",
    "        y_symb += [lang]\n",
    "    y = torch.LongTensor(list(map(lang2idx.get, y_symb)))\n",
    "    return X_idx_l, X_freqs_l, y"
   ]
  },
  {
   "cell_type": "code",
   "execution_count": 35,
   "metadata": {},
   "outputs": [
    {
     "name": "stderr",
     "output_type": "stream",
     "text": [
      "468422it [01:48, 4335.15it/s]\n",
      "58552it [00:12, 4712.16it/s]\n",
      "58554it [00:12, 4519.08it/s]\n"
     ]
    }
   ],
   "source": [
    "X_train_idx, X_train_freqs, y_train = create_Xy_symb(FILE_TRAIN, lang2idx, MAXES)\n",
    "X_val_idx, X_val_freqs, y_val = create_Xy_symb(FILE_VAL, lang2idx, MAXES)\n",
    "X_test_idx, X_test_freqs, y_test = create_Xy_symb(FILE_TEST, lang2idx, MAXES)"
   ]
  },
  {
   "cell_type": "code",
   "execution_count": 36,
   "metadata": {},
   "outputs": [
    {
     "data": {
      "text/plain": [
       "([[1028,\n",
       "   1030,\n",
       "   1164,\n",
       "   1935,\n",
       "   1040,\n",
       "   406,\n",
       "   1943,\n",
       "   159,\n",
       "   931,\n",
       "   1446,\n",
       "   1354,\n",
       "   589,\n",
       "   1365,\n",
       "   1634,\n",
       "   1250,\n",
       "   1509,\n",
       "   1770,\n",
       "   1260,\n",
       "   1263,\n",
       "   370,\n",
       "   627,\n",
       "   1782,\n",
       "   505,\n",
       "   1278],\n",
       "  [1027,\n",
       "   1796,\n",
       "   271,\n",
       "   1553,\n",
       "   2962,\n",
       "   3478,\n",
       "   2966,\n",
       "   1177,\n",
       "   153,\n",
       "   1309,\n",
       "   671,\n",
       "   3488,\n",
       "   291,\n",
       "   3619,\n",
       "   2347,\n",
       "   688,\n",
       "   2224,\n",
       "   3379,\n",
       "   2869,\n",
       "   953,\n",
       "   2628,\n",
       "   3782,\n",
       "   1734,\n",
       "   4053,\n",
       "   3158,\n",
       "   3676,\n",
       "   1759,\n",
       "   2401,\n",
       "   2020,\n",
       "   1125,\n",
       "   1256,\n",
       "   3817,\n",
       "   234,\n",
       "   1007,\n",
       "   880,\n",
       "   3441,\n",
       "   1393,\n",
       "   2802,\n",
       "   2929,\n",
       "   1141,\n",
       "   2421,\n",
       "   4087,\n",
       "   893,\n",
       "   638],\n",
       "  [509,\n",
       "   3716,\n",
       "   1925,\n",
       "   519,\n",
       "   3983,\n",
       "   528,\n",
       "   3477,\n",
       "   1558,\n",
       "   23,\n",
       "   1560,\n",
       "   3739,\n",
       "   162,\n",
       "   2852,\n",
       "   3750,\n",
       "   424,\n",
       "   427,\n",
       "   1836,\n",
       "   2992,\n",
       "   304,\n",
       "   1334,\n",
       "   3319,\n",
       "   2366,\n",
       "   2498,\n",
       "   1475,\n",
       "   325,\n",
       "   3703,\n",
       "   2761,\n",
       "   714,\n",
       "   3019,\n",
       "   970,\n",
       "   3538,\n",
       "   1108,\n",
       "   2262,\n",
       "   346,\n",
       "   3419,\n",
       "   3292,\n",
       "   2526,\n",
       "   3304,\n",
       "   114,\n",
       "   757,\n",
       "   3959,\n",
       "   637,\n",
       "   1790]],\n",
       " [[0.022222222222222223,\n",
       "   0.044444444444444446,\n",
       "   0.022222222222222223,\n",
       "   0.022222222222222223,\n",
       "   0.06666666666666667,\n",
       "   0.022222222222222223,\n",
       "   0.022222222222222223,\n",
       "   0.022222222222222223,\n",
       "   0.044444444444444446,\n",
       "   0.15555555555555556,\n",
       "   0.022222222222222223,\n",
       "   0.022222222222222223,\n",
       "   0.022222222222222223,\n",
       "   0.06666666666666667,\n",
       "   0.022222222222222223,\n",
       "   0.044444444444444446,\n",
       "   0.1111111111111111,\n",
       "   0.022222222222222223,\n",
       "   0.022222222222222223,\n",
       "   0.044444444444444446,\n",
       "   0.022222222222222223,\n",
       "   0.044444444444444446,\n",
       "   0.044444444444444446,\n",
       "   0.044444444444444446],\n",
       "  [0.022727272727272728,\n",
       "   0.022727272727272728,\n",
       "   0.022727272727272728,\n",
       "   0.022727272727272728,\n",
       "   0.022727272727272728,\n",
       "   0.022727272727272728,\n",
       "   0.022727272727272728,\n",
       "   0.022727272727272728,\n",
       "   0.022727272727272728,\n",
       "   0.022727272727272728,\n",
       "   0.022727272727272728,\n",
       "   0.022727272727272728,\n",
       "   0.022727272727272728,\n",
       "   0.022727272727272728,\n",
       "   0.022727272727272728,\n",
       "   0.022727272727272728,\n",
       "   0.022727272727272728,\n",
       "   0.022727272727272728,\n",
       "   0.022727272727272728,\n",
       "   0.022727272727272728,\n",
       "   0.022727272727272728,\n",
       "   0.022727272727272728,\n",
       "   0.022727272727272728,\n",
       "   0.022727272727272728,\n",
       "   0.022727272727272728,\n",
       "   0.022727272727272728,\n",
       "   0.022727272727272728,\n",
       "   0.022727272727272728,\n",
       "   0.022727272727272728,\n",
       "   0.022727272727272728,\n",
       "   0.022727272727272728,\n",
       "   0.022727272727272728,\n",
       "   0.022727272727272728,\n",
       "   0.022727272727272728,\n",
       "   0.022727272727272728,\n",
       "   0.022727272727272728,\n",
       "   0.022727272727272728,\n",
       "   0.022727272727272728,\n",
       "   0.022727272727272728,\n",
       "   0.022727272727272728,\n",
       "   0.022727272727272728,\n",
       "   0.022727272727272728,\n",
       "   0.022727272727272728,\n",
       "   0.022727272727272728],\n",
       "  [0.023255813953488372,\n",
       "   0.023255813953488372,\n",
       "   0.023255813953488372,\n",
       "   0.023255813953488372,\n",
       "   0.023255813953488372,\n",
       "   0.023255813953488372,\n",
       "   0.023255813953488372,\n",
       "   0.023255813953488372,\n",
       "   0.023255813953488372,\n",
       "   0.023255813953488372,\n",
       "   0.023255813953488372,\n",
       "   0.023255813953488372,\n",
       "   0.023255813953488372,\n",
       "   0.023255813953488372,\n",
       "   0.023255813953488372,\n",
       "   0.023255813953488372,\n",
       "   0.023255813953488372,\n",
       "   0.023255813953488372,\n",
       "   0.023255813953488372,\n",
       "   0.023255813953488372,\n",
       "   0.023255813953488372,\n",
       "   0.023255813953488372,\n",
       "   0.023255813953488372,\n",
       "   0.023255813953488372,\n",
       "   0.023255813953488372,\n",
       "   0.023255813953488372,\n",
       "   0.023255813953488372,\n",
       "   0.023255813953488372,\n",
       "   0.023255813953488372,\n",
       "   0.023255813953488372,\n",
       "   0.023255813953488372,\n",
       "   0.023255813953488372,\n",
       "   0.023255813953488372,\n",
       "   0.023255813953488372,\n",
       "   0.023255813953488372,\n",
       "   0.023255813953488372,\n",
       "   0.023255813953488372,\n",
       "   0.023255813953488372,\n",
       "   0.023255813953488372,\n",
       "   0.023255813953488372,\n",
       "   0.023255813953488372,\n",
       "   0.023255813953488372,\n",
       "   0.023255813953488372]])"
      ]
     },
     "execution_count": 36,
     "metadata": {},
     "output_type": "execute_result"
    }
   ],
   "source": [
    "X_train_idx[0], X_train_freqs[0]"
   ]
  },
  {
   "cell_type": "code",
   "execution_count": 37,
   "metadata": {},
   "outputs": [],
   "source": [
    "# Creates a vector (1D tensor) from three lists corresponding to a batch\n",
    "def batch_generator_one(X_idx_l: List[torch.LongTensor],  \n",
    "                       X_freqs_l: List[torch.FloatTensor]) -> Tuple[torch.LongTensor, torch.LongTensor, torch.FloatTensor]:\n",
    "    \"\"\"\n",
    "    We process here one type of n-gram, where n = 1, or 2, or 3.\n",
    "    We concatenate all the items of a batch so that they fit on one line\n",
    "    We track the items with their offsets from the start. This is just the cumulative sum of their length\n",
    "    Input: \n",
    "    1/ a list of tensors containing the n-gram indices\n",
    "    2/ a list of tensors containing the n-gram freqs.\n",
    "    We concatenate 1/ and 2/: Two 1D tensors. \n",
    "    We compute the offsets\n",
    "    \"\"\"\n",
    "    # Easy part\n",
    "    X_idx = torch.cat(X_idx_l, dim=-1)\n",
    "    X_freqs = torch.cat(X_freqs_l, dim=-1)\n",
    "\n",
    "    # More difficult: We must compute the offsets\n",
    "    bag_lengths = [X_idx_l[i].size()[0] for i in range(len(X_idx_l))]\n",
    "    X_offsets = torch.LongTensor([sum(bag_lengths[:i]) for i in range(len(bag_lengths))])\n",
    "     \n",
    "    return X_idx, X_offsets, X_freqs"
   ]
  },
  {
   "cell_type": "code",
   "execution_count": 38,
   "metadata": {},
   "outputs": [],
   "source": [
    "def batch_generator(X_idx_l: list, X_freqs_l: list):\n",
    "    bags_uni_idx = [torch.LongTensor(item[0]) for item in X_idx_l]\n",
    "    bags_uni_freqs = [torch.FloatTensor(item[0]) for item in X_freqs_l]\n",
    "    bags_uni_idx, bags_uni_offsets, bags_uni_freqs = batch_generator_one(bags_uni_idx, bags_uni_freqs)\n",
    "\n",
    "    bags_bi_idx = [torch.LongTensor(item[1]) for item in X_idx_l]\n",
    "    bags_bi_freqs = [torch.FloatTensor(item[1]) for item in X_freqs_l]\n",
    "    bags_bi_idx, bags_bi_offsets, bags_bi_freqs = batch_generator_one(bags_bi_idx, bags_bi_freqs)\n",
    "\n",
    "    bags_tri_idx = [torch.LongTensor(item[2]) for item in X_idx_l]\n",
    "    bags_tri_freqs = [torch.FloatTensor(item[2]) for item in X_freqs_l]\n",
    "    bags_tri_idx, bags_tri_offsets, bags_tri_freqs = batch_generator_one(bags_tri_idx, bags_tri_freqs)\n",
    "    \n",
    "    return (bags_uni_idx, bags_uni_offsets, bags_uni_freqs), (bags_bi_idx, bags_bi_offsets, bags_bi_freqs), (bags_tri_idx, bags_tri_offsets, bags_tri_freqs)"
   ]
  },
  {
   "cell_type": "code",
   "execution_count": 39,
   "metadata": {},
   "outputs": [
    {
     "data": {
      "text/plain": [
       "((tensor([1028, 1030, 1164, 1935, 1040,  406, 1943,  159,  931, 1446, 1354,  589,\n",
       "          1365, 1634, 1250, 1509, 1770, 1260, 1263,  370,  627, 1782,  505, 1278,\n",
       "           832,   98,  676, 1446,  584, 1418, 1195,   76, 1645, 1917,   46, 1810,\n",
       "           406, 1079, 1304,   90,  989]),\n",
       "  tensor([ 0, 24]),\n",
       "  tensor([0.0222, 0.0444, 0.0222, 0.0222, 0.0667, 0.0222, 0.0222, 0.0222, 0.0444,\n",
       "          0.1556, 0.0222, 0.0222, 0.0222, 0.0667, 0.0222, 0.0444, 0.1111, 0.0222,\n",
       "          0.0222, 0.0444, 0.0222, 0.0444, 0.0444, 0.0444, 0.0263, 0.0263, 0.0526,\n",
       "          0.1316, 0.0789, 0.0263, 0.0526, 0.0526, 0.0789, 0.0789, 0.0263, 0.0263,\n",
       "          0.0263, 0.0263, 0.0263, 0.0789, 0.1842])),\n",
       " (tensor([1027, 1796,  271, 1553, 2962, 3478, 2966, 1177,  153, 1309,  671, 3488,\n",
       "           291, 3619, 2347,  688, 2224, 3379, 2869,  953, 2628, 3782, 1734, 4053,\n",
       "          3158, 3676, 1759, 2401, 2020, 1125, 1256, 3817,  234, 1007,  880, 3441,\n",
       "          1393, 2802, 2929, 1141, 2421, 4087,  893,  638, 1281, 2181, 1542,  777,\n",
       "           910,  145, 2716, 2465, 1315, 2726, 2088,  812, 2097, 3633,  309, 2487,\n",
       "           577, 1476, 2629, 2118, 1486, 3160,  473, 2140, 2271, 2663, 3176,  743,\n",
       "          4075,  622,  760, 2172,  510]),\n",
       "  tensor([ 0, 44]),\n",
       "  tensor([0.0227, 0.0227, 0.0227, 0.0227, 0.0227, 0.0227, 0.0227, 0.0227, 0.0227,\n",
       "          0.0227, 0.0227, 0.0227, 0.0227, 0.0227, 0.0227, 0.0227, 0.0227, 0.0227,\n",
       "          0.0227, 0.0227, 0.0227, 0.0227, 0.0227, 0.0227, 0.0227, 0.0227, 0.0227,\n",
       "          0.0227, 0.0227, 0.0227, 0.0227, 0.0227, 0.0227, 0.0227, 0.0227, 0.0227,\n",
       "          0.0227, 0.0227, 0.0227, 0.0227, 0.0227, 0.0227, 0.0227, 0.0227, 0.0270,\n",
       "          0.0541, 0.0270, 0.0270, 0.0270, 0.0270, 0.0270, 0.0270, 0.0270, 0.0270,\n",
       "          0.0270, 0.0270, 0.0270, 0.0270, 0.0541, 0.0270, 0.0541, 0.0270, 0.0270,\n",
       "          0.0541, 0.0270, 0.0270, 0.0270, 0.0270, 0.0270, 0.0270, 0.0270, 0.0270,\n",
       "          0.0270, 0.0270, 0.0270, 0.0270, 0.0270])),\n",
       " (tensor([ 509, 3716, 1925,  519, 3983,  528, 3477, 1558,   23, 1560, 3739,  162,\n",
       "          2852, 3750,  424,  427, 1836, 2992,  304, 1334, 3319, 2366, 2498, 1475,\n",
       "           325, 3703, 2761,  714, 3019,  970, 3538, 1108, 2262,  346, 3419, 3292,\n",
       "          2526, 3304,  114,  757, 3959,  637, 1790, 3842,  903, 1162,  275,   21,\n",
       "          3095, 3739, 1439, 2724, 2297, 3754, 3115, 3632, 3520, 3009, 3777, 3780,\n",
       "           325, 1734, 1354, 4051, 3415, 1502, 2783, 3935, 1122,  866, 3684, 2662,\n",
       "          1127, 1515, 1260, 1773, 3061, 1401]),\n",
       "  tensor([ 0, 43]),\n",
       "  tensor([0.0233, 0.0233, 0.0233, 0.0233, 0.0233, 0.0233, 0.0233, 0.0233, 0.0233,\n",
       "          0.0233, 0.0233, 0.0233, 0.0233, 0.0233, 0.0233, 0.0233, 0.0233, 0.0233,\n",
       "          0.0233, 0.0233, 0.0233, 0.0233, 0.0233, 0.0233, 0.0233, 0.0233, 0.0233,\n",
       "          0.0233, 0.0233, 0.0233, 0.0233, 0.0233, 0.0233, 0.0233, 0.0233, 0.0233,\n",
       "          0.0233, 0.0233, 0.0233, 0.0233, 0.0233, 0.0233, 0.0233, 0.0278, 0.0278,\n",
       "          0.0278, 0.0278, 0.0278, 0.0278, 0.0278, 0.0278, 0.0278, 0.0278, 0.0278,\n",
       "          0.0278, 0.0278, 0.0278, 0.0278, 0.0278, 0.0278, 0.0278, 0.0278, 0.0556,\n",
       "          0.0278, 0.0278, 0.0278, 0.0278, 0.0278, 0.0278, 0.0278, 0.0278, 0.0278,\n",
       "          0.0278, 0.0278, 0.0278, 0.0278, 0.0278, 0.0278])))"
      ]
     },
     "execution_count": 39,
     "metadata": {},
     "output_type": "execute_result"
    }
   ],
   "source": [
    "unigr, bigr, trigr = batch_generator(X_train_idx[:2], X_train_freqs[:2])\n",
    "unigr, bigr, trigr"
   ]
  },
  {
   "cell_type": "markdown",
   "metadata": {},
   "source": [
    "## The model"
   ]
  },
  {
   "cell_type": "code",
   "execution_count": 40,
   "metadata": {},
   "outputs": [],
   "source": [
    "class ModelEmbeddingLR(nn.Module):\n",
    "    def __init__(self): \n",
    "        super().__init__()\n",
    "        self.embed_uni = nn.EmbeddingBag(MAX_CHARS, EMBEDDING_DIM_UNI, mode='sum')\n",
    "        self.embed_bi = nn.EmbeddingBag(MAX_BIGRAMS, EMBEDDING_DIM_BI, mode='sum')\n",
    "        self.embed_tri = nn.EmbeddingBag(MAX_TRIGRAMS, EMBEDDING_DIM_TRI, mode='sum')\n",
    "\n",
    "        self.fc_uni = nn.Linear(EMBEDDING_DIM_UNI, len(langs))\n",
    "        self.fc_bi = nn.Linear(EMBEDDING_DIM_BI, len(langs))\n",
    "        self.fc_tri = nn.Linear(EMBEDDING_DIM_TRI, len(langs))\n",
    "        \n",
    "    def forward(self, bags_uni, bags_bi, bags_tri):\n",
    "        X_uni = self.embed_uni(bags_uni[0], bags_uni[1], bags_uni[2]) # unigr_idx, unigr_offsets, unigr_freqs\n",
    "        X_bi = self.embed_bi(bags_bi[0], bags_bi[1], bags_bi[2])      # bigr_idx, bigr_offsets, bigr_freqs\n",
    "        X_tri = self.embed_tri(bags_tri[0], bags_tri[1], bags_tri[2]) # trigr_idx, trigr_offsets, trigr_freqs\n",
    "        X = self.fc_uni(X_uni) + self.fc_bi(X_bi) + self.fc_tri(X_tri)\n",
    "        return X"
   ]
  },
  {
   "cell_type": "code",
   "execution_count": 41,
   "metadata": {},
   "outputs": [],
   "source": [
    "class ModelEmbeddingNN(nn.Module):\n",
    "    def __init__(self): \n",
    "        super().__init__()\n",
    "        self.embed_uni = nn.EmbeddingBag(MAX_CHARS, EMBEDDING_DIM_UNI, mode='sum')\n",
    "        self.embed_bi = nn.EmbeddingBag(MAX_BIGRAMS, EMBEDDING_DIM_BI, mode='sum')\n",
    "        self.embed_tri = nn.EmbeddingBag(MAX_TRIGRAMS, EMBEDDING_DIM_TRI, mode='sum')\n",
    "\n",
    "        self.fc1_uni = nn.Linear(EMBEDDING_DIM_UNI, EMBEDDING_DIM)\n",
    "        self.fc1_bi = nn.Linear(EMBEDDING_DIM_BI, EMBEDDING_DIM)\n",
    "        self.fc1_tri = nn.Linear(EMBEDDING_DIM_TRI, EMBEDDING_DIM)\n",
    "        self.fc2 = nn.Linear(EMBEDDING_DIM, len(langs))\n",
    "        \n",
    "    def forward(self, bags_uni, bags_bi, bags_tri):\n",
    "        X_uni = self.embed_uni(bags_uni[0], bags_uni[1], bags_uni[2]) # unigr_idx, unigr_offsets, unigr_freqs\n",
    "        X_bi = self.embed_bi(bags_bi[0], bags_bi[1], bags_bi[2])      # bigr_idx, bigr_offsets, bigr_freqs\n",
    "        X_tri = self.embed_tri(bags_tri[0], bags_tri[1], bags_tri[2]) # trigr_idx, trigr_offsets, trigr_freqs\n",
    "        X = self.fc1_uni(X_uni) + self.fc1_bi(X_bi) + self.fc1_tri(X_tri)\n",
    "        X = torch.relu(X)\n",
    "        X = self.fc2(X)\n",
    "        return X"
   ]
  },
  {
   "cell_type": "code",
   "execution_count": 42,
   "metadata": {},
   "outputs": [],
   "source": [
    "if HIDDEN_LAYER:\n",
    "    model = ModelEmbeddingNN()\n",
    "else:\n",
    "    model = ModelEmbeddingLR()"
   ]
  },
  {
   "cell_type": "markdown",
   "metadata": {},
   "source": [
    "We set the loss and the optimizer"
   ]
  },
  {
   "cell_type": "code",
   "execution_count": 43,
   "metadata": {},
   "outputs": [],
   "source": [
    "loss_fn = nn.CrossEntropyLoss()    # cross entropy loss\n",
    "optimizer = torch.optim.NAdam(model.parameters(), lr=0.01)"
   ]
  },
  {
   "cell_type": "markdown",
   "metadata": {},
   "source": [
    "## Training the classifier"
   ]
  },
  {
   "cell_type": "markdown",
   "metadata": {},
   "source": [
    "### Mini-batch gradient descent"
   ]
  },
  {
   "cell_type": "code",
   "execution_count": 44,
   "metadata": {},
   "outputs": [
    {
     "name": "stderr",
     "output_type": "stream",
     "text": [
      "100%|██████████| 10/10 [13:23<00:00, 80.31s/it]\n"
     ]
    }
   ],
   "source": [
    "loss_train_history = []\n",
    "acc_train_history = []\n",
    "loss_val_history = []\n",
    "acc_val_history = []\n",
    "\n",
    "for epoch in tqdm(range(EPOCHS)):\n",
    "    loss_train = 0\n",
    "    acc = 0\n",
    "    cnt = 0\n",
    "    model.train()\n",
    "    n_indices = list(range(0, len(X_train_idx), BATCH_SIZE))\n",
    "    random.shuffle(n_indices) # Check if there is a PyTorch equivalent\n",
    "    for i in n_indices:\n",
    "        X_train_bags_idx, X_train_bags_offsets, X_train_bags_freqs = batch_generator(X_train_idx[i:i + BATCH_SIZE], X_train_freqs[i:i + BATCH_SIZE])\n",
    "        y_true = y_train[i:i + BATCH_SIZE]\n",
    "        y_pred = model(X_train_bags_idx, X_train_bags_offsets, X_train_bags_freqs)\n",
    "        loss = loss_fn(y_pred, y_true)\n",
    "        optimizer.zero_grad()\n",
    "        loss.backward()\n",
    "        optimizer.step()\n",
    "    \n",
    "    model.eval()\n",
    "    X_val_bags_idx, X_val_bags_offsets, X_val_bags_freqs = batch_generator(X_val_idx, X_val_freqs)\n",
    "    Y_val_pred = model(X_val_bags_idx, X_val_bags_offsets, X_val_bags_freqs)\n",
    "    \n",
    "    loss_val = loss_fn(Y_val_pred, y_val)\n",
    "    loss_val_history += [loss_val.item()]\n",
    "\n",
    "    y_val_pred = torch.argmax(Y_val_pred, dim=-1)\n",
    "    acc_val = torch.sum(y_val == y_val_pred)/y_val.size()[0]\n",
    "    acc_val_history += [acc_val]"
   ]
  },
  {
   "cell_type": "markdown",
   "metadata": {},
   "source": [
    "## Visualization"
   ]
  },
  {
   "cell_type": "markdown",
   "metadata": {},
   "source": [
    "We plot the loss"
   ]
  },
  {
   "cell_type": "code",
   "execution_count": 45,
   "metadata": {},
   "outputs": [
    {
     "data": {
      "image/png": "[encoded data removed]",
      "text/plain": [
       "<Figure size 640x480 with 1 Axes>"
      ]
     },
     "metadata": {},
     "output_type": "display_data"
    }
   ],
   "source": [
    "import matplotlib.pyplot as plt\n",
    "\n",
    "epochs = range(1, len(acc_val_history) + 1)\n",
    "plt.plot(epochs, acc_val_history, 'bo', label='Validation accuracy')\n",
    "plt.title('Validation accuracy')\n",
    "plt.legend()\n",
    "plt.show()"
   ]
  },
  {
   "cell_type": "code",
   "execution_count": 46,
   "metadata": {},
   "outputs": [
    {
     "data": {
      "image/png": "[encoded data removed]",
      "text/plain": [
       "<Figure size 640x480 with 1 Axes>"
      ]
     },
     "metadata": {},
     "output_type": "display_data"
    }
   ],
   "source": [
    "epochs = range(1, len(loss_val_history) + 1)\n",
    "plt.plot(epochs, loss_val_history, 'rx', label='Validation loss')\n",
    "plt.title('Validation loss')\n",
    "plt.legend()\n",
    "plt.show()"
   ]
  },
  {
   "cell_type": "markdown",
   "metadata": {},
   "source": [
    "## Evaluation"
   ]
  },
  {
   "cell_type": "markdown",
   "metadata": {},
   "source": [
    "### Validation set"
   ]
  },
  {
   "cell_type": "code",
   "execution_count": 47,
   "metadata": {},
   "outputs": [],
   "source": [
    "model.eval()\n",
    "X_val_bags_idx, X_val_bags_offsets, X_val_bags_freqs = batch_generator(X_val_idx, X_val_freqs)\n",
    "y_val_pred = torch.argmax(model(X_val_bags_idx, X_val_bags_offsets, X_val_bags_freqs), dim=-1)"
   ]
  },
  {
   "cell_type": "code",
   "execution_count": 48,
   "metadata": {},
   "outputs": [
    {
     "data": {
      "text/plain": [
       "tensor([15, 36, 19, 18, 28, 19, 11, 14, 32,  3])"
      ]
     },
     "execution_count": 48,
     "metadata": {},
     "output_type": "execute_result"
    }
   ],
   "source": [
    "y_val_pred[:10]"
   ]
  },
  {
   "cell_type": "code",
   "execution_count": 49,
   "metadata": {},
   "outputs": [
    {
     "name": "stdout",
     "output_type": "stream",
     "text": [
      "              precision    recall  f1-score   support\n",
      "\n",
      "         ara     0.9946    0.9946    0.9946      1479\n",
      "         ber     0.8044    0.7959    0.8001      1529\n",
      "         bul     0.9452    0.9299    0.9375      1484\n",
      "         ces     0.9860    0.9880    0.9870      1497\n",
      "         cmn     0.9959    0.9966    0.9963      1475\n",
      "         dan     0.9760    0.9701    0.9730      1507\n",
      "         deu     0.9886    0.9892    0.9889      1484\n",
      "         ell     1.0000    1.0000    1.0000      1511\n",
      "         eng     0.9870    0.9775    0.9823      1557\n",
      "         epo     0.9880    0.9862    0.9871      1590\n",
      "         fin     0.9855    0.9869    0.9862      1446\n",
      "         fra     0.9881    0.9836    0.9859      1525\n",
      "         hau     0.9879    0.9932    0.9906      1479\n",
      "         heb     1.0000    0.9993    0.9997      1480\n",
      "         hun     0.9916    0.9846    0.9881      1562\n",
      "         ina     0.9582    0.9595    0.9589      1458\n",
      "         ita     0.9686    0.9726    0.9706      1461\n",
      "         jpn     0.9987    0.9973    0.9980      1493\n",
      "         kab     0.8047    0.8053    0.8050      1561\n",
      "         lat     0.9588    0.9724    0.9655      1483\n",
      "         lfn     0.9706    0.9553    0.9629      1520\n",
      "         lit     0.9945    0.9932    0.9938      1464\n",
      "         mar     1.0000    1.0000    1.0000      1505\n",
      "         mkd     0.9255    0.9355    0.9305      1488\n",
      "         nld     0.9760    0.9819    0.9790      1494\n",
      "         pes     0.9955    0.9942    0.9948      1549\n",
      "         pol     0.9877    0.9935    0.9906      1540\n",
      "         por     0.9775    0.9685    0.9730      1525\n",
      "         ron     0.9798    0.9818    0.9808      1485\n",
      "         rus     0.9580    0.9766    0.9672      1493\n",
      "         spa     0.9528    0.9635    0.9581      1424\n",
      "         srp     0.9274    0.9378    0.9326      1512\n",
      "         swc     0.9876    0.9842    0.9859      1454\n",
      "         swe     0.9752    0.9701    0.9726      1538\n",
      "         tlh     0.9908    0.9941    0.9924      1514\n",
      "         tok     0.9967    0.9993    0.9980      1510\n",
      "         tur     0.9918    0.9932    0.9925      1470\n",
      "         ukr     0.9827    0.9717    0.9772      1519\n",
      "         vie     0.9940    0.9973    0.9956      1487\n",
      "\n",
      "    accuracy                         0.9709     58552\n",
      "   macro avg     0.9711    0.9711    0.9711     58552\n",
      "weighted avg     0.9709    0.9709    0.9709     58552\n",
      "\n"
     ]
    }
   ],
   "source": [
    "print(classification_report(y_val, y_val_pred, target_names=langs, digits=4))"
   ]
  },
  {
   "cell_type": "code",
   "execution_count": 50,
   "metadata": {},
   "outputs": [
    {
     "name": "stdout",
     "output_type": "stream",
     "text": [
      "[[1471    0    0 ...    0    0    0]\n",
      " [   0 1217    0 ...    0    0    2]\n",
      " [   0    0 1380 ...    1    6    0]\n",
      " ...\n",
      " [   0    0    0 ... 1460    0    0]\n",
      " [   0    0    4 ...    0 1476    1]\n",
      " [   0    0    1 ...    0    0 1483]]\n"
     ]
    }
   ],
   "source": [
    "print(confusion_matrix(y_val, y_val_pred))"
   ]
  },
  {
   "cell_type": "markdown",
   "metadata": {},
   "source": [
    "## Applying the Detector"
   ]
  },
  {
   "cell_type": "code",
   "execution_count": 51,
   "metadata": {},
   "outputs": [],
   "source": [
    "def encode(text: str, MAXES):\n",
    "    hashvals = ngrams2hashvals(all_ngrams(text), MAXES)\n",
    "    hash2freqs_l = list(map(rel_freqs, hashvals))\n",
    "    bags = ngrams_bags(hash2freqs_l)\n",
    "    return batch_generator([bags[0]], [bags[1]])"
   ]
  },
  {
   "cell_type": "code",
   "execution_count": 52,
   "metadata": {},
   "outputs": [],
   "source": [
    "test_sents = ['Groovin\\' on a Sunday afternoon',\n",
    "'La Folle Complainte', \n",
    "'Vent\\'anni o poco più', \n",
    "'Tous les garçons et les filles',\n",
    "'Mambo italiano']"
   ]
  },
  {
   "cell_type": "code",
   "execution_count": 53,
   "metadata": {},
   "outputs": [
    {
     "name": "stdout",
     "output_type": "stream",
     "text": [
      "Groovin' on a Sunday afternoon -> eng\n",
      "La Folle Complainte -> fra\n",
      "Vent'anni o poco più -> ita\n",
      "Tous les garçons et les filles -> fra\n",
      "Mambo italiano -> swc\n"
     ]
    }
   ],
   "source": [
    "for sent in test_sents:\n",
    "    bags = encode(sent, MAXES)\n",
    "    print(sent, '->', idx2lang[torch.argmax(model(bags[0], bags[1], bags[2]), dim=-1).item()])"
   ]
  },
  {
   "cell_type": "markdown",
   "metadata": {},
   "source": []
  }
 ],
 "metadata": {
  "kernelspec": {
   "display_name": "Python 3.9.13 ('base')",
   "language": "python",
   "name": "python3"
  },
  "language_info": {
   "codemirror_mode": {
    "name": "ipython",
    "version": 3
   },
   "file_extension": ".py",
   "mimetype": "text/x-python",
   "name": "python",
   "nbconvert_exporter": "python",
   "pygments_lexer": "ipython3",
   "version": "3.9.15"
  },
  "orig_nbformat": 4,
  "vscode": {
   "interpreter": {
    "hash": "b97b11a820675205aae8f1d7f2a3f22bbd3a2c30189f44042310baf5b4cd1987"
   }
  }
 },
 "nbformat": 4,
 "nbformat_minor": 2
}
