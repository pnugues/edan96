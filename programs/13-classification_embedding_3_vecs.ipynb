{
 "cells": [
  {
   "cell_type": "markdown",
   "metadata": {},
   "source": [
    "# Classification: Language Detection\n",
    "\n",
    "Authors: Pierre Nugues and Marcus Klang"
   ]
  },
  {
   "cell_type": "markdown",
   "metadata": {},
   "source": [
    "Reimplementation of Google's _Compact language detector_ (CLD3) from a high-level description. Read the description here: https://github.com/google/cld3\n",
    "\n",
    "The model has three different embeddings as first layer"
   ]
  },
  {
   "cell_type": "markdown",
   "metadata": {},
   "source": [
    "## Overview"
   ]
  },
  {
   "cell_type": "markdown",
   "metadata": {},
   "source": [
    "Your classifier will read a short text, typically a few words or a sentence, and output the probability for all languages observed during training. The text will have a variable length and will be encoded as a Unicode string.\n",
    "\n",
    "As dataset to train your models, you will use [Tatoeba](https://tatoeba.org/sv/), a collaborative, open, and free collection of sentences and translations. "
   ]
  },
  {
   "cell_type": "markdown",
   "metadata": {},
   "source": [
    "You will break down the task into four steps:\n",
    "    \n",
    "  1. Data processing, converting the data into a machine-learnable representation\n",
    "  2. Try and evaluate a simple model, logistic regression. This will be your baseline.\n",
    "  3. Try and evaluate a deeper model inspired by Google's compact language detector, CLD3.\n",
    "  4. CLD3 includes an embedding vectorization. This last part is left as an optional exercise."
   ]
  },
  {
   "cell_type": "markdown",
   "metadata": {},
   "source": [
    "### The Model: CLD3"
   ]
  },
  {
   "cell_type": "markdown",
   "metadata": {},
   "source": [
    "CLD3 has three major characteristics:\n",
    "\n",
    "   * It uses **$n$-grams** and splits an input text like _banana_ into three feature vectors that include:\n",
    "       + Each unique character, unigrams ($n=1$)\n",
    "       + Each unique pair of characters obtained from a sliding window of size 2, bigrams ($n=2$)\n",
    "       + Each unique triple of characters obtained from a sliding window of size 3, trigrams ($n=3$)\n",
    "       + These feature sets map to a set of indices (integer value).\n",
    "   \n",
    "   * It **hashes each symbol** i.e. it encrypts the $n$-gram into a fixed range integer.\n",
    "       + This way of mapping features to indices is called feature hashing or the *hashing trick*\n",
    "       + It reduces the number of symbols.\n",
    "       + Constant memory requirements, depends on the hash function -- commonly only a few constants.\n",
    "       + It is an approximate method as collisions can and will occur. Adjusting the size of the feature space i.e. the number of features to hash to, the collision probability can be reduced.\n",
    "   \n",
    "   * For each value of $n$, 1, 2, and 3, CLD3 computes the relative frequencies of the $n$-grams and **use them as weights**. See the figure below.\n",
    "       + The model can map the input indices to embedding vectors (this part is optional)\n",
    "       + It then computes the **weighted average** of the embeddings (this part is optional)\n",
    "       + The model learns the embeddings during training (also optional)\n",
    "       \n",
    "The figure below shows the final architecture."
   ]
  },
  {
   "cell_type": "markdown",
   "metadata": {},
   "source": [
    "![Model overview](https://raw.githubusercontent.com/google/cld3/master/model.png)\n",
    "Image source: https://github.com/google/cld3"
   ]
  },
  {
   "cell_type": "markdown",
   "metadata": {},
   "source": [
    "## Dataset: Tatoeba"
   ]
  },
  {
   "cell_type": "markdown",
   "metadata": {},
   "source": [
    "Your instructors have downsampled Tatoeba to reduce training times and guarantee that all the students have the same datasets.\n",
    "* Link to datasets: https://github.com/pnugues/edan96/tree/main/classification%20lab\n",
    "* Link to preprocessing notebook: https://github.com/pnugues/edan96/blob/main/programs/5-tatoeba_eda_select.ipynb\n",
    "\n",
    "You are only required to process the small dataset. The larger one may take take and be difficult to process on small computers."
   ]
  },
  {
   "cell_type": "markdown",
   "metadata": {},
   "source": [
    "## Preliminaries"
   ]
  },
  {
   "cell_type": "code",
   "execution_count": 1,
   "metadata": {},
   "outputs": [],
   "source": [
    "import random\n",
    "import hashlib\n",
    "from collections import Counter\n",
    "from tqdm import tqdm\n",
    "\n",
    "import torch\n",
    "from torch import nn\n",
    "from torch.utils.data import TensorDataset, DataLoader\n",
    "\n",
    "from sklearn.metrics import classification_report, confusion_matrix\n",
    "\n",
    "from typing import List, Dict"
   ]
  },
  {
   "cell_type": "code",
   "execution_count": 2,
   "metadata": {},
   "outputs": [
    {
     "data": {
      "text/plain": [
       "<torch._C.Generator at 0x7f9cd8c985d0>"
      ]
     },
     "execution_count": 2,
     "metadata": {},
     "output_type": "execute_result"
    }
   ],
   "source": [
    "random.seed(4321)\n",
    "torch.manual_seed(4321)"
   ]
  },
  {
   "cell_type": "markdown",
   "metadata": {},
   "source": [
    "## Reading the Dataset"
   ]
  },
  {
   "cell_type": "code",
   "execution_count": 3,
   "metadata": {},
   "outputs": [],
   "source": [
    "FILENAME_TRAIN = 'train.tsv'\n",
    "FILENAME_VAL = 'val.tsv'\n",
    "FILENAME_TEST = 'test.tsv'"
   ]
  },
  {
   "cell_type": "code",
   "execution_count": 4,
   "metadata": {},
   "outputs": [],
   "source": [
    "SMALL_DATASET_PATH = 'small_dataset'\n",
    "LARGE_DATASET_PATH = 'large_dataset'"
   ]
  },
  {
   "cell_type": "markdown",
   "metadata": {},
   "source": [
    "## Settings\n",
    "You have here the most significant settings"
   ]
  },
  {
   "cell_type": "code",
   "execution_count": 5,
   "metadata": {},
   "outputs": [],
   "source": [
    "LARGE_DATASET = False # Use the small or large dataset\n",
    "REL_FREQ = True # How we represent the n-grams in the input vector: with their relative frequency or with a 1 (NOT USED)"
   ]
  },
  {
   "cell_type": "code",
   "execution_count": 6,
   "metadata": {},
   "outputs": [],
   "source": [
    "HIDDEN_LAYER = False  # Neural network with one hidden layer or logistic regression\n",
    "EPOCHS = 10 # Number of epochs\n",
    "BATCH_SIZE = 128 # How many examples we will use for an update in the gradient descent\n",
    "EMBEDDING_DIM = 64\n",
    "EMBEDDING_DIM_UNI = 32\n",
    "EMBEDDING_DIM_BI = 64\n",
    "EMBEDDING_DIM_TRI = 64"
   ]
  },
  {
   "cell_type": "code",
   "execution_count": 7,
   "metadata": {},
   "outputs": [],
   "source": [
    "if LARGE_DATASET:\n",
    "    dataset_path = LARGE_DATASET_PATH\n",
    "else:\n",
    "    dataset_path = SMALL_DATASET_PATH\n",
    "    \n",
    "FILE_TRAIN = dataset_path + '/' + FILENAME_TRAIN\n",
    "FILE_VAL = dataset_path + '/' + FILENAME_VAL\n",
    "FILE_TEST = dataset_path + '/' + FILENAME_TEST"
   ]
  },
  {
   "cell_type": "markdown",
   "metadata": {},
   "source": [
    "We create a generator to read the datasets"
   ]
  },
  {
   "cell_type": "code",
   "execution_count": 8,
   "metadata": {},
   "outputs": [],
   "source": [
    "def file_reader(file: str):\n",
    "    with open(file, encoding='utf8', errors='ignore') as f:\n",
    "        for line in f:\n",
    "            row = line.strip()\n",
    "            yield tuple(row.split('\\t'))"
   ]
  },
  {
   "cell_type": "code",
   "execution_count": 9,
   "metadata": {},
   "outputs": [],
   "source": [
    "line_generator = file_reader(FILE_TRAIN)"
   ]
  },
  {
   "cell_type": "markdown",
   "metadata": {},
   "source": [
    "And we count the sentences per language"
   ]
  },
  {
   "cell_type": "code",
   "execution_count": 10,
   "metadata": {},
   "outputs": [],
   "source": [
    "lang_freqs = Counter(map(lambda x: x[1], line_generator))"
   ]
  },
  {
   "cell_type": "code",
   "execution_count": 11,
   "metadata": {},
   "outputs": [
    {
     "data": {
      "text/plain": [
       "[('rus', 886),\n",
       " ('mkd', 876),\n",
       " ('eng', 873),\n",
       " ('lat', 854),\n",
       " ('swc', 847),\n",
       " ('tur', 844),\n",
       " ('tlh', 843),\n",
       " ('hun', 838),\n",
       " ('vie', 832),\n",
       " ('epo', 830),\n",
       " ('jpn', 830),\n",
       " ('nld', 826),\n",
       " ('lfn', 824),\n",
       " ('deu', 821),\n",
       " ('ces', 814)]"
      ]
     },
     "execution_count": 11,
     "metadata": {},
     "output_type": "execute_result"
    }
   ],
   "source": [
    "lang_freqs.most_common(15)"
   ]
  },
  {
   "cell_type": "code",
   "execution_count": 12,
   "metadata": {},
   "outputs": [
    {
     "data": {
      "text/plain": [
       "['ara', 'ber', 'bul', 'ces', 'cmn', 'dan', 'deu', 'ell', 'eng', 'epo']"
      ]
     },
     "execution_count": 12,
     "metadata": {},
     "output_type": "execute_result"
    }
   ],
   "source": [
    "langs = sorted(list(set(lang_freqs.keys())))\n",
    "langs[:10]"
   ]
  },
  {
   "cell_type": "markdown",
   "metadata": {},
   "source": [
    "You will create an index of the languages of your dataset: Assign a number to each language. You will call it `idx2lang` and its type will be a dictionary."
   ]
  },
  {
   "cell_type": "code",
   "execution_count": 13,
   "metadata": {},
   "outputs": [],
   "source": [
    "idx2lang = {idx:lang for idx, lang in enumerate(langs)}"
   ]
  },
  {
   "cell_type": "code",
   "execution_count": 14,
   "metadata": {},
   "outputs": [
    {
     "data": {
      "text/plain": [
       "{0: 'ara',\n",
       " 1: 'ber',\n",
       " 2: 'bul',\n",
       " 3: 'ces',\n",
       " 4: 'cmn',\n",
       " 5: 'dan',\n",
       " 6: 'deu',\n",
       " 7: 'ell',\n",
       " 8: 'eng',\n",
       " 9: 'epo',\n",
       " 10: 'fin',\n",
       " 11: 'fra',\n",
       " 12: 'hau',\n",
       " 13: 'heb',\n",
       " 14: 'hun',\n",
       " 15: 'ina',\n",
       " 16: 'ita',\n",
       " 17: 'jpn',\n",
       " 18: 'kab',\n",
       " 19: 'lat',\n",
       " 20: 'lfn',\n",
       " 21: 'lit',\n",
       " 22: 'mar',\n",
       " 23: 'mkd',\n",
       " 24: 'nld',\n",
       " 25: 'pes',\n",
       " 26: 'pol',\n",
       " 27: 'por',\n",
       " 28: 'ron',\n",
       " 29: 'rus',\n",
       " 30: 'spa',\n",
       " 31: 'srp',\n",
       " 32: 'swc',\n",
       " 33: 'swe',\n",
       " 34: 'tlh',\n",
       " 35: 'tok',\n",
       " 36: 'tur',\n",
       " 37: 'ukr',\n",
       " 38: 'vie'}"
      ]
     },
     "execution_count": 14,
     "metadata": {},
     "output_type": "execute_result"
    }
   ],
   "source": [
    "idx2lang"
   ]
  },
  {
   "cell_type": "markdown",
   "metadata": {},
   "source": [
    "Write the reverted `lang2idx` index to convert languages to indices. It is also a dictionary"
   ]
  },
  {
   "cell_type": "code",
   "execution_count": 15,
   "metadata": {},
   "outputs": [],
   "source": [
    "lang2idx = {lang:idx for idx, lang in idx2lang.items()}"
   ]
  },
  {
   "cell_type": "code",
   "execution_count": 16,
   "metadata": {},
   "outputs": [
    {
     "data": {
      "text/plain": [
       "{'ara': 0,\n",
       " 'ber': 1,\n",
       " 'bul': 2,\n",
       " 'ces': 3,\n",
       " 'cmn': 4,\n",
       " 'dan': 5,\n",
       " 'deu': 6,\n",
       " 'ell': 7,\n",
       " 'eng': 8,\n",
       " 'epo': 9,\n",
       " 'fin': 10,\n",
       " 'fra': 11,\n",
       " 'hau': 12,\n",
       " 'heb': 13,\n",
       " 'hun': 14,\n",
       " 'ina': 15,\n",
       " 'ita': 16,\n",
       " 'jpn': 17,\n",
       " 'kab': 18,\n",
       " 'lat': 19,\n",
       " 'lfn': 20,\n",
       " 'lit': 21,\n",
       " 'mar': 22,\n",
       " 'mkd': 23,\n",
       " 'nld': 24,\n",
       " 'pes': 25,\n",
       " 'pol': 26,\n",
       " 'por': 27,\n",
       " 'ron': 28,\n",
       " 'rus': 29,\n",
       " 'spa': 30,\n",
       " 'srp': 31,\n",
       " 'swc': 32,\n",
       " 'swe': 33,\n",
       " 'tlh': 34,\n",
       " 'tok': 35,\n",
       " 'tur': 36,\n",
       " 'ukr': 37,\n",
       " 'vie': 38}"
      ]
     },
     "execution_count": 16,
     "metadata": {},
     "output_type": "execute_result"
    }
   ],
   "source": [
    "lang2idx"
   ]
  },
  {
   "cell_type": "markdown",
   "metadata": {},
   "source": [
    "## Data processing — convert the sentences into feature vectors"
   ]
  },
  {
   "cell_type": "markdown",
   "metadata": {},
   "source": [
    "For the context of this program, a feature is a string of 1 to 3 characters. \n",
    "In natural language processing, they are called $n$-grams as they can have a varying size and are created from a sliding window.\n",
    "\n",
    "Common sizes of $n$ have names unigrams ($n$=1), bigrams ($n$=2), and trigrams ($n$=3))\n",
    "\n",
    "To serve as input, we have to convert these $n$-grams to numbers. There are two common ways to encode features into indices:\n",
    " * Mapping each symbol to an index\n",
    "    + Exact and precise\n",
    "    + Can have high memory requirements with vast feature spaces as each known feature must be stored and be assigned a unique index.\n",
    "    + Slow, you need to precompute your feature space, convert the incoming data to an index and retain the mapping in memory at all times.\n",
    " * Hashing trick: hash the feature into a index\n",
    "    + Supports an arbitrary number of features with the caveat of collisions.\n",
    "    + Constant memory requirements\n",
    "    + Fast, any feature even an unknown one can be converted into a feature index\n",
    "    + However, if the feature space is too small, features will have many collisions. You have then to choose a good hash function and a feature space that is big enough\n",
    "    \n",
    "We will use the [hashing trick](https://en.wikipedia.org/wiki/Feature_hashing). In Python, `hash` is a function that converts any supported object into a number (hash code) but it is not reproducible across the sessions - it changes each time the interpreter is started.\n",
    "We have therefore provided a new function `reproducible_hash` that hashes a string but in a reproducible way.\n",
    "\n",
    "The number returned by `reproducible_hash` is big and needs to be converted into a limited space. This can be done with the use of the remainder of an integer division, the [modulo](https://en.wikipedia.org/wiki/Modulo_operation)."
   ]
  },
  {
   "cell_type": "markdown",
   "metadata": {},
   "source": [
    "### Extracting $n$-grams"
   ]
  },
  {
   "cell_type": "markdown",
   "metadata": {},
   "source": [
    "Create an $n$-gram function that returns the $n$-grams of a string. The $n$ value will be passed as an argument. You will optionally set the string in lower case (`lc` argument)."
   ]
  },
  {
   "cell_type": "code",
   "execution_count": 17,
   "metadata": {},
   "outputs": [],
   "source": [
    "def ngrams(sentence: str, n: int =1, lc: bool =True) -> List[int]:\n",
    "    ngram_l = []\n",
    "    if lc:\n",
    "        sentence = sentence.lower()\n",
    "    for i in range(len(sentence) - n + 1):\n",
    "        ngram_l += [sentence[i:i+n]]\n",
    "    return ngram_l"
   ]
  },
  {
   "cell_type": "code",
   "execution_count": 18,
   "metadata": {},
   "outputs": [],
   "source": [
    "def all_ngrams(sentence: str, max_ngram: int =3, lc: bool =True) -> List[List[int]]:\n",
    "    all_ngram_list = []\n",
    "    for i in range(1, max_ngram + 1):\n",
    "        all_ngram_list += [ngrams(sentence, n=i, lc=lc)]\n",
    "    return all_ngram_list"
   ]
  },
  {
   "cell_type": "code",
   "execution_count": 19,
   "metadata": {},
   "outputs": [
    {
     "data": {
      "text/plain": [
       "[['b', 'a', 'n', 'a', 'n', 'a'],\n",
       " ['ba', 'an', 'na', 'an', 'na'],\n",
       " ['ban', 'ana', 'nan', 'ana']]"
      ]
     },
     "execution_count": 19,
     "metadata": {},
     "output_type": "execute_result"
    }
   ],
   "source": [
    "all_ngrams('banana')"
   ]
  },
  {
   "cell_type": "markdown",
   "metadata": {},
   "source": [
    "### Limiting the $n$-grams numbers"
   ]
  },
  {
   "cell_type": "markdown",
   "metadata": {},
   "source": [
    "We set the modulos"
   ]
  },
  {
   "cell_type": "code",
   "execution_count": 20,
   "metadata": {},
   "outputs": [],
   "source": [
    "if LARGE_DATASET:\n",
    "    MAX_CHARS = 2053\n",
    "    MAX_BIGRAMS = 4099\n",
    "    MAX_TRIGRAMS = 4099  #8192\n",
    "else:\n",
    "    MAX_CHARS = 521\n",
    "    MAX_BIGRAMS = 1031\n",
    "    MAX_TRIGRAMS = 1031 "
   ]
  },
  {
   "cell_type": "code",
   "execution_count": 21,
   "metadata": {},
   "outputs": [
    {
     "data": {
      "text/plain": [
       "2583"
      ]
     },
     "execution_count": 21,
     "metadata": {},
     "output_type": "execute_result"
    }
   ],
   "source": [
    "NUM_FEATURES = MAX_CHARS + MAX_BIGRAMS + MAX_TRIGRAMS\n",
    "NUM_FEATURES"
   ]
  },
  {
   "cell_type": "markdown",
   "metadata": {},
   "source": [
    "### Hash Codes"
   ]
  },
  {
   "cell_type": "code",
   "execution_count": 22,
   "metadata": {},
   "outputs": [],
   "source": [
    "def reproducible_hash(string: str) -> int:\n",
    "    \"\"\"\n",
    "    reproducible hash on any string\n",
    "    \n",
    "    Arguments:\n",
    "       string: python string object\n",
    "    \n",
    "    Returns:\n",
    "       signed int64\n",
    "    \"\"\"\n",
    "    \n",
    "    # We are using MD5 for speed not security.\n",
    "    h = hashlib.md5(string.encode(\"utf-8\"), usedforsecurity=False)\n",
    "    return int.from_bytes(h.digest()[0:8], 'big', signed=True)"
   ]
  },
  {
   "cell_type": "code",
   "execution_count": 23,
   "metadata": {},
   "outputs": [
    {
     "data": {
      "text/plain": [
       "[487, 876, 246, 876]"
      ]
     },
     "execution_count": 23,
     "metadata": {},
     "output_type": "execute_result"
    }
   ],
   "source": [
    "[reproducible_hash(x) % MAX_TRIGRAMS for x in all_ngrams('banana')[2]]"
   ]
  },
  {
   "cell_type": "code",
   "execution_count": 24,
   "metadata": {},
   "outputs": [],
   "source": [
    "MAXES = [MAX_CHARS, MAX_BIGRAMS, MAX_TRIGRAMS]"
   ]
  },
  {
   "cell_type": "markdown",
   "metadata": {},
   "source": [
    "Create a `ngrams2hashvals` function that creates a list of hash codes from a list of $n$-grams. As arguments, you will have the list of $n$-grams as well as the list of dividers (`MAXES`). See the example below"
   ]
  },
  {
   "cell_type": "code",
   "execution_count": 25,
   "metadata": {},
   "outputs": [],
   "source": [
    "def ngrams2hashvals(ngrams: List[List[int]], modulos: List[int]) -> List[List[int]]:\n",
    "    hash_values = []\n",
    "    for ngram_l, modulo in zip(ngrams, modulos):\n",
    "        hash_values += [[reproducible_hash(x) % modulo for x in ngram_l]]\n",
    "    return hash_values"
   ]
  },
  {
   "cell_type": "code",
   "execution_count": 26,
   "metadata": {},
   "outputs": [
    {
     "data": {
      "text/plain": [
       "[[25, 234, 310, 234, 310, 234],\n",
       " [994, 649, 808, 649, 808],\n",
       " [487, 876, 246, 876]]"
      ]
     },
     "execution_count": 26,
     "metadata": {},
     "output_type": "execute_result"
    }
   ],
   "source": [
    "hashvals_banana = ngrams2hashvals(all_ngrams('banana'), MAXES)\n",
    "hashvals_banana"
   ]
  },
  {
   "cell_type": "markdown",
   "metadata": {},
   "source": [
    "### Hash codes relative frequencies\n",
    "CLD3 associates the $n$-gram hash codes with their relative frequencies in the text. See the example in Google CLD3 page.\n",
    "\n",
    "Create a `rel_freqs` function that computes the frequencies from lists of hash codes. The input will be a list of three lists of hash codes, for the unigrams, bigrams, and trigrams. The output will be a list of a three dictionaries, where the keys will be the $n$-gram hash codes and the values, the relative frequency. See example. "
   ]
  },
  {
   "cell_type": "code",
   "execution_count": 27,
   "metadata": {},
   "outputs": [],
   "source": [
    "def rel_freqs(lst: list) -> dict[int, float]:\n",
    "    return {ngram: lst.count(ngram)/len(lst) \n",
    "           for ngram in set(lst)}"
   ]
  },
  {
   "cell_type": "code",
   "execution_count": 28,
   "metadata": {},
   "outputs": [
    {
     "data": {
      "text/plain": [
       "[{25: 0.16666666666666666, 234: 0.5, 310: 0.3333333333333333},\n",
       " {808: 0.4, 649: 0.4, 994: 0.2},\n",
       " {876: 0.5, 246: 0.25, 487: 0.25}]"
      ]
     },
     "execution_count": 28,
     "metadata": {},
     "output_type": "execute_result"
    }
   ],
   "source": [
    "hash2freqs_banana = [rel_freqs(x) for x in hashvals_banana]\n",
    "hash2freqs_banana"
   ]
  },
  {
   "cell_type": "markdown",
   "metadata": {},
   "source": [
    "## Creating $X$ and $\\mathbf{y}$ tensors"
   ]
  },
  {
   "cell_type": "markdown",
   "metadata": {},
   "source": [
    "We create a function to read the files and return the language and the sentence. We create the $X$ and $\\mathbf{y}$ tensors from them."
   ]
  },
  {
   "cell_type": "code",
   "execution_count": 29,
   "metadata": {},
   "outputs": [],
   "source": [
    "def read_sent_lang(file: str):\n",
    "    with open(file, encoding='utf8', errors='ignore') as f:\n",
    "        for line in f:\n",
    "            row = line.strip()\n",
    "            lang_tuple = tuple(row.split('\\t'))\n",
    "            yield lang_tuple[2], lang_tuple[1]   "
   ]
  },
  {
   "cell_type": "markdown",
   "metadata": {},
   "source": [
    "The code below creates a $X$ and $\\mathbf{y}$ tensors. Note that $X$ is a matrix and $\\mathbf{y}$, a vector."
   ]
  },
  {
   "cell_type": "markdown",
   "metadata": {},
   "source": [
    "## Formatting the Input"
   ]
  },
  {
   "cell_type": "code",
   "execution_count": 30,
   "metadata": {},
   "outputs": [],
   "source": [
    "def ngrams_bags(hash2freqs: list[dict[int, float]]):\n",
    "    indices = []\n",
    "    freqs = []\n",
    "    for i, hash2freq in enumerate(hash2freqs):\n",
    "        indices += [list(hash2freq.keys())]\n",
    "        freqs += [list(hash2freq.values())]\n",
    "    n_gram_cnt = list(map(lambda x: len(x), hash2freqs))\n",
    "    offsets = []\n",
    "    for i in range(len(n_gram_cnt)):\n",
    "        offsets += [[0]]\n",
    "    return indices, offsets, freqs"
   ]
  },
  {
   "cell_type": "code",
   "execution_count": 31,
   "metadata": {},
   "outputs": [
    {
     "data": {
      "text/plain": [
       "[{25: 0.16666666666666666, 234: 0.5, 310: 0.3333333333333333},\n",
       " {808: 0.4, 649: 0.4, 994: 0.2},\n",
       " {876: 0.5, 246: 0.25, 487: 0.25}]"
      ]
     },
     "execution_count": 31,
     "metadata": {},
     "output_type": "execute_result"
    }
   ],
   "source": [
    "hash2freqs_banana"
   ]
  },
  {
   "cell_type": "code",
   "execution_count": 32,
   "metadata": {},
   "outputs": [
    {
     "data": {
      "text/plain": [
       "([[25, 234, 310], [808, 649, 994], [876, 246, 487]],\n",
       " [[0], [0], [0]],\n",
       " [[0.16666666666666666, 0.5, 0.3333333333333333],\n",
       "  [0.4, 0.4, 0.2],\n",
       "  [0.5, 0.25, 0.25]])"
      ]
     },
     "execution_count": 32,
     "metadata": {},
     "output_type": "execute_result"
    }
   ],
   "source": [
    "hash_idx_banana, offsets, values  = ngrams_bags(hash2freqs_banana)\n",
    "hash_idx_banana, offsets, values"
   ]
  },
  {
   "cell_type": "code",
   "execution_count": 33,
   "metadata": {},
   "outputs": [
    {
     "data": {
      "text/plain": [
       "tensor([[ 25, 234, 310],\n",
       "        [808, 649, 994],\n",
       "        [876, 246, 487]])"
      ]
     },
     "execution_count": 33,
     "metadata": {},
     "output_type": "execute_result"
    }
   ],
   "source": [
    "hash_idx_banana_t = torch.LongTensor(hash_idx_banana)\n",
    "hash_idx_banana_t"
   ]
  },
  {
   "cell_type": "code",
   "execution_count": 34,
   "metadata": {},
   "outputs": [],
   "source": [
    "def create_Xy_symb(file: str, lang2idx: dict[int, int], MAXES: list) -> tuple[torch.Tensor, torch.LongTensor]:\n",
    "    y_symb = []\n",
    "    line_cnt = 0\n",
    "    for sentence, lang in read_sent_lang(file):\n",
    "        line_cnt += 1\n",
    "    X_idx_l = []\n",
    "    X_offsets_l = []\n",
    "    X_freqs_l = []\n",
    "    for i, (sentence, lang) in tqdm(enumerate(read_sent_lang(file))):\n",
    "        hashvals = ngrams2hashvals(all_ngrams(sentence), MAXES)\n",
    "        hash2freqs_l = list(map(rel_freqs, hashvals))\n",
    "        bags = ngrams_bags(hash2freqs_l)\n",
    "        X_idx_l += [bags[0]]\n",
    "        X_offsets_l += [bags[1]]\n",
    "        X_freqs_l += [bags[2]]\n",
    "        y_symb += [lang]\n",
    "    y = torch.LongTensor(list(map(lang2idx.get, y_symb)))\n",
    "    return X_idx_l, X_offsets_l, X_freqs_l, y"
   ]
  },
  {
   "cell_type": "code",
   "execution_count": 35,
   "metadata": {},
   "outputs": [
    {
     "name": "stderr",
     "output_type": "stream",
     "text": [
      "31376it [00:07, 4428.29it/s]\n",
      "3922it [00:01, 3224.61it/s]\n",
      "3923it [00:00, 4784.99it/s]\n"
     ]
    }
   ],
   "source": [
    "X_train_idx, X_train_offsets, X_train_freqs, y_train = create_Xy_symb(FILE_TRAIN, lang2idx, MAXES)\n",
    "X_val_idx, X_val_offsets, X_val_freqs, y_val = create_Xy_symb(FILE_VAL, lang2idx, MAXES)\n",
    "X_test_idx, X_test_offsets, X_test_freqs, y_test = create_Xy_symb(FILE_TEST, lang2idx, MAXES)"
   ]
  },
  {
   "cell_type": "code",
   "execution_count": 36,
   "metadata": {},
   "outputs": [
    {
     "data": {
      "text/plain": [
       "([[67, 35, 453, 37, 262, 197, 429, 86, 185, 442, 253, 191],\n",
       "  [355, 580, 891, 70, 808, 939, 893, 717, 943, 501, 375, 569, 571, 124, 957],\n",
       "  [834, 962, 773, 613, 1002, 204, 332, 696, 212, 438, 343, 728, 827, 191]],\n",
       " [[0], [0], [0]],\n",
       " [[0.0625,\n",
       "   0.0625,\n",
       "   0.125,\n",
       "   0.0625,\n",
       "   0.125,\n",
       "   0.125,\n",
       "   0.0625,\n",
       "   0.125,\n",
       "   0.0625,\n",
       "   0.0625,\n",
       "   0.0625,\n",
       "   0.0625],\n",
       "  [0.06666666666666667,\n",
       "   0.06666666666666667,\n",
       "   0.06666666666666667,\n",
       "   0.06666666666666667,\n",
       "   0.06666666666666667,\n",
       "   0.06666666666666667,\n",
       "   0.06666666666666667,\n",
       "   0.06666666666666667,\n",
       "   0.06666666666666667,\n",
       "   0.06666666666666667,\n",
       "   0.06666666666666667,\n",
       "   0.06666666666666667,\n",
       "   0.06666666666666667,\n",
       "   0.06666666666666667,\n",
       "   0.06666666666666667],\n",
       "  [0.07142857142857142,\n",
       "   0.07142857142857142,\n",
       "   0.07142857142857142,\n",
       "   0.07142857142857142,\n",
       "   0.07142857142857142,\n",
       "   0.07142857142857142,\n",
       "   0.07142857142857142,\n",
       "   0.07142857142857142,\n",
       "   0.07142857142857142,\n",
       "   0.07142857142857142,\n",
       "   0.07142857142857142,\n",
       "   0.07142857142857142,\n",
       "   0.07142857142857142,\n",
       "   0.07142857142857142]])"
      ]
     },
     "execution_count": 36,
     "metadata": {},
     "output_type": "execute_result"
    }
   ],
   "source": [
    "X_train_idx[0], X_train_offsets[0], X_train_freqs[0]"
   ]
  },
  {
   "cell_type": "code",
   "execution_count": 37,
   "metadata": {},
   "outputs": [],
   "source": [
    "# Creates a vector (1D tensor) from three lists corresponding to a batch\n",
    "def batch_generator_one(X_idx_l: list, X_offsets_l: list, X_freqs_l: list):\n",
    "    # Easy part\n",
    "    X_idx = torch.cat(X_idx_l, dim=-1)\n",
    "    X_freqs = torch.cat(X_freqs_l, dim=-1)\n",
    "\n",
    "    # More difficult: We must shift the offsets\n",
    "    bag_lengths = [X_idx_l[i].size()[0] for i in range(len(X_idx_l))]\n",
    "    start_idx = [sum(bag_lengths[:i]) for i in range(len(bag_lengths))]\n",
    "    X_offsets_shifted_l = [idx + offsets for idx, offsets in zip(start_idx, X_offsets_l)]\n",
    "    X_offsets = torch.cat(X_offsets_shifted_l, dim=-1)\n",
    "     \n",
    "    return X_idx, X_offsets, X_freqs"
   ]
  },
  {
   "cell_type": "code",
   "execution_count": 38,
   "metadata": {},
   "outputs": [],
   "source": [
    "def batch_generator(X_idx_l: list, X_offsets_l: list, X_freqs_l: list):\n",
    "    bags_uni_idx = [torch.LongTensor(item[0]) for item in X_idx_l]\n",
    "    bags_uni_offsets = [torch.LongTensor(item[0]) for item in X_offsets_l]\n",
    "    bags_uni_freqs = [torch.FloatTensor(item[0]) for item in X_freqs_l]\n",
    "    bags_uni_idx, bags_uni_offsets, bags_uni_freqs = batch_generator_one(bags_uni_idx, bags_uni_offsets, bags_uni_freqs)\n",
    "\n",
    "    bags_bi_idx = [torch.LongTensor(item[1]) for item in X_idx_l]\n",
    "    bags_bi_offsets = [torch.LongTensor(item[1]) for item in X_offsets_l]\n",
    "    bags_bi_freqs = [torch.FloatTensor(item[1]) for item in X_freqs_l]\n",
    "    bags_bi_idx, bags_bi_offsets, bags_bi_freqs = batch_generator_one(bags_bi_idx, bags_bi_offsets, bags_bi_freqs)\n",
    "\n",
    "    bags_tri_idx = [torch.LongTensor(item[2]) for item in X_idx_l]\n",
    "    bags_tri_offsets = [torch.LongTensor(item[2]) for item in X_offsets_l]\n",
    "    bags_tri_freqs = [torch.FloatTensor(item[2]) for item in X_freqs_l]\n",
    "    bags_tri_idx, bags_tri_offsets, bags_tri_freqs = batch_generator_one(bags_tri_idx, bags_tri_offsets, bags_tri_freqs)\n",
    "    \n",
    "    return (bags_uni_idx, bags_uni_offsets, bags_uni_freqs), (bags_bi_idx, bags_bi_offsets, bags_bi_freqs), (bags_tri_idx, bags_tri_offsets, bags_tri_freqs)"
   ]
  },
  {
   "cell_type": "code",
   "execution_count": 39,
   "metadata": {},
   "outputs": [
    {
     "data": {
      "text/plain": [
       "((tensor([ 67,  35, 453,  37, 262, 197, 429,  86, 185, 442, 253, 191,  15,  32,\n",
       "          432, 437, 310, 442,  61, 196,  69, 331,  86, 100, 233, 234, 113, 371,\n",
       "          245, 121, 122, 379]),\n",
       "  tensor([ 0, 12]),\n",
       "  tensor([0.0625, 0.0625, 0.1250, 0.0625, 0.1250, 0.1250, 0.0625, 0.1250, 0.0625,\n",
       "          0.0625, 0.0625, 0.0625, 0.0179, 0.0357, 0.0714, 0.0536, 0.0536, 0.0179,\n",
       "          0.0179, 0.0536, 0.0714, 0.0893, 0.1964, 0.0357, 0.0179, 0.1250, 0.0179,\n",
       "          0.0179, 0.0536, 0.0179, 0.0179, 0.0179])),\n",
       " (tensor([ 355,  580,  891,   70,  808,  939,  893,  717,  943,  501,  375,  569,\n",
       "           571,  124,  957,  256, 1026, 1027,   12, 1021,  914,  406,  921,  156,\n",
       "           545,  290,   34,  548,   36,  934,   33,  552,  169,  935,  428,  816,\n",
       "           945,  821,  444,  701,  702,  320,   70,  971,  203,  844,  206,  594,\n",
       "           723,  596,  603,   93,  610,  354,  612,  104,  234,  491,  751, 1019,\n",
       "           125]),\n",
       "  tensor([ 0, 15]),\n",
       "  tensor([0.0667, 0.0667, 0.0667, 0.0667, 0.0667, 0.0667, 0.0667, 0.0667, 0.0667,\n",
       "          0.0667, 0.0667, 0.0667, 0.0667, 0.0667, 0.0667, 0.0182, 0.0182, 0.0364,\n",
       "          0.0182, 0.0182, 0.0182, 0.0182, 0.0182, 0.0182, 0.0182, 0.0182, 0.0182,\n",
       "          0.0182, 0.0182, 0.0182, 0.0182, 0.0364, 0.0182, 0.0182, 0.0182, 0.0182,\n",
       "          0.0182, 0.0182, 0.0364, 0.0182, 0.0182, 0.0182, 0.0182, 0.0364, 0.0545,\n",
       "          0.0182, 0.0182, 0.0182, 0.0364, 0.0182, 0.0182, 0.0545, 0.0182, 0.0182,\n",
       "          0.0182, 0.0182, 0.0182, 0.0182, 0.0182, 0.0182, 0.0182])),\n",
       " (tensor([ 834,  962,  773,  613, 1002,  204,  332,  696,  212,  438,  343,  728,\n",
       "           827,  191, 1028,    9,  782,  791,   24,  667,  413,  797,   30,  928,\n",
       "           162,  163,  293,  937,  430,  944,  691,  309,   55,  183,  443,  445,\n",
       "           448,  578,  451,  453,  585,  714,  331,   74,  586,  592,  977,  209,\n",
       "           978,  338,  599,  984,  986,  858,  733,  862,  224,  610,   98,  868,\n",
       "           229,  484,  123,  892, 1022]),\n",
       "  tensor([ 0, 14]),\n",
       "  tensor([0.0714, 0.0714, 0.0714, 0.0714, 0.0714, 0.0714, 0.0714, 0.0714, 0.0714,\n",
       "          0.0714, 0.0714, 0.0714, 0.0714, 0.0714, 0.0185, 0.0185, 0.0185, 0.0185,\n",
       "          0.0185, 0.0185, 0.0370, 0.0185, 0.0185, 0.0370, 0.0185, 0.0185, 0.0185,\n",
       "          0.0185, 0.0185, 0.0185, 0.0185, 0.0185, 0.0185, 0.0370, 0.0185, 0.0185,\n",
       "          0.0185, 0.0185, 0.0185, 0.0185, 0.0185, 0.0185, 0.0185, 0.0185, 0.0185,\n",
       "          0.0185, 0.0185, 0.0185, 0.0185, 0.0185, 0.0185, 0.0185, 0.0185, 0.0185,\n",
       "          0.0185, 0.0185, 0.0185, 0.0185, 0.0185, 0.0185, 0.0185, 0.0185, 0.0185,\n",
       "          0.0185, 0.0185])))"
      ]
     },
     "execution_count": 39,
     "metadata": {},
     "output_type": "execute_result"
    }
   ],
   "source": [
    "unigr, bigr, trigr = batch_generator(X_train_idx[:2], X_train_offsets[:2], X_train_freqs[:2])\n",
    "unigr, bigr, trigr"
   ]
  },
  {
   "cell_type": "markdown",
   "metadata": {},
   "source": [
    "## The model"
   ]
  },
  {
   "cell_type": "code",
   "execution_count": 40,
   "metadata": {},
   "outputs": [],
   "source": [
    "class ModelEmbeddingLR(nn.Module):\n",
    "    def __init__(self, N=3): \n",
    "        super().__init__()\n",
    "        self.N = N # Size of n in n-grams\n",
    "        self.embed_uni = nn.EmbeddingBag(NUM_FEATURES, EMBEDDING_DIM_UNI, mode='sum')\n",
    "        self.embed_bi = nn.EmbeddingBag(NUM_FEATURES, EMBEDDING_DIM_BI, mode='sum')\n",
    "        self.embed_tri = nn.EmbeddingBag(NUM_FEATURES, EMBEDDING_DIM_TRI, mode='sum')\n",
    "        self.linear = nn.Linear((EMBEDDING_DIM_UNI + EMBEDDING_DIM_BI + EMBEDDING_DIM_TRI), len(langs))\n",
    "        \n",
    "    def forward(self, bags_uni, bags_bi, bags_tri):\n",
    "        self.embs_uni = self.embed_uni(bags_uni[0], bags_uni[1], bags_uni[2]) # unigr_idx, unigr_offsets, unigr_freqs\n",
    "        self.embs_bi = self.embed_bi(bags_bi[0], bags_bi[1], bags_bi[2])      # bigr_idx, bigr_offsets, bigr_freqs\n",
    "        self.embs_tri = self.embed_tri(bags_tri[0], bags_tri[1], bags_tri[2]) # trigr_idx, trigr_offsets, trigr_freqs\n",
    "        X = torch.cat((self.embs_uni, self.embs_bi, self.embs_tri), dim = -1)\n",
    "        X = self.linear(X)\n",
    "        return X"
   ]
  },
  {
   "cell_type": "code",
   "execution_count": 41,
   "metadata": {},
   "outputs": [],
   "source": [
    "class ModelEmbeddingNN(nn.Module):\n",
    "    def __init__(self, N=3): \n",
    "        super().__init__()\n",
    "        self.N = N # Size of n in n-grams\n",
    "        self.embed_uni = nn.EmbeddingBag(NUM_FEATURES, EMBEDDING_DIM_UNI, mode='sum')\n",
    "        self.embed_bi = nn.EmbeddingBag(NUM_FEATURES, EMBEDDING_DIM_BI, mode='sum')\n",
    "        self.embed_tri = nn.EmbeddingBag(NUM_FEATURES, EMBEDDING_DIM_TRI, mode='sum')\n",
    "        self.linear1 = nn.Linear((EMBEDDING_DIM_UNI + EMBEDDING_DIM_BI + EMBEDDING_DIM_TRI), EMBEDDING_DIM)\n",
    "        self.linear2 = nn.Linear(EMBEDDING_DIM, len(langs))\n",
    "        \n",
    "    def forward(self, bags_uni, bags_bi, bags_tri):\n",
    "        self.embs_uni = self.embed_uni(bags_uni[0], bags_uni[1], bags_uni[2]) # unigr_idx, unigr_offsets, unigr_freqs\n",
    "        self.embs_bi = self.embed_bi(bags_bi[0], bags_bi[1], bags_bi[2])      # bigr_idx, bigr_offsets, bigr_freqs\n",
    "        self.embs_tri = self.embed_tri(bags_tri[0], bags_tri[1], bags_tri[2]) # trigr_idx, trigr_offsets, trigr_freqs\n",
    "        X = torch.cat((self.embs_uni, self.embs_bi, self.embs_tri), dim = -1)\n",
    "        X = torch.relu(self.linear1(X))\n",
    "        X = self.linear2(X)\n",
    "        return X"
   ]
  },
  {
   "cell_type": "code",
   "execution_count": 42,
   "metadata": {},
   "outputs": [],
   "source": [
    "if HIDDEN_LAYER:\n",
    "    model = ModelEmbeddingNN()\n",
    "else:\n",
    "    model = ModelEmbeddingLR()"
   ]
  },
  {
   "cell_type": "markdown",
   "metadata": {},
   "source": [
    "We set the loss and the optimizer"
   ]
  },
  {
   "cell_type": "code",
   "execution_count": 43,
   "metadata": {},
   "outputs": [],
   "source": [
    "loss_fn = nn.CrossEntropyLoss()    # cross entropy loss\n",
    "optimizer = torch.optim.NAdam(model.parameters(), lr=0.01)"
   ]
  },
  {
   "cell_type": "markdown",
   "metadata": {},
   "source": [
    "## Training the classifier"
   ]
  },
  {
   "cell_type": "markdown",
   "metadata": {},
   "source": [
    "### Mini-batch gradient descent"
   ]
  },
  {
   "cell_type": "code",
   "execution_count": 44,
   "metadata": {},
   "outputs": [
    {
     "name": "stderr",
     "output_type": "stream",
     "text": [
      "100%|██████████| 10/10 [00:37<00:00,  3.80s/it]\n"
     ]
    }
   ],
   "source": [
    "loss_train_history = []\n",
    "acc_train_history = []\n",
    "loss_val_history = []\n",
    "acc_val_history = []\n",
    "\n",
    "for epoch in tqdm(range(EPOCHS)):\n",
    "    loss_train = 0\n",
    "    acc = 0\n",
    "    cnt = 0\n",
    "    model.train()\n",
    "    n_indices = list(range(0, len(X_train_idx), BATCH_SIZE))\n",
    "    random.shuffle(n_indices) # Check if there is a PyTorch equivalent\n",
    "    for i in n_indices:\n",
    "        X_train_bags_idx, X_train_bags_offsets, X_train_bags_freqs = batch_generator(X_train_idx[i:i + BATCH_SIZE], X_train_offsets[i:i + BATCH_SIZE], X_train_freqs[i:i + BATCH_SIZE])\n",
    "        y_true = y_train[i:i + BATCH_SIZE]\n",
    "        y_pred = model(X_train_bags_idx, X_train_bags_offsets, X_train_bags_freqs)\n",
    "        loss = loss_fn(y_pred, y_true)\n",
    "        optimizer.zero_grad()\n",
    "        loss.backward()\n",
    "        optimizer.step()\n",
    "    \n",
    "    model.eval()\n",
    "    X_val_bags_idx, X_val_bags_offsets, X_val_bags_freqs = batch_generator(X_val_idx, X_val_offsets, X_val_freqs)\n",
    "    Y_val_pred = model(X_val_bags_idx, X_val_bags_offsets, X_val_bags_freqs)\n",
    "    \n",
    "    loss_val = loss_fn(Y_val_pred, y_val)\n",
    "    loss_val_history += [loss_val.item()]\n",
    "\n",
    "    y_val_pred = torch.argmax(Y_val_pred, dim=-1)\n",
    "    acc_val = torch.sum(y_val == y_val_pred)/y_val.size()[0]\n",
    "    acc_val_history += [acc_val]"
   ]
  },
  {
   "cell_type": "markdown",
   "metadata": {},
   "source": [
    "## Visualization"
   ]
  },
  {
   "cell_type": "markdown",
   "metadata": {},
   "source": [
    "We plot the loss"
   ]
  },
  {
   "cell_type": "code",
   "execution_count": 45,
   "metadata": {},
   "outputs": [
    {
     "data": {
      "image/png": "[encoded data removed]",
      "text/plain": [
       "<Figure size 640x480 with 1 Axes>"
      ]
     },
     "metadata": {},
     "output_type": "display_data"
    }
   ],
   "source": [
    "import matplotlib.pyplot as plt\n",
    "\n",
    "epochs = range(1, len(acc_val_history) + 1)\n",
    "plt.plot(epochs, acc_val_history, 'bo', label='Validation accuracy')\n",
    "plt.title('Validation accuracy')\n",
    "plt.legend()\n",
    "plt.show()"
   ]
  },
  {
   "cell_type": "code",
   "execution_count": 46,
   "metadata": {},
   "outputs": [
    {
     "data": {
      "image/png": "[encoded data removed]",
      "text/plain": [
       "<Figure size 640x480 with 1 Axes>"
      ]
     },
     "metadata": {},
     "output_type": "display_data"
    }
   ],
   "source": [
    "epochs = range(1, len(loss_val_history) + 1)\n",
    "plt.plot(epochs, loss_val_history, 'rx', label='Validation loss')\n",
    "plt.title('Validation loss')\n",
    "plt.legend()\n",
    "plt.show()"
   ]
  },
  {
   "cell_type": "markdown",
   "metadata": {},
   "source": [
    "## Evaluation"
   ]
  },
  {
   "cell_type": "markdown",
   "metadata": {},
   "source": [
    "### Validation set"
   ]
  },
  {
   "cell_type": "code",
   "execution_count": 47,
   "metadata": {},
   "outputs": [],
   "source": [
    "model.eval()\n",
    "X_val_bags_idx, X_val_bags_offsets, X_val_bags_freqs = batch_generator(X_val_idx, X_val_offsets, X_val_freqs)\n",
    "y_val_pred = torch.argmax(model(X_val_bags_idx, X_val_bags_offsets, X_val_bags_freqs), dim=-1)"
   ]
  },
  {
   "cell_type": "code",
   "execution_count": 48,
   "metadata": {},
   "outputs": [
    {
     "data": {
      "text/plain": [
       "tensor([13, 15, 31, 36, 21, 23, 12, 28, 21, 20])"
      ]
     },
     "execution_count": 48,
     "metadata": {},
     "output_type": "execute_result"
    }
   ],
   "source": [
    "y_val_pred[:10]"
   ]
  },
  {
   "cell_type": "code",
   "execution_count": 49,
   "metadata": {},
   "outputs": [
    {
     "name": "stdout",
     "output_type": "stream",
     "text": [
      "              precision    recall  f1-score   support\n",
      "\n",
      "         ara     0.9820    0.9820    0.9820       111\n",
      "         ber     0.6940    0.8304    0.7561       112\n",
      "         bul     0.8364    0.9293    0.8804        99\n",
      "         ces     0.9537    0.9279    0.9406       111\n",
      "         cmn     0.9885    0.9773    0.9829        88\n",
      "         dan     0.8829    0.9159    0.8991       107\n",
      "         deu     0.9881    0.9651    0.9765        86\n",
      "         ell     1.0000    1.0000    1.0000        96\n",
      "         eng     0.9906    0.9459    0.9677       111\n",
      "         epo     0.9558    0.9474    0.9515       114\n",
      "         fin     0.9886    0.9062    0.9457        96\n",
      "         fra     0.9691    0.9691    0.9691        97\n",
      "         hau     0.9720    0.9905    0.9811       105\n",
      "         heb     1.0000    1.0000    1.0000        76\n",
      "         hun     0.9787    0.9583    0.9684        96\n",
      "         ina     0.8400    0.9333    0.8842        90\n",
      "         ita     0.9623    0.9444    0.9533       108\n",
      "         jpn     1.0000    0.9907    0.9953       108\n",
      "         kab     0.8171    0.6262    0.7090       107\n",
      "         lat     0.9358    0.9273    0.9315       110\n",
      "         lfn     0.9474    0.8911    0.9184       101\n",
      "         lit     0.9691    0.9792    0.9741        96\n",
      "         mar     1.0000    1.0000    1.0000        98\n",
      "         mkd     0.8762    0.9020    0.8889       102\n",
      "         nld     0.9255    0.9560    0.9405        91\n",
      "         pes     0.9810    0.9717    0.9763       106\n",
      "         pol     0.9691    0.9592    0.9641        98\n",
      "         por     0.9286    0.9630    0.9455       108\n",
      "         ron     0.9714    0.9533    0.9623       107\n",
      "         rus     0.9485    0.9293    0.9388        99\n",
      "         spa     0.8505    0.8922    0.8708       102\n",
      "         srp     0.8750    0.8198    0.8465       111\n",
      "         swc     0.9551    0.9884    0.9714        86\n",
      "         swe     0.9091    0.9524    0.9302        84\n",
      "         tlh     0.9792    0.9792    0.9792        96\n",
      "         tok     1.0000    0.9906    0.9953       106\n",
      "         tur     0.9813    0.9906    0.9859       106\n",
      "         ukr     0.9247    0.9149    0.9198        94\n",
      "         vie     1.0000    0.9903    0.9951       103\n",
      "\n",
      "    accuracy                         0.9391      3922\n",
      "   macro avg     0.9417    0.9408    0.9404      3922\n",
      "weighted avg     0.9407    0.9391    0.9390      3922\n",
      "\n"
     ]
    }
   ],
   "source": [
    "print(classification_report(y_val, y_val_pred, target_names=langs, digits=4))"
   ]
  },
  {
   "cell_type": "code",
   "execution_count": 50,
   "metadata": {},
   "outputs": [
    {
     "name": "stdout",
     "output_type": "stream",
     "text": [
      "[[109   0   0 ...   0   0   0]\n",
      " [  0  93   0 ...   0   0   0]\n",
      " [  0   0  92 ...   0   0   0]\n",
      " ...\n",
      " [  0   0   0 ... 105   0   0]\n",
      " [  0   0   4 ...   0  86   0]\n",
      " [  0   0   0 ...   0   0 102]]\n"
     ]
    }
   ],
   "source": [
    "print(confusion_matrix(y_val, y_val_pred))"
   ]
  },
  {
   "cell_type": "markdown",
   "metadata": {},
   "source": [
    "## Applying the Detector"
   ]
  },
  {
   "cell_type": "code",
   "execution_count": 51,
   "metadata": {},
   "outputs": [],
   "source": [
    "def encode(text: str, MAXES: tuple[int, int, int]) -> torch.Tensor:\n",
    "    hashvals = ngrams2hashvals(all_ngrams(text), MAXES)\n",
    "    hash2freqs_l = list(map(rel_freqs, hashvals))\n",
    "    bags = ngrams_bags(hash2freqs_l)\n",
    "    return batch_generator([bags[0]], [bags[1]], [bags[2]])"
   ]
  },
  {
   "cell_type": "code",
   "execution_count": 52,
   "metadata": {},
   "outputs": [],
   "source": [
    "test_sents = ['Groovin\\' on a Sunday afternoon',\n",
    "'La Folle Complainte', \n",
    "'Vent\\'anni o poco più', \n",
    "'Tous les garçons et les filles',\n",
    "'Mambo italiano']"
   ]
  },
  {
   "cell_type": "code",
   "execution_count": 53,
   "metadata": {},
   "outputs": [
    {
     "name": "stdout",
     "output_type": "stream",
     "text": [
      "Groovin' on a Sunday afternoon -> eng\n",
      "La Folle Complainte -> ina\n",
      "Vent'anni o poco più -> ita\n",
      "Tous les garçons et les filles -> fra\n",
      "Mambo italiano -> swc\n"
     ]
    }
   ],
   "source": [
    "for sent in test_sents:\n",
    "    bags = encode(sent, MAXES)\n",
    "    print(sent, '->', idx2lang[torch.argmax(model(bags[0], bags[1], bags[2]), dim=-1).item()])"
   ]
  },
  {
   "cell_type": "markdown",
   "metadata": {},
   "source": []
  }
 ],
 "metadata": {
  "kernelspec": {
   "display_name": "Python 3.9.13 ('base')",
   "language": "python",
   "name": "python3"
  },
  "language_info": {
   "codemirror_mode": {
    "name": "ipython",
    "version": 3
   },
   "file_extension": ".py",
   "mimetype": "text/x-python",
   "name": "python",
   "nbconvert_exporter": "python",
   "pygments_lexer": "ipython3",
   "version": "3.9.15"
  },
  "orig_nbformat": 4,
  "vscode": {
   "interpreter": {
    "hash": "b97b11a820675205aae8f1d7f2a3f22bbd3a2c30189f44042310baf5b4cd1987"
   }
  }
 },
 "nbformat": 4,
 "nbformat_minor": 2
}
