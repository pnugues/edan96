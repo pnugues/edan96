{
 "cells": [
  {
   "cell_type": "markdown",
   "id": "d5dad791-d8db-456e-88f2-6ef57fdcd57d",
   "metadata": {},
   "source": [
    "# Analysis of Backpropagation with Examples in Pytorch\n",
    "Author: Pierre Nugues"
   ]
  },
  {
   "cell_type": "code",
   "execution_count": 1,
   "id": "6412c06f-1ee6-4af5-bd49-ec818fdab351",
   "metadata": {},
   "outputs": [],
   "source": [
    "import torch\n",
    "import torch.nn as nn"
   ]
  },
  {
   "cell_type": "markdown",
   "id": "01042ab1-cb15-4ee3-ab61-0c2b73b03122",
   "metadata": {},
   "source": [
    "## The architectures"
   ]
  },
  {
   "cell_type": "markdown",
   "id": "bc11922f-f7ab-401c-948c-00d1901865ad",
   "metadata": {},
   "source": [
    "The network architecture from the book"
   ]
  },
  {
   "cell_type": "code",
   "execution_count": 2,
   "id": "4d72ce97-7c0a-4b76-95f0-3bf5a78e2013",
   "metadata": {},
   "outputs": [],
   "source": [
    "class NetBook(nn.Module):\n",
    "\n",
    "    def __init__(self):\n",
    "        super(NetBook, self).__init__()\n",
    "        self.fc1 = nn.Linear(3, 4, bias=False)  \n",
    "        self.fc2 = nn.Linear(4, 2, bias=False)\n",
    "        self.fc3 = nn.Linear(2, 1, bias=False)\n",
    "\n",
    "    def forward(self, x):\n",
    "        self.z1 = self.fc1(x)\n",
    "        self.h1 = torch.relu(self.z1)\n",
    "        \n",
    "        self.z2 = self.fc2(self.h1)\n",
    "        self.h2 = torch.relu(self.z2)\n",
    "        \n",
    "        self.z3 = self.fc3(self.h2)\n",
    "        self.h3 = torch.sigmoid(self.z3)\n",
    "        return self.h3"
   ]
  },
  {
   "cell_type": "markdown",
   "id": "9f52625e-725d-490f-8fb2-775a6b7f83c7",
   "metadata": {},
   "source": [
    "The simplified network architecture"
   ]
  },
  {
   "cell_type": "code",
   "execution_count": 3,
   "id": "65aab040-8ea8-4f96-8ea6-b18d3d9c460f",
   "metadata": {},
   "outputs": [],
   "source": [
    "class Net(nn.Module):\n",
    "\n",
    "    def __init__(self):\n",
    "        super(Net, self).__init__()\n",
    "        self.fc1 = nn.Linear(3, 4, bias=False)  \n",
    "        self.fc2 = nn.Linear(4, 2, bias=False)\n",
    "        self.fc3 = nn.Linear(2, 1, bias=False)\n",
    "\n",
    "    def forward(self, x):\n",
    "        self.z1 = self.fc1(x)\n",
    "\n",
    "        self.z2 = self.fc2(self.z1)\n",
    "        \n",
    "        self.z3 = self.fc3(self.z2)\n",
    "        self.h3 = torch.sigmoid(self.z3)\n",
    "        return self.h3"
   ]
  },
  {
   "cell_type": "code",
   "execution_count": 4,
   "id": "5389ccfb-25e4-4c1c-99c6-2bf3e0ca0da6",
   "metadata": {},
   "outputs": [
    {
     "data": {
      "text/plain": [
       "NetBook(\n",
       "  (fc1): Linear(in_features=3, out_features=4, bias=False)\n",
       "  (fc2): Linear(in_features=4, out_features=2, bias=False)\n",
       "  (fc3): Linear(in_features=2, out_features=1, bias=False)\n",
       ")"
      ]
     },
     "execution_count": 4,
     "metadata": {},
     "output_type": "execute_result"
    }
   ],
   "source": [
    "net_book = NetBook()\n",
    "net_book"
   ]
  },
  {
   "cell_type": "code",
   "execution_count": 5,
   "id": "78d5a614-aa95-4488-9ffa-c1f9f09da12b",
   "metadata": {},
   "outputs": [
    {
     "data": {
      "text/plain": [
       "Net(\n",
       "  (fc1): Linear(in_features=3, out_features=4, bias=False)\n",
       "  (fc2): Linear(in_features=4, out_features=2, bias=False)\n",
       "  (fc3): Linear(in_features=2, out_features=1, bias=False)\n",
       ")"
      ]
     },
     "execution_count": 5,
     "metadata": {},
     "output_type": "execute_result"
    }
   ],
   "source": [
    "net = Net()\n",
    "net"
   ]
  },
  {
   "cell_type": "markdown",
   "id": "54cc1d7f-5b06-4e60-941d-5fbc67273937",
   "metadata": {},
   "source": [
    "## The network weights"
   ]
  },
  {
   "cell_type": "code",
   "execution_count": 6,
   "id": "3f7d417e-a08a-47f7-9c01-070e0961c17c",
   "metadata": {},
   "outputs": [
    {
     "name": "stdout",
     "output_type": "stream",
     "text": [
      "Layer: fc1.weight | Size: torch.Size([4, 3]) | Values : Parameter containing:\n",
      "tensor([[ 0.2369,  0.4875, -0.0785],\n",
      "        [-0.1420,  0.5180, -0.4875],\n",
      "        [-0.0190, -0.2783,  0.3500],\n",
      "        [ 0.2950, -0.3992,  0.5065]], requires_grad=True) \n",
      "\n",
      "Layer: fc2.weight | Size: torch.Size([2, 4]) | Values : Parameter containing:\n",
      "tensor([[-0.0172, -0.1255,  0.3816,  0.4249],\n",
      "        [-0.0027, -0.1248,  0.4886,  0.1373]], requires_grad=True) \n",
      "\n",
      "Layer: fc3.weight | Size: torch.Size([1, 2]) | Values : Parameter containing:\n",
      "tensor([[-0.2785,  0.4220]], requires_grad=True) \n",
      "\n"
     ]
    }
   ],
   "source": [
    "for name, param in net.named_parameters():\n",
    "    print(f\"Layer: {name} | Size: {param.size()} | Values : {param} \\n\")"
   ]
  },
  {
   "cell_type": "code",
   "execution_count": 7,
   "id": "6c1c324c-6e44-4177-8932-9505bcb1dede",
   "metadata": {},
   "outputs": [
    {
     "data": {
      "text/plain": [
       "Parameter containing:\n",
       "tensor([[ 0.2369,  0.4875, -0.0785],\n",
       "        [-0.1420,  0.5180, -0.4875],\n",
       "        [-0.0190, -0.2783,  0.3500],\n",
       "        [ 0.2950, -0.3992,  0.5065]], requires_grad=True)"
      ]
     },
     "execution_count": 7,
     "metadata": {},
     "output_type": "execute_result"
    }
   ],
   "source": [
    "net.fc1.weight"
   ]
  },
  {
   "cell_type": "markdown",
   "id": "7f50150e-abbc-4f88-b58f-a88e958562aa",
   "metadata": {},
   "source": [
    "## The dataset"
   ]
  },
  {
   "cell_type": "markdown",
   "id": "d3b6a0ef-1a0b-4d2a-9b62-ebbb25440cb2",
   "metadata": {},
   "source": [
    "An input vector. We create a row vector to ease the computation."
   ]
  },
  {
   "cell_type": "code",
   "execution_count": 8,
   "id": "2229a8b9-44e8-4548-9b80-47c6d74aaad0",
   "metadata": {},
   "outputs": [],
   "source": [
    "x = torch.tensor([[1.0, 2.0, 3.0]])"
   ]
  },
  {
   "cell_type": "markdown",
   "id": "97d74abc-3735-44cf-9764-698823ddda32",
   "metadata": {},
   "source": [
    "The output with the simplified network"
   ]
  },
  {
   "cell_type": "code",
   "execution_count": 9,
   "id": "aa3492f5-0a43-4f44-9311-74c46f7f21e3",
   "metadata": {},
   "outputs": [
    {
     "data": {
      "text/plain": [
       "tensor([[0.4999]], grad_fn=<SigmoidBackward0>)"
      ]
     },
     "execution_count": 9,
     "metadata": {},
     "output_type": "execute_result"
    }
   ],
   "source": [
    "y_pred = net.forward(x)\n",
    "y_pred"
   ]
  },
  {
   "cell_type": "markdown",
   "id": "6a06abc2-f63d-4f9b-9964-11d8e5cddbf3",
   "metadata": {},
   "source": [
    "A dataset"
   ]
  },
  {
   "cell_type": "code",
   "execution_count": 10,
   "id": "74c314b8-b294-4f90-b00c-1323619acb17",
   "metadata": {},
   "outputs": [],
   "source": [
    "X = torch.tensor([[1.0, 2.0, 3.0],\n",
    "                  [2.0, 3.0, 4.0],\n",
    "                  [3.0, 4.0, 5.0],\n",
    "                  [4.0, 5.0, 6.0]])"
   ]
  },
  {
   "cell_type": "code",
   "execution_count": 11,
   "id": "a30ca4f0-86fd-410b-9da9-1ea186a70009",
   "metadata": {},
   "outputs": [
    {
     "data": {
      "text/plain": [
       "tensor([[1.],\n",
       "        [0.],\n",
       "        [1.],\n",
       "        [0.]])"
      ]
     },
     "execution_count": 11,
     "metadata": {},
     "output_type": "execute_result"
    }
   ],
   "source": [
    "y_v = torch.tensor([[1.0, 0.0, 1.0, 0.0]]).T\n",
    "y_v"
   ]
  },
  {
   "cell_type": "markdown",
   "id": "3c416ee2-2439-4183-a156-ee6e6c5548ef",
   "metadata": {},
   "source": [
    "The output with the book network"
   ]
  },
  {
   "cell_type": "code",
   "execution_count": 12,
   "id": "e82e2347-b042-4896-84e6-e1a8dae08df2",
   "metadata": {},
   "outputs": [
    {
     "data": {
      "text/plain": [
       "tensor([[0.4899],\n",
       "        [0.4848],\n",
       "        [0.4798],\n",
       "        [0.4747]], grad_fn=<SigmoidBackward0>)"
      ]
     },
     "execution_count": 12,
     "metadata": {},
     "output_type": "execute_result"
    }
   ],
   "source": [
    "y_v_pred = net_book.forward(X)\n",
    "y_v_pred"
   ]
  },
  {
   "cell_type": "markdown",
   "id": "0f6c749c",
   "metadata": {},
   "source": [
    "With the simplified network"
   ]
  },
  {
   "cell_type": "code",
   "execution_count": 13,
   "id": "e40cf0cb",
   "metadata": {},
   "outputs": [
    {
     "data": {
      "text/plain": [
       "tensor([[0.4999],\n",
       "        [0.4962],\n",
       "        [0.4926],\n",
       "        [0.4889]], grad_fn=<SigmoidBackward0>)"
      ]
     },
     "execution_count": 13,
     "metadata": {},
     "output_type": "execute_result"
    }
   ],
   "source": [
    "y_v_pred = net.forward(X)\n",
    "y_v_pred"
   ]
  },
  {
   "cell_type": "markdown",
   "id": "5a0b7dd3-8a5d-4fef-a63b-6c987543592e",
   "metadata": {},
   "source": [
    "## Examining the Forward Pass"
   ]
  },
  {
   "cell_type": "markdown",
   "id": "4ad3d291-64b8-428c-8283-e0f9ce738cb0",
   "metadata": {},
   "source": [
    "### First as a matrix product"
   ]
  },
  {
   "cell_type": "markdown",
   "id": "c287ed38-bd65-441c-a53f-dad5565781b8",
   "metadata": {},
   "source": [
    "We compute the transpose of $\\mathbf{x}$ to show the importance of the format"
   ]
  },
  {
   "cell_type": "code",
   "execution_count": 14,
   "id": "c3e50ffa-559a-4db9-a8cd-41fd23a41154",
   "metadata": {},
   "outputs": [
    {
     "data": {
      "text/plain": [
       "tensor([[1.],\n",
       "        [2.],\n",
       "        [3.]])"
      ]
     },
     "execution_count": 14,
     "metadata": {},
     "output_type": "execute_result"
    }
   ],
   "source": [
    "x.T"
   ]
  },
  {
   "cell_type": "markdown",
   "id": "a7bb63ff-0b38-4a92-91f0-54e3b60b1c1d",
   "metadata": {},
   "source": [
    "The matrix product accepts both simple vectors and column vectors"
   ]
  },
  {
   "cell_type": "code",
   "execution_count": 15,
   "id": "6d990bfb",
   "metadata": {},
   "outputs": [
    {
     "data": {
      "text/plain": [
       "tensor([[1., 2., 3.]])"
      ]
     },
     "execution_count": 15,
     "metadata": {},
     "output_type": "execute_result"
    }
   ],
   "source": [
    "x"
   ]
  },
  {
   "cell_type": "code",
   "execution_count": 16,
   "id": "4af67e38-a7e7-42ce-96de-803daf242caa",
   "metadata": {},
   "outputs": [
    {
     "data": {
      "text/plain": [
       "tensor([ 0.9764, -0.5687,  0.4745,  1.0161], grad_fn=<MvBackward0>)"
      ]
     },
     "execution_count": 16,
     "metadata": {},
     "output_type": "execute_result"
    }
   ],
   "source": [
    "net.fc1.weight@x[0]"
   ]
  },
  {
   "cell_type": "code",
   "execution_count": 17,
   "id": "6a93c120-7b5c-46aa-bcc9-2d5f1f2e7c47",
   "metadata": {},
   "outputs": [
    {
     "data": {
      "text/plain": [
       "tensor([[ 0.9764],\n",
       "        [-0.5687],\n",
       "        [ 0.4745],\n",
       "        [ 1.0161]], grad_fn=<MmBackward0>)"
      ]
     },
     "execution_count": 17,
     "metadata": {},
     "output_type": "execute_result"
    }
   ],
   "source": [
    "net.fc1.weight@x.T"
   ]
  },
  {
   "cell_type": "markdown",
   "id": "a875673b-3dd3-457c-806c-7995a61643b1",
   "metadata": {},
   "source": [
    "Going through the whole network"
   ]
  },
  {
   "cell_type": "code",
   "execution_count": 18,
   "id": "426870b9-8dbe-47d7-be6c-cf62c44bbe42",
   "metadata": {},
   "outputs": [
    {
     "data": {
      "text/plain": [
       "tensor([-0.0003], grad_fn=<MvBackward0>)"
      ]
     },
     "execution_count": 18,
     "metadata": {},
     "output_type": "execute_result"
    }
   ],
   "source": [
    "net.fc3.weight@net.fc2.weight@net.fc1.weight@x[0]"
   ]
  },
  {
   "cell_type": "markdown",
   "id": "d55f936d-3a91-47b8-ab99-66fee8eea7dc",
   "metadata": {},
   "source": [
    "or"
   ]
  },
  {
   "cell_type": "code",
   "execution_count": 19,
   "id": "1713c516-84dc-40f7-a2c4-571031fc58f7",
   "metadata": {},
   "outputs": [
    {
     "data": {
      "text/plain": [
       "tensor([[-0.0003]], grad_fn=<MmBackward0>)"
      ]
     },
     "execution_count": 19,
     "metadata": {},
     "output_type": "execute_result"
    }
   ],
   "source": [
    "net.fc3.weight@net.fc2.weight@net.fc1.weight@x.T"
   ]
  },
  {
   "cell_type": "markdown",
   "id": "30fe299c-42e3-485c-8c14-6a353bc67525",
   "metadata": {},
   "source": [
    "### As a PyTorch function\n",
    "Here we need to have observations arranged by rows"
   ]
  },
  {
   "cell_type": "code",
   "execution_count": 20,
   "id": "a08a3a9b-388d-46ad-af4c-1f4bcfdbb04a",
   "metadata": {},
   "outputs": [
    {
     "data": {
      "text/plain": [
       "tensor([[0.4999],\n",
       "        [0.4962],\n",
       "        [0.4926],\n",
       "        [0.4889]], grad_fn=<SigmoidBackward0>)"
      ]
     },
     "execution_count": 20,
     "metadata": {},
     "output_type": "execute_result"
    }
   ],
   "source": [
    "net.forward(X)"
   ]
  },
  {
   "cell_type": "code",
   "execution_count": 21,
   "id": "5137809c-3da4-4b22-9b13-e186a663cd87",
   "metadata": {},
   "outputs": [
    {
     "data": {
      "text/plain": [
       "tensor([[0.4999]], grad_fn=<SigmoidBackward0>)"
      ]
     },
     "execution_count": 21,
     "metadata": {},
     "output_type": "execute_result"
    }
   ],
   "source": [
    "net.forward(x)"
   ]
  },
  {
   "cell_type": "markdown",
   "id": "b4e93c72-837d-44a5-b007-79e1ece84baf",
   "metadata": {},
   "source": [
    "The importance of the format. The first axis is the batch axis. The classical matrix vector product with a column vector fails"
   ]
  },
  {
   "cell_type": "code",
   "execution_count": 22,
   "id": "478da037-d459-4e81-b4e3-fb89eeb405ff",
   "metadata": {},
   "outputs": [
    {
     "ename": "RuntimeError",
     "evalue": "mat1 and mat2 shapes cannot be multiplied (3x1 and 3x4)",
     "output_type": "error",
     "traceback": [
      "\u001b[0;31m---------------------------------------------------------------------------\u001b[0m",
      "\u001b[0;31mRuntimeError\u001b[0m                              Traceback (most recent call last)",
      "\u001b[1;32m/Users/pierre/Documents/Cours/EDAN20/programs/ch04/pytorch/backprop_bce_test.ipynb Cell 41'\u001b[0m in \u001b[0;36m<cell line: 1>\u001b[0;34m()\u001b[0m\n\u001b[0;32m----> <a href='vscode-notebook-cell:/Users/pierre/Documents/Cours/EDAN20/programs/ch04/pytorch/backprop_bce_test.ipynb#ch0000037?line=0'>1</a>\u001b[0m net\u001b[39m.\u001b[39;49mforward(x\u001b[39m.\u001b[39;49mT)\n",
      "\u001b[1;32m/Users/pierre/Documents/Cours/EDAN20/programs/ch04/pytorch/backprop_bce_test.ipynb Cell 7'\u001b[0m in \u001b[0;36mNet.forward\u001b[0;34m(self, x)\u001b[0m\n\u001b[1;32m      <a href='vscode-notebook-cell:/Users/pierre/Documents/Cours/EDAN20/programs/ch04/pytorch/backprop_bce_test.ipynb#ch0000006?line=8'>9</a>\u001b[0m \u001b[39mdef\u001b[39;00m \u001b[39mforward\u001b[39m(\u001b[39mself\u001b[39m, x):\n\u001b[0;32m---> <a href='vscode-notebook-cell:/Users/pierre/Documents/Cours/EDAN20/programs/ch04/pytorch/backprop_bce_test.ipynb#ch0000006?line=9'>10</a>\u001b[0m     \u001b[39mself\u001b[39m\u001b[39m.\u001b[39mz1 \u001b[39m=\u001b[39m \u001b[39mself\u001b[39;49m\u001b[39m.\u001b[39;49mfc1(x)\n\u001b[1;32m     <a href='vscode-notebook-cell:/Users/pierre/Documents/Cours/EDAN20/programs/ch04/pytorch/backprop_bce_test.ipynb#ch0000006?line=11'>12</a>\u001b[0m     \u001b[39mself\u001b[39m\u001b[39m.\u001b[39mz2 \u001b[39m=\u001b[39m \u001b[39mself\u001b[39m\u001b[39m.\u001b[39mfc2(\u001b[39mself\u001b[39m\u001b[39m.\u001b[39mz1)\n\u001b[1;32m     <a href='vscode-notebook-cell:/Users/pierre/Documents/Cours/EDAN20/programs/ch04/pytorch/backprop_bce_test.ipynb#ch0000006?line=13'>14</a>\u001b[0m     \u001b[39mself\u001b[39m\u001b[39m.\u001b[39mz3 \u001b[39m=\u001b[39m \u001b[39mself\u001b[39m\u001b[39m.\u001b[39mfc3(\u001b[39mself\u001b[39m\u001b[39m.\u001b[39mz2)\n",
      "File \u001b[0;32m~/opt/anaconda3/lib/python3.9/site-packages/torch/nn/modules/module.py:1110\u001b[0m, in \u001b[0;36mModule._call_impl\u001b[0;34m(self, *input, **kwargs)\u001b[0m\n\u001b[1;32m   <a href='file:///Users/pierre/opt/anaconda3/lib/python3.9/site-packages/torch/nn/modules/module.py?line=1105'>1106</a>\u001b[0m \u001b[39m# If we don't have any hooks, we want to skip the rest of the logic in\u001b[39;00m\n\u001b[1;32m   <a href='file:///Users/pierre/opt/anaconda3/lib/python3.9/site-packages/torch/nn/modules/module.py?line=1106'>1107</a>\u001b[0m \u001b[39m# this function, and just call forward.\u001b[39;00m\n\u001b[1;32m   <a href='file:///Users/pierre/opt/anaconda3/lib/python3.9/site-packages/torch/nn/modules/module.py?line=1107'>1108</a>\u001b[0m \u001b[39mif\u001b[39;00m \u001b[39mnot\u001b[39;00m (\u001b[39mself\u001b[39m\u001b[39m.\u001b[39m_backward_hooks \u001b[39mor\u001b[39;00m \u001b[39mself\u001b[39m\u001b[39m.\u001b[39m_forward_hooks \u001b[39mor\u001b[39;00m \u001b[39mself\u001b[39m\u001b[39m.\u001b[39m_forward_pre_hooks \u001b[39mor\u001b[39;00m _global_backward_hooks\n\u001b[1;32m   <a href='file:///Users/pierre/opt/anaconda3/lib/python3.9/site-packages/torch/nn/modules/module.py?line=1108'>1109</a>\u001b[0m         \u001b[39mor\u001b[39;00m _global_forward_hooks \u001b[39mor\u001b[39;00m _global_forward_pre_hooks):\n\u001b[0;32m-> <a href='file:///Users/pierre/opt/anaconda3/lib/python3.9/site-packages/torch/nn/modules/module.py?line=1109'>1110</a>\u001b[0m     \u001b[39mreturn\u001b[39;00m forward_call(\u001b[39m*\u001b[39;49m\u001b[39minput\u001b[39;49m, \u001b[39m*\u001b[39;49m\u001b[39m*\u001b[39;49mkwargs)\n\u001b[1;32m   <a href='file:///Users/pierre/opt/anaconda3/lib/python3.9/site-packages/torch/nn/modules/module.py?line=1110'>1111</a>\u001b[0m \u001b[39m# Do not call functions when jit is used\u001b[39;00m\n\u001b[1;32m   <a href='file:///Users/pierre/opt/anaconda3/lib/python3.9/site-packages/torch/nn/modules/module.py?line=1111'>1112</a>\u001b[0m full_backward_hooks, non_full_backward_hooks \u001b[39m=\u001b[39m [], []\n",
      "File \u001b[0;32m~/opt/anaconda3/lib/python3.9/site-packages/torch/nn/modules/linear.py:103\u001b[0m, in \u001b[0;36mLinear.forward\u001b[0;34m(self, input)\u001b[0m\n\u001b[1;32m    <a href='file:///Users/pierre/opt/anaconda3/lib/python3.9/site-packages/torch/nn/modules/linear.py?line=101'>102</a>\u001b[0m \u001b[39mdef\u001b[39;00m \u001b[39mforward\u001b[39m(\u001b[39mself\u001b[39m, \u001b[39minput\u001b[39m: Tensor) \u001b[39m-\u001b[39m\u001b[39m>\u001b[39m Tensor:\n\u001b[0;32m--> <a href='file:///Users/pierre/opt/anaconda3/lib/python3.9/site-packages/torch/nn/modules/linear.py?line=102'>103</a>\u001b[0m     \u001b[39mreturn\u001b[39;00m F\u001b[39m.\u001b[39;49mlinear(\u001b[39minput\u001b[39;49m, \u001b[39mself\u001b[39;49m\u001b[39m.\u001b[39;49mweight, \u001b[39mself\u001b[39;49m\u001b[39m.\u001b[39;49mbias)\n",
      "\u001b[0;31mRuntimeError\u001b[0m: mat1 and mat2 shapes cannot be multiplied (3x1 and 3x4)"
     ]
    }
   ],
   "source": [
    "net.forward(x.T)"
   ]
  },
  {
   "cell_type": "markdown",
   "id": "dc7e2ee6-d24a-4109-825b-9248abe08dba",
   "metadata": {},
   "source": [
    "## The Loss"
   ]
  },
  {
   "cell_type": "markdown",
   "id": "705e73a5-ca84-4052-a930-ab2aea2e0a6c",
   "metadata": {},
   "source": [
    "### The simplified network"
   ]
  },
  {
   "cell_type": "code",
   "execution_count": 23,
   "id": "cb144625-4634-4354-993d-87760999ece3",
   "metadata": {},
   "outputs": [],
   "source": [
    "loss_fn = nn.BCELoss()"
   ]
  },
  {
   "cell_type": "markdown",
   "id": "49dff272",
   "metadata": {},
   "source": [
    "Computing the loss: $- y\\ln\\hat{y} - (1-y)\\ln(1 -\\hat{y})$\n",
    "\n",
    "For the dataset, per sample"
   ]
  },
  {
   "cell_type": "code",
   "execution_count": 24,
   "id": "bbc54609",
   "metadata": {},
   "outputs": [
    {
     "data": {
      "text/plain": [
       "tensor([[0.6933],\n",
       "        [0.6857],\n",
       "        [0.7081],\n",
       "        [0.6712]], grad_fn=<SubBackward0>)"
      ]
     },
     "execution_count": 24,
     "metadata": {},
     "output_type": "execute_result"
    }
   ],
   "source": [
    "-y_v * torch.log(y_v_pred) - (1 - y_v) * torch.log(1 - y_v_pred)"
   ]
  },
  {
   "cell_type": "markdown",
   "id": "8a9ab8ae",
   "metadata": {},
   "source": [
    "For the whole dataset"
   ]
  },
  {
   "cell_type": "code",
   "execution_count": 25,
   "id": "0eed1b92",
   "metadata": {},
   "outputs": [
    {
     "data": {
      "text/plain": [
       "tensor(0.6896, grad_fn=<DivBackward0>)"
      ]
     },
     "execution_count": 25,
     "metadata": {},
     "output_type": "execute_result"
    }
   ],
   "source": [
    "torch.sum(-y_v * torch.log(y_v_pred) - (1 - y_v) * torch.log(1 - y_v_pred))/len(y_v)"
   ]
  },
  {
   "cell_type": "markdown",
   "id": "82e5c0bd-ea87-40c5-bda6-7f15ef68f2cb",
   "metadata": {},
   "source": [
    "We use pytorch to compute it. For the dataset"
   ]
  },
  {
   "cell_type": "code",
   "execution_count": 26,
   "id": "6b679c73-9098-47fe-ba89-94a4f7e5b7a7",
   "metadata": {},
   "outputs": [
    {
     "data": {
      "text/plain": [
       "tensor([[0.4999],\n",
       "        [0.4962],\n",
       "        [0.4926],\n",
       "        [0.4889]], grad_fn=<SigmoidBackward0>)"
      ]
     },
     "execution_count": 26,
     "metadata": {},
     "output_type": "execute_result"
    }
   ],
   "source": [
    "net.forward(X)"
   ]
  },
  {
   "cell_type": "code",
   "execution_count": 27,
   "id": "439d8040-759e-4342-91d0-91de9e6dee2c",
   "metadata": {},
   "outputs": [
    {
     "data": {
      "text/plain": [
       "tensor(0.6896, grad_fn=<BinaryCrossEntropyBackward0>)"
      ]
     },
     "execution_count": 27,
     "metadata": {},
     "output_type": "execute_result"
    }
   ],
   "source": [
    "loss_fn(net.forward(X), y_v)"
   ]
  },
  {
   "cell_type": "markdown",
   "id": "c63519f6-ae25-451d-9a9e-a4faedda2cc6",
   "metadata": {},
   "source": [
    "For one observation"
   ]
  },
  {
   "cell_type": "code",
   "execution_count": 28,
   "id": "526b7d9a-de58-4877-b536-2d51f6209691",
   "metadata": {},
   "outputs": [
    {
     "data": {
      "text/plain": [
       "tensor([[0.4999]], grad_fn=<SigmoidBackward0>)"
      ]
     },
     "execution_count": 28,
     "metadata": {},
     "output_type": "execute_result"
    }
   ],
   "source": [
    "net.forward(x)"
   ]
  },
  {
   "cell_type": "code",
   "execution_count": 29,
   "id": "77da0bf8-c836-48fa-a9bf-80ddd17224b9",
   "metadata": {},
   "outputs": [
    {
     "data": {
      "text/plain": [
       "tensor(0.6933, grad_fn=<BinaryCrossEntropyBackward0>)"
      ]
     },
     "execution_count": 29,
     "metadata": {},
     "output_type": "execute_result"
    }
   ],
   "source": [
    "loss = loss_fn(net.forward(x), y_v[:1])\n",
    "loss"
   ]
  },
  {
   "cell_type": "code",
   "execution_count": 30,
   "id": "1dd28734-3a9c-417f-83ea-1e7bf2da35b9",
   "metadata": {},
   "outputs": [
    {
     "data": {
      "text/plain": [
       "0.6933102607727051"
      ]
     },
     "execution_count": 30,
     "metadata": {},
     "output_type": "execute_result"
    }
   ],
   "source": [
    "loss.item()"
   ]
  },
  {
   "cell_type": "code",
   "execution_count": 31,
   "id": "ee182d52-f8c7-4559-ba0a-a122f713ab29",
   "metadata": {},
   "outputs": [
    {
     "data": {
      "text/plain": [
       "tensor(0.6933)"
      ]
     },
     "execution_count": 31,
     "metadata": {},
     "output_type": "execute_result"
    }
   ],
   "source": [
    "loss.data"
   ]
  },
  {
   "cell_type": "markdown",
   "id": "6dadd9c6-bf23-4072-9d11-257abbf6f2cf",
   "metadata": {},
   "source": [
    "### The book network"
   ]
  },
  {
   "cell_type": "code",
   "execution_count": 32,
   "id": "948a4bb6-1507-44f9-8b92-7150a33ae4da",
   "metadata": {},
   "outputs": [],
   "source": [
    "loss_book_fn = nn.BCELoss()"
   ]
  },
  {
   "cell_type": "code",
   "execution_count": 33,
   "id": "73d204c0-bb76-4075-b369-8bf5d697e33d",
   "metadata": {},
   "outputs": [
    {
     "data": {
      "text/plain": [
       "tensor([[0.4899],\n",
       "        [0.4848],\n",
       "        [0.4798],\n",
       "        [0.4747]], grad_fn=<SigmoidBackward0>)"
      ]
     },
     "execution_count": 33,
     "metadata": {},
     "output_type": "execute_result"
    }
   ],
   "source": [
    "net_book(X)"
   ]
  },
  {
   "cell_type": "code",
   "execution_count": 34,
   "id": "a0c3dc49-8ba8-48a3-860e-e828e9ceb278",
   "metadata": {},
   "outputs": [
    {
     "data": {
      "text/plain": [
       "tensor(0.6888, grad_fn=<BinaryCrossEntropyBackward0>)"
      ]
     },
     "execution_count": 34,
     "metadata": {},
     "output_type": "execute_result"
    }
   ],
   "source": [
    "loss_book = loss_book_fn(net_book(X), y_v)\n",
    "loss_book"
   ]
  },
  {
   "cell_type": "markdown",
   "id": "0df8a64e-c3d0-4af5-a54a-f79e64b88a89",
   "metadata": {
    "tags": []
   },
   "source": [
    "## Going backward"
   ]
  },
  {
   "cell_type": "markdown",
   "id": "0c604f62-5022-4b67-8bc8-ad676b43a500",
   "metadata": {},
   "source": [
    "Now, we backpropagate the gradients and we will use just one observation to check the backpropagated gradient values"
   ]
  },
  {
   "cell_type": "code",
   "execution_count": 35,
   "id": "14f3901a-4baa-4c37-86c4-bf7dda13227e",
   "metadata": {},
   "outputs": [],
   "source": [
    "loss.backward()"
   ]
  },
  {
   "cell_type": "code",
   "execution_count": 36,
   "id": "8d466a20-8fa1-4b23-9ecb-0e9946c82111",
   "metadata": {},
   "outputs": [
    {
     "data": {
      "text/plain": [
       "tensor(0.6933, grad_fn=<BinaryCrossEntropyBackward0>)"
      ]
     },
     "execution_count": 36,
     "metadata": {},
     "output_type": "execute_result"
    }
   ],
   "source": [
    "loss"
   ]
  },
  {
   "cell_type": "markdown",
   "id": "7b74096b-d33d-49cf-8278-b4e474d67035",
   "metadata": {},
   "source": [
    "## The gradients"
   ]
  },
  {
   "cell_type": "markdown",
   "id": "f3662d95-62e0-4970-923d-e98696ed71c3",
   "metadata": {},
   "source": [
    "Obtained from PyTorch with respect to the weights"
   ]
  },
  {
   "cell_type": "code",
   "execution_count": 37,
   "id": "db30f071-fd1d-4f52-adb4-675f19755344",
   "metadata": {},
   "outputs": [
    {
     "data": {
      "text/plain": [
       "tensor([[-0.0018, -0.0037, -0.0055],\n",
       "        [ 0.0089,  0.0177,  0.0266],\n",
       "        [-0.0500, -0.0999, -0.1499],\n",
       "        [ 0.0302,  0.0604,  0.0906]])"
      ]
     },
     "execution_count": 37,
     "metadata": {},
     "output_type": "execute_result"
    }
   ],
   "source": [
    "net.fc1.weight.grad"
   ]
  },
  {
   "cell_type": "code",
   "execution_count": 38,
   "id": "bec429c9-3609-4731-9f48-2fd91352dabf",
   "metadata": {},
   "outputs": [
    {
     "data": {
      "text/plain": [
       "tensor([[ 0.1360, -0.0792,  0.0661,  0.1415],\n",
       "        [-0.2061,  0.1200, -0.1001, -0.2144]])"
      ]
     },
     "execution_count": 38,
     "metadata": {},
     "output_type": "execute_result"
    }
   ],
   "source": [
    "net.fc2.weight.grad"
   ]
  },
  {
   "cell_type": "code",
   "execution_count": 39,
   "id": "e28f3982-ea10-44f1-b3ea-6b0113f7aa0c",
   "metadata": {},
   "outputs": [
    {
     "data": {
      "text/plain": [
       "tensor([[-0.3337, -0.2199]])"
      ]
     },
     "execution_count": 39,
     "metadata": {},
     "output_type": "execute_result"
    }
   ],
   "source": [
    "net.fc3.weight.grad"
   ]
  },
  {
   "cell_type": "markdown",
   "id": "d2065f03-2723-4a25-b0c8-1eac4d68bff3",
   "metadata": {},
   "source": [
    "## Gradients computed by hand with respect to the inputs and hidden layers"
   ]
  },
  {
   "cell_type": "markdown",
   "id": "ad4e10d5-ec2c-41cb-afe8-82223d8c6d93",
   "metadata": {},
   "source": [
    "### Layer 3\n",
    "The gradient of the loss with respect to the third and last layer: $\\mathbf{z}^{(3)}$: $\\nabla_{\\mathbf{z}^{(3)}}Loss(y, \\hat{y})$.\n",
    "\n",
    "A few useful identities:\n",
    "$$\n",
    "\\begin{array}{lcl}\n",
    "Loss(y, \\hat{y}) & = &- y\\ln\\hat{y} - (1-y)\\ln(1 -\\hat{y})\\\\\\\\\n",
    "\\nabla_{\\hat{y}} & = & -\\frac{y}{\\hat{y}} + \\frac{1 - y}{1 - \\hat{y}}\\\\\n",
    "& = & -\\frac{y - \\hat{y}}{\\hat{y}(1 -\\hat{y})}\\\\\\\\\n",
    "lr'& =& \\frac{e^{-z^{(3)}}}{(1 + e^{-z^{(3)}})^2}\\\\\n",
    "& =& \\frac{1}{1 + e^{-z^{(3)}}}(1 - \\frac{1}{(1 + e^{-z^{(3)}}})\\\\\n",
    "& =&\\hat{y}(1 - \\hat{y})\\\\\\\\\n",
    "\\delta_3 &=& \\nabla_{\\hat{y}} \\cdot lr'\\\\\n",
    " &=& \\hat{y} - y\n",
    "\\end{array}\n",
    "$$"
   ]
  },
  {
   "cell_type": "code",
   "execution_count": 40,
   "id": "7bbe9a0a",
   "metadata": {},
   "outputs": [
    {
     "data": {
      "text/plain": [
       "tensor([[-0.5001]], grad_fn=<SubBackward0>)"
      ]
     },
     "execution_count": 40,
     "metadata": {},
     "output_type": "execute_result"
    }
   ],
   "source": [
    "delta3 = net.h3 - y_v[:1]\n",
    "delta3"
   ]
  },
  {
   "cell_type": "markdown",
   "id": "21dc1178-1c64-417d-bd55-cfb2bb384c57",
   "metadata": {},
   "source": [
    "This would update $\\mathbf{z}^{(3)}$"
   ]
  },
  {
   "cell_type": "code",
   "execution_count": 41,
   "id": "072b65c6-ee8c-4076-bac5-f6792677d3cf",
   "metadata": {},
   "outputs": [
    {
     "data": {
      "text/plain": [
       "tensor([[-0.0003]], grad_fn=<MmBackward0>)"
      ]
     },
     "execution_count": 41,
     "metadata": {},
     "output_type": "execute_result"
    }
   ],
   "source": [
    "net.z3"
   ]
  },
  {
   "cell_type": "markdown",
   "id": "2721d363-e28a-44f8-a183-e49b5a492f72",
   "metadata": {
    "tags": []
   },
   "source": [
    "### Layer 2"
   ]
  },
  {
   "cell_type": "markdown",
   "id": "289638d0-253e-4aeb-a586-9cf99e11b0db",
   "metadata": {},
   "source": [
    "The gradient of the loss with respect to layer 2: $\\mathbf{z}^{(2)}$: $\\nabla_{\\mathbf{z}^{(2)}}Loss(y, \\hat{y})$\n",
    "\n",
    "$$(\\hat{y} - y)\\mathbf{W}^{(3)}$$"
   ]
  },
  {
   "cell_type": "code",
   "execution_count": 42,
   "id": "93f43a21-eea3-498d-bf5b-044c96d48840",
   "metadata": {},
   "outputs": [
    {
     "data": {
      "text/plain": [
       "tensor([[ 0.1393, -0.2110]], grad_fn=<MmBackward0>)"
      ]
     },
     "execution_count": 42,
     "metadata": {},
     "output_type": "execute_result"
    }
   ],
   "source": [
    "delta2 = delta3@net.fc3.weight\n",
    "delta2"
   ]
  },
  {
   "cell_type": "markdown",
   "id": "2499d64e-bd13-44dd-b4ca-383bf5f70eef",
   "metadata": {},
   "source": [
    "This would update $\\mathbf{z}^{(2)}$"
   ]
  },
  {
   "cell_type": "code",
   "execution_count": 43,
   "id": "26dec373-8d75-4aaf-8f5b-2c20ee6f6ac3",
   "metadata": {},
   "outputs": [
    {
     "data": {
      "text/plain": [
       "tensor([[0.6674, 0.4397]], grad_fn=<MmBackward0>)"
      ]
     },
     "execution_count": 43,
     "metadata": {},
     "output_type": "execute_result"
    }
   ],
   "source": [
    "net.z2"
   ]
  },
  {
   "cell_type": "markdown",
   "id": "d8f2f7b7-67df-41bd-aea0-8b30d8c1c8f5",
   "metadata": {},
   "source": [
    "### Layer 1"
   ]
  },
  {
   "cell_type": "markdown",
   "id": "f018714e-7d4c-405b-ba76-3020d47ff08d",
   "metadata": {},
   "source": [
    "The gradient of the loss with respect to layer 1: $\\mathbf{z}^{(1)}$: $\\nabla_{\\mathbf{z}^{(1)}}Loss(y, \\hat{y})$\n",
    "$$(\\hat{y} - y) \\mathbf{W}^{(3)} \\mathbf{W}^{(2)}$$"
   ]
  },
  {
   "cell_type": "code",
   "execution_count": 44,
   "id": "c43368ee-61e7-4e08-a29a-34045420f115",
   "metadata": {},
   "outputs": [
    {
     "data": {
      "text/plain": [
       "tensor([[-0.0018,  0.0089, -0.0500,  0.0302]], grad_fn=<MmBackward0>)"
      ]
     },
     "execution_count": 44,
     "metadata": {},
     "output_type": "execute_result"
    }
   ],
   "source": [
    "delta1 = delta2@net.fc2.weight\n",
    "delta1"
   ]
  },
  {
   "cell_type": "markdown",
   "id": "ebc50b8e-8350-41f5-969f-71614f9343e6",
   "metadata": {},
   "source": [
    "This would update $\\mathbf{z}^{(1)}$"
   ]
  },
  {
   "cell_type": "code",
   "execution_count": 45,
   "id": "c6dafc48-b098-4a58-aead-a4cddc2aad4d",
   "metadata": {},
   "outputs": [
    {
     "data": {
      "text/plain": [
       "tensor([[ 0.9764, -0.5687,  0.4745,  1.0161]], grad_fn=<MmBackward0>)"
      ]
     },
     "execution_count": 45,
     "metadata": {},
     "output_type": "execute_result"
    }
   ],
   "source": [
    "net.z1"
   ]
  },
  {
   "cell_type": "markdown",
   "id": "fa567d55-7a49-4678-a493-f36f08118c26",
   "metadata": {},
   "source": [
    "### Input Layer"
   ]
  },
  {
   "cell_type": "markdown",
   "id": "44e445f0-7bbd-4a63-aa8b-a788c43a8395",
   "metadata": {},
   "source": [
    "The gradient of the loss with respect to the input layer: $\\mathbf{x}$: $\\nabla_{\\mathbf{x}}Loss(y, \\hat{y})$\n",
    "\n",
    "$$(\\hat{y} - y) \\mathbf{W}^{(3)} \\mathbf{W}^{(2)} \\mathbf{W}^{(1)}$$\n",
    "\n"
   ]
  },
  {
   "cell_type": "code",
   "execution_count": 46,
   "id": "9c786f50-fc16-4e79-8919-e0afa56ef658",
   "metadata": {},
   "outputs": [
    {
     "data": {
      "text/plain": [
       "tensor([[ 0.0082,  0.0055, -0.0064]], grad_fn=<MmBackward0>)"
      ]
     },
     "execution_count": 46,
     "metadata": {},
     "output_type": "execute_result"
    }
   ],
   "source": [
    "delta0 = delta1@net.fc1.weight\n",
    "delta0"
   ]
  },
  {
   "cell_type": "markdown",
   "id": "21df701b",
   "metadata": {},
   "source": [
    "We check the value"
   ]
  },
  {
   "cell_type": "code",
   "execution_count": 47,
   "id": "117d63fe",
   "metadata": {},
   "outputs": [
    {
     "data": {
      "text/plain": [
       "tensor([[ 0.0082,  0.0055, -0.0064]], grad_fn=<MmBackward0>)"
      ]
     },
     "execution_count": 47,
     "metadata": {},
     "output_type": "execute_result"
    }
   ],
   "source": [
    "(torch.sigmoid(net.fc3.weight@net.fc2.weight@net.fc1.weight@x.T) - y_v[0])*net.fc3.weight@net.fc2.weight@net.fc1.weight"
   ]
  },
  {
   "cell_type": "markdown",
   "id": "8fa6f6ab-1705-4f6c-b4df-841976f61388",
   "metadata": {},
   "source": [
    "This would update $\\mathbf{x}$"
   ]
  },
  {
   "cell_type": "code",
   "execution_count": 48,
   "id": "d7de50ce-157c-42ca-8dfe-6497f032bb9f",
   "metadata": {},
   "outputs": [
    {
     "data": {
      "text/plain": [
       "tensor([[1., 2., 3.]])"
      ]
     },
     "execution_count": 48,
     "metadata": {},
     "output_type": "execute_result"
    }
   ],
   "source": [
    "x"
   ]
  },
  {
   "cell_type": "markdown",
   "id": "60bcc910-bc4f-44fb-b5dc-165acd5f8a6b",
   "metadata": {
    "tags": []
   },
   "source": [
    "## Checking the forward pass, once again"
   ]
  },
  {
   "cell_type": "markdown",
   "id": "e6da73d7",
   "metadata": {},
   "source": [
    "As $\\mathbf{x}$ is a row vector, we transpose it to compute the product by hand"
   ]
  },
  {
   "cell_type": "code",
   "execution_count": 49,
   "id": "7a266d1b",
   "metadata": {},
   "outputs": [
    {
     "data": {
      "text/plain": [
       "tensor([[1.],\n",
       "        [2.],\n",
       "        [3.]])"
      ]
     },
     "execution_count": 49,
     "metadata": {},
     "output_type": "execute_result"
    }
   ],
   "source": [
    "x.T"
   ]
  },
  {
   "cell_type": "code",
   "execution_count": 50,
   "id": "34a8cc3a-afea-47a6-bde5-0bb094f2db22",
   "metadata": {},
   "outputs": [
    {
     "data": {
      "text/plain": [
       "tensor([[-0.0003]], grad_fn=<MmBackward0>)"
      ]
     },
     "execution_count": 50,
     "metadata": {},
     "output_type": "execute_result"
    }
   ],
   "source": [
    "net.fc3.weight@net.fc2.weight@net.fc1.weight@x.T"
   ]
  },
  {
   "cell_type": "code",
   "execution_count": 51,
   "id": "c3c29818-5765-494f-948c-895abbead674",
   "metadata": {},
   "outputs": [
    {
     "data": {
      "text/plain": [
       "tensor([[-0.0003]], grad_fn=<MmBackward0>)"
      ]
     },
     "execution_count": 51,
     "metadata": {},
     "output_type": "execute_result"
    }
   ],
   "source": [
    "net.z3"
   ]
  },
  {
   "cell_type": "code",
   "execution_count": 52,
   "id": "ba314a75",
   "metadata": {},
   "outputs": [
    {
     "data": {
      "text/plain": [
       "tensor([[0.4999]], grad_fn=<SigmoidBackward0>)"
      ]
     },
     "execution_count": 52,
     "metadata": {},
     "output_type": "execute_result"
    }
   ],
   "source": [
    "torch.sigmoid(net.z3)"
   ]
  },
  {
   "cell_type": "code",
   "execution_count": 53,
   "id": "711c94ae",
   "metadata": {},
   "outputs": [
    {
     "data": {
      "text/plain": [
       "tensor([[0.4999]], grad_fn=<SigmoidBackward0>)"
      ]
     },
     "execution_count": 53,
     "metadata": {},
     "output_type": "execute_result"
    }
   ],
   "source": [
    "net.h3"
   ]
  },
  {
   "cell_type": "markdown",
   "id": "5ac08adc",
   "metadata": {},
   "source": [
    "We check the value. Note that we do not transpose $\\mathbf{x}$."
   ]
  },
  {
   "cell_type": "code",
   "execution_count": 54,
   "id": "9d0448bd",
   "metadata": {},
   "outputs": [
    {
     "data": {
      "text/plain": [
       "tensor([[0.4999]], grad_fn=<SigmoidBackward0>)"
      ]
     },
     "execution_count": 54,
     "metadata": {},
     "output_type": "execute_result"
    }
   ],
   "source": [
    "net.forward(x)"
   ]
  },
  {
   "cell_type": "markdown",
   "id": "415629ab",
   "metadata": {},
   "source": [
    "## Now computing the gradient with respect to the weights. "
   ]
  },
  {
   "cell_type": "markdown",
   "id": "99c00f2e-6ff5-4f88-a559-e95403ada384",
   "metadata": {
    "tags": []
   },
   "source": [
    "### One step backward\n",
    "\n",
    "$$\n",
    "\\begin{array}{lcl}\n",
    "\\mathbf{\\nabla}_{\\mathbf{W}^{(3)}} Loss(y, \\hat{y}) &= & (f^{(3)}(\\mathbf{W}^{(3)} \\mathbf{W}^{(2)} \\mathbf{W}^{(1)} \\mathbf{x}) - y) (\\mathbf{W}^{(2)} \\mathbf{W}^{(1)} \\mathbf{x})^{\\intercal}\\\\\n",
    "&=&\\mathbf{\\delta}_3 {\\mathbf{z}_2}^{\\intercal}\n",
    "\\end{array}\n",
    "$$\n",
    "\n",
    "In the computation, we do not need to transpose $\\mathbf{W}^{(2)} \\mathbf{W}^{(1)} \\mathbf{x}$ as we will create a row vector directly"
   ]
  },
  {
   "cell_type": "markdown",
   "id": "25c54184-2385-4af2-b095-f7a42e753e04",
   "metadata": {},
   "source": [
    "The derivative of the loss"
   ]
  },
  {
   "cell_type": "code",
   "execution_count": 55,
   "id": "9a770df5-d7bf-46de-bd50-8520eb75931f",
   "metadata": {},
   "outputs": [
    {
     "data": {
      "text/plain": [
       "tensor([[-0.5001]], grad_fn=<SubBackward0>)"
      ]
     },
     "execution_count": 55,
     "metadata": {},
     "output_type": "execute_result"
    }
   ],
   "source": [
    "delta3"
   ]
  },
  {
   "cell_type": "code",
   "execution_count": 56,
   "id": "e08cfe9c-7761-4412-8bcb-d0f5dd74584a",
   "metadata": {},
   "outputs": [
    {
     "data": {
      "text/plain": [
       "tensor([[0.6674, 0.4397]], grad_fn=<MmBackward0>)"
      ]
     },
     "execution_count": 56,
     "metadata": {},
     "output_type": "execute_result"
    }
   ],
   "source": [
    "net.z2"
   ]
  },
  {
   "cell_type": "markdown",
   "id": "1ca8a39b-5556-445e-bcb0-effdccdefbd8",
   "metadata": {},
   "source": [
    "Now we check the equality with the gradient"
   ]
  },
  {
   "cell_type": "code",
   "execution_count": 57,
   "id": "77a664fc-ae38-467e-a1dd-adb4ab1d0a39",
   "metadata": {},
   "outputs": [
    {
     "data": {
      "text/plain": [
       "tensor([[-0.3337, -0.2199]], grad_fn=<MmBackward0>)"
      ]
     },
     "execution_count": 57,
     "metadata": {},
     "output_type": "execute_result"
    }
   ],
   "source": [
    "delta3 @ net.z2"
   ]
  },
  {
   "cell_type": "code",
   "execution_count": 58,
   "id": "a44642b6-4582-4f2e-81b8-43cbea3b1cea",
   "metadata": {},
   "outputs": [
    {
     "data": {
      "text/plain": [
       "tensor([[-0.3337, -0.2199]])"
      ]
     },
     "execution_count": 58,
     "metadata": {},
     "output_type": "execute_result"
    }
   ],
   "source": [
    "net.fc3.weight.grad"
   ]
  },
  {
   "cell_type": "markdown",
   "id": "b565b0f1-d724-4bc8-90ef-d823ddad8d1c",
   "metadata": {},
   "source": [
    "### Two steps backward\n",
    "\n",
    "$$\n",
    "\\begin{array}{lcl}\n",
    "\\mathbf{\\nabla}_{\\mathbf{W}^{(2)}} Loss(y, \\hat{y}) & = & (f^{(3)}(\\mathbf{W}^{(3)} \\mathbf{W}^{(2)} \\mathbf{W}^{(1)} \\mathbf{x}) - y)\\mathbf{W}^{(3)} ( \\mathbf{W}^{(1)} \\mathbf{x})^{\\intercal}\\\\\n",
    "& = & \\mathbf{\\delta}_2 {\\mathbf{z}_1}^\\intercal\n",
    "\\end{array}\n",
    "$$\n",
    "\n",
    "The gradient with respect to the hidden layer is supposed to be a column and the hidden layer a row vector. We adjust them with some transpose operations."
   ]
  },
  {
   "cell_type": "markdown",
   "id": "a66bcf6b",
   "metadata": {},
   "source": [
    "We transpose $\\delta_2$ so that it is a column"
   ]
  },
  {
   "cell_type": "code",
   "execution_count": 59,
   "id": "d9083046-8137-42ad-a7d5-65300d604997",
   "metadata": {},
   "outputs": [
    {
     "data": {
      "text/plain": [
       "tensor([[ 0.1393],\n",
       "        [-0.2110]], grad_fn=<PermuteBackward0>)"
      ]
     },
     "execution_count": 59,
     "metadata": {},
     "output_type": "execute_result"
    }
   ],
   "source": [
    "delta2.T"
   ]
  },
  {
   "cell_type": "markdown",
   "id": "5ecf1b22",
   "metadata": {},
   "source": [
    "And we do not transpose $\\mathbf{z}_1$ as it is already a row."
   ]
  },
  {
   "cell_type": "code",
   "execution_count": 63,
   "id": "643bd338-e67d-4889-a558-5e057fb48865",
   "metadata": {},
   "outputs": [
    {
     "data": {
      "text/plain": [
       "tensor([[ 0.9764, -0.5687,  0.4745,  1.0161]], grad_fn=<MmBackward0>)"
      ]
     },
     "execution_count": 63,
     "metadata": {},
     "output_type": "execute_result"
    }
   ],
   "source": [
    "net.z1"
   ]
  },
  {
   "cell_type": "markdown",
   "id": "6db493f8-0016-487a-a0fe-7d7833413e37",
   "metadata": {},
   "source": [
    "We check the equality with the gradient"
   ]
  },
  {
   "cell_type": "code",
   "execution_count": 64,
   "id": "980b950b-773a-4de9-b7df-8868579c9b2a",
   "metadata": {},
   "outputs": [
    {
     "data": {
      "text/plain": [
       "tensor([[ 0.1360, -0.0792,  0.0661,  0.1415],\n",
       "        [-0.2061,  0.1200, -0.1001, -0.2144]], grad_fn=<MmBackward0>)"
      ]
     },
     "execution_count": 64,
     "metadata": {},
     "output_type": "execute_result"
    }
   ],
   "source": [
    "delta2.T@net.z1"
   ]
  },
  {
   "cell_type": "code",
   "execution_count": 65,
   "id": "0ebcf8c5-505e-493a-9fbd-80d8b16e6e3e",
   "metadata": {},
   "outputs": [
    {
     "data": {
      "text/plain": [
       "tensor([[ 0.1360, -0.0792,  0.0661,  0.1415],\n",
       "        [-0.2061,  0.1200, -0.1001, -0.2144]])"
      ]
     },
     "execution_count": 65,
     "metadata": {},
     "output_type": "execute_result"
    }
   ],
   "source": [
    "net.fc2.weight.grad"
   ]
  },
  {
   "cell_type": "markdown",
   "id": "c8795904-cc43-4748-8b5b-5a80ec325220",
   "metadata": {},
   "source": [
    "### Three steps backward\n",
    "\n",
    "$$\n",
    "\\begin{array}{lcl}\n",
    "\\mathbf{\\nabla}_{\\mathbf{W}^{(1)}} Loss(y, \\hat{y}) & = & (f^{(3)}(\\mathbf{W}^{(3)} \\mathbf{W}^{(2)} \\mathbf{W}^{(1)} \\mathbf{x}) - y)\\mathbf{W}^{(3)} \\mathbf{W}^{(2)} (  \\mathbf{x})^{\\intercal}\\\\\n",
    "& = & \\mathbf{\\delta}_1 \\mathbf{x}^\\intercal\n",
    "\\end{array}\n",
    "$$"
   ]
  },
  {
   "cell_type": "code",
   "execution_count": 66,
   "id": "9de2f9d9-e086-417b-8a4f-21dde24c3120",
   "metadata": {},
   "outputs": [
    {
     "data": {
      "text/plain": [
       "tensor([[-0.0018],\n",
       "        [ 0.0089],\n",
       "        [-0.0500],\n",
       "        [ 0.0302]], grad_fn=<PermuteBackward0>)"
      ]
     },
     "execution_count": 66,
     "metadata": {},
     "output_type": "execute_result"
    }
   ],
   "source": [
    "delta1.T"
   ]
  },
  {
   "cell_type": "code",
   "execution_count": 67,
   "id": "c0395765-6687-4fa2-b026-f65cdd1e61af",
   "metadata": {},
   "outputs": [
    {
     "data": {
      "text/plain": [
       "tensor([[1., 2., 3.]])"
      ]
     },
     "execution_count": 67,
     "metadata": {},
     "output_type": "execute_result"
    }
   ],
   "source": [
    "x"
   ]
  },
  {
   "cell_type": "code",
   "execution_count": 68,
   "id": "ea685d6c-03f0-471f-9a64-a3fc77ae6b67",
   "metadata": {},
   "outputs": [
    {
     "data": {
      "text/plain": [
       "tensor([[-0.0018, -0.0037, -0.0055],\n",
       "        [ 0.0089,  0.0177,  0.0266],\n",
       "        [-0.0500, -0.0999, -0.1499],\n",
       "        [ 0.0302,  0.0604,  0.0906]], grad_fn=<MmBackward0>)"
      ]
     },
     "execution_count": 68,
     "metadata": {},
     "output_type": "execute_result"
    }
   ],
   "source": [
    "delta1.T@x"
   ]
  },
  {
   "cell_type": "code",
   "execution_count": 69,
   "id": "e99910e5-ce77-448c-b798-0e809f06b9c5",
   "metadata": {},
   "outputs": [
    {
     "data": {
      "text/plain": [
       "tensor([[-0.0018, -0.0037, -0.0055],\n",
       "        [ 0.0089,  0.0177,  0.0266],\n",
       "        [-0.0500, -0.0999, -0.1499],\n",
       "        [ 0.0302,  0.0604,  0.0906]])"
      ]
     },
     "execution_count": 69,
     "metadata": {},
     "output_type": "execute_result"
    }
   ],
   "source": [
    "net.fc1.weight.grad"
   ]
  },
  {
   "cell_type": "markdown",
   "id": "636312cb",
   "metadata": {},
   "source": [
    "We have the same gradients!"
   ]
  },
  {
   "cell_type": "markdown",
   "id": "db7ec843-7986-4a8a-ba00-1eeb915ae34f",
   "metadata": {},
   "source": [
    "## Test"
   ]
  },
  {
   "cell_type": "code",
   "execution_count": 70,
   "id": "4b40798f-0da2-42e5-b84a-fe768dcd67c7",
   "metadata": {},
   "outputs": [
    {
     "data": {
      "text/plain": [
       "tensor([[1.],\n",
       "        [2.],\n",
       "        [3.]])"
      ]
     },
     "execution_count": 70,
     "metadata": {},
     "output_type": "execute_result"
    }
   ],
   "source": [
    "a = torch.tensor([[1.0, 2.0, 3.0]]).T\n",
    "a"
   ]
  },
  {
   "cell_type": "code",
   "execution_count": 71,
   "id": "f3a3ce81-4956-4969-a01e-4b988e2cd198",
   "metadata": {},
   "outputs": [
    {
     "data": {
      "text/plain": [
       "tensor([[2., 3., 4.]])"
      ]
     },
     "execution_count": 71,
     "metadata": {},
     "output_type": "execute_result"
    }
   ],
   "source": [
    "b  = torch.tensor([[2.0, 3.0, 4.0]])\n",
    "b"
   ]
  },
  {
   "cell_type": "code",
   "execution_count": 72,
   "id": "4299b8b9-8d33-4130-ad49-d8dd42057dc7",
   "metadata": {},
   "outputs": [
    {
     "data": {
      "text/plain": [
       "tensor([[ 2.,  3.,  4.],\n",
       "        [ 4.,  6.,  8.],\n",
       "        [ 6.,  9., 12.]])"
      ]
     },
     "execution_count": 72,
     "metadata": {},
     "output_type": "execute_result"
    }
   ],
   "source": [
    "a @ b"
   ]
  },
  {
   "cell_type": "code",
   "execution_count": null,
   "id": "eaf051bd-02a1-4558-9e59-280f9cb7bf22",
   "metadata": {},
   "outputs": [],
   "source": []
  }
 ],
 "metadata": {
  "kernelspec": {
   "display_name": "Python 3 (ipykernel)",
   "language": "python",
   "name": "python3"
  },
  "language_info": {
   "codemirror_mode": {
    "name": "ipython",
    "version": 3
   },
   "file_extension": ".py",
   "mimetype": "text/x-python",
   "name": "python",
   "nbconvert_exporter": "python",
   "pygments_lexer": "ipython3",
   "version": "3.9.12"
  }
 },
 "nbformat": 4,
 "nbformat_minor": 5
}
