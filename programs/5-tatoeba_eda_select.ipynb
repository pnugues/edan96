{
 "cells": [
  {
   "cell_type": "markdown",
   "metadata": {},
   "source": [
    "# Tatoeba: Exploratory data analysis (EDA) and Dataset partitioning\n",
    "\n",
    "Authors: Pierre Nugues and Marcus Klang"
   ]
  },
  {
   "cell_type": "markdown",
   "metadata": {},
   "source": [
    "Tatoeba is a collection of sentences in many languages. They can be sentences in one language, for instance French, or translations, i.e. resulting in pairs of sentences in two languages, for instance French and English.\n",
    "\n",
    "Tatoeba is a collaborative site and anyone can contribute and download the dataset here: https://tatoeba.org/downloads. As all the sentences are annotated with their language, many applications use Tatoeba to train machine-learning models. This includes translation and language detection.\n",
    "\n",
    "Over the time, Tatoeba has become quite large. In this notebook, we will carry out a small exploratory data analysis of its content and see how we can extract a part of it.\n",
    "\n",
    "This is a preliminary step to understand language detection and CLD3, https://github.com/google/cld3"
   ]
  },
  {
   "cell_type": "code",
   "execution_count": 1,
   "metadata": {},
   "outputs": [],
   "source": [
    "import os\n",
    "import random\n",
    "from collections import Counter\n",
    "import tarfile\n",
    "import torch\n",
    "import matplotlib.pyplot as plt"
   ]
  },
  {
   "cell_type": "code",
   "execution_count": 2,
   "metadata": {},
   "outputs": [
    {
     "data": {
      "text/plain": [
       "<torch._C.Generator at 0x119922390>"
      ]
     },
     "execution_count": 2,
     "metadata": {},
     "output_type": "execute_result"
    }
   ],
   "source": [
    "random.seed(4321)\n",
    "torch.manual_seed(4321)"
   ]
  },
  {
   "cell_type": "markdown",
   "metadata": {},
   "source": [
    "## Downloading the Dataset"
   ]
  },
  {
   "cell_type": "markdown",
   "metadata": {},
   "source": [
    "Remove the comments the first time you run this notebook"
   ]
  },
  {
   "cell_type": "code",
   "execution_count": 3,
   "metadata": {},
   "outputs": [
    {
     "name": "stdout",
     "output_type": "stream",
     "text": [
      "--2024-11-21 21:35:07--  https://downloads.tatoeba.org/exports/sentences.tar.bz2\n",
      "Résolution de downloads.tatoeba.org (downloads.tatoeba.org)… 94.130.77.194\n",
      "Connexion à downloads.tatoeba.org (downloads.tatoeba.org)|94.130.77.194|:443… connecté.\n",
      "requête HTTP transmise, en attente de la réponse… 200 OK\n",
      "Taille : 196496980 (187M) [application/octet-stream]\n",
      "Sauvegarde en : « sentences.tar.bz2.2 »\n",
      "\n",
      "sentences.tar.bz2.2 100%[===================>] 187,39M  2,61MB/s    ds 73s     \n",
      "\n",
      "2024-11-21 21:36:21 (2,56 MB/s) — « sentences.tar.bz2.2 » sauvegardé [196496980/196496980]\n",
      "\n"
     ]
    }
   ],
   "source": [
    "!wget https://downloads.tatoeba.org/exports/sentences.tar.bz2"
   ]
  },
  {
   "cell_type": "code",
   "execution_count": 4,
   "metadata": {},
   "outputs": [],
   "source": [
    "tarfile.open('sentences.tar.bz2').extractall(filter='data')"
   ]
  },
  {
   "cell_type": "code",
   "execution_count": 5,
   "metadata": {},
   "outputs": [],
   "source": [
    "TATOEBA_FILE = 'sentences.csv'"
   ]
  },
  {
   "cell_type": "code",
   "execution_count": 6,
   "metadata": {},
   "outputs": [],
   "source": [
    "SMALL_DATASET_PATH = 'small_dataset'\n",
    "LARGE_DATASET_PATH = 'large_dataset'\n",
    "SENT_PER_LANG_SMALL = 1000\n",
    "SENT_PER_LANG_LARGE = 15000\n",
    "MIN_SENT_PER_LANG = 20000"
   ]
  },
  {
   "cell_type": "code",
   "execution_count": 7,
   "metadata": {},
   "outputs": [],
   "source": [
    "SMALL = True"
   ]
  },
  {
   "cell_type": "code",
   "execution_count": 8,
   "metadata": {},
   "outputs": [],
   "source": [
    "if SMALL:\n",
    "    dataset_path = SMALL_DATASET_PATH\n",
    "    sent_per_lang = SENT_PER_LANG_SMALL\n",
    "\n",
    "else:\n",
    "    dataset_path = LARGE_DATASET_PATH\n",
    "    sent_per_lang = SENT_PER_LANG_LARGE"
   ]
  },
  {
   "cell_type": "markdown",
   "metadata": {},
   "source": [
    "## Content of the file"
   ]
  },
  {
   "cell_type": "markdown",
   "metadata": {},
   "source": [
    "We read the first lines of the file. It has a tabulated structure.\n",
    "   * The separator is a tabulation (\\t)\n",
    "   * Three columns\n",
    "       + Unique id, number\n",
    "       + Language code (ISO 639-3)\n",
    "       + Sentence encoded using unicode (UTF-8)"
   ]
  },
  {
   "cell_type": "code",
   "execution_count": 9,
   "metadata": {},
   "outputs": [
    {
     "name": "stdout",
     "output_type": "stream",
     "text": [
      "('1', 'cmn', '我們試試看！')\n",
      "('2', 'cmn', '我该去睡觉了。')\n",
      "('3', 'cmn', '你在干什麼啊？')\n",
      "('4', 'cmn', '這是什麼啊？')\n",
      "('5', 'cmn', '今天是６月１８号，也是Muiriel的生日！')\n",
      "('6', 'cmn', '生日快乐，Muiriel！')\n",
      "('7', 'cmn', 'Muiriel现在20岁了。')\n",
      "('8', 'cmn', '密码是\"Muiriel\"。')\n",
      "('9', 'cmn', '我很快就會回來。')\n",
      "('10', 'cmn', '我不知道。')\n"
     ]
    }
   ],
   "source": [
    "with open(TATOEBA_FILE, encoding='utf8', errors='ignore') as f:\n",
    "    for cnt, line in enumerate(f):\n",
    "        if cnt >= 10:\n",
    "            break\n",
    "        row = line.strip()\n",
    "        print(tuple(row.split('\\t')))"
   ]
  },
  {
   "cell_type": "markdown",
   "metadata": {},
   "source": [
    "## Reading the complete file and counting the lines"
   ]
  },
  {
   "cell_type": "markdown",
   "metadata": {},
   "source": [
    "We create a generator"
   ]
  },
  {
   "cell_type": "code",
   "execution_count": 10,
   "metadata": {},
   "outputs": [],
   "source": [
    "def file_reader(file):\n",
    "    with open(file, encoding='utf8', errors='ignore') as f:\n",
    "        for line in f:\n",
    "            row = line.strip()\n",
    "            yield tuple(row.split('\\t'))"
   ]
  },
  {
   "cell_type": "code",
   "execution_count": 11,
   "metadata": {},
   "outputs": [],
   "source": [
    "line_generator = file_reader(TATOEBA_FILE)"
   ]
  },
  {
   "cell_type": "markdown",
   "metadata": {},
   "source": [
    "We count the lines. Note that this can take time."
   ]
  },
  {
   "cell_type": "code",
   "execution_count": 12,
   "metadata": {},
   "outputs": [
    {
     "data": {
      "text/plain": [
       "12394459"
      ]
     },
     "execution_count": 12,
     "metadata": {},
     "output_type": "execute_result"
    }
   ],
   "source": [
    "cnt = 0\n",
    "for _ in line_generator:\n",
    "    cnt += 1\n",
    "cnt"
   ]
  },
  {
   "cell_type": "markdown",
   "metadata": {},
   "source": [
    "Nonetheless, a small dataset by today's standards."
   ]
  },
  {
   "cell_type": "markdown",
   "metadata": {},
   "source": [
    "We need to recreate `line_generator()` each time we run it."
   ]
  },
  {
   "cell_type": "code",
   "execution_count": 13,
   "metadata": {},
   "outputs": [
    {
     "data": {
      "text/plain": [
       "0"
      ]
     },
     "execution_count": 13,
     "metadata": {},
     "output_type": "execute_result"
    }
   ],
   "source": [
    "cnt = 0\n",
    "for _ in line_generator:\n",
    "    cnt += 1\n",
    "cnt"
   ]
  },
  {
   "cell_type": "markdown",
   "metadata": {},
   "source": [
    "## Counting the Sentences per Language"
   ]
  },
  {
   "cell_type": "markdown",
   "metadata": {},
   "source": [
    "For this, we recreate our generator"
   ]
  },
  {
   "cell_type": "code",
   "execution_count": 14,
   "metadata": {},
   "outputs": [],
   "source": [
    "line_generator = file_reader(TATOEBA_FILE)"
   ]
  },
  {
   "cell_type": "markdown",
   "metadata": {},
   "source": [
    "And we count the sentences per language"
   ]
  },
  {
   "cell_type": "code",
   "execution_count": 15,
   "metadata": {},
   "outputs": [],
   "source": [
    "lang_freqs = Counter(map(lambda x: x[1], line_generator))"
   ]
  },
  {
   "cell_type": "code",
   "execution_count": 16,
   "metadata": {},
   "outputs": [
    {
     "data": {
      "text/plain": [
       "[('eng', 1941316),\n",
       " ('rus', 1094936),\n",
       " ('ita', 895240),\n",
       " ('epo', 771816),\n",
       " ('kab', 750115),\n",
       " ('tur', 735917),\n",
       " ('deu', 701188),\n",
       " ('ber', 682735),\n",
       " ('fra', 642583),\n",
       " ('por', 434390),\n",
       " ('hun', 413462),\n",
       " ('spa', 409478),\n",
       " ('jpn', 242176),\n",
       " ('heb', 201635),\n",
       " ('nld', 187059)]"
      ]
     },
     "execution_count": 16,
     "metadata": {},
     "output_type": "execute_result"
    }
   ],
   "source": [
    "lang_freqs.most_common(15)"
   ]
  },
  {
   "cell_type": "markdown",
   "metadata": {},
   "source": [
    "We plot them"
   ]
  },
  {
   "cell_type": "code",
   "execution_count": 17,
   "metadata": {},
   "outputs": [
    {
     "data": {
      "image/png": "[encoded data removed]",
      "text/plain": [
       "<Figure size 640x480 with 1 Axes>"
      ]
     },
     "metadata": {},
     "output_type": "display_data"
    }
   ],
   "source": [
    "lang, cnt = zip(*lang_freqs.most_common(20))\n",
    "x_pos = torch.arange(len(lang))\n",
    "plt.bar(x_pos, cnt)\n",
    "plt.xticks(x_pos, lang)\n",
    "plt.show()"
   ]
  },
  {
   "cell_type": "markdown",
   "metadata": {},
   "source": [
    "## Selecting the Languages\n",
    "We consider languages with many examples, more than a fixed threshold"
   ]
  },
  {
   "cell_type": "code",
   "execution_count": 18,
   "metadata": {},
   "outputs": [],
   "source": [
    "selected_langs = {lang:freq for lang, freq in lang_freqs.items() if freq > MIN_SENT_PER_LANG}"
   ]
  },
  {
   "cell_type": "code",
   "execution_count": 19,
   "metadata": {},
   "outputs": [
    {
     "data": {
      "text/plain": [
       "(44,\n",
       " {'cmn': 74619,\n",
       "  'deu': 701188,\n",
       "  'rus': 1094936,\n",
       "  'fra': 642583,\n",
       "  'eng': 1941316,\n",
       "  'jpn': 242176,\n",
       "  'spa': 409478,\n",
       "  'ita': 895240,\n",
       "  'vie': 25284,\n",
       "  'nld': 187059,\n",
       "  'epo': 771816,\n",
       "  'por': 434390,\n",
       "  'tur': 735917,\n",
       "  'heb': 201635,\n",
       "  'hun': 413462,\n",
       "  'ell': 39423,\n",
       "  'ind': 24233,\n",
       "  'ara': 65430,\n",
       "  'fin': 150388,\n",
       "  'bul': 25117,\n",
       "  'swe': 56182,\n",
       "  'ukr': 186407,\n",
       "  'ces': 80980,\n",
       "  'pol': 129152,\n",
       "  'lat': 51505,\n",
       "  'ron': 35463,\n",
       "  'yid': 22650,\n",
       "  'srp': 50695,\n",
       "  'dan': 63685,\n",
       "  'pes': 30224,\n",
       "  'slk': 23333,\n",
       "  'tgl': 76327,\n",
       "  'lit': 115720,\n",
       "  'mkd': 78227,\n",
       "  'tok': 59370,\n",
       "  'ina': 36558,\n",
       "  'tlh': 28530,\n",
       "  'kab': 750115,\n",
       "  'ber': 682735,\n",
       "  'mar': 73277,\n",
       "  'hau': 21818,\n",
       "  'lfn': 31459,\n",
       "  'shi': 20680,\n",
       "  'swc': 23822})"
      ]
     },
     "execution_count": 19,
     "metadata": {},
     "output_type": "execute_result"
    }
   ],
   "source": [
    "len(selected_langs), selected_langs "
   ]
  },
  {
   "cell_type": "markdown",
   "metadata": {},
   "source": [
    "## Selection of Sentences"
   ]
  },
  {
   "cell_type": "markdown",
   "metadata": {},
   "source": [
    "To ease training, we select `sent_per_lang` sentences (15,000 or 1000) of each language in `selected_languages`. For this, we first write a generator that will return the sentence if it is less than a random number. We use a uniform random generator between 0 and 1. If we want to select 10% of the sentences of a given language, we will return the sentence when the random number is less than 0.1, for 20%, it will be 0.2, etc.\n",
    "\n",
    "The percentage is given by `sent_per_lang` divided by the number of sentence in the language."
   ]
  },
  {
   "cell_type": "markdown",
   "metadata": {},
   "source": [
    "We first write a generator that will return the sentence if it is less than a random number. We use a uniform random generator between 0 and 1. If we want to select 10% of the sentences of a given language, we will return the sentence when the random number is less than 0.1, for 20%, it will be 0.2, etc."
   ]
  },
  {
   "cell_type": "code",
   "execution_count": 20,
   "metadata": {},
   "outputs": [],
   "source": [
    "lang_percentage = dict()\n",
    "for lang, freq in selected_langs.items():\n",
    "    lang_percentage[lang] = sent_per_lang/freq"
   ]
  },
  {
   "cell_type": "code",
   "execution_count": 21,
   "metadata": {},
   "outputs": [
    {
     "data": {
      "text/plain": [
       "{'cmn': 0.013401412508878436,\n",
       " 'deu': 0.001426151046509638,\n",
       " 'rus': 0.0009132953889542403,\n",
       " 'fra': 0.0015562191965862776,\n",
       " 'eng': 0.0005151144893464022,\n",
       " 'jpn': 0.004129228329809725,\n",
       " 'spa': 0.002442133643321497,\n",
       " 'ita': 0.0011170188999597873,\n",
       " 'vie': 0.039550704002531245,\n",
       " 'nld': 0.005345906906377132,\n",
       " 'epo': 0.0012956455942867212,\n",
       " 'por': 0.0023020787771357537,\n",
       " 'tur': 0.0013588488919266711,\n",
       " 'heb': 0.004959456443573785,\n",
       " 'hun': 0.0024186019513280544,\n",
       " 'ell': 0.02536590315298176,\n",
       " 'ind': 0.0412660421738951,\n",
       " 'ara': 0.01528350909368791,\n",
       " 'fin': 0.0066494667127696356,\n",
       " 'bul': 0.03981367201496994,\n",
       " 'swe': 0.017799295147912144,\n",
       " 'ukr': 0.005364605406449329,\n",
       " 'ces': 0.012348728081007657,\n",
       " 'pol': 0.007742814667988107,\n",
       " 'lat': 0.019415590719347637,\n",
       " 'ron': 0.028198403970335278,\n",
       " 'yid': 0.04415011037527594,\n",
       " 'srp': 0.019725811223986586,\n",
       " 'dan': 0.015702284682421293,\n",
       " 'pes': 0.03308628904182107,\n",
       " 'slk': 0.0428577551107873,\n",
       " 'tgl': 0.013101523707207147,\n",
       " 'lit': 0.008641548565502939,\n",
       " 'mkd': 0.012783310110319966,\n",
       " 'tok': 0.01684352366515075,\n",
       " 'ina': 0.027353793971223807,\n",
       " 'tlh': 0.03505082369435682,\n",
       " 'kab': 0.001333128920232231,\n",
       " 'ber': 0.0014646971372494451,\n",
       " 'mar': 0.013646846896024674,\n",
       " 'hau': 0.045833715280960675,\n",
       " 'lfn': 0.03178740582981023,\n",
       " 'shi': 0.048355899419729204,\n",
       " 'swc': 0.041978003526152295}"
      ]
     },
     "execution_count": 21,
     "metadata": {},
     "output_type": "execute_result"
    }
   ],
   "source": [
    "lang_percentage"
   ]
  },
  {
   "cell_type": "code",
   "execution_count": 22,
   "metadata": {},
   "outputs": [],
   "source": [
    "def sentence_selector(file, lang_percentage):\n",
    "    with open(file, encoding='utf8', errors='ignore') as f:\n",
    "        for line in f:\n",
    "            row = line.strip()\n",
    "            lang_tuple = tuple(row.split('\\t'))\n",
    "            lang = lang_tuple[1]\n",
    "            if lang in lang_percentage and torch.rand(1).item() < lang_percentage[lang]:                \n",
    "                yield lang_tuple"
   ]
  },
  {
   "cell_type": "code",
   "execution_count": 23,
   "metadata": {},
   "outputs": [],
   "source": [
    "working_corpus = sentence_selector(TATOEBA_FILE, lang_percentage)"
   ]
  },
  {
   "cell_type": "markdown",
   "metadata": {},
   "source": [
    "We create an in-memory list of the generator to enable later shuffling"
   ]
  },
  {
   "cell_type": "code",
   "execution_count": 24,
   "metadata": {},
   "outputs": [
    {
     "name": "stdout",
     "output_type": "stream",
     "text": [
      "line count: 44021\n"
     ]
    },
    {
     "data": {
      "text/plain": [
       "[('33', 'cmn', '我要走了。'),\n",
       " ('112', 'deu', 'Ich mochte mysteriöse Charaktere schon immer mehr.'),\n",
       " ('2205', 'eng', 'There are 1000 movies that one must watch before dying.')]"
      ]
     },
     "execution_count": 24,
     "metadata": {},
     "output_type": "execute_result"
    }
   ],
   "source": [
    "working_corpus = list(working_corpus)\n",
    "print('line count:', len(working_corpus))\n",
    "working_corpus[:3]"
   ]
  },
  {
   "cell_type": "markdown",
   "metadata": {},
   "source": [
    "Much smaller and balanced"
   ]
  },
  {
   "cell_type": "code",
   "execution_count": 25,
   "metadata": {},
   "outputs": [
    {
     "data": {
      "text/plain": [
       "Counter({'ron': 1059,\n",
       "         'fra': 1058,\n",
       "         'lat': 1049,\n",
       "         'ell': 1048,\n",
       "         'hun': 1047,\n",
       "         'eng': 1044,\n",
       "         'pol': 1033,\n",
       "         'hau': 1030,\n",
       "         'pes': 1029,\n",
       "         'dan': 1026,\n",
       "         'mar': 1026,\n",
       "         'mkd': 1023,\n",
       "         'nld': 1020,\n",
       "         'ukr': 1018,\n",
       "         'ara': 1018,\n",
       "         'spa': 1016,\n",
       "         'ina': 1016,\n",
       "         'ces': 1016,\n",
       "         'srp': 1015,\n",
       "         'ind': 1005,\n",
       "         'rus': 998,\n",
       "         'bul': 997,\n",
       "         'ita': 997,\n",
       "         'ber': 996,\n",
       "         'jpn': 994,\n",
       "         'swc': 993,\n",
       "         'yid': 988,\n",
       "         'tlh': 988,\n",
       "         'lit': 986,\n",
       "         'deu': 985,\n",
       "         'vie': 985,\n",
       "         'heb': 983,\n",
       "         'shi': 981,\n",
       "         'tgl': 980,\n",
       "         'slk': 976,\n",
       "         'epo': 973,\n",
       "         'kab': 973,\n",
       "         'cmn': 969,\n",
       "         'por': 965,\n",
       "         'swe': 963,\n",
       "         'lfn': 962,\n",
       "         'tur': 949,\n",
       "         'tok': 932,\n",
       "         'fin': 912})"
      ]
     },
     "execution_count": 25,
     "metadata": {},
     "output_type": "execute_result"
    }
   ],
   "source": [
    "Counter(map(lambda x: x[1], working_corpus))"
   ]
  },
  {
   "cell_type": "markdown",
   "metadata": {},
   "source": [
    "## Splitting the corpus\n",
    "We split the corpus in three subsets: \n",
    "* training set\n",
    "* validation set (also called development set)\n",
    "* test set"
   ]
  },
  {
   "cell_type": "code",
   "execution_count": 26,
   "metadata": {},
   "outputs": [],
   "source": [
    "TRAIN_PERCENT = 0.8\n",
    "VAL_PERCENT = 0.1\n",
    "TEST_PERCENT = 0.1"
   ]
  },
  {
   "cell_type": "code",
   "execution_count": 27,
   "metadata": {},
   "outputs": [],
   "source": [
    "random.shuffle(working_corpus)"
   ]
  },
  {
   "cell_type": "code",
   "execution_count": 28,
   "metadata": {},
   "outputs": [
    {
     "data": {
      "text/plain": [
       "[35216, 4402, 4402]"
      ]
     },
     "execution_count": 28,
     "metadata": {},
     "output_type": "execute_result"
    }
   ],
   "source": [
    "split_sizes = list(map(lambda x: int(len(working_corpus) * x), (TRAIN_PERCENT, VAL_PERCENT, TEST_PERCENT)))\n",
    "split_sizes"
   ]
  },
  {
   "cell_type": "code",
   "execution_count": 29,
   "metadata": {},
   "outputs": [
    {
     "data": {
      "text/plain": [
       "[35216, 39618]"
      ]
     },
     "execution_count": 29,
     "metadata": {},
     "output_type": "execute_result"
    }
   ],
   "source": [
    "split_idx = [split_sizes[0], split_sizes[0] + split_sizes[1]]\n",
    "split_idx"
   ]
  },
  {
   "cell_type": "markdown",
   "metadata": {},
   "source": [
    "Finally, we store the files"
   ]
  },
  {
   "cell_type": "code",
   "execution_count": 30,
   "metadata": {},
   "outputs": [],
   "source": [
    "def dump_split_dataset(dataset_path, dataset, indices):\n",
    "    # We assume a train, validation, and test sets\n",
    "    os.makedirs(dataset_path, exist_ok=True)\n",
    "    train_out = open(os.path.join(dataset_path, 'train.tsv'), mode='w')\n",
    "    val_out = open(os.path.join(dataset_path, 'val.tsv'), mode='w')\n",
    "    test_out = open(os.path.join(dataset_path, 'test.tsv'), mode='w')\n",
    "    for i in range(len(dataset)):\n",
    "        line = '{}\\t{}\\t{}\\n'.format(dataset[i][0], dataset[i][1], dataset[i][2])\n",
    "        if i < indices[0]:\n",
    "            train_out.write(line)\n",
    "        elif i < indices[1]:\n",
    "            val_out.write(line)\n",
    "        else:\n",
    "            test_out.write(line)\n",
    "    train_out.close()\n",
    "    val_out.close()\n",
    "    test_out.close()"
   ]
  },
  {
   "cell_type": "code",
   "execution_count": 31,
   "metadata": {},
   "outputs": [],
   "source": [
    "dump_split_dataset(dataset_path, working_corpus, split_idx)"
   ]
  }
 ],
 "metadata": {
  "kernelspec": {
   "display_name": "base",
   "language": "python",
   "name": "python3"
  },
  "language_info": {
   "codemirror_mode": {
    "name": "ipython",
    "version": 3
   },
   "file_extension": ".py",
   "mimetype": "text/x-python",
   "name": "python",
   "nbconvert_exporter": "python",
   "pygments_lexer": "ipython3",
   "version": "3.12.4"
  },
  "orig_nbformat": 4
 },
 "nbformat": 4,
 "nbformat_minor": 2
}
