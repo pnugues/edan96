{
 "cells": [
  {
   "cell_type": "markdown",
   "metadata": {},
   "source": [
    "# Tatoeba: Exploratory data analysis (EDA) and Dataset partitioning\n",
    "\n",
    "Authors: Pierre Nugues and Marcus Klang"
   ]
  },
  {
   "cell_type": "markdown",
   "metadata": {},
   "source": [
    "Tatoeba is a collection of sentences in many languages. They can be sentences in one language, for instance French, or translations, i.e. resulting in pairs of sentences in two languages, for instance French and English.\n",
    "\n",
    "Tatoeba is a collaborative site and anyone can contribute and download the dataset here: https://tatoeba.org/downloads. As all the sentences are annotated with their language, many applications use Tatoeba to train machine-learning models. This includes translation and language detection.\n",
    "\n",
    "Over the time, Tatoeba has become quite large. In this notebook, we will carry out a small exploratory data analysis of its content and see how we can extract a part of it.\n",
    "\n",
    "This is a preliminary step to understand language detection and CLD3, https://github.com/google/cld3"
   ]
  },
  {
   "cell_type": "code",
   "execution_count": 1,
   "metadata": {},
   "outputs": [],
   "source": [
    "import os\n",
    "import random\n",
    "from collections import Counter\n",
    "import tarfile\n",
    "import torch\n",
    "import matplotlib.pyplot as plt"
   ]
  },
  {
   "cell_type": "code",
   "execution_count": 2,
   "metadata": {},
   "outputs": [
    {
     "data": {
      "text/plain": [
       "<torch._C.Generator at 0x7fe088811f10>"
      ]
     },
     "execution_count": 2,
     "metadata": {},
     "output_type": "execute_result"
    }
   ],
   "source": [
    "random.seed(4321)\n",
    "torch.manual_seed(4321)"
   ]
  },
  {
   "cell_type": "markdown",
   "metadata": {},
   "source": [
    "## Downloading the Dataset"
   ]
  },
  {
   "cell_type": "markdown",
   "metadata": {},
   "source": [
    "Remove the comments the first time you run this notebook"
   ]
  },
  {
   "cell_type": "code",
   "execution_count": null,
   "metadata": {},
   "outputs": [],
   "source": [
    "#!wget https://downloads.tatoeba.org/exports/sentences.tar.bz2"
   ]
  },
  {
   "cell_type": "code",
   "execution_count": null,
   "metadata": {},
   "outputs": [],
   "source": [
    "#tarfile.open('sentences.tar.bz2').extractall()"
   ]
  },
  {
   "cell_type": "code",
   "execution_count": 3,
   "metadata": {},
   "outputs": [],
   "source": [
    "TATOEBA_FILE = 'sentences.csv'"
   ]
  },
  {
   "cell_type": "code",
   "execution_count": 4,
   "metadata": {},
   "outputs": [],
   "source": [
    "SMALL_DATASET_PATH = 'small_dataset'\n",
    "LARGE_DATASET_PATH = 'large_dataset'\n",
    "SENT_PER_LANG_SMALL = 1000\n",
    "SENT_PER_LANG_LARGE = 15000\n",
    "MIN_SENT_PER_LANG = 20000"
   ]
  },
  {
   "cell_type": "code",
   "execution_count": 5,
   "metadata": {},
   "outputs": [],
   "source": [
    "SMALL = True"
   ]
  },
  {
   "cell_type": "code",
   "execution_count": 6,
   "metadata": {},
   "outputs": [],
   "source": [
    "if SMALL:\n",
    "    dataset_path = SMALL_DATASET_PATH\n",
    "    sent_per_lang = SENT_PER_LANG_SMALL\n",
    "\n",
    "else:\n",
    "    dataset_path = LARGE_DATASET_PATH\n",
    "    sent_per_lang = SENT_PER_LANG_LARGE"
   ]
  },
  {
   "cell_type": "markdown",
   "metadata": {},
   "source": [
    "## Content of the file"
   ]
  },
  {
   "cell_type": "markdown",
   "metadata": {},
   "source": [
    "We read the first lines of the file. It has a tabulated structure.\n",
    "   * The separator is a tabulation (\\t)\n",
    "   * Three columns\n",
    "       + Unique id, number\n",
    "       + Language code (ISO 639-3)\n",
    "       + Sentence encoded using unicode (UTF-8)"
   ]
  },
  {
   "cell_type": "code",
   "execution_count": 7,
   "metadata": {},
   "outputs": [
    {
     "name": "stdout",
     "output_type": "stream",
     "text": [
      "('1', 'cmn', '我們試試看！')\n",
      "('2', 'cmn', '我该去睡觉了。')\n",
      "('3', 'cmn', '你在干什麼啊？')\n",
      "('4', 'cmn', '這是什麼啊？')\n",
      "('5', 'cmn', '今天是６月１８号，也是Muiriel的生日！')\n",
      "('6', 'cmn', '生日快乐，Muiriel！')\n",
      "('7', 'cmn', 'Muiriel现在20岁了。')\n",
      "('8', 'cmn', '密码是\"Muiriel\"。')\n",
      "('9', 'cmn', '我很快就會回來。')\n",
      "('10', 'cmn', '我不知道。')\n"
     ]
    }
   ],
   "source": [
    "with open(TATOEBA_FILE, encoding='utf8', errors='ignore') as f:\n",
    "    for cnt, line in enumerate(f):\n",
    "        if cnt >= 10:\n",
    "            break\n",
    "        row = line.strip()\n",
    "        print(tuple(row.split('\\t')))"
   ]
  },
  {
   "cell_type": "markdown",
   "metadata": {},
   "source": [
    "## Reading the complete file and counting the lines"
   ]
  },
  {
   "cell_type": "markdown",
   "metadata": {},
   "source": [
    "We create a generator"
   ]
  },
  {
   "cell_type": "code",
   "execution_count": 8,
   "metadata": {},
   "outputs": [],
   "source": [
    "def file_reader(file):\n",
    "    with open(file, encoding='utf8', errors='ignore') as f:\n",
    "        for line in f:\n",
    "            row = line.strip()\n",
    "            yield tuple(row.split('\\t'))"
   ]
  },
  {
   "cell_type": "code",
   "execution_count": 9,
   "metadata": {},
   "outputs": [],
   "source": [
    "line_generator = file_reader(TATOEBA_FILE)"
   ]
  },
  {
   "cell_type": "markdown",
   "metadata": {},
   "source": [
    "We count the lines. Note that this can take time."
   ]
  },
  {
   "cell_type": "code",
   "execution_count": 10,
   "metadata": {},
   "outputs": [
    {
     "data": {
      "text/plain": [
       "10804209"
      ]
     },
     "execution_count": 10,
     "metadata": {},
     "output_type": "execute_result"
    }
   ],
   "source": [
    "cnt = 0\n",
    "for _ in line_generator:\n",
    "    cnt += 1\n",
    "cnt"
   ]
  },
  {
   "cell_type": "markdown",
   "metadata": {},
   "source": [
    "Nonetheless, a small dataset by today's standards."
   ]
  },
  {
   "cell_type": "markdown",
   "metadata": {},
   "source": [
    "We need to recreate `line_generator()` each time we run it."
   ]
  },
  {
   "cell_type": "code",
   "execution_count": 11,
   "metadata": {},
   "outputs": [
    {
     "data": {
      "text/plain": [
       "0"
      ]
     },
     "execution_count": 11,
     "metadata": {},
     "output_type": "execute_result"
    }
   ],
   "source": [
    "cnt = 0\n",
    "for _ in line_generator:\n",
    "    cnt += 1\n",
    "cnt"
   ]
  },
  {
   "cell_type": "markdown",
   "metadata": {},
   "source": [
    "## Counting the Sentences per Language"
   ]
  },
  {
   "cell_type": "markdown",
   "metadata": {},
   "source": [
    "For this, we recreate our generator"
   ]
  },
  {
   "cell_type": "code",
   "execution_count": 12,
   "metadata": {},
   "outputs": [],
   "source": [
    "line_generator = file_reader(TATOEBA_FILE)"
   ]
  },
  {
   "cell_type": "markdown",
   "metadata": {},
   "source": [
    "And we count the sentences per language"
   ]
  },
  {
   "cell_type": "code",
   "execution_count": 13,
   "metadata": {},
   "outputs": [],
   "source": [
    "lang_freqs = Counter(map(lambda x: x[1], line_generator))"
   ]
  },
  {
   "cell_type": "code",
   "execution_count": 14,
   "metadata": {},
   "outputs": [
    {
     "data": {
      "text/plain": [
       "[('eng', 1658967),\n",
       " ('rus', 950130),\n",
       " ('ita', 822106),\n",
       " ('tur', 720518),\n",
       " ('epo', 700780),\n",
       " ('ber', 614423),\n",
       " ('deu', 598365),\n",
       " ('kab', 560406),\n",
       " ('fra', 519961),\n",
       " ('por', 409782),\n",
       " ('spa', 381308),\n",
       " ('hun', 372875),\n",
       " ('jpn', 230825),\n",
       " ('heb', 199782),\n",
       " ('ukr', 180622)]"
      ]
     },
     "execution_count": 14,
     "metadata": {},
     "output_type": "execute_result"
    }
   ],
   "source": [
    "lang_freqs.most_common(15)"
   ]
  },
  {
   "cell_type": "markdown",
   "metadata": {},
   "source": [
    "We plot them"
   ]
  },
  {
   "cell_type": "code",
   "execution_count": 15,
   "metadata": {},
   "outputs": [
    {
     "data": {
      "image/png": "[encoded data removed]",
      "text/plain": [
       "<Figure size 640x480 with 1 Axes>"
      ]
     },
     "metadata": {},
     "output_type": "display_data"
    }
   ],
   "source": [
    "lang, cnt = zip(*lang_freqs.most_common(20))\n",
    "x_pos = torch.arange(len(lang))\n",
    "plt.bar(x_pos, cnt)\n",
    "plt.xticks(x_pos, lang)\n",
    "plt.show()"
   ]
  },
  {
   "cell_type": "markdown",
   "metadata": {},
   "source": [
    "## Selecting the Languages\n",
    "We consider languages with many examples, more than a fixed threshold"
   ]
  },
  {
   "cell_type": "code",
   "execution_count": 16,
   "metadata": {},
   "outputs": [],
   "source": [
    "selected_langs = {lang:freq for lang, freq in lang_freqs.items() if freq > MIN_SENT_PER_LANG}"
   ]
  },
  {
   "cell_type": "code",
   "execution_count": 17,
   "metadata": {},
   "outputs": [
    {
     "data": {
      "text/plain": [
       "(39,\n",
       " {'cmn': 72998,\n",
       "  'deu': 598365,\n",
       "  'rus': 950130,\n",
       "  'fra': 519961,\n",
       "  'eng': 1658967,\n",
       "  'jpn': 230825,\n",
       "  'spa': 381308,\n",
       "  'ita': 822106,\n",
       "  'vie': 21219,\n",
       "  'nld': 165752,\n",
       "  'epo': 700780,\n",
       "  'por': 409782,\n",
       "  'tur': 720518,\n",
       "  'heb': 199782,\n",
       "  'hun': 372875,\n",
       "  'ell': 35903,\n",
       "  'ara': 40356,\n",
       "  'fin': 142332,\n",
       "  'bul': 24709,\n",
       "  'swe': 50165,\n",
       "  'ukr': 180622,\n",
       "  'ces': 68125,\n",
       "  'pol': 117971,\n",
       "  'lat': 47236,\n",
       "  'ron': 29429,\n",
       "  'srp': 47778,\n",
       "  'dan': 55882,\n",
       "  'pes': 26869,\n",
       "  'lit': 82149,\n",
       "  'mkd': 78031,\n",
       "  'tok': 50579,\n",
       "  'ina': 27846,\n",
       "  'tlh': 24365,\n",
       "  'kab': 560406,\n",
       "  'ber': 614423,\n",
       "  'mar': 72687,\n",
       "  'hau': 21816,\n",
       "  'lfn': 21656,\n",
       "  'swc': 23821})"
      ]
     },
     "execution_count": 17,
     "metadata": {},
     "output_type": "execute_result"
    }
   ],
   "source": [
    "len(selected_langs), selected_langs "
   ]
  },
  {
   "cell_type": "markdown",
   "metadata": {},
   "source": [
    "## Selection of Sentences"
   ]
  },
  {
   "cell_type": "markdown",
   "metadata": {},
   "source": [
    "To ease training, we select `sent_per_lang` sentences (15,000 or 1000) of each language in `selected_languages`. For this, we first write a generator that will return the sentence if it is less than a random number. We use a uniform random generator between 0 and 1. If we want to select 10% of the sentences of a given language, we will return the sentence when the random number is less than 0.1, for 20%, it will be 0.2, etc.\n",
    "\n",
    "The percentage is given by `sent_per_lang` divided by the number of sentence in the language."
   ]
  },
  {
   "cell_type": "markdown",
   "metadata": {},
   "source": [
    "We first write a generator that will return the sentence if it is less than a random number. We use a uniform random generator between 0 and 1. If we want to select 10% of the sentences of a given language, we will return the sentence when the random number is less than 0.1, for 20%, it will be 0.2, etc."
   ]
  },
  {
   "cell_type": "code",
   "execution_count": 18,
   "metadata": {},
   "outputs": [],
   "source": [
    "lang_percentage = dict()\n",
    "for lang, freq in selected_langs.items():\n",
    "    lang_percentage[lang] = sent_per_lang/freq"
   ]
  },
  {
   "cell_type": "code",
   "execution_count": 19,
   "metadata": {},
   "outputs": [
    {
     "data": {
      "text/plain": [
       "{'cmn': 0.01369900545220417,\n",
       " 'deu': 0.0016712207431918646,\n",
       " 'rus': 0.00105248755433467,\n",
       " 'fra': 0.0019232211646642728,\n",
       " 'eng': 0.0006027847449647883,\n",
       " 'jpn': 0.0043322863641286685,\n",
       " 'spa': 0.002622551847850032,\n",
       " 'ita': 0.001216388154325598,\n",
       " 'vie': 0.04712757434374853,\n",
       " 'nld': 0.006033109706066895,\n",
       " 'epo': 0.001426981363623391,\n",
       " 'por': 0.002440321927268645,\n",
       " 'tur': 0.0013878903788663156,\n",
       " 'heb': 0.00500545594698221,\n",
       " 'hun': 0.0026818638954073082,\n",
       " 'ell': 0.027852825669164135,\n",
       " 'ara': 0.024779462781246903,\n",
       " 'fin': 0.007025826939830818,\n",
       " 'bul': 0.04047108341090291,\n",
       " 'swe': 0.019934217083624042,\n",
       " 'ukr': 0.005536424134380087,\n",
       " 'ces': 0.014678899082568808,\n",
       " 'pol': 0.00847665951801714,\n",
       " 'lat': 0.02117029384367855,\n",
       " 'ron': 0.03398008766862619,\n",
       " 'srp': 0.02093013520867345,\n",
       " 'dan': 0.017894849862209655,\n",
       " 'pes': 0.03721761137370204,\n",
       " 'lit': 0.012173002714579606,\n",
       " 'mkd': 0.012815419512757751,\n",
       " 'tok': 0.019771051226793727,\n",
       " 'ina': 0.03591180061768297,\n",
       " 'tlh': 0.04104247896572953,\n",
       " 'kab': 0.0017844205807932107,\n",
       " 'ber': 0.0016275432397550222,\n",
       " 'mar': 0.013757618281123173,\n",
       " 'hau': 0.04583791712504584,\n",
       " 'lfn': 0.046176579239009974,\n",
       " 'swc': 0.0419797657529071}"
      ]
     },
     "execution_count": 19,
     "metadata": {},
     "output_type": "execute_result"
    }
   ],
   "source": [
    "lang_percentage"
   ]
  },
  {
   "cell_type": "code",
   "execution_count": 20,
   "metadata": {},
   "outputs": [],
   "source": [
    "def sentence_selector(file, lang_percentage):\n",
    "    with open(file, encoding='utf8', errors='ignore') as f:\n",
    "        for line in f:\n",
    "            row = line.strip()\n",
    "            lang_tuple = tuple(row.split('\\t'))\n",
    "            lang = lang_tuple[1]\n",
    "            if lang in lang_percentage and torch.rand(1) < lang_percentage[lang]:                \n",
    "                yield lang_tuple"
   ]
  },
  {
   "cell_type": "code",
   "execution_count": 21,
   "metadata": {},
   "outputs": [],
   "source": [
    "working_corpus = sentence_selector(TATOEBA_FILE, lang_percentage)"
   ]
  },
  {
   "cell_type": "markdown",
   "metadata": {},
   "source": [
    "We create an in-memory list of the generator to enable later shuffling"
   ]
  },
  {
   "cell_type": "code",
   "execution_count": 22,
   "metadata": {},
   "outputs": [
    {
     "name": "stdout",
     "output_type": "stream",
     "text": [
      "line count: 39221\n"
     ]
    },
    {
     "data": {
      "text/plain": [
       "[('33', 'cmn', '我要走了。'),\n",
       " ('112', 'deu', 'Ich mochte mysteriöse Charaktere schon immer mehr.'),\n",
       " ('695', 'deu', 'Ich habe letzte Woche begonnen, Chinesisch zu lernen.')]"
      ]
     },
     "execution_count": 22,
     "metadata": {},
     "output_type": "execute_result"
    }
   ],
   "source": [
    "working_corpus = list(working_corpus)\n",
    "print('line count:', len(working_corpus))\n",
    "working_corpus[:3]"
   ]
  },
  {
   "cell_type": "markdown",
   "metadata": {},
   "source": [
    "Much smaller and balanced"
   ]
  },
  {
   "cell_type": "code",
   "execution_count": 23,
   "metadata": {},
   "outputs": [
    {
     "data": {
      "text/plain": [
       "Counter({'cmn': 959,\n",
       "         'deu': 997,\n",
       "         'eng': 1081,\n",
       "         'spa': 993,\n",
       "         'fra': 960,\n",
       "         'jpn': 1031,\n",
       "         'vie': 1026,\n",
       "         'ces': 1016,\n",
       "         'ell': 980,\n",
       "         'epo': 1031,\n",
       "         'pol': 1004,\n",
       "         'ita': 973,\n",
       "         'fin': 985,\n",
       "         'bul': 977,\n",
       "         'lat': 1046,\n",
       "         'ara': 971,\n",
       "         'swe': 985,\n",
       "         'nld': 1017,\n",
       "         'ukr': 973,\n",
       "         'por': 971,\n",
       "         'srp': 1023,\n",
       "         'ron': 993,\n",
       "         'pes': 999,\n",
       "         'rus': 1093,\n",
       "         'dan': 999,\n",
       "         'tur': 1037,\n",
       "         'heb': 966,\n",
       "         'lit': 968,\n",
       "         'hun': 1033,\n",
       "         'tok': 1022,\n",
       "         'tlh': 1040,\n",
       "         'ina': 980,\n",
       "         'mkd': 1071,\n",
       "         'ber': 989,\n",
       "         'mar': 990,\n",
       "         'hau': 977,\n",
       "         'lfn': 1012,\n",
       "         'kab': 1023,\n",
       "         'swc': 1030})"
      ]
     },
     "execution_count": 23,
     "metadata": {},
     "output_type": "execute_result"
    }
   ],
   "source": [
    "Counter(map(lambda x: x[1], working_corpus))"
   ]
  },
  {
   "cell_type": "markdown",
   "metadata": {},
   "source": [
    "## Splitting the corpus\n",
    "We split the corpus in three subsets: \n",
    "* training set\n",
    "* validation set (also called development set)\n",
    "* test set"
   ]
  },
  {
   "cell_type": "code",
   "execution_count": 24,
   "metadata": {},
   "outputs": [],
   "source": [
    "TRAIN_PERCENT = 0.8\n",
    "VAL_PERCENT = 0.1\n",
    "TEST_PERCENT = 0.1"
   ]
  },
  {
   "cell_type": "code",
   "execution_count": 25,
   "metadata": {},
   "outputs": [],
   "source": [
    "random.shuffle(working_corpus)"
   ]
  },
  {
   "cell_type": "code",
   "execution_count": 26,
   "metadata": {},
   "outputs": [
    {
     "data": {
      "text/plain": [
       "[31376, 3922, 3922]"
      ]
     },
     "execution_count": 26,
     "metadata": {},
     "output_type": "execute_result"
    }
   ],
   "source": [
    "split_sizes = list(map(lambda x: int(len(working_corpus) * x), (TRAIN_PERCENT, VAL_PERCENT, TEST_PERCENT)))\n",
    "split_sizes"
   ]
  },
  {
   "cell_type": "code",
   "execution_count": 27,
   "metadata": {},
   "outputs": [
    {
     "data": {
      "text/plain": [
       "[31376, 35298]"
      ]
     },
     "execution_count": 27,
     "metadata": {},
     "output_type": "execute_result"
    }
   ],
   "source": [
    "split_idx = [split_sizes[0], split_sizes[0] + split_sizes[1]]\n",
    "split_idx"
   ]
  },
  {
   "cell_type": "markdown",
   "metadata": {},
   "source": [
    "Finally, we store the files"
   ]
  },
  {
   "cell_type": "code",
   "execution_count": 28,
   "metadata": {},
   "outputs": [],
   "source": [
    "def dump_split_dataset(dataset_path, dataset, indices):\n",
    "    # We assume a train, validation, and test sets\n",
    "    os.makedirs(dataset_path, exist_ok=True)\n",
    "    train_out = open(os.path.join(dataset_path, 'train.tsv'), mode='w')\n",
    "    val_out = open(os.path.join(dataset_path, 'val.tsv'), mode='w')\n",
    "    test_out = open(os.path.join(dataset_path, 'test.tsv'), mode='w')\n",
    "    for i in range(len(dataset)):\n",
    "        line = '{}\\t{}\\t{}\\n'.format(dataset[i][0], dataset[i][1], dataset[i][2])\n",
    "        if i < indices[0]:\n",
    "            train_out.write(line)\n",
    "        elif i < indices[1]:\n",
    "            val_out.write(line)\n",
    "        else:\n",
    "            test_out.write(line)\n",
    "    train_out.close()\n",
    "    val_out.close()\n",
    "    test_out.close()"
   ]
  },
  {
   "cell_type": "code",
   "execution_count": 29,
   "metadata": {},
   "outputs": [],
   "source": [
    "dump_split_dataset(dataset_path, working_corpus, split_idx)"
   ]
  },
  {
   "cell_type": "markdown",
   "metadata": {},
   "source": []
  }
 ],
 "metadata": {
  "kernelspec": {
   "display_name": "Python 3.9.13 ('base')",
   "language": "python",
   "name": "python3"
  },
  "language_info": {
   "codemirror_mode": {
    "name": "ipython",
    "version": 3
   },
   "file_extension": ".py",
   "mimetype": "text/x-python",
   "name": "python",
   "nbconvert_exporter": "python",
   "pygments_lexer": "ipython3",
   "version": "3.9.15"
  },
  "orig_nbformat": 4,
  "vscode": {
   "interpreter": {
    "hash": "b97b11a820675205aae8f1d7f2a3f22bbd3a2c30189f44042310baf5b4cd1987"
   }
  }
 },
 "nbformat": 4,
 "nbformat_minor": 2
}
