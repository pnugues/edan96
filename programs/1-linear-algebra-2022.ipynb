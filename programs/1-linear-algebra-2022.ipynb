{
 "cells": [
  {
   "cell_type": "markdown",
   "metadata": {},
   "source": [
    "# Elementary Introduction to Linear Algebra with NumPy\n",
    "\n",
    "This notebook is to be read with the slides.\n",
    "\n",
    "Author: Pierre Nugues\n",
    "\n",
    "_À mes anciens profs de maths, un élève respectueux_\n",
    "\n",
    "_À ma HP-21_"
   ]
  },
  {
   "cell_type": "code",
   "execution_count": 1,
   "metadata": {},
   "outputs": [],
   "source": [
    "import torch"
   ]
  },
  {
   "cell_type": "code",
   "execution_count": 2,
   "metadata": {},
   "outputs": [],
   "source": [
    "import numpy as np"
   ]
  },
  {
   "cell_type": "code",
   "execution_count": 3,
   "metadata": {},
   "outputs": [],
   "source": [
    "import matplotlib.pyplot as plt"
   ]
  },
  {
   "cell_type": "code",
   "execution_count": 4,
   "metadata": {},
   "outputs": [
    {
     "name": "stderr",
     "output_type": "stream",
     "text": [
      "2022-10-29 10:35:19.883221: I tensorflow/core/platform/cpu_feature_guard.cc:193] This TensorFlow binary is optimized with oneAPI Deep Neural Network Library (oneDNN) to use the following CPU instructions in performance-critical operations:  AVX2 FMA\n",
      "To enable them in other operations, rebuild TensorFlow with the appropriate compiler flags.\n"
     ]
    }
   ],
   "source": [
    "import tensorflow as tf\n",
    "from tensorflow import keras\n",
    "from tensorflow.keras import layers"
   ]
  },
  {
   "cell_type": "markdown",
   "metadata": {},
   "source": [
    "## Creating vectors"
   ]
  },
  {
   "cell_type": "code",
   "execution_count": 5,
   "metadata": {},
   "outputs": [
    {
     "data": {
      "text/plain": [
       "array([1, 2, 3])"
      ]
     },
     "execution_count": 5,
     "metadata": {},
     "output_type": "execute_result"
    }
   ],
   "source": [
    "np.array([2, 3])\n",
    "np.array([1, 2, 3])"
   ]
  },
  {
   "cell_type": "code",
   "execution_count": 6,
   "metadata": {},
   "outputs": [
    {
     "data": {
      "text/plain": [
       "tensor([1, 2, 3])"
      ]
     },
     "execution_count": 6,
     "metadata": {},
     "output_type": "execute_result"
    }
   ],
   "source": [
    "torch.tensor([2, 3])\n",
    "torch.tensor([1, 2, 3])"
   ]
  },
  {
   "cell_type": "markdown",
   "metadata": {},
   "source": [
    "## Indices and Slices"
   ]
  },
  {
   "cell_type": "code",
   "execution_count": 7,
   "metadata": {},
   "outputs": [
    {
     "data": {
      "text/plain": [
       "array([1, 2, 3, 4])"
      ]
     },
     "execution_count": 7,
     "metadata": {},
     "output_type": "execute_result"
    }
   ],
   "source": [
    "vector = np.array([1, 2, 3, 4])\n",
    "vector"
   ]
  },
  {
   "cell_type": "code",
   "execution_count": 8,
   "metadata": {},
   "outputs": [
    {
     "data": {
      "text/plain": [
       "2"
      ]
     },
     "execution_count": 8,
     "metadata": {},
     "output_type": "execute_result"
    }
   ],
   "source": [
    "vector[1] # 2"
   ]
  },
  {
   "cell_type": "code",
   "execution_count": 9,
   "metadata": {},
   "outputs": [
    {
     "data": {
      "text/plain": [
       "array([1])"
      ]
     },
     "execution_count": 9,
     "metadata": {},
     "output_type": "execute_result"
    }
   ],
   "source": [
    "vector[:1] # [1]"
   ]
  },
  {
   "cell_type": "code",
   "execution_count": 10,
   "metadata": {},
   "outputs": [
    {
     "data": {
      "text/plain": [
       "array([2, 3])"
      ]
     },
     "execution_count": 10,
     "metadata": {},
     "output_type": "execute_result"
    }
   ],
   "source": [
    "vector[1:3] # [2, 3]"
   ]
  },
  {
   "cell_type": "code",
   "execution_count": 11,
   "metadata": {},
   "outputs": [
    {
     "data": {
      "text/plain": [
       "tensor([1, 2, 3, 4])"
      ]
     },
     "execution_count": 11,
     "metadata": {},
     "output_type": "execute_result"
    }
   ],
   "source": [
    "vector = torch.tensor([1, 2, 3, 4])\n",
    "vector"
   ]
  },
  {
   "cell_type": "code",
   "execution_count": 12,
   "metadata": {},
   "outputs": [
    {
     "data": {
      "text/plain": [
       "tensor(1)"
      ]
     },
     "execution_count": 12,
     "metadata": {},
     "output_type": "execute_result"
    }
   ],
   "source": [
    "vector[0]"
   ]
  },
  {
   "cell_type": "code",
   "execution_count": 13,
   "metadata": {},
   "outputs": [
    {
     "data": {
      "text/plain": [
       "tensor([1])"
      ]
     },
     "execution_count": 13,
     "metadata": {},
     "output_type": "execute_result"
    }
   ],
   "source": [
    "vector[:1]"
   ]
  },
  {
   "cell_type": "code",
   "execution_count": 14,
   "metadata": {},
   "outputs": [
    {
     "data": {
      "text/plain": [
       "tensor([2, 3])"
      ]
     },
     "execution_count": 14,
     "metadata": {},
     "output_type": "execute_result"
    }
   ],
   "source": [
    "vector[1:3]"
   ]
  },
  {
   "cell_type": "markdown",
   "metadata": {},
   "source": [
    "## Visualizing vectors"
   ]
  },
  {
   "cell_type": "code",
   "execution_count": 15,
   "metadata": {},
   "outputs": [
    {
     "data": {
      "text/plain": [
       "<matplotlib.patches.FancyArrow at 0x7f91c06ba8b0>"
      ]
     },
     "execution_count": 15,
     "metadata": {},
     "output_type": "execute_result"
    },
    {
     "data": {
      "image/png": "[encoded data removed]",
      "text/plain": [
       "<Figure size 640x480 with 1 Axes>"
      ]
     },
     "metadata": {},
     "output_type": "display_data"
    }
   ],
   "source": [
    "plt.arrow(0, 0, np.array([2, 3])[0], np.array([2, 3])[1], width=0.01, color='red')"
   ]
  },
  {
   "cell_type": "markdown",
   "metadata": {},
   "source": [
    "## Operations in the vector space"
   ]
  },
  {
   "cell_type": "code",
   "execution_count": 16,
   "metadata": {},
   "outputs": [
    {
     "data": {
      "text/plain": [
       "array([5, 7, 9])"
      ]
     },
     "execution_count": 16,
     "metadata": {},
     "output_type": "execute_result"
    }
   ],
   "source": [
    "np.array([1, 2, 3]) + np.array([4, 5, 6])"
   ]
  },
  {
   "cell_type": "code",
   "execution_count": 17,
   "metadata": {},
   "outputs": [
    {
     "data": {
      "text/plain": [
       "array([3, 6, 9])"
      ]
     },
     "execution_count": 17,
     "metadata": {},
     "output_type": "execute_result"
    }
   ],
   "source": [
    "3 * np.array([1, 2, 3])"
   ]
  },
  {
   "cell_type": "code",
   "execution_count": 18,
   "metadata": {},
   "outputs": [
    {
     "data": {
      "text/plain": [
       "tensor([5, 7, 9])"
      ]
     },
     "execution_count": 18,
     "metadata": {},
     "output_type": "execute_result"
    }
   ],
   "source": [
    "torch.tensor([1, 2, 3]) + torch.tensor([4, 5, 6])"
   ]
  },
  {
   "cell_type": "code",
   "execution_count": 19,
   "metadata": {},
   "outputs": [
    {
     "data": {
      "text/plain": [
       "tensor([3, 6, 9])"
      ]
     },
     "execution_count": 19,
     "metadata": {},
     "output_type": "execute_result"
    }
   ],
   "source": [
    "3 * torch.tensor([1, 2, 3])"
   ]
  },
  {
   "cell_type": "markdown",
   "metadata": {},
   "source": [
    "## From NumPy to PyTorch and vice-versa"
   ]
  },
  {
   "cell_type": "code",
   "execution_count": 20,
   "metadata": {},
   "outputs": [
    {
     "data": {
      "text/plain": [
       "tensor([1, 2, 3])"
      ]
     },
     "execution_count": 20,
     "metadata": {},
     "output_type": "execute_result"
    }
   ],
   "source": [
    "np_array = np.array([1, 2, 3])\n",
    "tensor = torch.from_numpy(np_array)\n",
    "tensor"
   ]
  },
  {
   "cell_type": "code",
   "execution_count": 21,
   "metadata": {},
   "outputs": [
    {
     "data": {
      "text/plain": [
       "array([1, 2, 3])"
      ]
     },
     "execution_count": 21,
     "metadata": {},
     "output_type": "execute_result"
    }
   ],
   "source": [
    "tensor = torch.tensor([1, 2, 3])\n",
    "np_array = tensor.numpy()\n",
    "np_array"
   ]
  },
  {
   "cell_type": "markdown",
   "metadata": {},
   "source": [
    "## Data Types"
   ]
  },
  {
   "cell_type": "code",
   "execution_count": 22,
   "metadata": {},
   "outputs": [],
   "source": [
    "vector = np.array([1, 2, 3])"
   ]
  },
  {
   "cell_type": "code",
   "execution_count": 23,
   "metadata": {},
   "outputs": [
    {
     "data": {
      "text/plain": [
       "dtype('int64')"
      ]
     },
     "execution_count": 23,
     "metadata": {},
     "output_type": "execute_result"
    }
   ],
   "source": [
    "vector.dtype"
   ]
  },
  {
   "cell_type": "code",
   "execution_count": 24,
   "metadata": {},
   "outputs": [
    {
     "data": {
      "text/plain": [
       "array([1, 2, 3], dtype=int32)"
      ]
     },
     "execution_count": 24,
     "metadata": {},
     "output_type": "execute_result"
    }
   ],
   "source": [
    "vector = np.array([1, 2, 3], dtype='int32')\n",
    "vector\n"
   ]
  },
  {
   "cell_type": "code",
   "execution_count": 25,
   "metadata": {},
   "outputs": [
    {
     "data": {
      "text/plain": [
       "dtype('int32')"
      ]
     },
     "execution_count": 25,
     "metadata": {},
     "output_type": "execute_result"
    }
   ],
   "source": [
    "vector.dtype"
   ]
  },
  {
   "cell_type": "code",
   "execution_count": 26,
   "metadata": {},
   "outputs": [
    {
     "data": {
      "text/plain": [
       "array([1., 2., 3.])"
      ]
     },
     "execution_count": 26,
     "metadata": {},
     "output_type": "execute_result"
    }
   ],
   "source": [
    "vector = np.array([1, 2, 3], dtype='float64')\n",
    "vector"
   ]
  },
  {
   "cell_type": "code",
   "execution_count": 27,
   "metadata": {},
   "outputs": [
    {
     "data": {
      "text/plain": [
       "dtype('float64')"
      ]
     },
     "execution_count": 27,
     "metadata": {},
     "output_type": "execute_result"
    }
   ],
   "source": [
    "vector.dtype"
   ]
  },
  {
   "cell_type": "code",
   "execution_count": 28,
   "metadata": {},
   "outputs": [
    {
     "data": {
      "text/plain": [
       "array([False,  True,  True,  True])"
      ]
     },
     "execution_count": 28,
     "metadata": {},
     "output_type": "execute_result"
    }
   ],
   "source": [
    "np.array([0, 1, 2, 3], dtype='bool')"
   ]
  },
  {
   "cell_type": "code",
   "execution_count": 29,
   "metadata": {},
   "outputs": [
    {
     "data": {
      "text/plain": [
       "torch.int64"
      ]
     },
     "execution_count": 29,
     "metadata": {},
     "output_type": "execute_result"
    }
   ],
   "source": [
    "torch.tensor([1, 2, 3]).dtype"
   ]
  },
  {
   "cell_type": "code",
   "execution_count": 30,
   "metadata": {},
   "outputs": [
    {
     "data": {
      "text/plain": [
       "tensor([1., 2., 3.], dtype=torch.float16)"
      ]
     },
     "execution_count": 30,
     "metadata": {},
     "output_type": "execute_result"
    }
   ],
   "source": [
    "torch.tensor([1, 2, 3], dtype=torch.float16)"
   ]
  },
  {
   "cell_type": "markdown",
   "metadata": {},
   "source": [
    "## Dot Product"
   ]
  },
  {
   "cell_type": "code",
   "execution_count": 31,
   "metadata": {},
   "outputs": [
    {
     "data": {
      "text/plain": [
       "32"
      ]
     },
     "execution_count": 31,
     "metadata": {},
     "output_type": "execute_result"
    }
   ],
   "source": [
    "np.dot(np.array([1, 2, 3]), np.array([4, 5, 6]))"
   ]
  },
  {
   "cell_type": "code",
   "execution_count": 32,
   "metadata": {},
   "outputs": [
    {
     "data": {
      "text/plain": [
       "32"
      ]
     },
     "execution_count": 32,
     "metadata": {},
     "output_type": "execute_result"
    }
   ],
   "source": [
    "np.array([1, 2, 3]) @ np.array([4, 5, 6])"
   ]
  },
  {
   "cell_type": "code",
   "execution_count": 33,
   "metadata": {},
   "outputs": [
    {
     "data": {
      "text/plain": [
       "tensor(32)"
      ]
     },
     "execution_count": 33,
     "metadata": {},
     "output_type": "execute_result"
    }
   ],
   "source": [
    "torch.dot(torch.tensor([1, 2, 3]), torch.tensor([4, 5, 6]))"
   ]
  },
  {
   "cell_type": "code",
   "execution_count": 34,
   "metadata": {},
   "outputs": [
    {
     "data": {
      "text/plain": [
       "tensor(32)"
      ]
     },
     "execution_count": 34,
     "metadata": {},
     "output_type": "execute_result"
    }
   ],
   "source": [
    "torch.tensor([1, 2, 3]) @ torch.tensor([4, 5, 6])"
   ]
  },
  {
   "cell_type": "markdown",
   "metadata": {},
   "source": [
    "## Norm"
   ]
  },
  {
   "cell_type": "code",
   "execution_count": 35,
   "metadata": {},
   "outputs": [
    {
     "data": {
      "text/plain": [
       "3.7416573867739413"
      ]
     },
     "execution_count": 35,
     "metadata": {},
     "output_type": "execute_result"
    }
   ],
   "source": [
    "np.linalg.norm(np.array([1, 2, 3]))"
   ]
  },
  {
   "cell_type": "code",
   "execution_count": 36,
   "metadata": {},
   "outputs": [
    {
     "data": {
      "text/plain": [
       "tensor(3.7417)"
      ]
     },
     "execution_count": 36,
     "metadata": {},
     "output_type": "execute_result"
    }
   ],
   "source": [
    "torch.norm(torch.tensor([1.0, 2.0, 3.0]))"
   ]
  },
  {
   "cell_type": "markdown",
   "metadata": {},
   "source": [
    "## NumPy Matrices\n",
    "Let us give values to this system:\n",
    "$$\n",
    "\\begin{array}{lcl}\n",
    "a_{11} x_1 + a_{12} x_2 &=& y_1\\\\\n",
    "a_{21} x_1 + a_{22} x_2 &=& y_2\\\\\n",
    "\\end{array}\n",
    "$$\n",
    "For instance:\n",
    "$$\n",
    "\\begin{array}{lcl}\n",
    "1\\times x_1 + 2\\times x_2 &=& y_1\\\\\n",
    "3 \\times x_1 + 4 \\times x_2 &=& y_2\\\\\n",
    "\\end{array}\n",
    "$$\n",
    "We have:\n",
    "$$\n",
    "\\begin{bmatrix}\n",
    "1 &2\\\\\n",
    "3 &4\\\\\n",
    "\\end{bmatrix}  \n",
    "\\begin{bmatrix}\n",
    "5\\\\\n",
    "6\\\\\n",
    "\\end{bmatrix} =\n",
    "\\begin{bmatrix}\n",
    "17\\\\\n",
    "39\\\\\n",
    "\\end{bmatrix}\n",
    "$$"
   ]
  },
  {
   "cell_type": "code",
   "execution_count": 37,
   "metadata": {},
   "outputs": [
    {
     "data": {
      "text/plain": [
       "array([17, 39])"
      ]
     },
     "execution_count": 37,
     "metadata": {},
     "output_type": "execute_result"
    }
   ],
   "source": [
    "A = np.array([[1, 2],\n",
    "          [3, 4]])\n",
    "A @ np.array([5, 6])"
   ]
  },
  {
   "cell_type": "code",
   "execution_count": 38,
   "metadata": {},
   "outputs": [
    {
     "data": {
      "text/plain": [
       "2"
      ]
     },
     "execution_count": 38,
     "metadata": {},
     "output_type": "execute_result"
    }
   ],
   "source": [
    "A[0, 1]"
   ]
  },
  {
   "cell_type": "code",
   "execution_count": 39,
   "metadata": {},
   "outputs": [
    {
     "data": {
      "text/plain": [
       "tensor([17, 39])"
      ]
     },
     "execution_count": 39,
     "metadata": {},
     "output_type": "execute_result"
    }
   ],
   "source": [
    "A = torch.tensor([[1, 2],\n",
    "          [3, 4]])\n",
    "A @ torch.tensor([5, 6])"
   ]
  },
  {
   "cell_type": "code",
   "execution_count": 40,
   "metadata": {},
   "outputs": [
    {
     "data": {
      "text/plain": [
       "tensor(2)"
      ]
     },
     "execution_count": 40,
     "metadata": {},
     "output_type": "execute_result"
    }
   ],
   "source": [
    "A[0, 1]"
   ]
  },
  {
   "cell_type": "markdown",
   "metadata": {},
   "source": [
    "## Matrices and Rotations"
   ]
  },
  {
   "cell_type": "markdown",
   "metadata": {},
   "source": [
    "We will now have a look at vector rotation. From algebra courses, we know that we can use a matrix to compute a rotation of angle $\\theta$. For a two-dimensional vector, the rotation matrix is:\n",
    "$$\n",
    "\\mathbf{R}_{\\theta} =\n",
    "\\begin{bmatrix*}\n",
    "\\cos \\theta &-\\sin \\theta \\\\\n",
    "\\sin \\theta & \\cos \\theta \\\\\n",
    "\\end{bmatrix*}.\n",
    "$$"
   ]
  },
  {
   "cell_type": "code",
   "execution_count": 41,
   "metadata": {},
   "outputs": [
    {
     "data": {
      "text/plain": [
       "array([[ 0.70710678, -0.70710678],\n",
       "       [ 0.70710678,  0.70710678]])"
      ]
     },
     "execution_count": 41,
     "metadata": {},
     "output_type": "execute_result"
    }
   ],
   "source": [
    "theta_45 = np.pi/4\n",
    "rot_mat_45 = np.array([[np.cos(theta_45), -np.sin(theta_45)],\n",
    "          [np.sin(theta_45), np.cos(theta_45)]])\n",
    "rot_mat_45"
   ]
  },
  {
   "cell_type": "markdown",
   "metadata": {},
   "source": [
    "we rotate vector (1, 1) by this angle"
   ]
  },
  {
   "cell_type": "code",
   "execution_count": 42,
   "metadata": {},
   "outputs": [
    {
     "data": {
      "text/plain": [
       "array([1.11022302e-16, 1.41421356e+00])"
      ]
     },
     "execution_count": 42,
     "metadata": {},
     "output_type": "execute_result"
    }
   ],
   "source": [
    "rot_mat_45 @ np.array([1, 1])"
   ]
  },
  {
   "cell_type": "markdown",
   "metadata": {},
   "source": [
    "The matrix of a sequence of rotations, for instance a rotation of $\\pi/6$ followed by a rotation of $\\pi/4$, is simply the matrix product of the individual rotations $\\mathbf{R}_{{\\theta}_1} \\mathbf{R}_{{\\theta}_2}  = \\mathbf{R}_{{\\theta}_1 + {\\theta}_2}$, here $\\mathbf{R}_{\\pi/4} \\mathbf{R}_{\\pi/6}  = \\mathbf{R}_{5\\pi/12}$. "
   ]
  },
  {
   "cell_type": "code",
   "execution_count": 43,
   "metadata": {},
   "outputs": [
    {
     "data": {
      "text/plain": [
       "array([[ 0.8660254, -0.5      ],\n",
       "       [ 0.5      ,  0.8660254]])"
      ]
     },
     "execution_count": 43,
     "metadata": {},
     "output_type": "execute_result"
    }
   ],
   "source": [
    "theta_30 = np.pi/6\n",
    "rot_mat_30 = np.array([[np.cos(theta_30), -np.sin(theta_30)],\n",
    "          [np.sin(theta_30), np.cos(theta_30)]])\n",
    "rot_mat_30"
   ]
  },
  {
   "cell_type": "code",
   "execution_count": 44,
   "metadata": {},
   "outputs": [
    {
     "data": {
      "text/plain": [
       "array([[ 0.25881905, -0.96592583],\n",
       "       [ 0.96592583,  0.25881905]])"
      ]
     },
     "execution_count": 44,
     "metadata": {},
     "output_type": "execute_result"
    }
   ],
   "source": [
    "rot_mat_30 @ rot_mat_45"
   ]
  },
  {
   "cell_type": "code",
   "execution_count": 45,
   "metadata": {},
   "outputs": [
    {
     "data": {
      "text/plain": [
       "array([[ 0.25881905, -0.96592583],\n",
       "       [ 0.96592583,  0.25881905]])"
      ]
     },
     "execution_count": 45,
     "metadata": {},
     "output_type": "execute_result"
    }
   ],
   "source": [
    "rot_mat_45 @ rot_mat_30"
   ]
  },
  {
   "cell_type": "code",
   "execution_count": 46,
   "metadata": {},
   "outputs": [
    {
     "data": {
      "text/plain": [
       "1.3089969339255036"
      ]
     },
     "execution_count": 46,
     "metadata": {},
     "output_type": "execute_result"
    }
   ],
   "source": [
    "np.arccos(0.25881905)"
   ]
  },
  {
   "cell_type": "code",
   "execution_count": 47,
   "metadata": {},
   "outputs": [
    {
     "data": {
      "text/plain": [
       "1.308996938995747"
      ]
     },
     "execution_count": 47,
     "metadata": {},
     "output_type": "execute_result"
    }
   ],
   "source": [
    "np.pi/4 + np.pi/6"
   ]
  },
  {
   "cell_type": "markdown",
   "metadata": {},
   "source": [
    "With PyTorch"
   ]
  },
  {
   "cell_type": "code",
   "execution_count": 48,
   "metadata": {},
   "outputs": [
    {
     "data": {
      "text/plain": [
       "tensor([[ 0.2588, -0.9659],\n",
       "        [ 0.9659,  0.2588]], dtype=torch.float64)"
      ]
     },
     "execution_count": 48,
     "metadata": {},
     "output_type": "execute_result"
    }
   ],
   "source": [
    "torch.from_numpy(rot_mat_30) @ torch.from_numpy(rot_mat_45)"
   ]
  },
  {
   "cell_type": "code",
   "execution_count": 49,
   "metadata": {},
   "outputs": [
    {
     "data": {
      "text/plain": [
       "tensor([[ 0.2588, -0.9659],\n",
       "        [ 0.9659,  0.2588]], dtype=torch.float64)"
      ]
     },
     "execution_count": 49,
     "metadata": {},
     "output_type": "execute_result"
    }
   ],
   "source": [
    "torch.from_numpy(rot_mat_45) @ torch.from_numpy(rot_mat_30)"
   ]
  },
  {
   "cell_type": "markdown",
   "metadata": {},
   "source": [
    "## Inverse"
   ]
  },
  {
   "cell_type": "code",
   "execution_count": 50,
   "metadata": {},
   "outputs": [
    {
     "data": {
      "text/plain": [
       "array([[ 0.8660254,  0.5      ],\n",
       "       [-0.5      ,  0.8660254]])"
      ]
     },
     "execution_count": 50,
     "metadata": {},
     "output_type": "execute_result"
    }
   ],
   "source": [
    "np.linalg.inv(rot_mat_30)"
   ]
  },
  {
   "cell_type": "code",
   "execution_count": 51,
   "metadata": {},
   "outputs": [
    {
     "data": {
      "text/plain": [
       "array([[1.00000000e+00, 0.00000000e+00],\n",
       "       [5.55111512e-17, 1.00000000e+00]])"
      ]
     },
     "execution_count": 51,
     "metadata": {},
     "output_type": "execute_result"
    }
   ],
   "source": [
    "np.linalg.inv(rot_mat_30) @ rot_mat_30"
   ]
  },
  {
   "cell_type": "code",
   "execution_count": 52,
   "metadata": {},
   "outputs": [
    {
     "data": {
      "text/plain": [
       "tensor([[ 0.8660,  0.5000],\n",
       "        [-0.5000,  0.8660]], dtype=torch.float64)"
      ]
     },
     "execution_count": 52,
     "metadata": {},
     "output_type": "execute_result"
    }
   ],
   "source": [
    "torch.inverse(torch.from_numpy(rot_mat_30)) "
   ]
  },
  {
   "cell_type": "markdown",
   "metadata": {},
   "source": [
    "## Size of a Matrix"
   ]
  },
  {
   "cell_type": "code",
   "execution_count": 53,
   "metadata": {},
   "outputs": [
    {
     "data": {
      "text/plain": [
       "(2, 3)"
      ]
     },
     "execution_count": 53,
     "metadata": {},
     "output_type": "execute_result"
    }
   ],
   "source": [
    "A = np.array([[1, 2, 3],\n",
    "            [4, 5, 6]])\n",
    "A.shape"
   ]
  },
  {
   "cell_type": "code",
   "execution_count": 54,
   "metadata": {},
   "outputs": [
    {
     "data": {
      "text/plain": [
       "torch.Size([2, 3])"
      ]
     },
     "execution_count": 54,
     "metadata": {},
     "output_type": "execute_result"
    }
   ],
   "source": [
    "A = torch.tensor([[1, 2, 3],\n",
    "            [4, 5, 6]])\n",
    "A.size()"
   ]
  },
  {
   "cell_type": "code",
   "execution_count": 55,
   "metadata": {},
   "outputs": [
    {
     "data": {
      "text/plain": [
       "(3,)"
      ]
     },
     "execution_count": 55,
     "metadata": {},
     "output_type": "execute_result"
    }
   ],
   "source": [
    "u = np.array([1, 2, 3])\n",
    "u.shape"
   ]
  },
  {
   "cell_type": "code",
   "execution_count": 56,
   "metadata": {},
   "outputs": [
    {
     "data": {
      "text/plain": [
       "torch.Size([3])"
      ]
     },
     "execution_count": 56,
     "metadata": {},
     "output_type": "execute_result"
    }
   ],
   "source": [
    "u = torch.tensor([1, 2, 3])\n",
    "u.size()"
   ]
  },
  {
   "cell_type": "markdown",
   "metadata": {},
   "source": [
    "## Transpose"
   ]
  },
  {
   "cell_type": "code",
   "execution_count": 57,
   "metadata": {},
   "outputs": [
    {
     "data": {
      "text/plain": [
       "array([[1, 3],\n",
       "       [2, 4]])"
      ]
     },
     "execution_count": 57,
     "metadata": {},
     "output_type": "execute_result"
    }
   ],
   "source": [
    "A = np.array([[1, 2],\n",
    "          [3, 4]])\n",
    "A.T"
   ]
  },
  {
   "cell_type": "code",
   "execution_count": 58,
   "metadata": {},
   "outputs": [
    {
     "data": {
      "text/plain": [
       "tensor([[1, 3],\n",
       "        [2, 4]])"
      ]
     },
     "execution_count": 58,
     "metadata": {},
     "output_type": "execute_result"
    }
   ],
   "source": [
    "A = torch.tensor([[1, 2],\n",
    "          [3, 4]])\n",
    "A.T"
   ]
  },
  {
   "cell_type": "markdown",
   "metadata": {},
   "source": [
    "## Transposing a Vector"
   ]
  },
  {
   "cell_type": "code",
   "execution_count": 59,
   "metadata": {},
   "outputs": [
    {
     "data": {
      "text/plain": [
       "array([1, 2, 3])"
      ]
     },
     "execution_count": 59,
     "metadata": {},
     "output_type": "execute_result"
    }
   ],
   "source": [
    "x = np.array([1, 2, 3])\n",
    "x.T"
   ]
  },
  {
   "cell_type": "code",
   "execution_count": 60,
   "metadata": {},
   "outputs": [
    {
     "name": "stderr",
     "output_type": "stream",
     "text": [
      "/var/folders/29/s86dlfss3gq6ybhg4frthtxr0000gp/T/ipykernel_98013/2773976921.py:2: UserWarning: The use of `x.T` on tensors of dimension other than 2 to reverse their shape is deprecated and it will throw an error in a future release. Consider `x.mT` to transpose batches of matrices or `x.permute(*torch.arange(x.ndim - 1, -1, -1))` to reverse the dimensions of a tensor. (Triggered internally at /Users/runner/work/pytorch/pytorch/pytorch/aten/src/ATen/native/TensorShape.cpp:3281.)\n",
      "  x.T\n"
     ]
    },
    {
     "data": {
      "text/plain": [
       "tensor([1, 2, 3])"
      ]
     },
     "execution_count": 60,
     "metadata": {},
     "output_type": "execute_result"
    }
   ],
   "source": [
    "x = torch.tensor([1, 2, 3])\n",
    "x.T"
   ]
  },
  {
   "cell_type": "markdown",
   "metadata": {},
   "source": [
    "## Reshaping a Vector"
   ]
  },
  {
   "cell_type": "code",
   "execution_count": 61,
   "metadata": {},
   "outputs": [
    {
     "data": {
      "text/plain": [
       "array([[1, 2, 3]])"
      ]
     },
     "execution_count": 61,
     "metadata": {},
     "output_type": "execute_result"
    }
   ],
   "source": [
    "u = np.array([1, 2, 3])\n",
    "u.reshape((1,3))"
   ]
  },
  {
   "cell_type": "code",
   "execution_count": 62,
   "metadata": {},
   "outputs": [
    {
     "data": {
      "text/plain": [
       "array([[1],\n",
       "       [2],\n",
       "       [3]])"
      ]
     },
     "execution_count": 62,
     "metadata": {},
     "output_type": "execute_result"
    }
   ],
   "source": [
    "u.reshape((1,3)).T"
   ]
  },
  {
   "cell_type": "code",
   "execution_count": 63,
   "metadata": {},
   "outputs": [
    {
     "data": {
      "text/plain": [
       "tensor([[1, 2, 3]])"
      ]
     },
     "execution_count": 63,
     "metadata": {},
     "output_type": "execute_result"
    }
   ],
   "source": [
    "u = torch.tensor([1, 2, 3])\n",
    "u.reshape((1,-1))"
   ]
  },
  {
   "cell_type": "code",
   "execution_count": 64,
   "metadata": {},
   "outputs": [
    {
     "data": {
      "text/plain": [
       "tensor([[1],\n",
       "        [2],\n",
       "        [3]])"
      ]
     },
     "execution_count": 64,
     "metadata": {},
     "output_type": "execute_result"
    }
   ],
   "source": [
    "u.reshape((1,-1)).T"
   ]
  },
  {
   "cell_type": "code",
   "execution_count": 65,
   "metadata": {},
   "outputs": [
    {
     "data": {
      "text/plain": [
       "array([[1],\n",
       "       [2],\n",
       "       [3]])"
      ]
     },
     "execution_count": 65,
     "metadata": {},
     "output_type": "execute_result"
    }
   ],
   "source": [
    "u = np.array([1, 2, 3])\n",
    "u.reshape((3,-1))"
   ]
  },
  {
   "cell_type": "markdown",
   "metadata": {},
   "source": [
    "## Utilities"
   ]
  },
  {
   "cell_type": "code",
   "execution_count": 66,
   "metadata": {},
   "outputs": [
    {
     "data": {
      "text/plain": [
       "array([[1., 0., 0.],\n",
       "       [0., 1., 0.],\n",
       "       [0., 0., 1.]])"
      ]
     },
     "execution_count": 66,
     "metadata": {},
     "output_type": "execute_result"
    }
   ],
   "source": [
    "np.eye(3)"
   ]
  },
  {
   "cell_type": "code",
   "execution_count": 67,
   "metadata": {},
   "outputs": [
    {
     "data": {
      "text/plain": [
       "array([[0., 0., 0., 0.],\n",
       "       [0., 0., 0., 0.]])"
      ]
     },
     "execution_count": 67,
     "metadata": {},
     "output_type": "execute_result"
    }
   ],
   "source": [
    "np.zeros((2,4))"
   ]
  },
  {
   "cell_type": "code",
   "execution_count": 68,
   "metadata": {},
   "outputs": [
    {
     "data": {
      "text/plain": [
       "array([[1., 1., 1., 1.],\n",
       "       [1., 1., 1., 1.]])"
      ]
     },
     "execution_count": 68,
     "metadata": {},
     "output_type": "execute_result"
    }
   ],
   "source": [
    "np.ones((2, 4))"
   ]
  },
  {
   "cell_type": "code",
   "execution_count": 69,
   "metadata": {},
   "outputs": [
    {
     "data": {
      "text/plain": [
       "tensor([[1., 0., 0.],\n",
       "        [0., 1., 0.],\n",
       "        [0., 0., 1.]])"
      ]
     },
     "execution_count": 69,
     "metadata": {},
     "output_type": "execute_result"
    }
   ],
   "source": [
    "torch.eye(3)"
   ]
  },
  {
   "cell_type": "code",
   "execution_count": 70,
   "metadata": {},
   "outputs": [
    {
     "data": {
      "text/plain": [
       "array([[0.06664094, 0.85057902, 0.00240786, 0.77574796],\n",
       "       [0.72435197, 0.31889607, 0.11579383, 0.14732654]])"
      ]
     },
     "execution_count": 70,
     "metadata": {},
     "output_type": "execute_result"
    }
   ],
   "source": [
    "np.random.rand(2, 4)"
   ]
  },
  {
   "cell_type": "code",
   "execution_count": 71,
   "metadata": {},
   "outputs": [
    {
     "data": {
      "text/plain": [
       "tensor([[0.0040, 0.8180, 0.8136, 0.9040],\n",
       "        [0.1409, 0.6831, 0.1741, 0.3209]])"
      ]
     },
     "execution_count": 71,
     "metadata": {},
     "output_type": "execute_result"
    }
   ],
   "source": [
    "torch.rand(2, 4)"
   ]
  },
  {
   "cell_type": "markdown",
   "metadata": {},
   "source": [
    "## Linear Applications"
   ]
  },
  {
   "cell_type": "code",
   "execution_count": 296,
   "metadata": {},
   "outputs": [],
   "source": [
    "from keras.datasets import mnist\n",
    "(train_images, train_labels), (test_images, test_labels) = mnist.load_data()"
   ]
  },
  {
   "cell_type": "code",
   "execution_count": 297,
   "metadata": {},
   "outputs": [
    {
     "data": {
      "text/plain": [
       "(28, 28)"
      ]
     },
     "execution_count": 297,
     "metadata": {},
     "output_type": "execute_result"
    }
   ],
   "source": [
    "train_images[0].shape"
   ]
  },
  {
   "cell_type": "code",
   "execution_count": 298,
   "metadata": {},
   "outputs": [
    {
     "data": {
      "text/plain": [
       "array([[  0,   0,   0,   0,   0,   0,   0,   0,   0,   0,   0,   0,   0,\n",
       "          0,   0,   0,   0,   0,   0,   0,   0,   0,   0,   0,   0,   0,\n",
       "          0,   0],\n",
       "       [  0,   0,   0,   0,   0,   0,   0,   0,   0,   0,   0,   0,   0,\n",
       "          0,   0,   0,   0,   0,   0,   0,   0,   0,   0,   0,   0,   0,\n",
       "          0,   0],\n",
       "       [  0,   0,   0,   0,   0,   0,   0,   0,   0,   0,   0,   0,   0,\n",
       "          0,   0,   0,   0,   0,   0,   0,   0,   0,   0,   0,   0,   0,\n",
       "          0,   0],\n",
       "       [  0,   0,   0,   0,   0,   0,   0,   0,   0,   0,   0,   0,   0,\n",
       "          0,   0,   0,   0,   0,   0,   0,   0,   0,   0,   0,   0,   0,\n",
       "          0,   0],\n",
       "       [  0,   0,   0,   0,   0,   0,   0,   0,   0,   0,   0,   0,   0,\n",
       "          0,   0,   0,   0,   0,   0,   0,   0,   0,   0,   0,   0,   0,\n",
       "          0,   0],\n",
       "       [  0,   0,   0,   0,   0,   0,   0,   0,   0,   0,   0,   0,   3,\n",
       "         18,  18,  18, 126, 136, 175,  26, 166, 255, 247, 127,   0,   0,\n",
       "          0,   0],\n",
       "       [  0,   0,   0,   0,   0,   0,   0,   0,  30,  36,  94, 154, 170,\n",
       "        253, 253, 253, 253, 253, 225, 172, 253, 242, 195,  64,   0,   0,\n",
       "          0,   0],\n",
       "       [  0,   0,   0,   0,   0,   0,   0,  49, 238, 253, 253, 253, 253,\n",
       "        253, 253, 253, 253, 251,  93,  82,  82,  56,  39,   0,   0,   0,\n",
       "          0,   0],\n",
       "       [  0,   0,   0,   0,   0,   0,   0,  18, 219, 253, 253, 253, 253,\n",
       "        253, 198, 182, 247, 241,   0,   0,   0,   0,   0,   0,   0,   0,\n",
       "          0,   0],\n",
       "       [  0,   0,   0,   0,   0,   0,   0,   0,  80, 156, 107, 253, 253,\n",
       "        205,  11,   0,  43, 154,   0,   0,   0,   0,   0,   0,   0,   0,\n",
       "          0,   0],\n",
       "       [  0,   0,   0,   0,   0,   0,   0,   0,   0,  14,   1, 154, 253,\n",
       "         90,   0,   0,   0,   0,   0,   0,   0,   0,   0,   0,   0,   0,\n",
       "          0,   0],\n",
       "       [  0,   0,   0,   0,   0,   0,   0,   0,   0,   0,   0, 139, 253,\n",
       "        190,   2,   0,   0,   0,   0,   0,   0,   0,   0,   0,   0,   0,\n",
       "          0,   0],\n",
       "       [  0,   0,   0,   0,   0,   0,   0,   0,   0,   0,   0,  11, 190,\n",
       "        253,  70,   0,   0,   0,   0,   0,   0,   0,   0,   0,   0,   0,\n",
       "          0,   0],\n",
       "       [  0,   0,   0,   0,   0,   0,   0,   0,   0,   0,   0,   0,  35,\n",
       "        241, 225, 160, 108,   1,   0,   0,   0,   0,   0,   0,   0,   0,\n",
       "          0,   0],\n",
       "       [  0,   0,   0,   0,   0,   0,   0,   0,   0,   0,   0,   0,   0,\n",
       "         81, 240, 253, 253, 119,  25,   0,   0,   0,   0,   0,   0,   0,\n",
       "          0,   0],\n",
       "       [  0,   0,   0,   0,   0,   0,   0,   0,   0,   0,   0,   0,   0,\n",
       "          0,  45, 186, 253, 253, 150,  27,   0,   0,   0,   0,   0,   0,\n",
       "          0,   0],\n",
       "       [  0,   0,   0,   0,   0,   0,   0,   0,   0,   0,   0,   0,   0,\n",
       "          0,   0,  16,  93, 252, 253, 187,   0,   0,   0,   0,   0,   0,\n",
       "          0,   0],\n",
       "       [  0,   0,   0,   0,   0,   0,   0,   0,   0,   0,   0,   0,   0,\n",
       "          0,   0,   0,   0, 249, 253, 249,  64,   0,   0,   0,   0,   0,\n",
       "          0,   0],\n",
       "       [  0,   0,   0,   0,   0,   0,   0,   0,   0,   0,   0,   0,   0,\n",
       "          0,  46, 130, 183, 253, 253, 207,   2,   0,   0,   0,   0,   0,\n",
       "          0,   0],\n",
       "       [  0,   0,   0,   0,   0,   0,   0,   0,   0,   0,   0,   0,  39,\n",
       "        148, 229, 253, 253, 253, 250, 182,   0,   0,   0,   0,   0,   0,\n",
       "          0,   0],\n",
       "       [  0,   0,   0,   0,   0,   0,   0,   0,   0,   0,  24, 114, 221,\n",
       "        253, 253, 253, 253, 201,  78,   0,   0,   0,   0,   0,   0,   0,\n",
       "          0,   0],\n",
       "       [  0,   0,   0,   0,   0,   0,   0,   0,  23,  66, 213, 253, 253,\n",
       "        253, 253, 198,  81,   2,   0,   0,   0,   0,   0,   0,   0,   0,\n",
       "          0,   0],\n",
       "       [  0,   0,   0,   0,   0,   0,  18, 171, 219, 253, 253, 253, 253,\n",
       "        195,  80,   9,   0,   0,   0,   0,   0,   0,   0,   0,   0,   0,\n",
       "          0,   0],\n",
       "       [  0,   0,   0,   0,  55, 172, 226, 253, 253, 253, 253, 244, 133,\n",
       "         11,   0,   0,   0,   0,   0,   0,   0,   0,   0,   0,   0,   0,\n",
       "          0,   0],\n",
       "       [  0,   0,   0,   0, 136, 253, 253, 253, 212, 135, 132,  16,   0,\n",
       "          0,   0,   0,   0,   0,   0,   0,   0,   0,   0,   0,   0,   0,\n",
       "          0,   0],\n",
       "       [  0,   0,   0,   0,   0,   0,   0,   0,   0,   0,   0,   0,   0,\n",
       "          0,   0,   0,   0,   0,   0,   0,   0,   0,   0,   0,   0,   0,\n",
       "          0,   0],\n",
       "       [  0,   0,   0,   0,   0,   0,   0,   0,   0,   0,   0,   0,   0,\n",
       "          0,   0,   0,   0,   0,   0,   0,   0,   0,   0,   0,   0,   0,\n",
       "          0,   0],\n",
       "       [  0,   0,   0,   0,   0,   0,   0,   0,   0,   0,   0,   0,   0,\n",
       "          0,   0,   0,   0,   0,   0,   0,   0,   0,   0,   0,   0,   0,\n",
       "          0,   0]], dtype=uint8)"
      ]
     },
     "execution_count": 298,
     "metadata": {},
     "output_type": "execute_result"
    }
   ],
   "source": [
    "train_images[0]"
   ]
  },
  {
   "cell_type": "code",
   "execution_count": 303,
   "metadata": {},
   "outputs": [
    {
     "data": {
      "text/plain": [
       "<matplotlib.image.AxesImage at 0x7f918187cc70>"
      ]
     },
     "execution_count": 303,
     "metadata": {},
     "output_type": "execute_result"
    },
    {
     "data": {
      "image/png": "[encoded data removed]",
      "text/plain": [
       "<Figure size 640x480 with 1 Axes>"
      ]
     },
     "metadata": {},
     "output_type": "display_data"
    }
   ],
   "source": [
    "plt.figure()\n",
    "plt.imshow(train_images[0]/255, cmap='gray')"
   ]
  },
  {
   "cell_type": "markdown",
   "metadata": {},
   "source": [
    "We create an image from the matrix with the coordinate conventions"
   ]
  },
  {
   "cell_type": "code",
   "execution_count": 333,
   "metadata": {},
   "outputs": [],
   "source": [
    "gray_image = np.zeros(train_images[0].shape)\n",
    "for x in np.arange(train_images[0].shape[0]):\n",
    "    for y in np.arange(train_images[0].shape[1]):\n",
    "        gray_image[x, y] = train_images[0].T[x, train_images[0].shape[1] - 1 - y]"
   ]
  },
  {
   "cell_type": "markdown",
   "metadata": {},
   "source": [
    "The image"
   ]
  },
  {
   "cell_type": "code",
   "execution_count": 350,
   "metadata": {},
   "outputs": [
    {
     "data": {
      "text/plain": [
       "(-50.0, 50.0)"
      ]
     },
     "execution_count": 350,
     "metadata": {},
     "output_type": "execute_result"
    },
    {
     "data": {
      "image/png": "[encoded data removed]",
      "text/plain": [
       "<Figure size 640x480 with 1 Axes>"
      ]
     },
     "metadata": {},
     "output_type": "display_data"
    }
   ],
   "source": [
    "fig, ax = plt.subplots()\n",
    "for x in np.arange(train_images[0].shape[0]):\n",
    "    for y in np.arange(train_images[0].shape[1]):\n",
    "        gray = int(gray_image[x, y])\n",
    "        format(gray, '02x') * 3\n",
    "        ax.plot(x, y, marker='s', color='#' + format(gray, '02x') * 3, linestyle='')\n",
    "ax.set_xlim(-50, 50)\n",
    "ax.set_ylim(-50, 50)"
   ]
  },
  {
   "cell_type": "markdown",
   "metadata": {},
   "source": [
    "Scaling"
   ]
  },
  {
   "cell_type": "code",
   "execution_count": 359,
   "metadata": {},
   "outputs": [],
   "source": [
    "scale_mat = np.array([[2, 0], \n",
    "                      [0, 0.5]])"
   ]
  },
  {
   "cell_type": "code",
   "execution_count": 360,
   "metadata": {},
   "outputs": [
    {
     "data": {
      "text/plain": [
       "(-50.0, 50.0)"
      ]
     },
     "execution_count": 360,
     "metadata": {},
     "output_type": "execute_result"
    },
    {
     "data": {
      "image/png": "[encoded data removed]",
      "text/plain": [
       "<Figure size 640x480 with 1 Axes>"
      ]
     },
     "metadata": {},
     "output_type": "display_data"
    }
   ],
   "source": [
    "fig, ax = plt.subplots()\n",
    "for x in np.arange(train_images[0].shape[0]):\n",
    "    for y in np.arange(train_images[0].shape[1]):\n",
    "        gray = int(gray_image[x, y])\n",
    "        format(gray, '02x') * 3\n",
    "        mapping_xy = scale_mat @ np.array([x, y])\n",
    "        ax.plot(mapping_xy[0], mapping_xy[1], marker='s', color='#' + format(gray, '02x') * 3, linestyle='')\n",
    "ax.set_xlim(-50, 50)\n",
    "ax.set_ylim(-50, 50)"
   ]
  },
  {
   "cell_type": "markdown",
   "metadata": {},
   "source": [
    "Rotating"
   ]
  },
  {
   "cell_type": "code",
   "execution_count": 361,
   "metadata": {},
   "outputs": [
    {
     "data": {
      "text/plain": [
       "(-50.0, 50.0)"
      ]
     },
     "execution_count": 361,
     "metadata": {},
     "output_type": "execute_result"
    },
    {
     "data": {
      "image/png": "[encoded data removed]",
      "text/plain": [
       "<Figure size 640x480 with 1 Axes>"
      ]
     },
     "metadata": {},
     "output_type": "display_data"
    }
   ],
   "source": [
    "fig, ax = plt.subplots()\n",
    "for x in np.arange(train_images[0].shape[0]):\n",
    "    for y in np.arange(train_images[0].shape[1]):\n",
    "        gray = int(gray_image[x, y])\n",
    "        format(gray, '02x') * 3\n",
    "        mapping_xy = rot_mat_30 @ np.array([x, y])\n",
    "        ax.plot(mapping_xy[0], mapping_xy[1], marker='s', color='#' + format(gray, '02x') * 3, linestyle='')\n",
    "ax.set_xlim(-50, 50)\n",
    "ax.set_ylim(-50, 50)"
   ]
  },
  {
   "cell_type": "markdown",
   "metadata": {},
   "source": [
    "$$\\mathbf{W}\\mathbf{x} + \\mathbf{b}$$"
   ]
  },
  {
   "cell_type": "code",
   "execution_count": 369,
   "metadata": {},
   "outputs": [
    {
     "data": {
      "text/plain": [
       "(-50.0, 50.0)"
      ]
     },
     "execution_count": 369,
     "metadata": {},
     "output_type": "execute_result"
    },
    {
     "data": {
      "image/png": "[encoded data removed]",
      "text/plain": [
       "<Figure size 640x480 with 1 Axes>"
      ]
     },
     "metadata": {},
     "output_type": "display_data"
    }
   ],
   "source": [
    "fig, ax = plt.subplots()\n",
    "for x in np.arange(train_images[0].shape[0]):\n",
    "    for y in np.arange(train_images[0].shape[1]):\n",
    "        gray = int(gray_image[x, y])\n",
    "        format(gray, '02x') * 3\n",
    "        mapping_xy = rot_mat_30 @ scale_mat @ np.array([x, y]) + np.array([-20, -20])\n",
    "        ax.plot(mapping_xy[0], mapping_xy[1], marker='s', color='#' + format(gray, '02x') * 3, linestyle='')\n",
    "ax.set_xlim(-50, 50)\n",
    "ax.set_ylim(-50, 50)"
   ]
  },
  {
   "cell_type": "markdown",
   "metadata": {},
   "source": [
    "Nonlinearity"
   ]
  },
  {
   "cell_type": "code",
   "execution_count": 370,
   "metadata": {},
   "outputs": [
    {
     "data": {
      "text/plain": [
       "(-50.0, 50.0)"
      ]
     },
     "execution_count": 370,
     "metadata": {},
     "output_type": "execute_result"
    },
    {
     "data": {
      "image/png": "[encoded data removed]",
      "text/plain": [
       "<Figure size 640x480 with 1 Axes>"
      ]
     },
     "metadata": {},
     "output_type": "display_data"
    }
   ],
   "source": [
    "fig, ax = plt.subplots()\n",
    "for x in np.arange(train_images[0].shape[0]):\n",
    "    for y in np.arange(train_images[0].shape[1]):\n",
    "        gray = np.maximum(128, int(gray_image[x, y]))\n",
    "        format(gray, '02x') * 3\n",
    "        mapping_xy = rot_mat_30 @ scale_mat @ np.array([x, y]) + np.array([-20, -20])\n",
    "        ax.plot(mapping_xy[0], mapping_xy[1], marker='s', color='#' + format(gray, '02x') * 3, linestyle='')\n",
    "ax.set_xlim(-50, 50)\n",
    "ax.set_ylim(-50, 50)"
   ]
  },
  {
   "cell_type": "markdown",
   "metadata": {},
   "source": [
    "## Matrices and Neural Nets: One Layer"
   ]
  },
  {
   "cell_type": "markdown",
   "metadata": {},
   "source": [
    "### Keras"
   ]
  },
  {
   "cell_type": "code",
   "execution_count": 72,
   "metadata": {},
   "outputs": [
    {
     "name": "stderr",
     "output_type": "stream",
     "text": [
      "2022-10-29 10:35:27.508341: I tensorflow/core/platform/cpu_feature_guard.cc:193] This TensorFlow binary is optimized with oneAPI Deep Neural Network Library (oneDNN) to use the following CPU instructions in performance-critical operations:  AVX2 FMA\n",
      "To enable them in other operations, rebuild TensorFlow with the appropriate compiler flags.\n"
     ]
    }
   ],
   "source": [
    "layer1_k = keras.Sequential([\n",
    "    layers.Dense(4, input_dim=3, use_bias=False)\n",
    "    ])"
   ]
  },
  {
   "cell_type": "code",
   "execution_count": 73,
   "metadata": {},
   "outputs": [
    {
     "data": {
      "text/plain": [
       "[<tf.Variable 'dense/kernel:0' shape=(3, 4) dtype=float32, numpy=\n",
       " array([[ 0.1147995 , -0.62572294, -0.40983397, -0.5968498 ],\n",
       "        [-0.2010414 , -0.8794393 ,  0.10259748, -0.52053523],\n",
       "        [ 0.47562158,  0.75489044, -0.41001147,  0.47887516]],\n",
       "       dtype=float32)>]"
      ]
     },
     "execution_count": 73,
     "metadata": {},
     "output_type": "execute_result"
    }
   ],
   "source": [
    "layer1_k.weights"
   ]
  },
  {
   "cell_type": "code",
   "execution_count": 74,
   "metadata": {},
   "outputs": [],
   "source": [
    "x_np = np.array([[1, 2, 3]])"
   ]
  },
  {
   "cell_type": "code",
   "execution_count": 75,
   "metadata": {},
   "outputs": [
    {
     "data": {
      "text/plain": [
       "<tf.Tensor: shape=(1, 4), dtype=float32, numpy=\n",
       "array([[ 1.1395814 , -0.11993027, -1.4346733 , -0.20129478]],\n",
       "      dtype=float32)>"
      ]
     },
     "execution_count": 75,
     "metadata": {},
     "output_type": "execute_result"
    }
   ],
   "source": [
    "layer1_k(x_np)"
   ]
  },
  {
   "cell_type": "code",
   "execution_count": 76,
   "metadata": {},
   "outputs": [
    {
     "data": {
      "text/plain": [
       "<tf.Tensor: shape=(1, 4), dtype=float32, numpy=\n",
       "array([[ 1.1395814 , -0.11993027, -1.4346733 , -0.20129478]],\n",
       "      dtype=float32)>"
      ]
     },
     "execution_count": 76,
     "metadata": {},
     "output_type": "execute_result"
    }
   ],
   "source": [
    "x_np @ layer1_k.weights[0]"
   ]
  },
  {
   "cell_type": "markdown",
   "metadata": {},
   "source": [
    "### PyTorch"
   ]
  },
  {
   "cell_type": "code",
   "execution_count": 77,
   "metadata": {},
   "outputs": [],
   "source": [
    "layer1_t = torch.nn.Linear(3, 4, bias=False)"
   ]
  },
  {
   "cell_type": "code",
   "execution_count": 78,
   "metadata": {},
   "outputs": [
    {
     "data": {
      "text/plain": [
       "Parameter containing:\n",
       "tensor([[-0.2227,  0.3306, -0.2361],\n",
       "        [ 0.2491, -0.0881, -0.3629],\n",
       "        [-0.3289,  0.1477, -0.0636],\n",
       "        [ 0.2513, -0.4159,  0.0263]], requires_grad=True)"
      ]
     },
     "execution_count": 78,
     "metadata": {},
     "output_type": "execute_result"
    }
   ],
   "source": [
    "layer1_t.weight"
   ]
  },
  {
   "cell_type": "code",
   "execution_count": 79,
   "metadata": {},
   "outputs": [],
   "source": [
    "x_t = torch.tensor([1.0, 2.0, 3.0])"
   ]
  },
  {
   "cell_type": "code",
   "execution_count": 80,
   "metadata": {},
   "outputs": [
    {
     "data": {
      "text/plain": [
       "tensor([-0.2700, -1.0157, -0.2244, -0.5018], grad_fn=<SqueezeBackward3>)"
      ]
     },
     "execution_count": 80,
     "metadata": {},
     "output_type": "execute_result"
    }
   ],
   "source": [
    "layer1_t(x_t)"
   ]
  },
  {
   "cell_type": "code",
   "execution_count": 81,
   "metadata": {},
   "outputs": [
    {
     "data": {
      "text/plain": [
       "tensor([-0.2700, -1.0157, -0.2244, -0.5018], grad_fn=<MvBackward0>)"
      ]
     },
     "execution_count": 81,
     "metadata": {},
     "output_type": "execute_result"
    }
   ],
   "source": [
    "layer1_t.weight @ x_t"
   ]
  },
  {
   "cell_type": "markdown",
   "metadata": {},
   "source": [
    "Or see: https://pytorch.org/docs/stable/generated/torch.nn.Linear.html"
   ]
  },
  {
   "cell_type": "code",
   "execution_count": 82,
   "metadata": {},
   "outputs": [
    {
     "data": {
      "text/plain": [
       "tensor([-0.2700, -1.0157, -0.2244, -0.5018], grad_fn=<SqueezeBackward3>)"
      ]
     },
     "execution_count": 82,
     "metadata": {},
     "output_type": "execute_result"
    }
   ],
   "source": [
    "x_t @ layer1_t.weight.T"
   ]
  },
  {
   "cell_type": "markdown",
   "metadata": {},
   "source": [
    "## Matrices and Neural Nets: More Layers"
   ]
  },
  {
   "cell_type": "markdown",
   "metadata": {},
   "source": [
    "### Keras"
   ]
  },
  {
   "cell_type": "code",
   "execution_count": 83,
   "metadata": {},
   "outputs": [],
   "source": [
    "nn_k = keras.Sequential([\n",
    "    layers.Dense(4, input_dim=3, use_bias=False),\n",
    "    layers.Dense(2, use_bias=False),\n",
    "    layers.Dense(1, use_bias=False)\n",
    "    ])"
   ]
  },
  {
   "cell_type": "code",
   "execution_count": 84,
   "metadata": {},
   "outputs": [
    {
     "data": {
      "text/plain": [
       "[<tf.Variable 'dense_1/kernel:0' shape=(3, 4) dtype=float32, numpy=\n",
       " array([[-0.4278257 ,  0.7547064 ,  0.10550451,  0.03234905],\n",
       "        [-0.58570874, -0.5083163 , -0.4768471 ,  0.6148857 ],\n",
       "        [-0.53428507,  0.7947674 , -0.83726215, -0.13393134]],\n",
       "       dtype=float32)>,\n",
       " <tf.Variable 'dense_2/kernel:0' shape=(4, 2) dtype=float32, numpy=\n",
       " array([[ 0.9361608 , -0.58433414],\n",
       "        [-0.9977844 , -0.95682406],\n",
       "        [ 0.4549482 , -0.41785932],\n",
       "        [ 0.7583747 , -0.3208456 ]], dtype=float32)>,\n",
       " <tf.Variable 'dense_3/kernel:0' shape=(2, 1) dtype=float32, numpy=\n",
       " array([[-1.1308026 ],\n",
       "        [ 0.37055206]], dtype=float32)>]"
      ]
     },
     "execution_count": 84,
     "metadata": {},
     "output_type": "execute_result"
    }
   ],
   "source": [
    "nn_k.weights"
   ]
  },
  {
   "cell_type": "code",
   "execution_count": 85,
   "metadata": {},
   "outputs": [
    {
     "data": {
      "text/plain": [
       "<tf.Tensor: shape=(1, 1), dtype=float32, numpy=array([[7.1340375]], dtype=float32)>"
      ]
     },
     "execution_count": 85,
     "metadata": {},
     "output_type": "execute_result"
    }
   ],
   "source": [
    "nn_k(x_np)"
   ]
  },
  {
   "cell_type": "code",
   "execution_count": 86,
   "metadata": {},
   "outputs": [
    {
     "data": {
      "text/plain": [
       "<tf.Tensor: shape=(1, 1), dtype=float32, numpy=array([[7.1340375]], dtype=float32)>"
      ]
     },
     "execution_count": 86,
     "metadata": {},
     "output_type": "execute_result"
    }
   ],
   "source": [
    "x_np @ nn_k.weights[0] @ nn_k.weights[1] @ nn_k.weights[2]"
   ]
  },
  {
   "cell_type": "markdown",
   "metadata": {},
   "source": [
    "### PyTorch"
   ]
  },
  {
   "cell_type": "code",
   "execution_count": 87,
   "metadata": {},
   "outputs": [],
   "source": [
    "layer1_t = torch.nn.Linear(3, 4, bias=False)\n",
    "layer2_t = torch.nn.Linear(4, 2, bias=False)\n",
    "layer3_t = torch.nn.Linear(2, 1, bias=False)"
   ]
  },
  {
   "cell_type": "code",
   "execution_count": 88,
   "metadata": {},
   "outputs": [
    {
     "data": {
      "text/plain": [
       "(Parameter containing:\n",
       " tensor([[ 0.3011,  0.2104, -0.4571],\n",
       "         [-0.0646, -0.3317, -0.3089],\n",
       "         [-0.3900, -0.1020, -0.2278],\n",
       "         [-0.1385,  0.3165,  0.0657]], requires_grad=True),\n",
       " Parameter containing:\n",
       " tensor([[ 0.0602,  0.4850,  0.1278,  0.4607],\n",
       "         [-0.0315, -0.3692, -0.3080, -0.3204]], requires_grad=True),\n",
       " Parameter containing:\n",
       " tensor([[-0.3436, -0.1657]], requires_grad=True))"
      ]
     },
     "execution_count": 88,
     "metadata": {},
     "output_type": "execute_result"
    }
   ],
   "source": [
    "(layer1_t.weight, layer2_t.weight, layer3_t.weight)"
   ]
  },
  {
   "cell_type": "code",
   "execution_count": 89,
   "metadata": {},
   "outputs": [
    {
     "data": {
      "text/plain": [
       "tensor([0.1027], grad_fn=<SqueezeBackward3>)"
      ]
     },
     "execution_count": 89,
     "metadata": {},
     "output_type": "execute_result"
    }
   ],
   "source": [
    "layer3_t(layer2_t(layer1_t(x_t)))"
   ]
  },
  {
   "cell_type": "code",
   "execution_count": 90,
   "metadata": {},
   "outputs": [
    {
     "data": {
      "text/plain": [
       "tensor([0.1027], grad_fn=<SqueezeBackward3>)"
      ]
     },
     "execution_count": 90,
     "metadata": {},
     "output_type": "execute_result"
    }
   ],
   "source": [
    "x_t @ layer1_t.weight.T @ layer2_t.weight.T @ layer3_t.weight.T"
   ]
  },
  {
   "cell_type": "markdown",
   "metadata": {},
   "source": [
    "## Datasets"
   ]
  },
  {
   "cell_type": "code",
   "execution_count": 91,
   "metadata": {},
   "outputs": [],
   "source": [
    "from sklearn.datasets import load_iris"
   ]
  },
  {
   "cell_type": "code",
   "execution_count": 92,
   "metadata": {},
   "outputs": [],
   "source": [
    "iris_dataset = load_iris()"
   ]
  },
  {
   "cell_type": "code",
   "execution_count": 93,
   "metadata": {},
   "outputs": [],
   "source": [
    "X = torch.from_numpy(iris_dataset['data']).float()"
   ]
  },
  {
   "cell_type": "code",
   "execution_count": 94,
   "metadata": {},
   "outputs": [
    {
     "data": {
      "text/plain": [
       "torch.float32"
      ]
     },
     "execution_count": 94,
     "metadata": {},
     "output_type": "execute_result"
    }
   ],
   "source": [
    "X.dtype"
   ]
  },
  {
   "cell_type": "code",
   "execution_count": 95,
   "metadata": {},
   "outputs": [],
   "source": [
    "layer1_t = torch.nn.Linear(4, 25, bias=False)\n",
    "layer2_t = torch.nn.Linear(25, 25, bias=False)\n",
    "layer3_t = torch.nn.Linear(25, 3, bias=False)"
   ]
  },
  {
   "cell_type": "code",
   "execution_count": 96,
   "metadata": {},
   "outputs": [
    {
     "data": {
      "text/plain": [
       "tensor([[ 0.8766, -0.2090,  0.5333],\n",
       "        [ 0.8141, -0.2013,  0.4681],\n",
       "        [ 0.8081, -0.1918,  0.4893],\n",
       "        [ 0.8086, -0.1973,  0.4694],\n",
       "        [ 0.8780, -0.2064,  0.5426],\n",
       "        [ 0.9869, -0.2182,  0.5950],\n",
       "        [ 0.8391, -0.1869,  0.5147],\n",
       "        [ 0.8682, -0.2101,  0.5161],\n",
       "        [ 0.7653, -0.1864,  0.4427],\n",
       "        [ 0.8210, -0.2132,  0.4707],\n",
       "        [ 0.9278, -0.2228,  0.5627],\n",
       "        [ 0.8613, -0.2087,  0.5081],\n",
       "        [ 0.7949, -0.2055,  0.4586],\n",
       "        [ 0.7288, -0.1777,  0.4530],\n",
       "        [ 0.9608, -0.2223,  0.6172],\n",
       "        [ 1.0395, -0.2200,  0.6681],\n",
       "        [ 0.9514, -0.2006,  0.6054],\n",
       "        [ 0.8879, -0.2019,  0.5401],\n",
       "        [ 0.9900, -0.2337,  0.5844],\n",
       "        [ 0.9248, -0.2074,  0.5734],\n",
       "        [ 0.9176, -0.2306,  0.5216],\n",
       "        [ 0.9268, -0.1999,  0.5682],\n",
       "        [ 0.8109, -0.1771,  0.5422],\n",
       "        [ 0.9185, -0.2002,  0.5219],\n",
       "        [ 0.8880, -0.2219,  0.5002],\n",
       "        [ 0.8398, -0.2130,  0.4656],\n",
       "        [ 0.8998, -0.2003,  0.5270],\n",
       "        [ 0.8934, -0.2163,  0.5334],\n",
       "        [ 0.8752, -0.2115,  0.5241],\n",
       "        [ 0.8348, -0.2050,  0.4814],\n",
       "        [ 0.8333, -0.2076,  0.4722],\n",
       "        [ 0.9225, -0.2075,  0.5404],\n",
       "        [ 0.9380, -0.2256,  0.5984],\n",
       "        [ 0.9735, -0.2232,  0.6278],\n",
       "        [ 0.8324, -0.2061,  0.4775],\n",
       "        [ 0.8229, -0.1961,  0.5000],\n",
       "        [ 0.8993, -0.2162,  0.5467],\n",
       "        [ 0.8588, -0.2106,  0.5331],\n",
       "        [ 0.7657, -0.1823,  0.4572],\n",
       "        [ 0.8761, -0.2130,  0.5188],\n",
       "        [ 0.8711, -0.1945,  0.5400],\n",
       "        [ 0.7197, -0.1756,  0.3830],\n",
       "        [ 0.7844, -0.1831,  0.4812],\n",
       "        [ 0.9317, -0.1865,  0.5526],\n",
       "        [ 0.9716, -0.2180,  0.5697],\n",
       "        [ 0.8176, -0.1913,  0.4722],\n",
       "        [ 0.9223, -0.2189,  0.5640],\n",
       "        [ 0.8091, -0.1933,  0.4840],\n",
       "        [ 0.9199, -0.2199,  0.5600],\n",
       "        [ 0.8500, -0.2053,  0.5067],\n",
       "        [ 1.4277, -0.3237,  0.5441],\n",
       "        [ 1.3739, -0.2904,  0.5400],\n",
       "        [ 1.4396, -0.3222,  0.5311],\n",
       "        [ 1.1517, -0.2530,  0.4075],\n",
       "        [ 1.3533, -0.2962,  0.4922],\n",
       "        [ 1.2586, -0.2827,  0.4597],\n",
       "        [ 1.4044, -0.2896,  0.5508],\n",
       "        [ 1.0175, -0.2262,  0.4011],\n",
       "        [ 1.3479, -0.3137,  0.4933],\n",
       "        [ 1.1678, -0.2342,  0.4566],\n",
       "        [ 1.0058, -0.2365,  0.3508],\n",
       "        [ 1.2890, -0.2618,  0.5104],\n",
       "        [ 1.1480, -0.2884,  0.3886],\n",
       "        [ 1.3286, -0.2965,  0.4840],\n",
       "        [ 1.1801, -0.2404,  0.4924],\n",
       "        [ 1.3680, -0.3014,  0.5319],\n",
       "        [ 1.2920, -0.2664,  0.4945],\n",
       "        [ 1.1877, -0.2889,  0.4404],\n",
       "        [ 1.2648, -0.2808,  0.4150],\n",
       "        [ 1.1468, -0.2664,  0.4231],\n",
       "        [ 1.3949, -0.2678,  0.5390],\n",
       "        [ 1.2458, -0.2723,  0.4835],\n",
       "        [ 1.3362, -0.3025,  0.4431],\n",
       "        [ 1.2967, -0.3103,  0.4584],\n",
       "        [ 1.3055, -0.2946,  0.4957],\n",
       "        [ 1.3508, -0.2981,  0.5173],\n",
       "        [ 1.3835, -0.3209,  0.4883],\n",
       "        [ 1.4460, -0.3062,  0.5247],\n",
       "        [ 1.3143, -0.2776,  0.4933],\n",
       "        [ 1.1171, -0.2591,  0.4414],\n",
       "        [ 1.1206, -0.2587,  0.4111],\n",
       "        [ 1.1004, -0.2614,  0.4069],\n",
       "        [ 1.1925, -0.2658,  0.4592],\n",
       "        [ 1.3602, -0.2963,  0.4605],\n",
       "        [ 1.2762, -0.2605,  0.4891],\n",
       "        [ 1.3722, -0.2724,  0.5599],\n",
       "        [ 1.4060, -0.3076,  0.5309],\n",
       "        [ 1.2505, -0.2939,  0.4186],\n",
       "        [ 1.2338, -0.2629,  0.4913],\n",
       "        [ 1.1704, -0.2537,  0.4314],\n",
       "        [ 1.2039, -0.2788,  0.4262],\n",
       "        [ 1.3291, -0.2924,  0.4985],\n",
       "        [ 1.1921, -0.2699,  0.4447],\n",
       "        [ 1.0161, -0.2288,  0.3919],\n",
       "        [ 1.2147, -0.2662,  0.4528],\n",
       "        [ 1.2393, -0.2773,  0.4846],\n",
       "        [ 1.2413, -0.2698,  0.4794],\n",
       "        [ 1.2897, -0.2888,  0.4903],\n",
       "        [ 1.0273, -0.2121,  0.4331],\n",
       "        [ 1.2231, -0.2650,  0.4701],\n",
       "        [ 1.6217, -0.2831,  0.5780],\n",
       "        [ 1.3784, -0.2692,  0.4755],\n",
       "        [ 1.6028, -0.3293,  0.5392],\n",
       "        [ 1.4696, -0.3136,  0.4931],\n",
       "        [ 1.5578, -0.3003,  0.5324],\n",
       "        [ 1.7045, -0.3747,  0.5344],\n",
       "        [ 1.2126, -0.2300,  0.4293],\n",
       "        [ 1.6109, -0.3737,  0.5018],\n",
       "        [ 1.4817, -0.3326,  0.4508],\n",
       "        [ 1.7297, -0.3148,  0.6356],\n",
       "        [ 1.4917, -0.2843,  0.5610],\n",
       "        [ 1.4436, -0.2955,  0.4865],\n",
       "        [ 1.5436, -0.3029,  0.5415],\n",
       "        [ 1.3542, -0.2540,  0.4583],\n",
       "        [ 1.4443, -0.2341,  0.5214],\n",
       "        [ 1.5355, -0.2689,  0.5734],\n",
       "        [ 1.4859, -0.3154,  0.5130],\n",
       "        [ 1.8072, -0.3779,  0.6370],\n",
       "        [ 1.7244, -0.3752,  0.4950],\n",
       "        [ 1.2934, -0.2971,  0.3965],\n",
       "        [ 1.6105, -0.3012,  0.5765],\n",
       "        [ 1.3654, -0.2478,  0.4940],\n",
       "        [ 1.6913, -0.3884,  0.5038],\n",
       "        [ 1.3888, -0.2820,  0.4874],\n",
       "        [ 1.5814, -0.3099,  0.5695],\n",
       "        [ 1.6043, -0.3586,  0.5428],\n",
       "        [ 1.3813, -0.2750,  0.4993],\n",
       "        [ 1.4010, -0.2773,  0.5179],\n",
       "        [ 1.5022, -0.2949,  0.5042],\n",
       "        [ 1.5452, -0.3632,  0.5105],\n",
       "        [ 1.6030, -0.3603,  0.5045],\n",
       "        [ 1.7738, -0.3847,  0.6366],\n",
       "        [ 1.5135, -0.2878,  0.5110],\n",
       "        [ 1.3819, -0.3125,  0.4738],\n",
       "        [ 1.3806, -0.3351,  0.4246],\n",
       "        [ 1.6906, -0.3414,  0.5637],\n",
       "        [ 1.5842, -0.2729,  0.5936],\n",
       "        [ 1.4873, -0.3129,  0.5223],\n",
       "        [ 1.3842, -0.2700,  0.5178],\n",
       "        [ 1.5519, -0.3017,  0.5588],\n",
       "        [ 1.5878, -0.2835,  0.5685],\n",
       "        [ 1.5479, -0.2743,  0.5802],\n",
       "        [ 1.3784, -0.2692,  0.4755],\n",
       "        [ 1.6204, -0.3071,  0.5686],\n",
       "        [ 1.6267, -0.2815,  0.5966],\n",
       "        [ 1.5316, -0.2725,  0.5602],\n",
       "        [ 1.3903, -0.2786,  0.4677],\n",
       "        [ 1.4819, -0.2880,  0.5344],\n",
       "        [ 1.5472, -0.2683,  0.5893],\n",
       "        [ 1.4029, -0.2803,  0.5073]], grad_fn=<MmBackward0>)"
      ]
     },
     "execution_count": 96,
     "metadata": {},
     "output_type": "execute_result"
    }
   ],
   "source": [
    "layer3_t(layer2_t(layer1_t(X)))"
   ]
  },
  {
   "cell_type": "code",
   "execution_count": 97,
   "metadata": {},
   "outputs": [
    {
     "data": {
      "text/plain": [
       "tensor([[ 0.8766, -0.2090,  0.5333],\n",
       "        [ 0.8141, -0.2013,  0.4681],\n",
       "        [ 0.8081, -0.1918,  0.4893],\n",
       "        [ 0.8086, -0.1973,  0.4694],\n",
       "        [ 0.8780, -0.2064,  0.5426],\n",
       "        [ 0.9869, -0.2182,  0.5950],\n",
       "        [ 0.8391, -0.1869,  0.5147],\n",
       "        [ 0.8682, -0.2101,  0.5161],\n",
       "        [ 0.7653, -0.1864,  0.4427],\n",
       "        [ 0.8210, -0.2132,  0.4707],\n",
       "        [ 0.9278, -0.2228,  0.5627],\n",
       "        [ 0.8613, -0.2087,  0.5081],\n",
       "        [ 0.7949, -0.2055,  0.4586],\n",
       "        [ 0.7288, -0.1777,  0.4530],\n",
       "        [ 0.9608, -0.2223,  0.6172],\n",
       "        [ 1.0395, -0.2200,  0.6681],\n",
       "        [ 0.9514, -0.2006,  0.6054],\n",
       "        [ 0.8879, -0.2019,  0.5401],\n",
       "        [ 0.9900, -0.2337,  0.5844],\n",
       "        [ 0.9248, -0.2074,  0.5734],\n",
       "        [ 0.9176, -0.2306,  0.5216],\n",
       "        [ 0.9268, -0.1999,  0.5682],\n",
       "        [ 0.8109, -0.1771,  0.5422],\n",
       "        [ 0.9185, -0.2002,  0.5219],\n",
       "        [ 0.8880, -0.2219,  0.5002],\n",
       "        [ 0.8398, -0.2130,  0.4656],\n",
       "        [ 0.8998, -0.2003,  0.5270],\n",
       "        [ 0.8934, -0.2163,  0.5334],\n",
       "        [ 0.8752, -0.2115,  0.5241],\n",
       "        [ 0.8348, -0.2050,  0.4814],\n",
       "        [ 0.8333, -0.2076,  0.4722],\n",
       "        [ 0.9225, -0.2075,  0.5404],\n",
       "        [ 0.9380, -0.2256,  0.5984],\n",
       "        [ 0.9735, -0.2232,  0.6278],\n",
       "        [ 0.8324, -0.2061,  0.4775],\n",
       "        [ 0.8229, -0.1961,  0.5000],\n",
       "        [ 0.8993, -0.2162,  0.5467],\n",
       "        [ 0.8588, -0.2106,  0.5331],\n",
       "        [ 0.7657, -0.1823,  0.4572],\n",
       "        [ 0.8761, -0.2130,  0.5188],\n",
       "        [ 0.8711, -0.1945,  0.5400],\n",
       "        [ 0.7197, -0.1756,  0.3830],\n",
       "        [ 0.7844, -0.1831,  0.4812],\n",
       "        [ 0.9317, -0.1865,  0.5526],\n",
       "        [ 0.9716, -0.2180,  0.5697],\n",
       "        [ 0.8176, -0.1913,  0.4722],\n",
       "        [ 0.9223, -0.2189,  0.5640],\n",
       "        [ 0.8091, -0.1933,  0.4840],\n",
       "        [ 0.9199, -0.2199,  0.5600],\n",
       "        [ 0.8500, -0.2053,  0.5067],\n",
       "        [ 1.4277, -0.3237,  0.5441],\n",
       "        [ 1.3739, -0.2904,  0.5400],\n",
       "        [ 1.4396, -0.3222,  0.5311],\n",
       "        [ 1.1517, -0.2530,  0.4075],\n",
       "        [ 1.3533, -0.2962,  0.4922],\n",
       "        [ 1.2586, -0.2827,  0.4597],\n",
       "        [ 1.4044, -0.2896,  0.5508],\n",
       "        [ 1.0175, -0.2262,  0.4011],\n",
       "        [ 1.3479, -0.3137,  0.4933],\n",
       "        [ 1.1678, -0.2342,  0.4566],\n",
       "        [ 1.0058, -0.2365,  0.3508],\n",
       "        [ 1.2890, -0.2618,  0.5104],\n",
       "        [ 1.1480, -0.2884,  0.3886],\n",
       "        [ 1.3286, -0.2965,  0.4840],\n",
       "        [ 1.1801, -0.2404,  0.4924],\n",
       "        [ 1.3680, -0.3014,  0.5319],\n",
       "        [ 1.2920, -0.2664,  0.4945],\n",
       "        [ 1.1877, -0.2889,  0.4404],\n",
       "        [ 1.2648, -0.2808,  0.4150],\n",
       "        [ 1.1468, -0.2664,  0.4231],\n",
       "        [ 1.3949, -0.2678,  0.5390],\n",
       "        [ 1.2458, -0.2723,  0.4835],\n",
       "        [ 1.3362, -0.3025,  0.4431],\n",
       "        [ 1.2967, -0.3103,  0.4584],\n",
       "        [ 1.3055, -0.2946,  0.4957],\n",
       "        [ 1.3508, -0.2981,  0.5173],\n",
       "        [ 1.3835, -0.3209,  0.4883],\n",
       "        [ 1.4460, -0.3062,  0.5247],\n",
       "        [ 1.3143, -0.2776,  0.4933],\n",
       "        [ 1.1171, -0.2591,  0.4414],\n",
       "        [ 1.1206, -0.2587,  0.4111],\n",
       "        [ 1.1004, -0.2614,  0.4069],\n",
       "        [ 1.1925, -0.2658,  0.4592],\n",
       "        [ 1.3602, -0.2963,  0.4605],\n",
       "        [ 1.2762, -0.2605,  0.4891],\n",
       "        [ 1.3722, -0.2724,  0.5599],\n",
       "        [ 1.4060, -0.3076,  0.5309],\n",
       "        [ 1.2505, -0.2939,  0.4186],\n",
       "        [ 1.2338, -0.2629,  0.4913],\n",
       "        [ 1.1704, -0.2537,  0.4314],\n",
       "        [ 1.2039, -0.2788,  0.4262],\n",
       "        [ 1.3291, -0.2924,  0.4985],\n",
       "        [ 1.1921, -0.2699,  0.4447],\n",
       "        [ 1.0161, -0.2288,  0.3919],\n",
       "        [ 1.2147, -0.2662,  0.4528],\n",
       "        [ 1.2393, -0.2773,  0.4846],\n",
       "        [ 1.2413, -0.2698,  0.4794],\n",
       "        [ 1.2897, -0.2888,  0.4903],\n",
       "        [ 1.0273, -0.2121,  0.4331],\n",
       "        [ 1.2231, -0.2650,  0.4701],\n",
       "        [ 1.6217, -0.2831,  0.5780],\n",
       "        [ 1.3784, -0.2692,  0.4755],\n",
       "        [ 1.6028, -0.3293,  0.5392],\n",
       "        [ 1.4696, -0.3136,  0.4931],\n",
       "        [ 1.5578, -0.3003,  0.5324],\n",
       "        [ 1.7045, -0.3747,  0.5344],\n",
       "        [ 1.2126, -0.2300,  0.4293],\n",
       "        [ 1.6109, -0.3737,  0.5018],\n",
       "        [ 1.4817, -0.3326,  0.4508],\n",
       "        [ 1.7297, -0.3148,  0.6356],\n",
       "        [ 1.4917, -0.2843,  0.5610],\n",
       "        [ 1.4436, -0.2955,  0.4865],\n",
       "        [ 1.5436, -0.3029,  0.5415],\n",
       "        [ 1.3542, -0.2540,  0.4583],\n",
       "        [ 1.4443, -0.2341,  0.5214],\n",
       "        [ 1.5355, -0.2689,  0.5734],\n",
       "        [ 1.4859, -0.3154,  0.5130],\n",
       "        [ 1.8072, -0.3779,  0.6370],\n",
       "        [ 1.7244, -0.3752,  0.4950],\n",
       "        [ 1.2934, -0.2971,  0.3965],\n",
       "        [ 1.6105, -0.3012,  0.5765],\n",
       "        [ 1.3654, -0.2478,  0.4940],\n",
       "        [ 1.6913, -0.3884,  0.5038],\n",
       "        [ 1.3888, -0.2820,  0.4874],\n",
       "        [ 1.5814, -0.3099,  0.5695],\n",
       "        [ 1.6043, -0.3586,  0.5428],\n",
       "        [ 1.3813, -0.2750,  0.4993],\n",
       "        [ 1.4010, -0.2773,  0.5179],\n",
       "        [ 1.5022, -0.2949,  0.5042],\n",
       "        [ 1.5452, -0.3632,  0.5105],\n",
       "        [ 1.6030, -0.3603,  0.5045],\n",
       "        [ 1.7738, -0.3847,  0.6366],\n",
       "        [ 1.5135, -0.2878,  0.5110],\n",
       "        [ 1.3819, -0.3125,  0.4738],\n",
       "        [ 1.3806, -0.3351,  0.4246],\n",
       "        [ 1.6906, -0.3414,  0.5637],\n",
       "        [ 1.5842, -0.2729,  0.5936],\n",
       "        [ 1.4873, -0.3129,  0.5223],\n",
       "        [ 1.3842, -0.2700,  0.5178],\n",
       "        [ 1.5519, -0.3017,  0.5588],\n",
       "        [ 1.5878, -0.2835,  0.5685],\n",
       "        [ 1.5479, -0.2743,  0.5802],\n",
       "        [ 1.3784, -0.2692,  0.4755],\n",
       "        [ 1.6204, -0.3071,  0.5686],\n",
       "        [ 1.6267, -0.2815,  0.5966],\n",
       "        [ 1.5316, -0.2725,  0.5602],\n",
       "        [ 1.3903, -0.2786,  0.4677],\n",
       "        [ 1.4819, -0.2880,  0.5344],\n",
       "        [ 1.5472, -0.2683,  0.5893],\n",
       "        [ 1.4029, -0.2803,  0.5073]], grad_fn=<MmBackward0>)"
      ]
     },
     "execution_count": 97,
     "metadata": {},
     "output_type": "execute_result"
    }
   ],
   "source": [
    "X @ layer1_t.weight.T @ layer2_t.weight.T @ layer3_t.weight.T"
   ]
  },
  {
   "cell_type": "code",
   "execution_count": null,
   "metadata": {},
   "outputs": [],
   "source": []
  },
  {
   "cell_type": "code",
   "execution_count": null,
   "metadata": {},
   "outputs": [],
   "source": []
  }
 ],
 "metadata": {
  "kernelspec": {
   "display_name": "Python 3.9.13 ('base')",
   "language": "python",
   "name": "python3"
  },
  "language_info": {
   "codemirror_mode": {
    "name": "ipython",
    "version": 3
   },
   "file_extension": ".py",
   "mimetype": "text/x-python",
   "name": "python",
   "nbconvert_exporter": "python",
   "pygments_lexer": "ipython3",
   "version": "3.9.13"
  },
  "orig_nbformat": 4,
  "vscode": {
   "interpreter": {
    "hash": "b97b11a820675205aae8f1d7f2a3f22bbd3a2c30189f44042310baf5b4cd1987"
   }
  }
 },
 "nbformat": 4,
 "nbformat_minor": 2
}
