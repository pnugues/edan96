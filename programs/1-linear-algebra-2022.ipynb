{
 "cells": [
  {
   "cell_type": "markdown",
   "metadata": {},
   "source": [
    "# Elementary Introduction to Linear Algebra with NumPy\n",
    "\n",
    "This notebook is to be read with the slides.\n",
    "\n",
    "Author: Pierre Nugues\n",
    "\n",
    "_À mes anciens profs de maths, un élève respectueux_\n",
    "\n",
    "_À ma HP-21_"
   ]
  },
  {
   "cell_type": "code",
   "execution_count": 1,
   "metadata": {},
   "outputs": [],
   "source": [
    "import torch"
   ]
  },
  {
   "cell_type": "code",
   "execution_count": 2,
   "metadata": {},
   "outputs": [],
   "source": [
    "import numpy as np"
   ]
  },
  {
   "cell_type": "code",
   "execution_count": 11,
   "metadata": {},
   "outputs": [],
   "source": [
    "import matplotlib.pyplot as plt"
   ]
  },
  {
   "cell_type": "code",
   "execution_count": 3,
   "metadata": {},
   "outputs": [
    {
     "name": "stderr",
     "output_type": "stream",
     "text": [
      "2022-10-27 12:16:10.745496: I tensorflow/core/platform/cpu_feature_guard.cc:193] This TensorFlow binary is optimized with oneAPI Deep Neural Network Library (oneDNN) to use the following CPU instructions in performance-critical operations:  AVX2 FMA\n",
      "To enable them in other operations, rebuild TensorFlow with the appropriate compiler flags.\n"
     ]
    }
   ],
   "source": [
    "import tensorflow as tf\n",
    "from tensorflow import keras\n",
    "from tensorflow.keras import layers"
   ]
  },
  {
   "cell_type": "markdown",
   "metadata": {},
   "source": [
    "## Creating vectors"
   ]
  },
  {
   "cell_type": "code",
   "execution_count": 17,
   "metadata": {},
   "outputs": [
    {
     "data": {
      "text/plain": [
       "1"
      ]
     },
     "execution_count": 17,
     "metadata": {},
     "output_type": "execute_result"
    }
   ],
   "source": [
    "np.array([2, 3])\n",
    "np.array([1, 2, 3])"
   ]
  },
  {
   "cell_type": "code",
   "execution_count": 5,
   "metadata": {},
   "outputs": [
    {
     "data": {
      "text/plain": [
       "tensor([1, 2, 3])"
      ]
     },
     "execution_count": 5,
     "metadata": {},
     "output_type": "execute_result"
    }
   ],
   "source": [
    "torch.tensor([2, 3])\n",
    "torch.tensor([1, 2, 3])"
   ]
  },
  {
   "cell_type": "markdown",
   "metadata": {},
   "source": [
    "## Indices and Slices"
   ]
  },
  {
   "cell_type": "code",
   "execution_count": 52,
   "metadata": {},
   "outputs": [
    {
     "data": {
      "text/plain": [
       "array([1, 2, 3, 4])"
      ]
     },
     "execution_count": 52,
     "metadata": {},
     "output_type": "execute_result"
    }
   ],
   "source": [
    "vector = np.array([1, 2, 3, 4])\n",
    "vector"
   ]
  },
  {
   "cell_type": "code",
   "execution_count": 53,
   "metadata": {},
   "outputs": [
    {
     "data": {
      "text/plain": [
       "2"
      ]
     },
     "execution_count": 53,
     "metadata": {},
     "output_type": "execute_result"
    }
   ],
   "source": [
    "vector[1] # 2"
   ]
  },
  {
   "cell_type": "code",
   "execution_count": 54,
   "metadata": {},
   "outputs": [
    {
     "data": {
      "text/plain": [
       "array([1])"
      ]
     },
     "execution_count": 54,
     "metadata": {},
     "output_type": "execute_result"
    }
   ],
   "source": [
    "vector[:1] # [1]"
   ]
  },
  {
   "cell_type": "code",
   "execution_count": 55,
   "metadata": {},
   "outputs": [
    {
     "data": {
      "text/plain": [
       "array([2, 3])"
      ]
     },
     "execution_count": 55,
     "metadata": {},
     "output_type": "execute_result"
    }
   ],
   "source": [
    "vector[1:3] # [2, 3]"
   ]
  },
  {
   "cell_type": "code",
   "execution_count": 61,
   "metadata": {},
   "outputs": [
    {
     "data": {
      "text/plain": [
       "tensor([1, 2, 3, 4])"
      ]
     },
     "execution_count": 61,
     "metadata": {},
     "output_type": "execute_result"
    }
   ],
   "source": [
    "vector = torch.tensor([1, 2, 3, 4])\n",
    "vector"
   ]
  },
  {
   "cell_type": "code",
   "execution_count": 62,
   "metadata": {},
   "outputs": [
    {
     "data": {
      "text/plain": [
       "tensor(1)"
      ]
     },
     "execution_count": 62,
     "metadata": {},
     "output_type": "execute_result"
    }
   ],
   "source": [
    "vector[0]"
   ]
  },
  {
   "cell_type": "code",
   "execution_count": 63,
   "metadata": {},
   "outputs": [
    {
     "data": {
      "text/plain": [
       "tensor([1])"
      ]
     },
     "execution_count": 63,
     "metadata": {},
     "output_type": "execute_result"
    }
   ],
   "source": [
    "vector[:1]"
   ]
  },
  {
   "cell_type": "code",
   "execution_count": 64,
   "metadata": {},
   "outputs": [
    {
     "data": {
      "text/plain": [
       "tensor([2, 3])"
      ]
     },
     "execution_count": 64,
     "metadata": {},
     "output_type": "execute_result"
    }
   ],
   "source": [
    "vector[1:3]"
   ]
  },
  {
   "cell_type": "markdown",
   "metadata": {},
   "source": [
    "## Visualizing vectors"
   ]
  },
  {
   "cell_type": "code",
   "execution_count": 49,
   "metadata": {},
   "outputs": [
    {
     "data": {
      "text/plain": [
       "<matplotlib.patches.FancyArrow at 0x7f978113e2e0>"
      ]
     },
     "execution_count": 49,
     "metadata": {},
     "output_type": "execute_result"
    },
    {
     "data": {
      "image/png": "[encoded data removed]",
      "text/plain": [
       "<Figure size 640x480 with 1 Axes>"
      ]
     },
     "metadata": {},
     "output_type": "display_data"
    }
   ],
   "source": [
    "plt.arrow(0, 0, np.array([2, 3])[0], np.array([2, 3])[1], width=0.01, color='red')"
   ]
  },
  {
   "cell_type": "markdown",
   "metadata": {},
   "source": [
    "## Operations in the vector space"
   ]
  },
  {
   "cell_type": "code",
   "execution_count": 68,
   "metadata": {},
   "outputs": [
    {
     "data": {
      "text/plain": [
       "array([5, 7, 9])"
      ]
     },
     "execution_count": 68,
     "metadata": {},
     "output_type": "execute_result"
    }
   ],
   "source": [
    "np.array([1, 2, 3]) + np.array([4, 5, 6])"
   ]
  },
  {
   "cell_type": "code",
   "execution_count": 66,
   "metadata": {},
   "outputs": [
    {
     "data": {
      "text/plain": [
       "array([3, 6, 9])"
      ]
     },
     "execution_count": 66,
     "metadata": {},
     "output_type": "execute_result"
    }
   ],
   "source": [
    "3 * np.array([1, 2, 3])"
   ]
  },
  {
   "cell_type": "code",
   "execution_count": 69,
   "metadata": {},
   "outputs": [
    {
     "data": {
      "text/plain": [
       "tensor([5, 7, 9])"
      ]
     },
     "execution_count": 69,
     "metadata": {},
     "output_type": "execute_result"
    }
   ],
   "source": [
    "torch.tensor([1, 2, 3]) + torch.tensor([4, 5, 6])"
   ]
  },
  {
   "cell_type": "code",
   "execution_count": 67,
   "metadata": {},
   "outputs": [
    {
     "data": {
      "text/plain": [
       "tensor([3, 6, 9])"
      ]
     },
     "execution_count": 67,
     "metadata": {},
     "output_type": "execute_result"
    }
   ],
   "source": [
    "3 * torch.tensor([1, 2, 3])"
   ]
  },
  {
   "cell_type": "markdown",
   "metadata": {},
   "source": [
    "## From NumPy to PyTorch and vice-versa"
   ]
  },
  {
   "cell_type": "code",
   "execution_count": 58,
   "metadata": {},
   "outputs": [
    {
     "data": {
      "text/plain": [
       "tensor([1, 2, 3])"
      ]
     },
     "execution_count": 58,
     "metadata": {},
     "output_type": "execute_result"
    }
   ],
   "source": [
    "np_array = np.array([1, 2, 3])\n",
    "tensor = torch.from_numpy(np_array)\n",
    "tensor"
   ]
  },
  {
   "cell_type": "code",
   "execution_count": 59,
   "metadata": {},
   "outputs": [
    {
     "data": {
      "text/plain": [
       "array([1, 2, 3])"
      ]
     },
     "execution_count": 59,
     "metadata": {},
     "output_type": "execute_result"
    }
   ],
   "source": [
    "tensor = torch.tensor([1, 2, 3])\n",
    "np_array = tensor.numpy()\n",
    "np_array"
   ]
  },
  {
   "cell_type": "markdown",
   "metadata": {},
   "source": [
    "## Data Types"
   ]
  },
  {
   "cell_type": "code",
   "execution_count": 81,
   "metadata": {},
   "outputs": [],
   "source": [
    "vector = np.array([1, 2, 3])"
   ]
  },
  {
   "cell_type": "code",
   "execution_count": 82,
   "metadata": {},
   "outputs": [
    {
     "data": {
      "text/plain": [
       "dtype('int64')"
      ]
     },
     "execution_count": 82,
     "metadata": {},
     "output_type": "execute_result"
    }
   ],
   "source": [
    "vector.dtype"
   ]
  },
  {
   "cell_type": "code",
   "execution_count": 83,
   "metadata": {},
   "outputs": [
    {
     "data": {
      "text/plain": [
       "array([1, 2, 3], dtype=int32)"
      ]
     },
     "execution_count": 83,
     "metadata": {},
     "output_type": "execute_result"
    }
   ],
   "source": [
    "vector = np.array([1, 2, 3], dtype='int32')\n",
    "vector\n"
   ]
  },
  {
   "cell_type": "code",
   "execution_count": 84,
   "metadata": {},
   "outputs": [
    {
     "data": {
      "text/plain": [
       "dtype('int32')"
      ]
     },
     "execution_count": 84,
     "metadata": {},
     "output_type": "execute_result"
    }
   ],
   "source": [
    "vector.dtype"
   ]
  },
  {
   "cell_type": "code",
   "execution_count": 85,
   "metadata": {},
   "outputs": [
    {
     "data": {
      "text/plain": [
       "array([1., 2., 3.])"
      ]
     },
     "execution_count": 85,
     "metadata": {},
     "output_type": "execute_result"
    }
   ],
   "source": [
    "vector = np.array([1, 2, 3], dtype='float64')\n",
    "vector"
   ]
  },
  {
   "cell_type": "code",
   "execution_count": 86,
   "metadata": {},
   "outputs": [
    {
     "data": {
      "text/plain": [
       "dtype('float64')"
      ]
     },
     "execution_count": 86,
     "metadata": {},
     "output_type": "execute_result"
    }
   ],
   "source": [
    "vector.dtype"
   ]
  },
  {
   "cell_type": "code",
   "execution_count": 87,
   "metadata": {},
   "outputs": [
    {
     "data": {
      "text/plain": [
       "array([False,  True,  True,  True])"
      ]
     },
     "execution_count": 87,
     "metadata": {},
     "output_type": "execute_result"
    }
   ],
   "source": [
    "np.array([0, 1, 2, 3], dtype='bool')"
   ]
  },
  {
   "cell_type": "code",
   "execution_count": 90,
   "metadata": {},
   "outputs": [
    {
     "data": {
      "text/plain": [
       "torch.int64"
      ]
     },
     "execution_count": 90,
     "metadata": {},
     "output_type": "execute_result"
    }
   ],
   "source": [
    "torch.tensor([1, 2, 3]).dtype"
   ]
  },
  {
   "cell_type": "code",
   "execution_count": 100,
   "metadata": {},
   "outputs": [
    {
     "data": {
      "text/plain": [
       "tensor([1., 2., 3.], dtype=torch.float16)"
      ]
     },
     "execution_count": 100,
     "metadata": {},
     "output_type": "execute_result"
    }
   ],
   "source": [
    "torch.tensor([1, 2, 3], dtype=torch.float16)"
   ]
  },
  {
   "cell_type": "markdown",
   "metadata": {},
   "source": [
    "## Dot Product"
   ]
  },
  {
   "cell_type": "code",
   "execution_count": 102,
   "metadata": {},
   "outputs": [
    {
     "data": {
      "text/plain": [
       "32"
      ]
     },
     "execution_count": 102,
     "metadata": {},
     "output_type": "execute_result"
    }
   ],
   "source": [
    "np.dot(np.array([1, 2, 3]), np.array([4, 5, 6]))"
   ]
  },
  {
   "cell_type": "code",
   "execution_count": 101,
   "metadata": {},
   "outputs": [
    {
     "data": {
      "text/plain": [
       "32"
      ]
     },
     "execution_count": 101,
     "metadata": {},
     "output_type": "execute_result"
    }
   ],
   "source": [
    "np.array([1, 2, 3]) @ np.array([4, 5, 6])"
   ]
  },
  {
   "cell_type": "code",
   "execution_count": 103,
   "metadata": {},
   "outputs": [
    {
     "data": {
      "text/plain": [
       "tensor(32)"
      ]
     },
     "execution_count": 103,
     "metadata": {},
     "output_type": "execute_result"
    }
   ],
   "source": [
    "torch.dot(torch.tensor([1, 2, 3]), torch.tensor([4, 5, 6]))"
   ]
  },
  {
   "cell_type": "code",
   "execution_count": 104,
   "metadata": {},
   "outputs": [
    {
     "data": {
      "text/plain": [
       "tensor(32)"
      ]
     },
     "execution_count": 104,
     "metadata": {},
     "output_type": "execute_result"
    }
   ],
   "source": [
    "torch.tensor([1, 2, 3]) @ torch.tensor([4, 5, 6])"
   ]
  },
  {
   "cell_type": "markdown",
   "metadata": {},
   "source": [
    "## Norm"
   ]
  },
  {
   "cell_type": "code",
   "execution_count": 105,
   "metadata": {},
   "outputs": [
    {
     "data": {
      "text/plain": [
       "3.7416573867739413"
      ]
     },
     "execution_count": 105,
     "metadata": {},
     "output_type": "execute_result"
    }
   ],
   "source": [
    "np.linalg.norm(np.array([1, 2, 3]))"
   ]
  },
  {
   "cell_type": "code",
   "execution_count": 108,
   "metadata": {},
   "outputs": [
    {
     "data": {
      "text/plain": [
       "tensor(3.7417)"
      ]
     },
     "execution_count": 108,
     "metadata": {},
     "output_type": "execute_result"
    }
   ],
   "source": [
    "torch.norm(torch.tensor([1.0, 2.0, 3.0]))"
   ]
  },
  {
   "cell_type": "markdown",
   "metadata": {},
   "source": [
    "## NumPy Matrices\n",
    "Let us give values to this system:\n",
    "$$\n",
    "\\begin{array}{lcl}\n",
    "a_{11} u_1 + a_{12} u_2 &=& v_1\\\\\n",
    "a_{21} u_1 + a_{22} u_2 &=& v_2\\\\\n",
    "\\end{array}\n",
    "$$\n",
    "For instance:\n",
    "$$\n",
    "\\begin{array}{lcl}\n",
    "1\\times u_1 + 2\\times u_2 &=& v_1\\\\\n",
    "3 \\times u_1 + 4 \\times u_2 &=& v_2\\\\\n",
    "\\end{array}\n",
    "$$\n",
    "We have:\n",
    "$$\n",
    "\\begin{bmatrix}\n",
    "1 &2\\\\\n",
    "3 &4\\\\\n",
    "\\end{bmatrix}  \n",
    "\\begin{bmatrix}\n",
    "5\\\\\n",
    "6\\\\\n",
    "\\end{bmatrix} =\n",
    "\\begin{bmatrix}\n",
    "17\\\\\n",
    "39\\\\\n",
    "\\end{bmatrix}\n",
    "$$"
   ]
  },
  {
   "cell_type": "code",
   "execution_count": 134,
   "metadata": {},
   "outputs": [
    {
     "data": {
      "text/plain": [
       "array([17, 39])"
      ]
     },
     "execution_count": 134,
     "metadata": {},
     "output_type": "execute_result"
    }
   ],
   "source": [
    "A = np.array([[1, 2],\n",
    "          [3, 4]])\n",
    "A @ np.array([5, 6])"
   ]
  },
  {
   "cell_type": "code",
   "execution_count": 135,
   "metadata": {},
   "outputs": [
    {
     "data": {
      "text/plain": [
       "2"
      ]
     },
     "execution_count": 135,
     "metadata": {},
     "output_type": "execute_result"
    }
   ],
   "source": [
    "A[0, 1]"
   ]
  },
  {
   "cell_type": "code",
   "execution_count": 138,
   "metadata": {},
   "outputs": [
    {
     "data": {
      "text/plain": [
       "tensor([17, 39])"
      ]
     },
     "execution_count": 138,
     "metadata": {},
     "output_type": "execute_result"
    }
   ],
   "source": [
    "A = torch.tensor([[1, 2],\n",
    "          [3, 4]])\n",
    "A @ torch.tensor([5, 6])"
   ]
  },
  {
   "cell_type": "code",
   "execution_count": 139,
   "metadata": {},
   "outputs": [
    {
     "data": {
      "text/plain": [
       "tensor(2)"
      ]
     },
     "execution_count": 139,
     "metadata": {},
     "output_type": "execute_result"
    }
   ],
   "source": [
    "A[0, 1]"
   ]
  },
  {
   "cell_type": "markdown",
   "metadata": {},
   "source": [
    "## Matrices and Rotations"
   ]
  },
  {
   "cell_type": "markdown",
   "metadata": {},
   "source": [
    "We will now have a look at vector rotation. From algebra courses, we know that we can use a matrix to compute a rotation of angle $\\theta$. For a two-dimensional vector, the rotation matrix is:\n",
    "$$\n",
    "\\mathbf{R}_{\\theta} =\n",
    "\\begin{bmatrix*}\n",
    "\\cos \\theta &-\\sin \\theta \\\\\n",
    "\\sin \\theta & \\cos \\theta \\\\\n",
    "\\end{bmatrix*}.\n",
    "$$"
   ]
  },
  {
   "cell_type": "code",
   "execution_count": 112,
   "metadata": {},
   "outputs": [
    {
     "data": {
      "text/plain": [
       "array([[ 0.70710678, -0.70710678],\n",
       "       [ 0.70710678,  0.70710678]])"
      ]
     },
     "execution_count": 112,
     "metadata": {},
     "output_type": "execute_result"
    }
   ],
   "source": [
    "theta_45 = np.pi/4\n",
    "rot_mat_45 = np.array([[np.cos(theta_45), -np.sin(theta_45)],\n",
    "          [np.sin(theta_45), np.cos(theta_45)]])\n",
    "rot_mat_45"
   ]
  },
  {
   "cell_type": "markdown",
   "metadata": {},
   "source": [
    "we rotate vector (1, 1) by this angle"
   ]
  },
  {
   "cell_type": "code",
   "execution_count": 113,
   "metadata": {},
   "outputs": [
    {
     "data": {
      "text/plain": [
       "array([1.11022302e-16, 1.41421356e+00])"
      ]
     },
     "execution_count": 113,
     "metadata": {},
     "output_type": "execute_result"
    }
   ],
   "source": [
    "rot_mat_45 @ np.array([1, 1])"
   ]
  },
  {
   "cell_type": "markdown",
   "metadata": {},
   "source": [
    "The matrix of a sequence of rotations, for instance a rotation of $\\pi/6$ followed by a rotation of $\\pi/4$, is simply the matrix product of the individual rotations $\\mathbf{R}_{{\\theta}_1} \\mathbf{R}_{{\\theta}_2}  = \\mathbf{R}_{{\\theta}_1 + {\\theta}_2}$, here $\\mathbf{R}_{\\pi/4} \\mathbf{R}_{\\pi/6}  = \\mathbf{R}_{5\\pi/12}$. "
   ]
  },
  {
   "cell_type": "code",
   "execution_count": 114,
   "metadata": {},
   "outputs": [
    {
     "data": {
      "text/plain": [
       "array([[ 0.8660254, -0.5      ],\n",
       "       [ 0.5      ,  0.8660254]])"
      ]
     },
     "execution_count": 114,
     "metadata": {},
     "output_type": "execute_result"
    }
   ],
   "source": [
    "theta_30 = np.pi/6\n",
    "rot_mat_30 = np.array([[np.cos(theta_30), -np.sin(theta_30)],\n",
    "          [np.sin(theta_30), np.cos(theta_30)]])\n",
    "rot_mat_30"
   ]
  },
  {
   "cell_type": "code",
   "execution_count": 115,
   "metadata": {},
   "outputs": [
    {
     "data": {
      "text/plain": [
       "array([[ 0.25881905, -0.96592583],\n",
       "       [ 0.96592583,  0.25881905]])"
      ]
     },
     "execution_count": 115,
     "metadata": {},
     "output_type": "execute_result"
    }
   ],
   "source": [
    "rot_mat_30 @ rot_mat_45"
   ]
  },
  {
   "cell_type": "code",
   "execution_count": 116,
   "metadata": {},
   "outputs": [
    {
     "data": {
      "text/plain": [
       "array([[ 0.25881905, -0.96592583],\n",
       "       [ 0.96592583,  0.25881905]])"
      ]
     },
     "execution_count": 116,
     "metadata": {},
     "output_type": "execute_result"
    }
   ],
   "source": [
    "rot_mat_45 @ rot_mat_30"
   ]
  },
  {
   "cell_type": "code",
   "execution_count": 117,
   "metadata": {},
   "outputs": [
    {
     "data": {
      "text/plain": [
       "1.3089969339255036"
      ]
     },
     "execution_count": 117,
     "metadata": {},
     "output_type": "execute_result"
    }
   ],
   "source": [
    "np.arccos(0.25881905)"
   ]
  },
  {
   "cell_type": "code",
   "execution_count": 118,
   "metadata": {},
   "outputs": [
    {
     "data": {
      "text/plain": [
       "1.308996938995747"
      ]
     },
     "execution_count": 118,
     "metadata": {},
     "output_type": "execute_result"
    }
   ],
   "source": [
    "np.pi/4 + np.pi/6"
   ]
  },
  {
   "cell_type": "markdown",
   "metadata": {},
   "source": [
    "With PyTorch"
   ]
  },
  {
   "cell_type": "code",
   "execution_count": 121,
   "metadata": {},
   "outputs": [
    {
     "data": {
      "text/plain": [
       "tensor([[ 0.2588, -0.9659],\n",
       "        [ 0.9659,  0.2588]], dtype=torch.float64)"
      ]
     },
     "execution_count": 121,
     "metadata": {},
     "output_type": "execute_result"
    }
   ],
   "source": [
    "torch.from_numpy(rot_mat_30) @ torch.from_numpy(rot_mat_45)"
   ]
  },
  {
   "cell_type": "code",
   "execution_count": 120,
   "metadata": {},
   "outputs": [
    {
     "data": {
      "text/plain": [
       "tensor([[ 0.2588, -0.9659],\n",
       "        [ 0.9659,  0.2588]], dtype=torch.float64)"
      ]
     },
     "execution_count": 120,
     "metadata": {},
     "output_type": "execute_result"
    }
   ],
   "source": [
    "torch.from_numpy(rot_mat_45) @ torch.from_numpy(rot_mat_30)"
   ]
  },
  {
   "cell_type": "markdown",
   "metadata": {},
   "source": [
    "## Inverse"
   ]
  },
  {
   "cell_type": "code",
   "execution_count": 123,
   "metadata": {},
   "outputs": [
    {
     "data": {
      "text/plain": [
       "array([[ 0.8660254,  0.5      ],\n",
       "       [-0.5      ,  0.8660254]])"
      ]
     },
     "execution_count": 123,
     "metadata": {},
     "output_type": "execute_result"
    }
   ],
   "source": [
    "np.linalg.inv(rot_mat_30)"
   ]
  },
  {
   "cell_type": "code",
   "execution_count": 127,
   "metadata": {},
   "outputs": [
    {
     "data": {
      "text/plain": [
       "array([[1.00000000e+00, 0.00000000e+00],\n",
       "       [5.55111512e-17, 1.00000000e+00]])"
      ]
     },
     "execution_count": 127,
     "metadata": {},
     "output_type": "execute_result"
    }
   ],
   "source": [
    "np.linalg.inv(rot_mat_30) @ rot_mat_30"
   ]
  },
  {
   "cell_type": "code",
   "execution_count": 129,
   "metadata": {},
   "outputs": [
    {
     "data": {
      "text/plain": [
       "tensor([[ 0.8660,  0.5000],\n",
       "        [-0.5000,  0.8660]], dtype=torch.float64)"
      ]
     },
     "execution_count": 129,
     "metadata": {},
     "output_type": "execute_result"
    }
   ],
   "source": [
    "torch.inverse(torch.from_numpy(rot_mat_30)) "
   ]
  },
  {
   "cell_type": "markdown",
   "metadata": {},
   "source": [
    "## Size of a Matrix"
   ]
  },
  {
   "cell_type": "code",
   "execution_count": 151,
   "metadata": {},
   "outputs": [
    {
     "data": {
      "text/plain": [
       "(2, 3)"
      ]
     },
     "execution_count": 151,
     "metadata": {},
     "output_type": "execute_result"
    }
   ],
   "source": [
    "A = np.array([[1, 2, 3],\n",
    "            [4, 5, 6]])\n",
    "A.shape"
   ]
  },
  {
   "cell_type": "code",
   "execution_count": 155,
   "metadata": {},
   "outputs": [
    {
     "data": {
      "text/plain": [
       "torch.Size([2, 3])"
      ]
     },
     "execution_count": 155,
     "metadata": {},
     "output_type": "execute_result"
    }
   ],
   "source": [
    "A = torch.tensor([[1, 2, 3],\n",
    "            [4, 5, 6]])\n",
    "A.size()"
   ]
  },
  {
   "cell_type": "code",
   "execution_count": 157,
   "metadata": {},
   "outputs": [
    {
     "data": {
      "text/plain": [
       "(3,)"
      ]
     },
     "execution_count": 157,
     "metadata": {},
     "output_type": "execute_result"
    }
   ],
   "source": [
    "u = np.array([1, 2, 3])\n",
    "u.shape"
   ]
  },
  {
   "cell_type": "code",
   "execution_count": 159,
   "metadata": {},
   "outputs": [
    {
     "data": {
      "text/plain": [
       "torch.Size([3])"
      ]
     },
     "execution_count": 159,
     "metadata": {},
     "output_type": "execute_result"
    }
   ],
   "source": [
    "u = torch.tensor([1, 2, 3])\n",
    "u.size()"
   ]
  },
  {
   "cell_type": "markdown",
   "metadata": {},
   "source": [
    "## Transpose"
   ]
  },
  {
   "cell_type": "code",
   "execution_count": 141,
   "metadata": {},
   "outputs": [
    {
     "data": {
      "text/plain": [
       "array([[1, 3],\n",
       "       [2, 4]])"
      ]
     },
     "execution_count": 141,
     "metadata": {},
     "output_type": "execute_result"
    }
   ],
   "source": [
    "A = np.array([[1, 2],\n",
    "          [3, 4]])\n",
    "A.T"
   ]
  },
  {
   "cell_type": "code",
   "execution_count": 142,
   "metadata": {},
   "outputs": [
    {
     "data": {
      "text/plain": [
       "tensor([[1, 3],\n",
       "        [2, 4]])"
      ]
     },
     "execution_count": 142,
     "metadata": {},
     "output_type": "execute_result"
    }
   ],
   "source": [
    "A = torch.tensor([[1, 2],\n",
    "          [3, 4]])\n",
    "A.T"
   ]
  },
  {
   "cell_type": "markdown",
   "metadata": {},
   "source": [
    "## Transposing a Vector"
   ]
  },
  {
   "cell_type": "code",
   "execution_count": 145,
   "metadata": {},
   "outputs": [
    {
     "data": {
      "text/plain": [
       "array([1, 2, 3])"
      ]
     },
     "execution_count": 145,
     "metadata": {},
     "output_type": "execute_result"
    }
   ],
   "source": [
    "x = np.array([1, 2, 3])\n",
    "x.T"
   ]
  },
  {
   "cell_type": "code",
   "execution_count": 146,
   "metadata": {},
   "outputs": [
    {
     "name": "stderr",
     "output_type": "stream",
     "text": [
      "/var/folders/29/s86dlfss3gq6ybhg4frthtxr0000gp/T/ipykernel_48451/2773976921.py:2: UserWarning: The use of `x.T` on tensors of dimension other than 2 to reverse their shape is deprecated and it will throw an error in a future release. Consider `x.mT` to transpose batches of matricesor `x.permute(*torch.arange(x.ndim - 1, -1, -1))` to reverse the dimensions of a tensor. (Triggered internally at  /Users/runner/work/pytorch/pytorch/pytorch/aten/src/ATen/native/TensorShape.cpp:2985.)\n",
      "  x.T\n"
     ]
    },
    {
     "data": {
      "text/plain": [
       "tensor([1, 2, 3])"
      ]
     },
     "execution_count": 146,
     "metadata": {},
     "output_type": "execute_result"
    }
   ],
   "source": [
    "x = torch.tensor([1, 2, 3])\n",
    "x.T"
   ]
  },
  {
   "cell_type": "markdown",
   "metadata": {},
   "source": [
    "## Reshaping a Vector"
   ]
  },
  {
   "cell_type": "code",
   "execution_count": 165,
   "metadata": {},
   "outputs": [
    {
     "data": {
      "text/plain": [
       "array([[1, 2, 3]])"
      ]
     },
     "execution_count": 165,
     "metadata": {},
     "output_type": "execute_result"
    }
   ],
   "source": [
    "u = np.array([1, 2, 3])\n",
    "u.reshape((1,3))"
   ]
  },
  {
   "cell_type": "code",
   "execution_count": 166,
   "metadata": {},
   "outputs": [
    {
     "data": {
      "text/plain": [
       "array([[1],\n",
       "       [2],\n",
       "       [3]])"
      ]
     },
     "execution_count": 166,
     "metadata": {},
     "output_type": "execute_result"
    }
   ],
   "source": [
    "u.reshape((1,3)).T"
   ]
  },
  {
   "cell_type": "code",
   "execution_count": 169,
   "metadata": {},
   "outputs": [
    {
     "data": {
      "text/plain": [
       "tensor([[1, 2, 3]])"
      ]
     },
     "execution_count": 169,
     "metadata": {},
     "output_type": "execute_result"
    }
   ],
   "source": [
    "u = torch.tensor([1, 2, 3])\n",
    "u.reshape((1,-1))"
   ]
  },
  {
   "cell_type": "code",
   "execution_count": 170,
   "metadata": {},
   "outputs": [
    {
     "data": {
      "text/plain": [
       "tensor([[1],\n",
       "        [2],\n",
       "        [3]])"
      ]
     },
     "execution_count": 170,
     "metadata": {},
     "output_type": "execute_result"
    }
   ],
   "source": [
    "u.reshape((1,-1)).T"
   ]
  },
  {
   "cell_type": "code",
   "execution_count": 172,
   "metadata": {},
   "outputs": [
    {
     "data": {
      "text/plain": [
       "array([[1],\n",
       "       [2],\n",
       "       [3]])"
      ]
     },
     "execution_count": 172,
     "metadata": {},
     "output_type": "execute_result"
    }
   ],
   "source": [
    "u = np.array([1, 2, 3])\n",
    "u.reshape((3,-1))"
   ]
  },
  {
   "cell_type": "markdown",
   "metadata": {},
   "source": [
    "## Utilities"
   ]
  },
  {
   "cell_type": "code",
   "execution_count": 173,
   "metadata": {},
   "outputs": [
    {
     "data": {
      "text/plain": [
       "array([[1., 0., 0.],\n",
       "       [0., 1., 0.],\n",
       "       [0., 0., 1.]])"
      ]
     },
     "execution_count": 173,
     "metadata": {},
     "output_type": "execute_result"
    }
   ],
   "source": [
    "np.eye(3)"
   ]
  },
  {
   "cell_type": "code",
   "execution_count": 175,
   "metadata": {},
   "outputs": [
    {
     "data": {
      "text/plain": [
       "array([[0., 0., 0., 0.],\n",
       "       [0., 0., 0., 0.]])"
      ]
     },
     "execution_count": 175,
     "metadata": {},
     "output_type": "execute_result"
    }
   ],
   "source": [
    "np.zeros((2,4))"
   ]
  },
  {
   "cell_type": "code",
   "execution_count": 176,
   "metadata": {},
   "outputs": [
    {
     "data": {
      "text/plain": [
       "array([[1., 1., 1., 1.],\n",
       "       [1., 1., 1., 1.]])"
      ]
     },
     "execution_count": 176,
     "metadata": {},
     "output_type": "execute_result"
    }
   ],
   "source": [
    "np.ones((2, 4))"
   ]
  },
  {
   "cell_type": "code",
   "execution_count": 177,
   "metadata": {},
   "outputs": [
    {
     "data": {
      "text/plain": [
       "tensor([[1., 0., 0.],\n",
       "        [0., 1., 0.],\n",
       "        [0., 0., 1.]])"
      ]
     },
     "execution_count": 177,
     "metadata": {},
     "output_type": "execute_result"
    }
   ],
   "source": [
    "torch.eye(3)"
   ]
  },
  {
   "cell_type": "code",
   "execution_count": 187,
   "metadata": {},
   "outputs": [
    {
     "data": {
      "text/plain": [
       "array([[0.09258549, 0.52194984, 0.65409009, 0.12542402],\n",
       "       [0.34564906, 0.47653972, 0.38222943, 0.52735964]])"
      ]
     },
     "execution_count": 187,
     "metadata": {},
     "output_type": "execute_result"
    }
   ],
   "source": [
    "np.random.rand(2, 4)"
   ]
  },
  {
   "cell_type": "code",
   "execution_count": 188,
   "metadata": {},
   "outputs": [
    {
     "data": {
      "text/plain": [
       "tensor([[0.4655, 0.8772, 0.7381, 0.3021],\n",
       "        [0.6198, 0.9956, 0.5826, 0.8602]])"
      ]
     },
     "execution_count": 188,
     "metadata": {},
     "output_type": "execute_result"
    }
   ],
   "source": [
    "torch.rand(2, 4)"
   ]
  },
  {
   "cell_type": "markdown",
   "metadata": {},
   "source": [
    "## Matrices and Neural Nets: One Layer"
   ]
  },
  {
   "cell_type": "markdown",
   "metadata": {},
   "source": [
    "### Keras"
   ]
  },
  {
   "cell_type": "code",
   "execution_count": 317,
   "metadata": {},
   "outputs": [],
   "source": [
    "layer1_k = keras.Sequential([\n",
    "    layers.Dense(4, input_dim=3, use_bias=False)\n",
    "    ])"
   ]
  },
  {
   "cell_type": "code",
   "execution_count": 318,
   "metadata": {},
   "outputs": [
    {
     "data": {
      "text/plain": [
       "[<tf.Variable 'dense_15/kernel:0' shape=(3, 4) dtype=float32, numpy=\n",
       " array([[-0.62047374,  0.77481735,  0.01930374, -0.05884182],\n",
       "        [ 0.6178018 , -0.06696081,  0.2296443 , -0.2170434 ],\n",
       "        [ 0.13795424,  0.22487962,  0.47652638, -0.75400156]],\n",
       "       dtype=float32)>]"
      ]
     },
     "execution_count": 318,
     "metadata": {},
     "output_type": "execute_result"
    }
   ],
   "source": [
    "layer1_k.weights"
   ]
  },
  {
   "cell_type": "code",
   "execution_count": 319,
   "metadata": {},
   "outputs": [],
   "source": [
    "x_np = np.array([[1, 2, 3]])"
   ]
  },
  {
   "cell_type": "code",
   "execution_count": 336,
   "metadata": {},
   "outputs": [
    {
     "data": {
      "text/plain": [
       "<tf.Tensor: shape=(1, 4), dtype=float32, numpy=array([[ 1.0289925,  1.3155346,  1.9081714, -2.7549334]], dtype=float32)>"
      ]
     },
     "execution_count": 336,
     "metadata": {},
     "output_type": "execute_result"
    }
   ],
   "source": [
    "layer1_k(x_np)"
   ]
  },
  {
   "cell_type": "code",
   "execution_count": 321,
   "metadata": {},
   "outputs": [
    {
     "data": {
      "text/plain": [
       "<tf.Tensor: shape=(1, 4), dtype=float32, numpy=array([[ 1.0289925,  1.3155346,  1.9081714, -2.7549334]], dtype=float32)>"
      ]
     },
     "execution_count": 321,
     "metadata": {},
     "output_type": "execute_result"
    }
   ],
   "source": [
    "x_np @ layer1_k.weights[0]"
   ]
  },
  {
   "cell_type": "markdown",
   "metadata": {},
   "source": [
    "### PyTorch"
   ]
  },
  {
   "cell_type": "code",
   "execution_count": 322,
   "metadata": {},
   "outputs": [],
   "source": [
    "layer1_t = torch.nn.Linear(3, 4, bias=False)"
   ]
  },
  {
   "cell_type": "code",
   "execution_count": 323,
   "metadata": {},
   "outputs": [
    {
     "data": {
      "text/plain": [
       "Parameter containing:\n",
       "tensor([[ 0.2472, -0.4360,  0.0955],\n",
       "        [-0.4775, -0.2369,  0.0147],\n",
       "        [ 0.2489,  0.3770,  0.2392],\n",
       "        [-0.1870, -0.0463, -0.2020]], requires_grad=True)"
      ]
     },
     "execution_count": 323,
     "metadata": {},
     "output_type": "execute_result"
    }
   ],
   "source": [
    "layer1_t.weight"
   ]
  },
  {
   "cell_type": "code",
   "execution_count": 324,
   "metadata": {},
   "outputs": [],
   "source": [
    "x_t = torch.tensor([1.0, 2.0, 3.0])"
   ]
  },
  {
   "cell_type": "code",
   "execution_count": 325,
   "metadata": {},
   "outputs": [
    {
     "data": {
      "text/plain": [
       "tensor([-0.3382, -0.9072,  1.7203, -0.8855], grad_fn=<MvBackward0>)"
      ]
     },
     "execution_count": 325,
     "metadata": {},
     "output_type": "execute_result"
    }
   ],
   "source": [
    "layer1_t(x_t)"
   ]
  },
  {
   "cell_type": "code",
   "execution_count": 326,
   "metadata": {},
   "outputs": [
    {
     "data": {
      "text/plain": [
       "tensor([-0.3382, -0.9072,  1.7203, -0.8855], grad_fn=<SqueezeBackward3>)"
      ]
     },
     "execution_count": 326,
     "metadata": {},
     "output_type": "execute_result"
    }
   ],
   "source": [
    "layer1_t.weight @ x_t"
   ]
  },
  {
   "cell_type": "markdown",
   "metadata": {},
   "source": [
    "Or see: https://pytorch.org/docs/stable/generated/torch.nn.Linear.html"
   ]
  },
  {
   "cell_type": "code",
   "execution_count": 327,
   "metadata": {},
   "outputs": [
    {
     "data": {
      "text/plain": [
       "tensor([-0.3382, -0.9072,  1.7203, -0.8855], grad_fn=<SqueezeBackward3>)"
      ]
     },
     "execution_count": 327,
     "metadata": {},
     "output_type": "execute_result"
    }
   ],
   "source": [
    "x_t @ layer1_t.weight.T"
   ]
  },
  {
   "cell_type": "markdown",
   "metadata": {},
   "source": [
    "## Matrices and Neural Nets: More Layers"
   ]
  },
  {
   "cell_type": "markdown",
   "metadata": {},
   "source": [
    "### Keras"
   ]
  },
  {
   "cell_type": "code",
   "execution_count": 328,
   "metadata": {},
   "outputs": [],
   "source": [
    "nn_k = keras.Sequential([\n",
    "    layers.Dense(4, input_dim=3, use_bias=False),\n",
    "    layers.Dense(2, use_bias=False),\n",
    "    layers.Dense(1, use_bias=False)\n",
    "    ])"
   ]
  },
  {
   "cell_type": "code",
   "execution_count": 329,
   "metadata": {},
   "outputs": [
    {
     "data": {
      "text/plain": [
       "[<tf.Variable 'dense_16/kernel:0' shape=(3, 4) dtype=float32, numpy=\n",
       " array([[-0.06800884, -0.8439874 ,  0.88863504, -0.06249452],\n",
       "        [ 0.15014172, -0.12249053,  0.13481188,  0.02347076],\n",
       "        [-0.53197116, -0.8885655 ,  0.52032065,  0.89764893]],\n",
       "       dtype=float32)>,\n",
       " <tf.Variable 'dense_17/kernel:0' shape=(4, 2) dtype=float32, numpy=\n",
       " array([[ 0.4255314 ,  0.7791736 ],\n",
       "        [ 0.8866534 ,  0.985332  ],\n",
       "        [ 0.9546411 ,  0.7486627 ],\n",
       "        [-0.95155597,  0.39476156]], dtype=float32)>,\n",
       " <tf.Variable 'dense_18/kernel:0' shape=(2, 1) dtype=float32, numpy=\n",
       " array([[-0.9449475 ],\n",
       "        [ 0.51173484]], dtype=float32)>]"
      ]
     },
     "execution_count": 329,
     "metadata": {},
     "output_type": "execute_result"
    }
   ],
   "source": [
    "nn_k.weights"
   ]
  },
  {
   "cell_type": "code",
   "execution_count": 335,
   "metadata": {},
   "outputs": [
    {
     "data": {
      "text/plain": [
       "<tf.Tensor: shape=(1, 1), dtype=float32, numpy=array([[2.7943149]], dtype=float32)>"
      ]
     },
     "execution_count": 335,
     "metadata": {},
     "output_type": "execute_result"
    }
   ],
   "source": [
    "nn_k(x_np)"
   ]
  },
  {
   "cell_type": "code",
   "execution_count": 331,
   "metadata": {},
   "outputs": [
    {
     "data": {
      "text/plain": [
       "<tf.Tensor: shape=(1, 1), dtype=float32, numpy=array([[2.7943149]], dtype=float32)>"
      ]
     },
     "execution_count": 331,
     "metadata": {},
     "output_type": "execute_result"
    }
   ],
   "source": [
    "x_np @ nn_k.weights[0] @ nn_k.weights[1] @ nn_k.weights[2]"
   ]
  },
  {
   "cell_type": "markdown",
   "metadata": {},
   "source": [
    "### PyTorch"
   ]
  },
  {
   "cell_type": "code",
   "execution_count": 332,
   "metadata": {},
   "outputs": [],
   "source": [
    "layer1_t = torch.nn.Linear(3, 4, bias=False)\n",
    "layer2_t = torch.nn.Linear(4, 2, bias=False)\n",
    "layer3_t = torch.nn.Linear(2, 1, bias=False)"
   ]
  },
  {
   "cell_type": "code",
   "execution_count": 337,
   "metadata": {},
   "outputs": [
    {
     "data": {
      "text/plain": [
       "(Parameter containing:\n",
       " tensor([[-0.0924, -0.5735,  0.1035],\n",
       "         [-0.5186,  0.3997, -0.5660],\n",
       "         [-0.4175, -0.0082, -0.4374],\n",
       "         [ 0.3039, -0.2471, -0.5130]], requires_grad=True),\n",
       " Parameter containing:\n",
       " tensor([[ 0.0287, -0.1054, -0.2612, -0.4309],\n",
       "         [-0.1146, -0.2702, -0.3025,  0.1236]], requires_grad=True),\n",
       " Parameter containing:\n",
       " tensor([[ 0.6471, -0.6665]], requires_grad=True))"
      ]
     },
     "execution_count": 337,
     "metadata": {},
     "output_type": "execute_result"
    }
   ],
   "source": [
    "(layer1_t.weight, layer2_t.weight, layer3_t.weight)"
   ]
  },
  {
   "cell_type": "code",
   "execution_count": 333,
   "metadata": {},
   "outputs": [
    {
     "data": {
      "text/plain": [
       "tensor([0.3210], grad_fn=<SqueezeBackward3>)"
      ]
     },
     "execution_count": 333,
     "metadata": {},
     "output_type": "execute_result"
    }
   ],
   "source": [
    "layer3_t(layer2_t(layer1_t(x_t)))"
   ]
  },
  {
   "cell_type": "code",
   "execution_count": 334,
   "metadata": {},
   "outputs": [
    {
     "data": {
      "text/plain": [
       "tensor([0.3210], grad_fn=<SqueezeBackward3>)"
      ]
     },
     "execution_count": 334,
     "metadata": {},
     "output_type": "execute_result"
    }
   ],
   "source": [
    "x_t @ layer1_t.weight.T @ layer2_t.weight.T @ layer3_t.weight.T"
   ]
  },
  {
   "cell_type": "markdown",
   "metadata": {},
   "source": [
    "## Datasets"
   ]
  },
  {
   "cell_type": "code",
   "execution_count": 338,
   "metadata": {},
   "outputs": [],
   "source": [
    "from sklearn.datasets import load_iris"
   ]
  },
  {
   "cell_type": "code",
   "execution_count": 343,
   "metadata": {},
   "outputs": [],
   "source": [
    "iris_dataset = load_iris()"
   ]
  },
  {
   "cell_type": "code",
   "execution_count": 362,
   "metadata": {},
   "outputs": [],
   "source": [
    "X = torch.from_numpy(iris_dataset['data']).float()"
   ]
  },
  {
   "cell_type": "code",
   "execution_count": 364,
   "metadata": {},
   "outputs": [
    {
     "data": {
      "text/plain": [
       "torch.float32"
      ]
     },
     "execution_count": 364,
     "metadata": {},
     "output_type": "execute_result"
    }
   ],
   "source": [
    "X.dtype"
   ]
  },
  {
   "cell_type": "code",
   "execution_count": 365,
   "metadata": {},
   "outputs": [],
   "source": [
    "layer1_t = torch.nn.Linear(4, 25, bias=False)\n",
    "layer2_t = torch.nn.Linear(25, 25, bias=False)\n",
    "layer3_t = torch.nn.Linear(25, 3, bias=False)"
   ]
  },
  {
   "cell_type": "code",
   "execution_count": 366,
   "metadata": {},
   "outputs": [
    {
     "data": {
      "text/plain": [
       "tensor([[-0.1842, -0.2774, -0.2791],\n",
       "        [-0.2278, -0.2671, -0.2780],\n",
       "        [-0.1739, -0.2551, -0.2575],\n",
       "        [-0.1576, -0.2670, -0.2650],\n",
       "        [-0.1533, -0.2753, -0.2717],\n",
       "        [-0.1617, -0.2992, -0.2948],\n",
       "        [-0.1270, -0.2547, -0.2489],\n",
       "        [-0.1757, -0.2815, -0.2811],\n",
       "        [-0.1639, -0.2515, -0.2524],\n",
       "        [-0.1983, -0.2830, -0.2862],\n",
       "        [-0.1938, -0.2959, -0.2972],\n",
       "        [-0.1363, -0.2835, -0.2755],\n",
       "        [-0.2053, -0.2713, -0.2772],\n",
       "        [-0.1495, -0.2329, -0.2332],\n",
       "        [-0.2351, -0.2866, -0.2969],\n",
       "        [-0.1494, -0.2966, -0.2905],\n",
       "        [-0.1927, -0.2676, -0.2729],\n",
       "        [-0.1910, -0.2703, -0.2744],\n",
       "        [-0.2174, -0.3143, -0.3180],\n",
       "        [-0.1381, -0.2808, -0.2740],\n",
       "        [-0.2234, -0.3091, -0.3141],\n",
       "        [-0.1599, -0.2728, -0.2713],\n",
       "        [-0.1212, -0.2319, -0.2277],\n",
       "        [-0.2113, -0.2779, -0.2854],\n",
       "        [-0.1130, -0.3072, -0.2919],\n",
       "        [-0.2281, -0.2858, -0.2944],\n",
       "        [-0.1814, -0.2751, -0.2771],\n",
       "        [-0.1922, -0.2882, -0.2901],\n",
       "        [-0.2150, -0.2795, -0.2866],\n",
       "        [-0.1506, -0.2788, -0.2740],\n",
       "        [-0.1815, -0.2808, -0.2814],\n",
       "        [-0.2524, -0.2790, -0.2937],\n",
       "        [-0.0952, -0.3007, -0.2830],\n",
       "        [-0.1421, -0.2953, -0.2874],\n",
       "        [-0.2050, -0.2759, -0.2815],\n",
       "        [-0.2291, -0.2560, -0.2686],\n",
       "        [-0.2552, -0.2813, -0.2957],\n",
       "        [-0.1308, -0.2795, -0.2708],\n",
       "        [-0.1566, -0.2445, -0.2450],\n",
       "        [-0.1915, -0.2844, -0.2866],\n",
       "        [-0.1829, -0.2594, -0.2635],\n",
       "        [-0.2845, -0.2341, -0.2596],\n",
       "        [-0.1265, -0.2462, -0.2410],\n",
       "        [-0.1799, -0.2617, -0.2658],\n",
       "        [-0.1138, -0.3053, -0.2912],\n",
       "        [-0.2188, -0.2570, -0.2678],\n",
       "        [-0.1235, -0.2958, -0.2842],\n",
       "        [-0.1503, -0.2600, -0.2575],\n",
       "        [-0.1779, -0.2929, -0.2917],\n",
       "        [-0.1985, -0.2727, -0.2776],\n",
       "        [-0.3547, -0.5058, -0.5139],\n",
       "        [-0.2821, -0.4652, -0.4652],\n",
       "        [-0.3452, -0.5106, -0.5166],\n",
       "        [-0.3006, -0.4055, -0.4154],\n",
       "        [-0.3504, -0.4725, -0.4841],\n",
       "        [-0.2182, -0.4553, -0.4439],\n",
       "        [-0.2425, -0.4718, -0.4640],\n",
       "        [-0.2248, -0.3548, -0.3562],\n",
       "        [-0.3376, -0.4906, -0.4970],\n",
       "        [-0.2075, -0.3852, -0.3808],\n",
       "        [-0.2852, -0.3700, -0.3805],\n",
       "        [-0.2565, -0.4250, -0.4252],\n",
       "        [-0.3744, -0.4408, -0.4590],\n",
       "        [-0.2576, -0.4766, -0.4702],\n",
       "        [-0.2572, -0.3821, -0.3872],\n",
       "        [-0.3456, -0.4724, -0.4829],\n",
       "        [-0.1858, -0.4399, -0.4251],\n",
       "        [-0.2598, -0.4472, -0.4436],\n",
       "        [-0.4010, -0.4505, -0.4739],\n",
       "        [-0.2806, -0.4166, -0.4209],\n",
       "        [-0.2001, -0.4527, -0.4400],\n",
       "        [-0.3202, -0.4276, -0.4386],\n",
       "        [-0.3406, -0.4877, -0.4954],\n",
       "        [-0.2591, -0.4900, -0.4816],\n",
       "        [-0.3293, -0.4610, -0.4696],\n",
       "        [-0.3448, -0.4685, -0.4794],\n",
       "        [-0.3755, -0.5043, -0.5162],\n",
       "        [-0.3344, -0.4975, -0.5036],\n",
       "        [-0.2641, -0.4508, -0.4491],\n",
       "        [-0.3056, -0.3960, -0.4073],\n",
       "        [-0.2876, -0.4049, -0.4119],\n",
       "        [-0.2886, -0.4041, -0.4111],\n",
       "        [-0.2888, -0.4171, -0.4233],\n",
       "        [-0.2544, -0.4893, -0.4811],\n",
       "        [-0.1542, -0.4340, -0.4140],\n",
       "        [-0.1956, -0.4480, -0.4345],\n",
       "        [-0.3291, -0.4889, -0.4946],\n",
       "        [-0.3960, -0.4607, -0.4814],\n",
       "        [-0.2033, -0.4225, -0.4126],\n",
       "        [-0.2705, -0.4073, -0.4115],\n",
       "        [-0.2177, -0.4469, -0.4361],\n",
       "        [-0.2503, -0.4696, -0.4628],\n",
       "        [-0.2961, -0.4241, -0.4307],\n",
       "        [-0.2556, -0.3569, -0.3637],\n",
       "        [-0.2407, -0.4278, -0.4240],\n",
       "        [-0.2046, -0.4405, -0.4283],\n",
       "        [-0.2264, -0.4325, -0.4255],\n",
       "        [-0.2977, -0.4551, -0.4586],\n",
       "        [-0.2714, -0.3308, -0.3441],\n",
       "        [-0.2492, -0.4237, -0.4220],\n",
       "        [-0.2025, -0.5103, -0.4928],\n",
       "        [-0.2431, -0.4620, -0.4560],\n",
       "        [-0.3548, -0.5518, -0.5561],\n",
       "        [-0.2464, -0.5251, -0.5117],\n",
       "        [-0.2745, -0.5191, -0.5129],\n",
       "        [-0.3795, -0.6219, -0.6220],\n",
       "        [-0.1640, -0.4006, -0.3870],\n",
       "        [-0.3501, -0.6098, -0.6051],\n",
       "        [-0.3543, -0.5491, -0.5526],\n",
       "        [-0.2919, -0.5473, -0.5419],\n",
       "        [-0.2852, -0.4798, -0.4800],\n",
       "        [-0.3224, -0.4954, -0.5000],\n",
       "        [-0.3384, -0.5114, -0.5177],\n",
       "        [-0.2719, -0.4422, -0.4443],\n",
       "        [-0.2618, -0.4272, -0.4306],\n",
       "        [-0.2742, -0.4713, -0.4714],\n",
       "        [-0.2707, -0.5240, -0.5153],\n",
       "        [-0.2739, -0.6326, -0.6124],\n",
       "        [-0.4457, -0.6307, -0.6424],\n",
       "        [-0.3306, -0.4841, -0.4902],\n",
       "        [-0.3221, -0.5176, -0.5208],\n",
       "        [-0.2187, -0.4340, -0.4274],\n",
       "        [-0.4109, -0.6381, -0.6416],\n",
       "        [-0.3308, -0.4680, -0.4773],\n",
       "        [-0.2620, -0.5269, -0.5172],\n",
       "        [-0.3125, -0.5858, -0.5772],\n",
       "        [-0.3077, -0.4581, -0.4644],\n",
       "        [-0.2541, -0.4648, -0.4604],\n",
       "        [-0.2976, -0.5057, -0.5051],\n",
       "        [-0.3445, -0.5825, -0.5796],\n",
       "        [-0.4033, -0.5890, -0.5969],\n",
       "        [-0.3153, -0.6291, -0.6165],\n",
       "        [-0.3043, -0.4986, -0.5004],\n",
       "        [-0.2800, -0.5061, -0.5004],\n",
       "        [-0.2329, -0.5451, -0.5254],\n",
       "        [-0.4476, -0.5710, -0.5907],\n",
       "        [-0.2118, -0.4867, -0.4736],\n",
       "        [-0.2399, -0.5219, -0.5078],\n",
       "        [-0.2460, -0.4539, -0.4494],\n",
       "        [-0.3469, -0.5073, -0.5158],\n",
       "        [-0.3201, -0.4958, -0.5016],\n",
       "        [-0.3838, -0.4693, -0.4900],\n",
       "        [-0.2431, -0.4620, -0.4560],\n",
       "        [-0.2908, -0.5305, -0.5262],\n",
       "        [-0.2890, -0.4983, -0.4984],\n",
       "        [-0.3594, -0.4705, -0.4864],\n",
       "        [-0.3599, -0.4670, -0.4821],\n",
       "        [-0.3075, -0.4860, -0.4895],\n",
       "        [-0.2047, -0.4751, -0.4619],\n",
       "        [-0.2070, -0.4747, -0.4603]], grad_fn=<MmBackward0>)"
      ]
     },
     "execution_count": 366,
     "metadata": {},
     "output_type": "execute_result"
    }
   ],
   "source": [
    "layer3_t(layer2_t(layer1_t(X)))"
   ]
  },
  {
   "cell_type": "code",
   "execution_count": 368,
   "metadata": {},
   "outputs": [
    {
     "data": {
      "text/plain": [
       "tensor([[-0.1842, -0.2774, -0.2791],\n",
       "        [-0.2278, -0.2671, -0.2780],\n",
       "        [-0.1739, -0.2551, -0.2575],\n",
       "        [-0.1576, -0.2670, -0.2650],\n",
       "        [-0.1533, -0.2753, -0.2717],\n",
       "        [-0.1617, -0.2992, -0.2948],\n",
       "        [-0.1270, -0.2547, -0.2489],\n",
       "        [-0.1757, -0.2815, -0.2811],\n",
       "        [-0.1639, -0.2515, -0.2524],\n",
       "        [-0.1983, -0.2830, -0.2862],\n",
       "        [-0.1938, -0.2959, -0.2972],\n",
       "        [-0.1363, -0.2835, -0.2755],\n",
       "        [-0.2053, -0.2713, -0.2772],\n",
       "        [-0.1495, -0.2329, -0.2332],\n",
       "        [-0.2351, -0.2866, -0.2969],\n",
       "        [-0.1494, -0.2966, -0.2905],\n",
       "        [-0.1927, -0.2676, -0.2729],\n",
       "        [-0.1910, -0.2703, -0.2744],\n",
       "        [-0.2174, -0.3143, -0.3180],\n",
       "        [-0.1381, -0.2808, -0.2740],\n",
       "        [-0.2234, -0.3091, -0.3141],\n",
       "        [-0.1599, -0.2728, -0.2713],\n",
       "        [-0.1212, -0.2319, -0.2277],\n",
       "        [-0.2113, -0.2779, -0.2854],\n",
       "        [-0.1130, -0.3072, -0.2919],\n",
       "        [-0.2281, -0.2858, -0.2944],\n",
       "        [-0.1814, -0.2751, -0.2771],\n",
       "        [-0.1922, -0.2882, -0.2901],\n",
       "        [-0.2150, -0.2795, -0.2866],\n",
       "        [-0.1506, -0.2788, -0.2740],\n",
       "        [-0.1815, -0.2808, -0.2814],\n",
       "        [-0.2524, -0.2790, -0.2937],\n",
       "        [-0.0952, -0.3007, -0.2830],\n",
       "        [-0.1421, -0.2953, -0.2874],\n",
       "        [-0.2050, -0.2759, -0.2815],\n",
       "        [-0.2291, -0.2560, -0.2686],\n",
       "        [-0.2552, -0.2813, -0.2957],\n",
       "        [-0.1308, -0.2795, -0.2708],\n",
       "        [-0.1566, -0.2445, -0.2450],\n",
       "        [-0.1915, -0.2844, -0.2866],\n",
       "        [-0.1829, -0.2594, -0.2635],\n",
       "        [-0.2845, -0.2341, -0.2596],\n",
       "        [-0.1265, -0.2462, -0.2410],\n",
       "        [-0.1799, -0.2617, -0.2658],\n",
       "        [-0.1138, -0.3053, -0.2912],\n",
       "        [-0.2188, -0.2570, -0.2678],\n",
       "        [-0.1235, -0.2958, -0.2842],\n",
       "        [-0.1503, -0.2600, -0.2575],\n",
       "        [-0.1779, -0.2929, -0.2917],\n",
       "        [-0.1985, -0.2727, -0.2776],\n",
       "        [-0.3547, -0.5058, -0.5139],\n",
       "        [-0.2821, -0.4652, -0.4652],\n",
       "        [-0.3452, -0.5106, -0.5166],\n",
       "        [-0.3006, -0.4055, -0.4154],\n",
       "        [-0.3504, -0.4725, -0.4841],\n",
       "        [-0.2182, -0.4553, -0.4439],\n",
       "        [-0.2425, -0.4718, -0.4640],\n",
       "        [-0.2248, -0.3548, -0.3562],\n",
       "        [-0.3376, -0.4906, -0.4970],\n",
       "        [-0.2075, -0.3852, -0.3808],\n",
       "        [-0.2852, -0.3700, -0.3805],\n",
       "        [-0.2565, -0.4250, -0.4252],\n",
       "        [-0.3744, -0.4408, -0.4590],\n",
       "        [-0.2576, -0.4766, -0.4702],\n",
       "        [-0.2572, -0.3821, -0.3872],\n",
       "        [-0.3456, -0.4724, -0.4829],\n",
       "        [-0.1858, -0.4399, -0.4251],\n",
       "        [-0.2598, -0.4472, -0.4436],\n",
       "        [-0.4010, -0.4505, -0.4739],\n",
       "        [-0.2806, -0.4166, -0.4209],\n",
       "        [-0.2001, -0.4527, -0.4400],\n",
       "        [-0.3202, -0.4276, -0.4386],\n",
       "        [-0.3406, -0.4877, -0.4954],\n",
       "        [-0.2591, -0.4900, -0.4816],\n",
       "        [-0.3293, -0.4610, -0.4696],\n",
       "        [-0.3448, -0.4685, -0.4794],\n",
       "        [-0.3755, -0.5043, -0.5162],\n",
       "        [-0.3344, -0.4975, -0.5036],\n",
       "        [-0.2641, -0.4508, -0.4491],\n",
       "        [-0.3056, -0.3960, -0.4073],\n",
       "        [-0.2876, -0.4049, -0.4119],\n",
       "        [-0.2886, -0.4041, -0.4111],\n",
       "        [-0.2888, -0.4171, -0.4233],\n",
       "        [-0.2544, -0.4893, -0.4811],\n",
       "        [-0.1542, -0.4340, -0.4140],\n",
       "        [-0.1956, -0.4480, -0.4345],\n",
       "        [-0.3291, -0.4889, -0.4946],\n",
       "        [-0.3960, -0.4607, -0.4814],\n",
       "        [-0.2033, -0.4225, -0.4126],\n",
       "        [-0.2705, -0.4073, -0.4115],\n",
       "        [-0.2177, -0.4469, -0.4361],\n",
       "        [-0.2503, -0.4696, -0.4628],\n",
       "        [-0.2961, -0.4241, -0.4307],\n",
       "        [-0.2556, -0.3569, -0.3637],\n",
       "        [-0.2407, -0.4278, -0.4240],\n",
       "        [-0.2046, -0.4405, -0.4283],\n",
       "        [-0.2264, -0.4325, -0.4255],\n",
       "        [-0.2977, -0.4551, -0.4586],\n",
       "        [-0.2714, -0.3308, -0.3441],\n",
       "        [-0.2492, -0.4237, -0.4220],\n",
       "        [-0.2025, -0.5103, -0.4928],\n",
       "        [-0.2431, -0.4620, -0.4560],\n",
       "        [-0.3548, -0.5518, -0.5561],\n",
       "        [-0.2464, -0.5251, -0.5117],\n",
       "        [-0.2745, -0.5191, -0.5129],\n",
       "        [-0.3795, -0.6219, -0.6220],\n",
       "        [-0.1640, -0.4006, -0.3870],\n",
       "        [-0.3501, -0.6098, -0.6051],\n",
       "        [-0.3543, -0.5491, -0.5526],\n",
       "        [-0.2919, -0.5473, -0.5419],\n",
       "        [-0.2852, -0.4798, -0.4800],\n",
       "        [-0.3224, -0.4954, -0.5000],\n",
       "        [-0.3384, -0.5114, -0.5177],\n",
       "        [-0.2719, -0.4422, -0.4443],\n",
       "        [-0.2618, -0.4272, -0.4306],\n",
       "        [-0.2742, -0.4713, -0.4714],\n",
       "        [-0.2707, -0.5240, -0.5153],\n",
       "        [-0.2739, -0.6326, -0.6124],\n",
       "        [-0.4457, -0.6307, -0.6424],\n",
       "        [-0.3306, -0.4841, -0.4902],\n",
       "        [-0.3221, -0.5176, -0.5208],\n",
       "        [-0.2187, -0.4340, -0.4274],\n",
       "        [-0.4109, -0.6381, -0.6416],\n",
       "        [-0.3308, -0.4680, -0.4773],\n",
       "        [-0.2620, -0.5269, -0.5172],\n",
       "        [-0.3125, -0.5858, -0.5772],\n",
       "        [-0.3077, -0.4581, -0.4644],\n",
       "        [-0.2541, -0.4648, -0.4604],\n",
       "        [-0.2976, -0.5057, -0.5051],\n",
       "        [-0.3445, -0.5825, -0.5796],\n",
       "        [-0.4033, -0.5890, -0.5969],\n",
       "        [-0.3153, -0.6291, -0.6165],\n",
       "        [-0.3043, -0.4986, -0.5004],\n",
       "        [-0.2800, -0.5061, -0.5004],\n",
       "        [-0.2329, -0.5451, -0.5254],\n",
       "        [-0.4476, -0.5710, -0.5907],\n",
       "        [-0.2118, -0.4867, -0.4736],\n",
       "        [-0.2399, -0.5219, -0.5078],\n",
       "        [-0.2460, -0.4539, -0.4494],\n",
       "        [-0.3469, -0.5073, -0.5158],\n",
       "        [-0.3201, -0.4958, -0.5016],\n",
       "        [-0.3838, -0.4693, -0.4900],\n",
       "        [-0.2431, -0.4620, -0.4560],\n",
       "        [-0.2908, -0.5305, -0.5262],\n",
       "        [-0.2890, -0.4983, -0.4984],\n",
       "        [-0.3594, -0.4705, -0.4864],\n",
       "        [-0.3599, -0.4670, -0.4821],\n",
       "        [-0.3075, -0.4860, -0.4895],\n",
       "        [-0.2047, -0.4751, -0.4619],\n",
       "        [-0.2070, -0.4747, -0.4603]], grad_fn=<MmBackward0>)"
      ]
     },
     "execution_count": 368,
     "metadata": {},
     "output_type": "execute_result"
    }
   ],
   "source": [
    "X @ layer1_t.weight.T @ layer2_t.weight.T @ layer3_t.weight.T"
   ]
  },
  {
   "cell_type": "code",
   "execution_count": null,
   "metadata": {},
   "outputs": [],
   "source": []
  },
  {
   "cell_type": "code",
   "execution_count": null,
   "metadata": {},
   "outputs": [],
   "source": []
  }
 ],
 "metadata": {
  "kernelspec": {
   "display_name": "Python 3.9.13 ('base')",
   "language": "python",
   "name": "python3"
  },
  "language_info": {
   "codemirror_mode": {
    "name": "ipython",
    "version": 3
   },
   "file_extension": ".py",
   "mimetype": "text/x-python",
   "name": "python",
   "nbconvert_exporter": "python",
   "pygments_lexer": "ipython3",
   "version": "3.9.13"
  },
  "orig_nbformat": 4,
  "vscode": {
   "interpreter": {
    "hash": "b97b11a820675205aae8f1d7f2a3f22bbd3a2c30189f44042310baf5b4cd1987"
   }
  }
 },
 "nbformat": 4,
 "nbformat_minor": 2
}
