{
 "cells": [
  {
   "cell_type": "markdown",
   "metadata": {},
   "source": [
    "# Classification: Language Detection\n",
    "\n",
    "Authors: Pierre Nugues and Marcus Klang"
   ]
  },
  {
   "cell_type": "markdown",
   "metadata": {},
   "source": [
    "In this programming assignment, you will design and train a classifier to predict the language of a text. More concretely, you will reimplement Google's _Compact language detector_ (CLD3) from a high-level description. Read the description here: https://github.com/google/cld3\n",
    "\n",
    "Note: In this notebook, we use a unique embedding dimension of `EMBEDDING_DIM` for the three n-grams"
   ]
  },
  {
   "cell_type": "markdown",
   "metadata": {},
   "source": [
    "## Overview"
   ]
  },
  {
   "cell_type": "markdown",
   "metadata": {},
   "source": [
    "Your classifier will read a short text, typically a few words or a sentence, and output the probability for all languages observed during training. The text will have a variable length and will be encoded as a Unicode string.\n",
    "\n",
    "As dataset to train your models, you will use [Tatoeba](https://tatoeba.org/sv/), a collaborative, open, and free collection of sentences and translations. "
   ]
  },
  {
   "cell_type": "markdown",
   "metadata": {},
   "source": [
    "You will break down the task into four steps:\n",
    "    \n",
    "  1. Data processing, converting the data into a machine-learnable representation\n",
    "  2. Try and evaluate a simple model, logistic regression. This will be your baseline.\n",
    "  3. Try and evaluate a deeper model inspired by Google's compact language detector, CLD3.\n",
    "  4. CLD3 includes an embedding vectorization. This last part is left as an optional exercise."
   ]
  },
  {
   "cell_type": "markdown",
   "metadata": {},
   "source": [
    "### The Model: CLD3"
   ]
  },
  {
   "cell_type": "markdown",
   "metadata": {},
   "source": [
    "CLD3 has three major characteristics:\n",
    "\n",
    "   * It uses **$n$-grams** and splits an input text like _banana_ into three feature vectors that include:\n",
    "       + Each unique character, unigrams ($n=1$)\n",
    "       + Each unique pair of characters obtained from a sliding window of size 2, bigrams ($n=2$)\n",
    "       + Each unique triple of characters obtained from a sliding window of size 3, trigrams ($n=3$)\n",
    "       + These feature sets map to a set of indices (integer value).\n",
    "   \n",
    "   * It **hashes each symbol** i.e. it encrypts the $n$-gram into a fixed range integer.\n",
    "       + This way of mapping features to indices is called feature hashing or the *hashing trick*\n",
    "       + It reduces the number of symbols.\n",
    "       + Constant memory requirements, depends on the hash function -- commonly only a few constants.\n",
    "       + It is an approximate method as collisions can and will occur. Adjusting the size of the feature space i.e. the number of features to hash to, the collision probability can be reduced.\n",
    "   \n",
    "   * For each value of $n$, 1, 2, and 3, CLD3 computes the relative frequencies of the $n$-grams and **use them as weights**. See the figure below.\n",
    "       + The model can map the input indices to embedding vectors (this part is optional)\n",
    "       + It then computes the **weighted average** of the embeddings (this part is optional)\n",
    "       + The model learns the embeddings during training (also optional)\n",
    "       \n",
    "The figure below shows the final architecture."
   ]
  },
  {
   "cell_type": "markdown",
   "metadata": {},
   "source": [
    "![Model overview](https://raw.githubusercontent.com/google/cld3/master/model.png)\n",
    "Image source: https://github.com/google/cld3"
   ]
  },
  {
   "cell_type": "markdown",
   "metadata": {},
   "source": [
    "## Dataset: Tatoeba"
   ]
  },
  {
   "cell_type": "markdown",
   "metadata": {},
   "source": [
    "Your instructors have downsampled Tatoeba to reduce training times and guarantee that all the students have the same datasets.\n",
    "* Link to datasets: https://github.com/pnugues/edan96/tree/main/classification%20lab\n",
    "* Link to preprocessing notebook: https://github.com/pnugues/edan96/blob/main/programs/5-tatoeba_eda_select.ipynb\n",
    "\n",
    "You are only required to process the small dataset. The larger one may take take and be difficult to process on small computers."
   ]
  },
  {
   "cell_type": "markdown",
   "metadata": {},
   "source": [
    "## Preliminaries"
   ]
  },
  {
   "cell_type": "code",
   "execution_count": 1,
   "metadata": {},
   "outputs": [],
   "source": [
    "import random\n",
    "import hashlib\n",
    "from collections import Counter\n",
    "from tqdm import tqdm\n",
    "\n",
    "import torch\n",
    "from torch import nn\n",
    "from torch.utils.data import TensorDataset, DataLoader\n",
    "from sklearn.metrics import classification_report, confusion_matrix\n"
   ]
  },
  {
   "cell_type": "code",
   "execution_count": 2,
   "metadata": {},
   "outputs": [
    {
     "data": {
      "text/plain": [
       "<torch._C.Generator at 0x114e7efb0>"
      ]
     },
     "execution_count": 2,
     "metadata": {},
     "output_type": "execute_result"
    }
   ],
   "source": [
    "random.seed(4321)\n",
    "torch.manual_seed(4321)"
   ]
  },
  {
   "cell_type": "markdown",
   "metadata": {},
   "source": [
    "## Reading the Dataset"
   ]
  },
  {
   "cell_type": "code",
   "execution_count": 3,
   "metadata": {},
   "outputs": [],
   "source": [
    "FILENAME_TRAIN = 'train.tsv'\n",
    "FILENAME_VAL = 'val.tsv'\n",
    "FILENAME_TEST = 'test.tsv'"
   ]
  },
  {
   "cell_type": "code",
   "execution_count": 4,
   "metadata": {},
   "outputs": [],
   "source": [
    "SMALL_DATASET_PATH = 'small_dataset'\n",
    "LARGE_DATASET_PATH = 'large_dataset'"
   ]
  },
  {
   "cell_type": "markdown",
   "metadata": {},
   "source": [
    "## Settings\n",
    "You have here the most significant settings"
   ]
  },
  {
   "cell_type": "code",
   "execution_count": 5,
   "metadata": {},
   "outputs": [],
   "source": [
    "LARGE_DATASET = True # Use the small or large dataset\n",
    "REL_FREQ = True # How we represent the n-grams in the input vector: with their relative frequency or with a 1 (NOT USED)"
   ]
  },
  {
   "cell_type": "code",
   "execution_count": 6,
   "metadata": {},
   "outputs": [],
   "source": [
    "HIDDEN_LAYER = False  # Neural network with one hidden layer or logistic regression\n",
    "EPOCHS = 10 # Number of epochs\n",
    "BATCH_SIZE = 128 # How many examples we will use for an update in the gradient descent\n",
    "EMBEDDING_DIM = 64"
   ]
  },
  {
   "cell_type": "code",
   "execution_count": 7,
   "metadata": {},
   "outputs": [],
   "source": [
    "if LARGE_DATASET:\n",
    "    dataset_path = LARGE_DATASET_PATH\n",
    "else:\n",
    "    dataset_path = SMALL_DATASET_PATH\n",
    "    \n",
    "FILE_TRAIN = dataset_path + '/' + FILENAME_TRAIN\n",
    "FILE_VAL = dataset_path + '/' + FILENAME_VAL\n",
    "FILE_TEST = dataset_path + '/' + FILENAME_TEST"
   ]
  },
  {
   "cell_type": "markdown",
   "metadata": {},
   "source": [
    "We create a generator to read the datasets"
   ]
  },
  {
   "cell_type": "code",
   "execution_count": 8,
   "metadata": {},
   "outputs": [],
   "source": [
    "def file_reader(file: str):\n",
    "    with open(file, encoding='utf8', errors='ignore') as f:\n",
    "        for line in f:\n",
    "            row = line.strip()\n",
    "            yield tuple(row.split('\\t'))"
   ]
  },
  {
   "cell_type": "code",
   "execution_count": 9,
   "metadata": {},
   "outputs": [],
   "source": [
    "line_generator = file_reader(FILE_TRAIN)"
   ]
  },
  {
   "cell_type": "markdown",
   "metadata": {},
   "source": [
    "And we count the sentences per language"
   ]
  },
  {
   "cell_type": "code",
   "execution_count": 10,
   "metadata": {},
   "outputs": [],
   "source": [
    "lang_freqs = Counter(map(lambda x: x[1], line_generator))"
   ]
  },
  {
   "cell_type": "code",
   "execution_count": 11,
   "metadata": {},
   "outputs": [
    {
     "data": {
      "text/plain": [
       "[('rus', 12314),\n",
       " ('mkd', 12149),\n",
       " ('lfn', 12132),\n",
       " ('srp', 12127),\n",
       " ('lit', 12126),\n",
       " ('lat', 12115),\n",
       " ('bul', 12111),\n",
       " ('ukr', 12093),\n",
       " ('ell', 12084),\n",
       " ('vie', 12079),\n",
       " ('nld', 12074),\n",
       " ('hau', 12073),\n",
       " ('kab', 12066),\n",
       " ('ron', 12065),\n",
       " ('deu', 12064)]"
      ]
     },
     "execution_count": 11,
     "metadata": {},
     "output_type": "execute_result"
    }
   ],
   "source": [
    "lang_freqs.most_common(15)"
   ]
  },
  {
   "cell_type": "code",
   "execution_count": 12,
   "metadata": {},
   "outputs": [
    {
     "data": {
      "text/plain": [
       "['ara', 'ber', 'bul', 'ces', 'cmn', 'dan', 'deu', 'ell', 'eng', 'epo']"
      ]
     },
     "execution_count": 12,
     "metadata": {},
     "output_type": "execute_result"
    }
   ],
   "source": [
    "langs = sorted(list(set(lang_freqs.keys())))\n",
    "langs[:10]"
   ]
  },
  {
   "cell_type": "markdown",
   "metadata": {},
   "source": [
    "You will create an index of the languages of your dataset: Assign a number to each language. You will call it `idx2lang` and its type will be a dictionary."
   ]
  },
  {
   "cell_type": "code",
   "execution_count": 13,
   "metadata": {},
   "outputs": [],
   "source": [
    "idx2lang = {idx:lang for idx, lang in enumerate(langs)}"
   ]
  },
  {
   "cell_type": "code",
   "execution_count": 14,
   "metadata": {},
   "outputs": [
    {
     "data": {
      "text/plain": [
       "{0: 'ara',\n",
       " 1: 'ber',\n",
       " 2: 'bul',\n",
       " 3: 'ces',\n",
       " 4: 'cmn',\n",
       " 5: 'dan',\n",
       " 6: 'deu',\n",
       " 7: 'ell',\n",
       " 8: 'eng',\n",
       " 9: 'epo',\n",
       " 10: 'fin',\n",
       " 11: 'fra',\n",
       " 12: 'hau',\n",
       " 13: 'heb',\n",
       " 14: 'hun',\n",
       " 15: 'ina',\n",
       " 16: 'ita',\n",
       " 17: 'jpn',\n",
       " 18: 'kab',\n",
       " 19: 'lat',\n",
       " 20: 'lfn',\n",
       " 21: 'lit',\n",
       " 22: 'mar',\n",
       " 23: 'mkd',\n",
       " 24: 'nld',\n",
       " 25: 'pes',\n",
       " 26: 'pol',\n",
       " 27: 'por',\n",
       " 28: 'ron',\n",
       " 29: 'rus',\n",
       " 30: 'spa',\n",
       " 31: 'srp',\n",
       " 32: 'swc',\n",
       " 33: 'swe',\n",
       " 34: 'tlh',\n",
       " 35: 'tok',\n",
       " 36: 'tur',\n",
       " 37: 'ukr',\n",
       " 38: 'vie'}"
      ]
     },
     "execution_count": 14,
     "metadata": {},
     "output_type": "execute_result"
    }
   ],
   "source": [
    "idx2lang"
   ]
  },
  {
   "cell_type": "markdown",
   "metadata": {},
   "source": [
    "Write the reverted `lang2idx` index to convert languages to indices. It is also a dictionary"
   ]
  },
  {
   "cell_type": "code",
   "execution_count": 15,
   "metadata": {},
   "outputs": [],
   "source": [
    "lang2idx = {lang:idx for idx, lang in idx2lang.items()}"
   ]
  },
  {
   "cell_type": "code",
   "execution_count": 16,
   "metadata": {},
   "outputs": [
    {
     "data": {
      "text/plain": [
       "{'ara': 0,\n",
       " 'ber': 1,\n",
       " 'bul': 2,\n",
       " 'ces': 3,\n",
       " 'cmn': 4,\n",
       " 'dan': 5,\n",
       " 'deu': 6,\n",
       " 'ell': 7,\n",
       " 'eng': 8,\n",
       " 'epo': 9,\n",
       " 'fin': 10,\n",
       " 'fra': 11,\n",
       " 'hau': 12,\n",
       " 'heb': 13,\n",
       " 'hun': 14,\n",
       " 'ina': 15,\n",
       " 'ita': 16,\n",
       " 'jpn': 17,\n",
       " 'kab': 18,\n",
       " 'lat': 19,\n",
       " 'lfn': 20,\n",
       " 'lit': 21,\n",
       " 'mar': 22,\n",
       " 'mkd': 23,\n",
       " 'nld': 24,\n",
       " 'pes': 25,\n",
       " 'pol': 26,\n",
       " 'por': 27,\n",
       " 'ron': 28,\n",
       " 'rus': 29,\n",
       " 'spa': 30,\n",
       " 'srp': 31,\n",
       " 'swc': 32,\n",
       " 'swe': 33,\n",
       " 'tlh': 34,\n",
       " 'tok': 35,\n",
       " 'tur': 36,\n",
       " 'ukr': 37,\n",
       " 'vie': 38}"
      ]
     },
     "execution_count": 16,
     "metadata": {},
     "output_type": "execute_result"
    }
   ],
   "source": [
    "lang2idx"
   ]
  },
  {
   "cell_type": "markdown",
   "metadata": {},
   "source": [
    "## Data processing — convert the sentences into feature vectors"
   ]
  },
  {
   "cell_type": "markdown",
   "metadata": {},
   "source": [
    "For the context of this program, a feature is a string of 1 to 3 characters. \n",
    "In natural language processing, they are called $n$-grams as they can have a varying size and are created from a sliding window.\n",
    "\n",
    "Common sizes of $n$ have names unigrams ($n$=1), bigrams ($n$=2), and trigrams ($n$=3))\n",
    "\n",
    "To serve as input, we have to convert these $n$-grams to numbers. There are two common ways to encode features into indices:\n",
    " * Mapping each symbol to an index\n",
    "    + Exact and precise\n",
    "    + Can have high memory requirements with vast feature spaces as each known feature must be stored and be assigned a unique index.\n",
    "    + Slow, you need to precompute your feature space, convert the incoming data to an index and retain the mapping in memory at all times.\n",
    " * Hashing trick: hash the feature into a index\n",
    "    + Supports an arbitrary number of features with the caveat of collisions.\n",
    "    + Constant memory requirements\n",
    "    + Fast, any feature even an unknown one can be converted into a feature index\n",
    "    + However, if the feature space is too small, features will have many collisions. You have then to choose a good hash function and a feature space that is big enough\n",
    "    \n",
    "We will use the [hashing trick](https://en.wikipedia.org/wiki/Feature_hashing). In Python, `hash` is a function that converts any supported object into a number (hash code) but it is not reproducible across the sessions - it changes each time the interpreter is started.\n",
    "We have therefore provided a new function `reproducible_hash` that hashes a string but in a reproducible way.\n",
    "\n",
    "The number returned by `reproducible_hash` is big and needs to be converted into a limited space. This can be done with the use of the remainder of an integer division, the [modulo](https://en.wikipedia.org/wiki/Modulo_operation)."
   ]
  },
  {
   "cell_type": "markdown",
   "metadata": {},
   "source": [
    "### Extracting $n$-grams"
   ]
  },
  {
   "cell_type": "markdown",
   "metadata": {},
   "source": [
    "Create an $n$-gram function that returns the $n$-grams of a string. The $n$ value will be passed as an argument. You will optionally set the string in lower case (`lc` argument)."
   ]
  },
  {
   "cell_type": "code",
   "execution_count": 17,
   "metadata": {},
   "outputs": [],
   "source": [
    "def ngrams(sentence: str, n=1, lc=True) -> list[int]:\n",
    "    ngram_l = []\n",
    "    if lc:\n",
    "        sentence = sentence.lower()\n",
    "    for i in range(len(sentence) - n + 1):\n",
    "        ngram_l += [sentence[i:i+n]]\n",
    "    return ngram_l"
   ]
  },
  {
   "cell_type": "code",
   "execution_count": 18,
   "metadata": {},
   "outputs": [],
   "source": [
    "def all_ngrams(sentence: str, max_ngram=3, lc=True) -> list[list[int]]:\n",
    "    all_ngram_list = []\n",
    "    for i in range(1, max_ngram + 1):\n",
    "        all_ngram_list += [ngrams(sentence, n=i, lc=lc)]\n",
    "    return all_ngram_list"
   ]
  },
  {
   "cell_type": "code",
   "execution_count": 19,
   "metadata": {},
   "outputs": [
    {
     "data": {
      "text/plain": [
       "[['b', 'a', 'n', 'a', 'n', 'a'],\n",
       " ['ba', 'an', 'na', 'an', 'na'],\n",
       " ['ban', 'ana', 'nan', 'ana']]"
      ]
     },
     "execution_count": 19,
     "metadata": {},
     "output_type": "execute_result"
    }
   ],
   "source": [
    "all_ngrams('banana')"
   ]
  },
  {
   "cell_type": "markdown",
   "metadata": {},
   "source": [
    "### Limiting the $n$-grams numbers"
   ]
  },
  {
   "cell_type": "markdown",
   "metadata": {},
   "source": [
    "We set the modulos"
   ]
  },
  {
   "cell_type": "code",
   "execution_count": 20,
   "metadata": {},
   "outputs": [],
   "source": [
    "if LARGE_DATASET:\n",
    "    MAX_CHARS = 2053\n",
    "    MAX_BIGRAMS = 4099\n",
    "    MAX_TRIGRAMS = 4099  #8192\n",
    "else:\n",
    "    MAX_CHARS = 521\n",
    "    MAX_BIGRAMS = 1031\n",
    "    MAX_TRIGRAMS = 1031 "
   ]
  },
  {
   "cell_type": "code",
   "execution_count": 21,
   "metadata": {},
   "outputs": [
    {
     "data": {
      "text/plain": [
       "10251"
      ]
     },
     "execution_count": 21,
     "metadata": {},
     "output_type": "execute_result"
    }
   ],
   "source": [
    "NUM_FEATURES = MAX_CHARS + MAX_BIGRAMS + MAX_TRIGRAMS\n",
    "NUM_FEATURES"
   ]
  },
  {
   "cell_type": "markdown",
   "metadata": {},
   "source": [
    "### Hash Codes"
   ]
  },
  {
   "cell_type": "code",
   "execution_count": 22,
   "metadata": {},
   "outputs": [],
   "source": [
    "def reproducible_hash(string: str) -> int:\n",
    "    \"\"\"\n",
    "    reproducible hash on any string\n",
    "    \n",
    "    Arguments:\n",
    "       string: python string object\n",
    "    \n",
    "    Returns:\n",
    "       signed int64\n",
    "    \"\"\"\n",
    "    \n",
    "    # We are using MD5 for speed not security.\n",
    "    h = hashlib.md5(string.encode(\"utf-8\"), usedforsecurity=False)\n",
    "    return int.from_bytes(h.digest()[0:8], 'big', signed=True)"
   ]
  },
  {
   "cell_type": "code",
   "execution_count": 23,
   "metadata": {},
   "outputs": [
    {
     "data": {
      "text/plain": [
       "[95, 3321, 824, 3321]"
      ]
     },
     "execution_count": 23,
     "metadata": {},
     "output_type": "execute_result"
    }
   ],
   "source": [
    "[reproducible_hash(x) % MAX_TRIGRAMS for x in all_ngrams('banana')[2]]"
   ]
  },
  {
   "cell_type": "code",
   "execution_count": 24,
   "metadata": {},
   "outputs": [
    {
     "data": {
      "text/plain": [
       "[2053, 4099, 4099]"
      ]
     },
     "execution_count": 24,
     "metadata": {},
     "output_type": "execute_result"
    }
   ],
   "source": [
    "MAXES = [MAX_CHARS, MAX_BIGRAMS, MAX_TRIGRAMS]\n",
    "MAXES"
   ]
  },
  {
   "cell_type": "markdown",
   "metadata": {},
   "source": [
    "Create a `ngrams2hashvals` function that creates a list of hash codes from a list of $n$-grams. As arguments, you will have the list of $n$-grams as well as the list of dividers (`MAXES`). See the example below"
   ]
  },
  {
   "cell_type": "code",
   "execution_count": 25,
   "metadata": {},
   "outputs": [],
   "source": [
    "def ngrams2hashvals(ngrams: list, modulos: int) -> list:\n",
    "    hash_values = []\n",
    "    for ngram_l, modulo in zip(ngrams, modulos):\n",
    "        hash_values += [[reproducible_hash(x) % modulo for x in ngram_l]]\n",
    "    return hash_values"
   ]
  },
  {
   "cell_type": "code",
   "execution_count": 26,
   "metadata": {},
   "outputs": [
    {
     "data": {
      "text/plain": [
       "[[98, 1917, 1195, 1917, 1195, 1917],\n",
       " [426, 3906, 2726, 3906, 2726],\n",
       " [95, 3321, 824, 3321]]"
      ]
     },
     "execution_count": 26,
     "metadata": {},
     "output_type": "execute_result"
    }
   ],
   "source": [
    "hashvals_banana = ngrams2hashvals(all_ngrams('banana'), MAXES)\n",
    "hashvals_banana"
   ]
  },
  {
   "cell_type": "markdown",
   "metadata": {},
   "source": [
    "### Hash codes relative frequencies\n",
    "CLD3 associates the $n$-gram hash codes with their relative frequencies in the text. See the example in Google CLD3 page.\n",
    "\n",
    "Create a `rel_freqs` function that computes the frequencies from lists of hash codes. The input will be a list of three lists of hash codes, for the unigrams, bigrams, and trigrams. The output will be a list of a three dictionaries, where the keys will be the $n$-gram hash codes and the values, the relative frequency. See example. "
   ]
  },
  {
   "cell_type": "code",
   "execution_count": 27,
   "metadata": {},
   "outputs": [],
   "source": [
    "def rel_freqs(lst: list) -> dict[int, float]:\n",
    "    return {ngram: lst.count(ngram)/len(lst) \n",
    "           for ngram in set(lst)}"
   ]
  },
  {
   "cell_type": "code",
   "execution_count": 28,
   "metadata": {},
   "outputs": [
    {
     "data": {
      "text/plain": [
       "[{98: 0.16666666666666666, 1195: 0.3333333333333333, 1917: 0.5},\n",
       " {426: 0.2, 3906: 0.4, 2726: 0.4},\n",
       " {824: 0.25, 3321: 0.5, 95: 0.25}]"
      ]
     },
     "execution_count": 28,
     "metadata": {},
     "output_type": "execute_result"
    }
   ],
   "source": [
    "hash2freqs_banana = [rel_freqs(x) for x in hashvals_banana]\n",
    "hash2freqs_banana"
   ]
  },
  {
   "cell_type": "markdown",
   "metadata": {},
   "source": [
    "## Creating $X$ and $\\mathbf{y}$ tensors"
   ]
  },
  {
   "cell_type": "markdown",
   "metadata": {},
   "source": [
    "We create a function to read the files and return the language and the sentence. We create the $X$ and $\\mathbf{y}$ tensors from them."
   ]
  },
  {
   "cell_type": "code",
   "execution_count": 29,
   "metadata": {},
   "outputs": [],
   "source": [
    "def read_sent_lang(file: str):\n",
    "    with open(file, encoding='utf8', errors='ignore') as f:\n",
    "        for line in f:\n",
    "            row = line.strip()\n",
    "            lang_tuple = tuple(row.split('\\t'))\n",
    "            yield lang_tuple[2], lang_tuple[1]   "
   ]
  },
  {
   "cell_type": "markdown",
   "metadata": {},
   "source": [
    "The code below creates a $X$ and $\\mathbf{y}$ tensors. Note that $X$ is a matrix and $\\mathbf{y}$, a vector."
   ]
  },
  {
   "cell_type": "markdown",
   "metadata": {},
   "source": [
    "## Formatting the Input"
   ]
  },
  {
   "cell_type": "code",
   "execution_count": 30,
   "metadata": {},
   "outputs": [],
   "source": [
    "def shift_idx(hash2freqs: list[dict[int, float]], max: tuple[int]):\n",
    "    shifted_keys = []\n",
    "    values = []\n",
    "    offsets = [sum(max[:i]) for i in range(len(max))]\n",
    "    for i, hash2freq in enumerate(hash2freqs):\n",
    "        shifted_keys += list(map(lambda x: x + offsets[i], hash2freq.keys()))\n",
    "        values += list(hash2freq.values())\n",
    "    n_gram_cnt = list(map(lambda x: len(x), hash2freqs))\n",
    "    offsets = []\n",
    "    for i in range(len(n_gram_cnt)):\n",
    "        offsets += [sum(n_gram_cnt[:i])]\n",
    "    return torch.LongTensor(shifted_keys), torch.LongTensor(offsets), torch.FloatTensor(values)"
   ]
  },
  {
   "cell_type": "code",
   "execution_count": 31,
   "metadata": {},
   "outputs": [
    {
     "data": {
      "text/plain": [
       "[{98: 0.16666666666666666, 1195: 0.3333333333333333, 1917: 0.5},\n",
       " {426: 0.2, 3906: 0.4, 2726: 0.4},\n",
       " {824: 0.25, 3321: 0.5, 95: 0.25}]"
      ]
     },
     "execution_count": 31,
     "metadata": {},
     "output_type": "execute_result"
    }
   ],
   "source": [
    "hash2freqs_banana"
   ]
  },
  {
   "cell_type": "code",
   "execution_count": 32,
   "metadata": {},
   "outputs": [
    {
     "data": {
      "text/plain": [
       "(tensor([  98, 1195, 1917, 2479, 5959, 4779, 6976, 9473, 6247]),\n",
       " tensor([0, 3, 6]),\n",
       " tensor([0.1667, 0.3333, 0.5000, 0.2000, 0.4000, 0.4000, 0.2500, 0.5000, 0.2500]))"
      ]
     },
     "execution_count": 32,
     "metadata": {},
     "output_type": "execute_result"
    }
   ],
   "source": [
    "hash_idx_banana, offsets, values  = shift_idx(hash2freqs_banana, MAXES)\n",
    "hash_idx_banana, offsets, values"
   ]
  },
  {
   "cell_type": "code",
   "execution_count": 33,
   "metadata": {},
   "outputs": [
    {
     "data": {
      "text/plain": [
       "tensor([  98, 1195, 1917, 2479, 5959, 4779, 6976, 9473, 6247])"
      ]
     },
     "execution_count": 33,
     "metadata": {},
     "output_type": "execute_result"
    }
   ],
   "source": [
    "hash_idx_banana_t = torch.LongTensor(hash_idx_banana)\n",
    "hash_idx_banana_t"
   ]
  },
  {
   "cell_type": "code",
   "execution_count": 34,
   "metadata": {},
   "outputs": [],
   "source": [
    "def create_Xy_symb(file: str, lang2idx: dict[int, int], MAXES) -> tuple[torch.Tensor, torch.LongTensor]:\n",
    "    y_symb = []\n",
    "    line_cnt = 0\n",
    "    for sentence, lang in read_sent_lang(file):\n",
    "        line_cnt += 1\n",
    "    X_idx_l = []\n",
    "    X_offsets_l = []\n",
    "    X_weights_l = []\n",
    "    for i, (sentence, lang) in tqdm(enumerate(read_sent_lang(file))):\n",
    "        hashvals = ngrams2hashvals(all_ngrams(sentence), MAXES)\n",
    "        hash2freqs_l = list(map(rel_freqs, hashvals))\n",
    "        bags = shift_idx(hash2freqs_l, MAXES)\n",
    "        X_idx_l += [bags[0]]\n",
    "        X_offsets_l += [bags[1]]\n",
    "        X_weights_l += [bags[2]]\n",
    "        y_symb += [lang]\n",
    "    y = torch.LongTensor(list(map(lang2idx.get, y_symb)))\n",
    "    return X_idx_l, X_offsets_l, X_weights_l, y"
   ]
  },
  {
   "cell_type": "code",
   "execution_count": 35,
   "metadata": {},
   "outputs": [
    {
     "name": "stderr",
     "output_type": "stream",
     "text": [
      "468422it [02:11, 3555.18it/s]\n",
      "58552it [00:16, 3560.87it/s]\n",
      "58554it [00:18, 3115.79it/s]\n"
     ]
    }
   ],
   "source": [
    "X_train_idx, X_train_offsets, X_train_freqs, y_train = create_Xy_symb(FILE_TRAIN, lang2idx, MAXES)\n",
    "X_val_idx, X_val_offsets, X_val_freqs, y_val = create_Xy_symb(FILE_VAL, lang2idx, MAXES)\n",
    "X_test_idx, X_test_offsets, X_test_freqs, y_test = create_Xy_symb(FILE_TEST, lang2idx, MAXES)"
   ]
  },
  {
   "cell_type": "code",
   "execution_count": 36,
   "metadata": {},
   "outputs": [
    {
     "data": {
      "text/plain": [
       "(tensor([ 1028,  1030,  1164,  1935,  1040,   406,  1943,   159,   931,  1446,\n",
       "          1354,   589,  1365,  1634,  1250,  1509,  1770,  1260,  1263,   370,\n",
       "           627,  1782,   505,  1278,  3080,  3849,  2324,  3606,  5015,  5531,\n",
       "          5019,  3230,  2206,  3362,  2724,  5541,  2344,  5672,  4400,  2741,\n",
       "          4277,  5432,  4922,  3006,  4681,  5835,  3787,  6106,  5211,  5729,\n",
       "          3812,  4454,  4073,  3178,  3309,  5870,  2287,  3060,  2933,  5494,\n",
       "          3446,  4855,  4982,  3194,  4474,  6140,  2946,  2691,  6661,  9868,\n",
       "          8077,  6671, 10135,  6680,  9629,  7710,  6175,  7712,  9891,  6314,\n",
       "          9004,  9902,  6576,  6579,  7988,  9144,  6456,  7486,  9471,  8518,\n",
       "          8650,  7627,  6477,  9855,  8913,  6866,  9171,  7122,  9690,  7260,\n",
       "          8414,  6498,  9571,  9444,  8678,  9456,  6266,  6909, 10111,  6789,\n",
       "          7942]),\n",
       " tensor([ 0, 24, 68]),\n",
       " tensor([0.0222, 0.0444, 0.0222, 0.0222, 0.0667, 0.0222, 0.0222, 0.0222, 0.0444,\n",
       "         0.1556, 0.0222, 0.0222, 0.0222, 0.0667, 0.0222, 0.0444, 0.1111, 0.0222,\n",
       "         0.0222, 0.0444, 0.0222, 0.0444, 0.0444, 0.0444, 0.0227, 0.0227, 0.0227,\n",
       "         0.0227, 0.0227, 0.0227, 0.0227, 0.0227, 0.0227, 0.0227, 0.0227, 0.0227,\n",
       "         0.0227, 0.0227, 0.0227, 0.0227, 0.0227, 0.0227, 0.0227, 0.0227, 0.0227,\n",
       "         0.0227, 0.0227, 0.0227, 0.0227, 0.0227, 0.0227, 0.0227, 0.0227, 0.0227,\n",
       "         0.0227, 0.0227, 0.0227, 0.0227, 0.0227, 0.0227, 0.0227, 0.0227, 0.0227,\n",
       "         0.0227, 0.0227, 0.0227, 0.0227, 0.0227, 0.0233, 0.0233, 0.0233, 0.0233,\n",
       "         0.0233, 0.0233, 0.0233, 0.0233, 0.0233, 0.0233, 0.0233, 0.0233, 0.0233,\n",
       "         0.0233, 0.0233, 0.0233, 0.0233, 0.0233, 0.0233, 0.0233, 0.0233, 0.0233,\n",
       "         0.0233, 0.0233, 0.0233, 0.0233, 0.0233, 0.0233, 0.0233, 0.0233, 0.0233,\n",
       "         0.0233, 0.0233, 0.0233, 0.0233, 0.0233, 0.0233, 0.0233, 0.0233, 0.0233,\n",
       "         0.0233, 0.0233, 0.0233]))"
      ]
     },
     "execution_count": 36,
     "metadata": {},
     "output_type": "execute_result"
    }
   ],
   "source": [
    "X_train_idx[0], X_train_offsets[0], X_train_freqs[0]"
   ]
  },
  {
   "cell_type": "code",
   "execution_count": 37,
   "metadata": {},
   "outputs": [
    {
     "data": {
      "text/plain": [
       "(tensor([  832,    98,   676,  1446,   584,  1418,  1195,    76,  1645,  1917,\n",
       "            46,  1810,   406,  1079,  1304,    90,   989,  3334,  4234,  3595,\n",
       "          2830,  2963,  2198,  4769,  4518,  3368,  4779,  4141,  2865,  4150,\n",
       "          5686,  2362,  4540,  2630,  3529,  4682,  4171,  3539,  5213,  2526,\n",
       "          4193,  4324,  4716,  5229,  2796,  6128,  2675,  2813,  4225,  2563,\n",
       "          9994,  7055,  7314,  6427,  6173,  9247,  9891,  7591,  8876,  8449,\n",
       "          9906,  9267,  9784,  9672,  9161,  9929,  9932,  6477,  7886,  7506,\n",
       "         10203,  9567,  7654,  8935, 10087,  7274,  7018,  9836,  8814,  7279,\n",
       "          7667,  7412,  7925,  9213,  7553]),\n",
       " tensor([ 0, 17, 50]),\n",
       " tensor([0.0263, 0.0263, 0.0526, 0.1316, 0.0789, 0.0263, 0.0526, 0.0526, 0.0789,\n",
       "         0.0789, 0.0263, 0.0263, 0.0263, 0.0263, 0.0263, 0.0789, 0.1842, 0.0270,\n",
       "         0.0541, 0.0270, 0.0270, 0.0270, 0.0270, 0.0270, 0.0270, 0.0270, 0.0270,\n",
       "         0.0270, 0.0270, 0.0270, 0.0270, 0.0541, 0.0270, 0.0541, 0.0270, 0.0270,\n",
       "         0.0541, 0.0270, 0.0270, 0.0270, 0.0270, 0.0270, 0.0270, 0.0270, 0.0270,\n",
       "         0.0270, 0.0270, 0.0270, 0.0270, 0.0270, 0.0278, 0.0278, 0.0278, 0.0278,\n",
       "         0.0278, 0.0278, 0.0278, 0.0278, 0.0278, 0.0278, 0.0278, 0.0278, 0.0278,\n",
       "         0.0278, 0.0278, 0.0278, 0.0278, 0.0278, 0.0278, 0.0556, 0.0278, 0.0278,\n",
       "         0.0278, 0.0278, 0.0278, 0.0278, 0.0278, 0.0278, 0.0278, 0.0278, 0.0278,\n",
       "         0.0278, 0.0278, 0.0278, 0.0278]))"
      ]
     },
     "execution_count": 37,
     "metadata": {},
     "output_type": "execute_result"
    }
   ],
   "source": [
    "X_train_idx[1], X_train_offsets[1], X_train_freqs[1]"
   ]
  },
  {
   "cell_type": "code",
   "execution_count": 38,
   "metadata": {},
   "outputs": [],
   "source": [
    "# Creates a vector (1D tensor) from three lists corresponding to a batch\n",
    "def batch_generator(X_idx_l: list, X_offsets_l: list, X_freqs_l: list):\n",
    "    # Easy part\n",
    "    X_idx = torch.cat(X_idx_l, dim=-1)\n",
    "    X_freqs = torch.cat(X_freqs_l, dim=-1)\n",
    "\n",
    "    # More difficult: We must shift the offsets\n",
    "    bag_lengths = [X_idx_l[i].size()[0] for i in range(len(X_idx_l))]\n",
    "    start_idx = [sum(bag_lengths[:i]) for i in range(len(bag_lengths))]\n",
    "    X_offsets_shifted_l = [idx + offsets for idx, offsets in zip(start_idx, X_offsets_l)]\n",
    "    X_offsets = torch.cat(X_offsets_shifted_l, dim=-1)\n",
    "     \n",
    "    return X_idx, X_offsets, X_freqs"
   ]
  },
  {
   "cell_type": "code",
   "execution_count": 39,
   "metadata": {},
   "outputs": [
    {
     "data": {
      "text/plain": [
       "(tensor([ 1028,  1030,  1164,  1935,  1040,   406,  1943,   159,   931,  1446,\n",
       "          1354,   589,  1365,  1634,  1250,  1509,  1770,  1260,  1263,   370,\n",
       "           627,  1782,   505,  1278,  3080,  3849,  2324,  3606,  5015,  5531,\n",
       "          5019,  3230,  2206,  3362,  2724,  5541,  2344,  5672,  4400,  2741,\n",
       "          4277,  5432,  4922,  3006,  4681,  5835,  3787,  6106,  5211,  5729,\n",
       "          3812,  4454,  4073,  3178,  3309,  5870,  2287,  3060,  2933,  5494,\n",
       "          3446,  4855,  4982,  3194,  4474,  6140,  2946,  2691,  6661,  9868,\n",
       "          8077,  6671, 10135,  6680,  9629,  7710,  6175,  7712,  9891,  6314,\n",
       "          9004,  9902,  6576,  6579,  7988,  9144,  6456,  7486,  9471,  8518,\n",
       "          8650,  7627,  6477,  9855,  8913,  6866,  9171,  7122,  9690,  7260,\n",
       "          8414,  6498,  9571,  9444,  8678,  9456,  6266,  6909, 10111,  6789,\n",
       "          7942]),\n",
       " tensor([ 0, 24, 68]),\n",
       " tensor([0.0222, 0.0444, 0.0222, 0.0222, 0.0667, 0.0222, 0.0222, 0.0222, 0.0444,\n",
       "         0.1556, 0.0222, 0.0222, 0.0222, 0.0667, 0.0222, 0.0444, 0.1111, 0.0222,\n",
       "         0.0222, 0.0444, 0.0222, 0.0444, 0.0444, 0.0444, 0.0227, 0.0227, 0.0227,\n",
       "         0.0227, 0.0227, 0.0227, 0.0227, 0.0227, 0.0227, 0.0227, 0.0227, 0.0227,\n",
       "         0.0227, 0.0227, 0.0227, 0.0227, 0.0227, 0.0227, 0.0227, 0.0227, 0.0227,\n",
       "         0.0227, 0.0227, 0.0227, 0.0227, 0.0227, 0.0227, 0.0227, 0.0227, 0.0227,\n",
       "         0.0227, 0.0227, 0.0227, 0.0227, 0.0227, 0.0227, 0.0227, 0.0227, 0.0227,\n",
       "         0.0227, 0.0227, 0.0227, 0.0227, 0.0227, 0.0233, 0.0233, 0.0233, 0.0233,\n",
       "         0.0233, 0.0233, 0.0233, 0.0233, 0.0233, 0.0233, 0.0233, 0.0233, 0.0233,\n",
       "         0.0233, 0.0233, 0.0233, 0.0233, 0.0233, 0.0233, 0.0233, 0.0233, 0.0233,\n",
       "         0.0233, 0.0233, 0.0233, 0.0233, 0.0233, 0.0233, 0.0233, 0.0233, 0.0233,\n",
       "         0.0233, 0.0233, 0.0233, 0.0233, 0.0233, 0.0233, 0.0233, 0.0233, 0.0233,\n",
       "         0.0233, 0.0233, 0.0233]))"
      ]
     },
     "execution_count": 39,
     "metadata": {},
     "output_type": "execute_result"
    }
   ],
   "source": [
    "batch_generator(X_train_idx[:1], X_train_offsets[:1], X_train_freqs[:1])"
   ]
  },
  {
   "cell_type": "code",
   "execution_count": 40,
   "metadata": {},
   "outputs": [
    {
     "data": {
      "text/plain": [
       "(tensor([  832,    98,   676,  1446,   584,  1418,  1195,    76,  1645,  1917,\n",
       "            46,  1810,   406,  1079,  1304,    90,   989,  3334,  4234,  3595,\n",
       "          2830,  2963,  2198,  4769,  4518,  3368,  4779,  4141,  2865,  4150,\n",
       "          5686,  2362,  4540,  2630,  3529,  4682,  4171,  3539,  5213,  2526,\n",
       "          4193,  4324,  4716,  5229,  2796,  6128,  2675,  2813,  4225,  2563,\n",
       "          9994,  7055,  7314,  6427,  6173,  9247,  9891,  7591,  8876,  8449,\n",
       "          9906,  9267,  9784,  9672,  9161,  9929,  9932,  6477,  7886,  7506,\n",
       "         10203,  9567,  7654,  8935, 10087,  7274,  7018,  9836,  8814,  7279,\n",
       "          7667,  7412,  7925,  9213,  7553]),\n",
       " tensor([ 0, 17, 50]),\n",
       " tensor([0.0263, 0.0263, 0.0526, 0.1316, 0.0789, 0.0263, 0.0526, 0.0526, 0.0789,\n",
       "         0.0789, 0.0263, 0.0263, 0.0263, 0.0263, 0.0263, 0.0789, 0.1842, 0.0270,\n",
       "         0.0541, 0.0270, 0.0270, 0.0270, 0.0270, 0.0270, 0.0270, 0.0270, 0.0270,\n",
       "         0.0270, 0.0270, 0.0270, 0.0270, 0.0541, 0.0270, 0.0541, 0.0270, 0.0270,\n",
       "         0.0541, 0.0270, 0.0270, 0.0270, 0.0270, 0.0270, 0.0270, 0.0270, 0.0270,\n",
       "         0.0270, 0.0270, 0.0270, 0.0270, 0.0270, 0.0278, 0.0278, 0.0278, 0.0278,\n",
       "         0.0278, 0.0278, 0.0278, 0.0278, 0.0278, 0.0278, 0.0278, 0.0278, 0.0278,\n",
       "         0.0278, 0.0278, 0.0278, 0.0278, 0.0278, 0.0278, 0.0556, 0.0278, 0.0278,\n",
       "         0.0278, 0.0278, 0.0278, 0.0278, 0.0278, 0.0278, 0.0278, 0.0278, 0.0278,\n",
       "         0.0278, 0.0278, 0.0278, 0.0278]))"
      ]
     },
     "execution_count": 40,
     "metadata": {},
     "output_type": "execute_result"
    }
   ],
   "source": [
    "batch_generator(X_train_idx[1:2], X_train_offsets[1:2], X_train_freqs[1:2])"
   ]
  },
  {
   "cell_type": "code",
   "execution_count": 41,
   "metadata": {},
   "outputs": [
    {
     "data": {
      "text/plain": [
       "(tensor([ 1028,  1030,  1164,  1935,  1040,   406,  1943,   159,   931,  1446,\n",
       "          1354,   589,  1365,  1634,  1250,  1509,  1770,  1260,  1263,   370,\n",
       "           627,  1782,   505,  1278,  3080,  3849,  2324,  3606,  5015,  5531,\n",
       "          5019,  3230,  2206,  3362,  2724,  5541,  2344,  5672,  4400,  2741,\n",
       "          4277,  5432,  4922,  3006,  4681,  5835,  3787,  6106,  5211,  5729,\n",
       "          3812,  4454,  4073,  3178,  3309,  5870,  2287,  3060,  2933,  5494,\n",
       "          3446,  4855,  4982,  3194,  4474,  6140,  2946,  2691,  6661,  9868,\n",
       "          8077,  6671, 10135,  6680,  9629,  7710,  6175,  7712,  9891,  6314,\n",
       "          9004,  9902,  6576,  6579,  7988,  9144,  6456,  7486,  9471,  8518,\n",
       "          8650,  7627,  6477,  9855,  8913,  6866,  9171,  7122,  9690,  7260,\n",
       "          8414,  6498,  9571,  9444,  8678,  9456,  6266,  6909, 10111,  6789,\n",
       "          7942,   832,    98,   676,  1446,   584,  1418,  1195,    76,  1645,\n",
       "          1917,    46,  1810,   406,  1079,  1304,    90,   989,  3334,  4234,\n",
       "          3595,  2830,  2963,  2198,  4769,  4518,  3368,  4779,  4141,  2865,\n",
       "          4150,  5686,  2362,  4540,  2630,  3529,  4682,  4171,  3539,  5213,\n",
       "          2526,  4193,  4324,  4716,  5229,  2796,  6128,  2675,  2813,  4225,\n",
       "          2563,  9994,  7055,  7314,  6427,  6173,  9247,  9891,  7591,  8876,\n",
       "          8449,  9906,  9267,  9784,  9672,  9161,  9929,  9932,  6477,  7886,\n",
       "          7506, 10203,  9567,  7654,  8935, 10087,  7274,  7018,  9836,  8814,\n",
       "          7279,  7667,  7412,  7925,  9213,  7553]),\n",
       " tensor([  0,  24,  68, 111, 128, 161]),\n",
       " tensor([0.0222, 0.0444, 0.0222, 0.0222, 0.0667, 0.0222, 0.0222, 0.0222, 0.0444,\n",
       "         0.1556, 0.0222, 0.0222, 0.0222, 0.0667, 0.0222, 0.0444, 0.1111, 0.0222,\n",
       "         0.0222, 0.0444, 0.0222, 0.0444, 0.0444, 0.0444, 0.0227, 0.0227, 0.0227,\n",
       "         0.0227, 0.0227, 0.0227, 0.0227, 0.0227, 0.0227, 0.0227, 0.0227, 0.0227,\n",
       "         0.0227, 0.0227, 0.0227, 0.0227, 0.0227, 0.0227, 0.0227, 0.0227, 0.0227,\n",
       "         0.0227, 0.0227, 0.0227, 0.0227, 0.0227, 0.0227, 0.0227, 0.0227, 0.0227,\n",
       "         0.0227, 0.0227, 0.0227, 0.0227, 0.0227, 0.0227, 0.0227, 0.0227, 0.0227,\n",
       "         0.0227, 0.0227, 0.0227, 0.0227, 0.0227, 0.0233, 0.0233, 0.0233, 0.0233,\n",
       "         0.0233, 0.0233, 0.0233, 0.0233, 0.0233, 0.0233, 0.0233, 0.0233, 0.0233,\n",
       "         0.0233, 0.0233, 0.0233, 0.0233, 0.0233, 0.0233, 0.0233, 0.0233, 0.0233,\n",
       "         0.0233, 0.0233, 0.0233, 0.0233, 0.0233, 0.0233, 0.0233, 0.0233, 0.0233,\n",
       "         0.0233, 0.0233, 0.0233, 0.0233, 0.0233, 0.0233, 0.0233, 0.0233, 0.0233,\n",
       "         0.0233, 0.0233, 0.0233, 0.0263, 0.0263, 0.0526, 0.1316, 0.0789, 0.0263,\n",
       "         0.0526, 0.0526, 0.0789, 0.0789, 0.0263, 0.0263, 0.0263, 0.0263, 0.0263,\n",
       "         0.0789, 0.1842, 0.0270, 0.0541, 0.0270, 0.0270, 0.0270, 0.0270, 0.0270,\n",
       "         0.0270, 0.0270, 0.0270, 0.0270, 0.0270, 0.0270, 0.0270, 0.0541, 0.0270,\n",
       "         0.0541, 0.0270, 0.0270, 0.0541, 0.0270, 0.0270, 0.0270, 0.0270, 0.0270,\n",
       "         0.0270, 0.0270, 0.0270, 0.0270, 0.0270, 0.0270, 0.0270, 0.0270, 0.0278,\n",
       "         0.0278, 0.0278, 0.0278, 0.0278, 0.0278, 0.0278, 0.0278, 0.0278, 0.0278,\n",
       "         0.0278, 0.0278, 0.0278, 0.0278, 0.0278, 0.0278, 0.0278, 0.0278, 0.0278,\n",
       "         0.0556, 0.0278, 0.0278, 0.0278, 0.0278, 0.0278, 0.0278, 0.0278, 0.0278,\n",
       "         0.0278, 0.0278, 0.0278, 0.0278, 0.0278, 0.0278, 0.0278]))"
      ]
     },
     "execution_count": 41,
     "metadata": {},
     "output_type": "execute_result"
    }
   ],
   "source": [
    "batch_generator(X_train_idx[:2], X_train_offsets[:2], X_train_freqs[:2])"
   ]
  },
  {
   "cell_type": "markdown",
   "metadata": {},
   "source": [
    "## The model"
   ]
  },
  {
   "cell_type": "code",
   "execution_count": 42,
   "metadata": {},
   "outputs": [],
   "source": [
    "class ModelEmbeddingLR(nn.Module):\n",
    "    def __init__(self, N=3): \n",
    "        super().__init__()\n",
    "        self.N = N # Size of n in n-grams\n",
    "        self.embed = nn.EmbeddingBag(NUM_FEATURES, EMBEDDING_DIM, mode='sum')\n",
    "        self.linear = nn.Linear(self.N * EMBEDDING_DIM, len(langs))\n",
    "        \n",
    "    def forward(self, indices, offsets, sample_weights):\n",
    "        # Here one bag corresponding to a batch. embed() takes the offsets into account\n",
    "        self.bags = self.embed(indices, offsets, sample_weights) # sequence of (unigram_embs, bigram_embs, trigram_embs)\n",
    "        batch_cnt = int(len(self.bags) / self.N) # cnt of lines with unigram_embs, bigram_embs, trigram_embs, if N = 3\n",
    "        X = self.bags.reshape(batch_cnt, -1) # a row consists now of unigram_embs, bigram_embs, trigram_embs\n",
    "        X = self.linear(X)\n",
    "        return X"
   ]
  },
  {
   "cell_type": "code",
   "execution_count": 43,
   "metadata": {},
   "outputs": [],
   "source": [
    "class ModelEmbeddingNN(nn.Module):\n",
    "    def __init__(self, N=3): \n",
    "        super().__init__()\n",
    "        self.N = N # Size of n in n-grams\n",
    "        self.embed = nn.EmbeddingBag(NUM_FEATURES, EMBEDDING_DIM, mode='sum')\n",
    "        self.linear1 = nn.Linear(self.N * EMBEDDING_DIM, EMBEDDING_DIM)\n",
    "        self.linear2 = nn.Linear(EMBEDDING_DIM, len(langs))\n",
    "        \n",
    "    def forward(self, indices, offsets, sample_weights):\n",
    "        # Here one bag corresponding to a batch. embed() takes the offsets into account\n",
    "        self.bags = self.embed(indices, offsets, sample_weights) # sequence of (unigram_embs, bigram_embs, trigram_embs)\n",
    "        batch_cnt = int(len(self.bags) / self.N) # cnt of lines with unigram_embs, bigram_embs, trigram_embs, if N = 3\n",
    "        X = self.bags.reshape(batch_cnt, -1) # a row consists now of unigram_embs, bigram_embs, trigram_embs\n",
    "        X = torch.relu(self.linear1(X))\n",
    "        X = self.linear2(X)\n",
    "        return X"
   ]
  },
  {
   "cell_type": "code",
   "execution_count": 44,
   "metadata": {},
   "outputs": [],
   "source": [
    "if HIDDEN_LAYER:\n",
    "    model = ModelEmbeddingNN()\n",
    "else:\n",
    "    model = ModelEmbeddingLR()"
   ]
  },
  {
   "cell_type": "markdown",
   "metadata": {},
   "source": [
    "We set the loss and the optimizer"
   ]
  },
  {
   "cell_type": "code",
   "execution_count": 45,
   "metadata": {},
   "outputs": [],
   "source": [
    "loss_fn = nn.CrossEntropyLoss()    # cross entropy loss\n",
    "optimizer = torch.optim.NAdam(model.parameters(), lr=0.01)"
   ]
  },
  {
   "cell_type": "markdown",
   "metadata": {},
   "source": [
    "## Training the classifier"
   ]
  },
  {
   "cell_type": "markdown",
   "metadata": {},
   "source": [
    "### Mini-batch gradient descent"
   ]
  },
  {
   "cell_type": "code",
   "execution_count": 46,
   "metadata": {},
   "outputs": [
    {
     "name": "stderr",
     "output_type": "stream",
     "text": [
      "100%|██████████| 10/10 [06:32<00:00, 39.22s/it]\n"
     ]
    }
   ],
   "source": [
    "loss_train_history = []\n",
    "acc_train_history = []\n",
    "loss_val_history = []\n",
    "acc_val_history = []\n",
    "\n",
    "for epoch in tqdm(range(10)):\n",
    "    loss_train = 0\n",
    "    acc_train = 0\n",
    "    cnt = 0\n",
    "    model.train()\n",
    "    n_indices = list(range(0, len(X_train_idx), BATCH_SIZE))\n",
    "    random.shuffle(n_indices) # Check if there is a PyTorch equivalent\n",
    "    for i in n_indices:\n",
    "        X_train_bags_idx, X_train_bags_offsets, X_train_bags_freqs = batch_generator(X_train_idx[i:i + BATCH_SIZE], X_train_offsets[i:i + BATCH_SIZE], X_train_freqs[i:i + BATCH_SIZE])\n",
    "        y_true = y_train[i:i + BATCH_SIZE]\n",
    "        y_pred = model(X_train_bags_idx, X_train_bags_offsets, X_train_bags_freqs)\n",
    "        loss = loss_fn(y_pred, y_true)\n",
    "        loss_train += loss.item()\n",
    "        optimizer.zero_grad()\n",
    "        loss.backward()\n",
    "        optimizer.step()\n",
    "        acc_train += torch.sum(y_true == torch.argmax(y_pred, dim=-1))/BATCH_SIZE\n",
    "    acc_train /= len(n_indices)\n",
    "    acc_train_history += [acc_train]\n",
    "    loss_train /= len(n_indices)\n",
    "    loss_train_history += [loss_train]\n",
    "    \n",
    "    model.eval()\n",
    "    with torch.no_grad():\n",
    "        X_val_bags_idx, X_val_bags_offsets, X_val_bags_freqs = batch_generator(X_val_idx, X_val_offsets, X_val_freqs)\n",
    "        Y_val_pred = model(X_val_bags_idx, X_val_bags_offsets, X_val_bags_freqs)\n",
    "        loss_val = loss_fn(Y_val_pred, y_val)\n",
    "        loss_val_history += [loss_val.item()]\n",
    "\n",
    "        y_val_pred = torch.argmax(Y_val_pred, dim=-1)\n",
    "        acc_val = torch.sum(y_val == y_val_pred)/y_val.size()[0]\n",
    "        acc_val_history += [acc_val]"
   ]
  },
  {
   "cell_type": "markdown",
   "metadata": {},
   "source": [
    "## Visualization"
   ]
  },
  {
   "cell_type": "markdown",
   "metadata": {},
   "source": [
    "We plot the loss"
   ]
  },
  {
   "cell_type": "code",
   "execution_count": 47,
   "metadata": {},
   "outputs": [
    {
     "data": {
      "image/png": "[encoded data removed]",
      "text/plain": [
       "<Figure size 640x480 with 1 Axes>"
      ]
     },
     "metadata": {},
     "output_type": "display_data"
    }
   ],
   "source": [
    "import matplotlib.pyplot as plt\n",
    "\n",
    "epochs = range(1, len(acc_val_history) + 1)\n",
    "plt.plot(epochs, acc_val_history, 'rx', label='Validation accuracy')\n",
    "plt.plot(epochs, acc_train_history, 'bo', label='Training accuracy')\n",
    "plt.title('Training and validation accuracies')\n",
    "plt.legend()\n",
    "plt.show()"
   ]
  },
  {
   "cell_type": "code",
   "execution_count": 48,
   "metadata": {},
   "outputs": [
    {
     "data": {
      "image/png": "[encoded data removed]",
      "text/plain": [
       "<Figure size 640x480 with 1 Axes>"
      ]
     },
     "metadata": {},
     "output_type": "display_data"
    }
   ],
   "source": [
    "epochs = range(1, len(loss_val_history) + 1)\n",
    "plt.plot(epochs, loss_val_history, 'rx', label='Validation loss')\n",
    "plt.plot(epochs, loss_train_history, 'bo', label='Training loss')\n",
    "plt.title('Training and validation losses')\n",
    "plt.legend()\n",
    "plt.show()"
   ]
  },
  {
   "cell_type": "markdown",
   "metadata": {},
   "source": [
    "## Evaluation"
   ]
  },
  {
   "cell_type": "markdown",
   "metadata": {},
   "source": [
    "### Validation set"
   ]
  },
  {
   "cell_type": "code",
   "execution_count": 49,
   "metadata": {},
   "outputs": [],
   "source": [
    "model.eval()\n",
    "with torch.no_grad():\n",
    "    X_val_bags_idx, X_val_bags_offsets, X_val_bags_freqs = batch_generator(X_val_idx, X_val_offsets, X_val_freqs)\n",
    "    y_val_pred = torch.argmax(model(X_val_bags_idx, X_val_bags_offsets, X_val_bags_freqs), dim=-1)"
   ]
  },
  {
   "cell_type": "code",
   "execution_count": 50,
   "metadata": {},
   "outputs": [
    {
     "data": {
      "text/plain": [
       "tensor([15, 36, 19, 18, 28, 19, 11, 14, 32, 19])"
      ]
     },
     "execution_count": 50,
     "metadata": {},
     "output_type": "execute_result"
    }
   ],
   "source": [
    "y_val_pred[:10]"
   ]
  },
  {
   "cell_type": "code",
   "execution_count": 51,
   "metadata": {},
   "outputs": [
    {
     "name": "stdout",
     "output_type": "stream",
     "text": [
      "              precision    recall  f1-score   support\n",
      "\n",
      "         ara     0.9899    0.9959    0.9929      1479\n",
      "         ber     0.8132    0.8201    0.8167      1529\n",
      "         bul     0.9422    0.9447    0.9435      1484\n",
      "         ces     0.9925    0.9786    0.9855      1497\n",
      "         cmn     0.9959    0.9993    0.9976      1475\n",
      "         dan     0.9621    0.9761    0.9690      1507\n",
      "         deu     0.9918    0.9811    0.9864      1484\n",
      "         ell     1.0000    1.0000    1.0000      1511\n",
      "         eng     0.9833    0.9833    0.9833      1557\n",
      "         epo     0.9741    0.9918    0.9829      1590\n",
      "         fin     0.9835    0.9896    0.9866      1446\n",
      "         fra     0.9888    0.9849    0.9869      1525\n",
      "         hau     0.9892    0.9919    0.9905      1479\n",
      "         heb     1.0000    1.0000    1.0000      1480\n",
      "         hun     0.9897    0.9808    0.9852      1562\n",
      "         ina     0.9607    0.9547    0.9577      1458\n",
      "         ita     0.9585    0.9795    0.9689      1461\n",
      "         jpn     1.0000    0.9960    0.9980      1493\n",
      "         kab     0.8311    0.8008    0.8157      1561\n",
      "         lat     0.9651    0.9697    0.9674      1483\n",
      "         lfn     0.9716    0.9467    0.9590      1520\n",
      "         lit     0.9938    0.9911    0.9925      1464\n",
      "         mar     1.0000    1.0000    1.0000      1505\n",
      "         mkd     0.9286    0.9442    0.9364      1488\n",
      "         nld     0.9735    0.9819    0.9777      1494\n",
      "         pes     0.9974    0.9916    0.9945      1549\n",
      "         pol     0.9922    0.9903    0.9912      1540\n",
      "         por     0.9681    0.9764    0.9722      1525\n",
      "         ron     0.9851    0.9785    0.9818      1485\n",
      "         rus     0.9566    0.9745    0.9655      1493\n",
      "         spa     0.9489    0.9649    0.9568      1424\n",
      "         srp     0.9350    0.9425    0.9387      1512\n",
      "         swc     0.9788    0.9828    0.9808      1454\n",
      "         swe     0.9814    0.9623    0.9718      1538\n",
      "         tlh     0.9915    0.9967    0.9941      1514\n",
      "         tok     0.9974    0.9993    0.9983      1510\n",
      "         tur     0.9885    0.9952    0.9919      1470\n",
      "         ukr     0.9871    0.9559    0.9712      1519\n",
      "         vie     0.9993    0.9966    0.9980      1487\n",
      "\n",
      "    accuracy                         0.9713     58552\n",
      "   macro avg     0.9714    0.9716    0.9715     58552\n",
      "weighted avg     0.9713    0.9713    0.9713     58552\n",
      "\n"
     ]
    }
   ],
   "source": [
    "print(classification_report(y_val, y_val_pred, target_names=langs, digits=4))"
   ]
  },
  {
   "cell_type": "code",
   "execution_count": 52,
   "metadata": {},
   "outputs": [
    {
     "name": "stdout",
     "output_type": "stream",
     "text": [
      "[[1473    0    0 ...    0    0    0]\n",
      " [   0 1254    0 ...    2    0    0]\n",
      " [   0    0 1402 ...    1    6    0]\n",
      " ...\n",
      " [   0    0    0 ... 1463    0    0]\n",
      " [   1    0   10 ...    0 1452    0]\n",
      " [   0    0    0 ...    0    0 1482]]\n"
     ]
    }
   ],
   "source": [
    "print(confusion_matrix(y_val, y_val_pred))"
   ]
  },
  {
   "cell_type": "markdown",
   "metadata": {},
   "source": [
    "## Applying the Detector"
   ]
  },
  {
   "cell_type": "code",
   "execution_count": 53,
   "metadata": {},
   "outputs": [],
   "source": [
    "def encode(text: str, MAXES: tuple[int, int, int]) -> torch.Tensor:\n",
    "    hashvals = ngrams2hashvals(all_ngrams(text), MAXES)\n",
    "    hash2freqs_l = list(map(rel_freqs, hashvals))\n",
    "    bags = shift_idx(hash2freqs_l, MAXES)\n",
    "    return bags"
   ]
  },
  {
   "cell_type": "code",
   "execution_count": 54,
   "metadata": {},
   "outputs": [],
   "source": [
    "test_sents = ['Groovin\\' on a Sunday afternoon',\n",
    "'La Folle Complainte', \n",
    "'Vent\\'anni o poco più', \n",
    "'Tous les garçons et les filles',\n",
    "'Mambo italiano']"
   ]
  },
  {
   "cell_type": "code",
   "execution_count": 55,
   "metadata": {},
   "outputs": [
    {
     "name": "stdout",
     "output_type": "stream",
     "text": [
      "Groovin' on a Sunday afternoon -> eng\n",
      "La Folle Complainte -> fra\n",
      "Vent'anni o poco più -> ita\n",
      "Tous les garçons et les filles -> fra\n",
      "Mambo italiano -> swc\n"
     ]
    }
   ],
   "source": [
    "with torch.no_grad():\n",
    "    for sent in test_sents:\n",
    "        bags = encode(sent, MAXES)\n",
    "        print(sent, '->', idx2lang[torch.argmax(model(bags[0], bags[1], bags[2]), dim=-1).item()])"
   ]
  },
  {
   "cell_type": "markdown",
   "metadata": {},
   "source": []
  },
  {
   "cell_type": "markdown",
   "metadata": {},
   "source": []
  }
 ],
 "metadata": {
  "kernelspec": {
   "display_name": "Python 3.9.13 ('base')",
   "language": "python",
   "name": "python3"
  },
  "language_info": {
   "codemirror_mode": {
    "name": "ipython",
    "version": 3
   },
   "file_extension": ".py",
   "mimetype": "text/x-python",
   "name": "python",
   "nbconvert_exporter": "python",
   "pygments_lexer": "ipython3",
   "version": "3.9.15"
  },
  "orig_nbformat": 4,
  "vscode": {
   "interpreter": {
    "hash": "b97b11a820675205aae8f1d7f2a3f22bbd3a2c30189f44042310baf5b4cd1987"
   }
  }
 },
 "nbformat": 4,
 "nbformat_minor": 2
}
